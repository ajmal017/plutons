{
 "cells": [
  {
   "cell_type": "markdown",
   "metadata": {},
   "source": [
    "# 10-year Yields through time\n",
    "\n",
    "Equity investments are supposed to be for the \"long-term.\" Usually, 10-years is where most investors peg their \"long-term\" to be. Investors have a choice between different asset classes - stocks/bonds/gold etc. With government/sovereign bonds, you know the yield (return) you can lock in, risk-free, for a decade today. Since equities are riskier, investors demand higher returns - the equity risk premium - over 10-year sovereign bond yields. This is why tracking the 10-year yield is important for equity investors - it denotes a floor for expected equity returns. Investors would be rational investors in equities only if they felt that it provides adequate excess returns over 10-year bonds.\n",
    "\n",
    "Here, we plot the 10-year yields of US tresuries, Euro Area AAA rated soverigns and Indian Gsecs."
   ]
  },
  {
   "cell_type": "code",
   "execution_count": null,
   "metadata": {},
   "outputs": [],
   "source": [
    "library(tidyverse)\n",
    "library(ggthemes)\n",
    "library(reshape2)\n",
    "library(odbc)\n",
    "library(plutoR)\n",
    "library(quantmod)\n",
    "library(lubridate)\n",
    "library(ggrepel)\n",
    "library(PerformanceAnalytics)\n",
    "\n",
    "options(\"scipen\"=999)\n",
    "options(stringsAsFactors = FALSE)\n",
    "options(repr.plot.width=16, repr.plot.height=8)\n",
    "\n",
    "source(\"config.R\")\n",
    "source(\"goofy/plot.common.R\")\n",
    "source(\"goofy/misc.common.R\")\n",
    "\n",
    "#initialize\n",
    "indices <- Indices() #for IndiaGsecTimeSeries\n",
    "ycurves <- YieldCurve() #for UsTreasury, EuroArea "
   ]
  },
  {
   "cell_type": "code",
   "execution_count": null,
   "metadata": {},
   "outputs": [],
   "source": [
    "startDate <- as.Date(\"2004-01-01\")\n",
    "# https://plutopy.readthedocs.io/en/latest/Indices.html#plutoPy.model.Indices.IndiaGsecTimeSeries\n",
    "ycInd <- indices$IndiaGsecTimeSeries() %>%\n",
    "    filter(NAME == \"5_10\" & TIME_STAMP >= startDate) %>%\n",
    "    select(TIME_STAMP, YIELD = YTM) %>%\n",
    "    collect() \n",
    "\n",
    "# https://plutopy.readthedocs.io/en/latest/YieldCurve.html#plutoPy.model.YieldCurve.UsTreasury\n",
    "ycUst <- ycurves$UsTreasury() %>%\n",
    "    filter(TIME_STAMP >= startDate) %>%\n",
    "    select(TIME_STAMP, YIELD = Y10) %>%\n",
    "    collect() \n",
    "\n",
    "# https://plutopy.readthedocs.io/en/latest/YieldCurve.html#plutoPy.model.YieldCurve.EuroArea\n",
    "ycEuro <- ycurves$EuroArea() %>%\n",
    "    filter(TENOR_Y == 10 & TENOR_M == 0 & CURVE_ID == 'G_N_A' & TIME_STAMP >= startDate) %>%\n",
    "    select(TIME_STAMP, YIELD = VALUE) %>%\n",
    "    collect() "
   ]
  },
  {
   "cell_type": "code",
   "execution_count": null,
   "metadata": {},
   "outputs": [],
   "source": [
    "allYc <- ycInd %>% \n",
    "            left_join(ycUst, by=c('TIME_STAMP')) %>% \n",
    "            left_join(ycEuro, by=c('TIME_STAMP')) %>% \n",
    "            arrange(TIME_STAMP) %>%\n",
    "            as.data.frame()\n",
    "\n",
    "names(allYc) <- c('TIME_STAMP', 'INDIA', 'US', 'EURO')\n",
    "print(head(allYc))\n",
    "print(tail(allYc))"
   ]
  },
  {
   "cell_type": "code",
   "execution_count": null,
   "metadata": {},
   "outputs": [],
   "source": [
    "plotLines <- function(plotData){\n",
    "    startDate <- first(plotData$TIME_STAMP)\n",
    "    endDate <- last(plotData$TIME_STAMP)\n",
    "\n",
    "    xAxisTicks <- seq(from=startDate, to=endDate, length.out=10)\n",
    "\n",
    "    toPlot <- melt(plotData, id='TIME_STAMP')\n",
    "\n",
    "    ggplot(toPlot, aes(x = TIME_STAMP, y=value, color=variable)) + \n",
    "        theme_economist() +\n",
    "        geom_line() + \n",
    "        scale_x_date(breaks = xAxisTicks) +\n",
    "        labs(x='', y='yield (%)', fill='', color='',\n",
    "             title=\"10-year Sovereign Yields\", \n",
    "             subtitle=sprintf(\"[%s:%s]\", startDate, endDate)) +\n",
    "        annotate(\"text\", x=startDate, y=min(toPlot$value, na.rm=T), label = \"@StockViz\", \n",
    "                 hjust=1.1, vjust=-1.1, col=\"white\", cex=6, fontface = \"bold\", alpha = 0.8)\n",
    "}    "
   ]
  },
  {
   "cell_type": "code",
   "execution_count": null,
   "metadata": {},
   "outputs": [],
   "source": [
    "# plot the whole thing\n",
    "\n",
    "plotLines(allYc)\n",
    "\n",
    "# zoom in to the last 3 years\n",
    "\n",
    "startNew <- as.Date(Sys.Date() - 3*365)\n",
    "allYcNew <- allYc[allYc$TIME_STAMP >= startNew,]\n",
    "\n",
    "plotLines(allYcNew)"
   ]
  },
  {
   "cell_type": "markdown",
   "metadata": {},
   "source": [
    "This notebook was created using [pluto](http://pluto.studio). Learn more [here](https://github.com/shyams80/pluto)"
   ]
  }
 ],
 "metadata": {
  "kernelspec": {
   "display_name": "R",
   "language": "R",
   "name": "ir"
  },
  "language_info": {
   "codemirror_mode": "r",
   "file_extension": ".r",
   "mimetype": "text/x-r-source",
   "name": "R",
   "pygments_lexer": "r",
   "version": "3.4.4"
  }
 },
 "nbformat": 4,
 "nbformat_minor": 2
}
