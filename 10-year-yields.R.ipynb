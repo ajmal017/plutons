{
 "cells": [
  {
   "cell_type": "markdown",
   "metadata": {},
   "source": [
    "# 10-year Yields through time\n",
    "\n",
    "Equity investments are supposed to be for the \"long-term.\" Usually, 10-years is where most investors peg their \"long-term\" to be. Investors have a choice between different asset classes - stocks/bonds/gold etc. With government/sovereign bonds, you know the yield (return) you can lock in, risk-free, for a decade today. Since equities are riskier, investors demand higher returns - the equity risk premium - over 10-year sovereign bond yields. This is why tracking the 10-year yield is important for equity investors - it denotes a floor for expected equity returns. Investors would be rational investors in equities only if they felt that it provides adequate excess returns over 10-year bonds.\n",
    "\n",
    "Here, we plot the 10-year yields of US tresuries, Euro Area AAA rated soverigns and Indian Gsecs."
   ]
  },
  {
   "cell_type": "code",
   "execution_count": 1,
   "metadata": {},
   "outputs": [
    {
     "name": "stderr",
     "output_type": "stream",
     "text": [
      "── \u001b[1mAttaching packages\u001b[22m ─────────────────────────────────────── tidyverse 1.2.1 ──\n",
      "\u001b[32m✔\u001b[39m \u001b[34mggplot2\u001b[39m 3.2.0     \u001b[32m✔\u001b[39m \u001b[34mpurrr  \u001b[39m 0.3.2\n",
      "\u001b[32m✔\u001b[39m \u001b[34mtibble \u001b[39m 2.1.3     \u001b[32m✔\u001b[39m \u001b[34mdplyr  \u001b[39m 0.8.1\n",
      "\u001b[32m✔\u001b[39m \u001b[34mtidyr  \u001b[39m 0.8.3     \u001b[32m✔\u001b[39m \u001b[34mstringr\u001b[39m 1.4.0\n",
      "\u001b[32m✔\u001b[39m \u001b[34mreadr  \u001b[39m 1.3.1     \u001b[32m✔\u001b[39m \u001b[34mforcats\u001b[39m 0.4.0\n",
      "── \u001b[1mConflicts\u001b[22m ────────────────────────────────────────── tidyverse_conflicts() ──\n",
      "\u001b[31m✖\u001b[39m \u001b[34mdplyr\u001b[39m::\u001b[32mfilter()\u001b[39m masks \u001b[34mstats\u001b[39m::filter()\n",
      "\u001b[31m✖\u001b[39m \u001b[34mdplyr\u001b[39m::\u001b[32mlag()\u001b[39m    masks \u001b[34mstats\u001b[39m::lag()\n",
      "\n",
      "Attaching package: ‘reshape2’\n",
      "\n",
      "The following object is masked from ‘package:tidyr’:\n",
      "\n",
      "    smiths\n",
      "\n",
      "Loading required package: xts\n",
      "Loading required package: zoo\n",
      "\n",
      "Attaching package: ‘zoo’\n",
      "\n",
      "The following objects are masked from ‘package:base’:\n",
      "\n",
      "    as.Date, as.Date.numeric\n",
      "\n",
      "\n",
      "Attaching package: ‘xts’\n",
      "\n",
      "The following objects are masked from ‘package:dplyr’:\n",
      "\n",
      "    first, last\n",
      "\n",
      "Loading required package: TTR\n",
      "Version 0.4-0 included new data defaults. See ?getSymbols.\n",
      "\n",
      "Attaching package: ‘lubridate’\n",
      "\n",
      "The following object is masked from ‘package:base’:\n",
      "\n",
      "    date\n",
      "\n",
      "\n",
      "Attaching package: ‘PerformanceAnalytics’\n",
      "\n",
      "The following object is masked from ‘package:graphics’:\n",
      "\n",
      "    legend\n",
      "\n",
      "Registering fonts with R\n",
      "\n",
      "Attaching package: ‘gridExtra’\n",
      "\n",
      "The following object is masked from ‘package:dplyr’:\n",
      "\n",
      "    combine\n",
      "\n"
     ]
    }
   ],
   "source": [
    "library(tidyverse)\n",
    "library(ggthemes)\n",
    "library(reshape2)\n",
    "library(odbc)\n",
    "library(plutoR)\n",
    "library(quantmod)\n",
    "library(lubridate)\n",
    "library(ggrepel)\n",
    "library(PerformanceAnalytics)\n",
    "\n",
    "options(\"scipen\"=999)\n",
    "options(stringsAsFactors = FALSE)\n",
    "options(repr.plot.width=16, repr.plot.height=8)\n",
    "\n",
    "source(\"config.R\")\n",
    "source(\"goofy/plot.common.R\")\n",
    "source(\"goofy/misc.common.R\")\n",
    "\n",
    "#initialize\n",
    "indices <- Indices() #for IndiaGsecTimeSeries\n",
    "ycurves <- YieldCurve() #for UsTreasury, EuroArea "
   ]
  },
  {
   "cell_type": "code",
   "execution_count": 2,
   "metadata": {},
   "outputs": [],
   "source": [
    "startDate <- as.Date(\"2004-01-01\")\n",
    "# https://plutopy.readthedocs.io/en/latest/Indices.html#plutoPy.model.Indices.IndiaGsecTimeSeries\n",
    "ycInd <- indices$IndiaGsecTimeSeries() %>%\n",
    "    filter(NAME == \"5_10\" & TIME_STAMP >= startDate) %>%\n",
    "    select(TIME_STAMP, YIELD = YTM) %>%\n",
    "    collect() \n",
    "\n",
    "# https://plutopy.readthedocs.io/en/latest/YieldCurve.html#plutoPy.model.YieldCurve.UsTreasury\n",
    "ycUst <- ycurves$UsTreasury() %>%\n",
    "    filter(TIME_STAMP >= startDate) %>%\n",
    "    select(TIME_STAMP, YIELD = Y10) %>%\n",
    "    collect() \n",
    "\n",
    "# https://plutopy.readthedocs.io/en/latest/YieldCurve.html#plutoPy.model.YieldCurve.EuroArea\n",
    "ycEuro <- ycurves$EuroArea() %>%\n",
    "    filter(TENOR_Y == 10 & TENOR_M == 0 & CURVE_ID == 'G_N_A' & TIME_STAMP >= startDate) %>%\n",
    "    select(TIME_STAMP, YIELD = VALUE) %>%\n",
    "    collect() "
   ]
  },
  {
   "cell_type": "code",
   "execution_count": 3,
   "metadata": {},
   "outputs": [
    {
     "ename": "ERROR",
     "evalue": "Error in common_by(by, x, y): object 'TIME_STAMP' not found\n",
     "output_type": "error",
     "traceback": [
      "Error in common_by(by, x, y): object 'TIME_STAMP' not found\nTraceback:\n",
      "1. inner_join(ycInd, ycUst, ycEuro, by = TIME_STAMP) %>% as.data.frame()",
      "2. eval(lhs, parent, parent)",
      "3. eval(lhs, parent, parent)",
      "4. inner_join(ycInd, ycUst, ycEuro, by = TIME_STAMP)",
      "5. inner_join.tbl_df(ycInd, ycUst, ycEuro, by = TIME_STAMP)",
      "6. common_by(by, x, y)"
     ]
    }
   ],
   "source": [
    "allYc <- inner_join(ycInd, ycUst, ycEuro, by=TIME_STAMP) %>% as.data.frame()\n",
    "\n",
    "print(head(allYc))\n",
    "print(tail(allYc))"
   ]
  },
  {
   "cell_type": "markdown",
   "metadata": {},
   "source": [
    "This notebook was created using [pluto](http://pluto.studio). Learn more [here](https://github.com/shyams80/pluto)"
   ]
  }
 ],
 "metadata": {
  "kernelspec": {
   "display_name": "R",
   "language": "R",
   "name": "ir"
  },
  "language_info": {
   "codemirror_mode": "r",
   "file_extension": ".r",
   "mimetype": "text/x-r-source",
   "name": "R",
   "pygments_lexer": "r",
   "version": "3.4.4"
  }
 },
 "nbformat": 4,
 "nbformat_minor": 2
}
