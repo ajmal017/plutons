{
 "cells": [
  {
   "cell_type": "markdown",
   "metadata": {},
   "source": [
    "# 10-year Yields through time\n",
    "\n",
    "Equity investments are supposed to be for the \"long-term.\" Usually, 10-years is where most investors peg their \"long-term\" to be. Investors have a choice between different asset classes - stocks/bonds/gold etc. With government/sovereign bonds, you know the yield (return) you can lock in, risk-free, for a decade today. Since equities are riskier, investors demand higher returns - the equity risk premium - over 10-year sovereign bond yields. This is why tracking the 10-year yield is important for equity investors - it denotes a floor for expected equity returns. Investors would be rational investors in equities only if they felt that it provides adequate excess returns over 10-year bonds.\n",
    "\n",
    "Here, we plot the 10-year yields of US tresuries, Euro Area AAA rated soverigns and Indian Gsecs."
   ]
  },
  {
   "cell_type": "code",
   "execution_count": null,
   "metadata": {},
   "outputs": [],
   "source": [
    "library(tidyverse)\n",
    "library(ggthemes)\n",
    "library(reshape2)\n",
    "library(odbc)\n",
    "library(plutoR)\n",
    "library(quantmod)\n",
    "library(lubridate)\n",
    "library(ggrepel)\n",
    "library(PerformanceAnalytics)\n",
    "\n",
    "options(\"scipen\"=999)\n",
    "options(stringsAsFactors = FALSE)\n",
    "options(repr.plot.width=16, repr.plot.height=8)\n",
    "\n",
    "source(\"config.R\")\n",
    "source(\"goofy/plot.common.R\")\n",
    "source(\"goofy/misc.common.R\")\n",
    "\n",
    "#initialize\n",
    "indices <- Indices() #for IndiaGsecTimeSeries\n",
    "ycurves <- YieldCurve() #for UsTreasury, EuroArea "
   ]
  },
  {
   "cell_type": "code",
   "execution_count": null,
   "metadata": {},
   "outputs": [],
   "source": [
    "startDate <- as.Date(\"2004-01-01\")\n",
    "# https://plutopy.readthedocs.io/en/latest/Indices.html#plutoPy.model.Indices.IndiaGsecTimeSeries\n",
    "ycInd <- indices$IndiaGsecTimeSeries() %>%\n",
    "    filter(NAME == \"5_10\" & TIME_STAMP >= startDate) %>%\n",
    "    select(TIME_STAMP, YIELD = YTM) %>%\n",
    "    collect() \n",
    "\n",
    "# https://plutopy.readthedocs.io/en/latest/YieldCurve.html#plutoPy.model.YieldCurve.UsTreasury\n",
    "ycUst <- ycurves$UsTreasury() %>%\n",
    "    filter(TIME_STAMP >= startDate) %>%\n",
    "    select(TIME_STAMP, YIELD = Y10) %>%\n",
    "    collect() \n",
    "\n",
    "# https://plutopy.readthedocs.io/en/latest/YieldCurve.html#plutoPy.model.YieldCurve.EuroArea\n",
    "ycEuro <- ycurves$EuroArea() %>%\n",
    "    filter(TENOR_Y == 10 & TENOR_M == 0 & CURVE_ID == 'G_N_A' & TIME_STAMP >= startDate) %>%\n",
    "    select(TIME_STAMP, YIELD = VALUE) %>%\n",
    "    collect() "
   ]
  },
  {
   "cell_type": "code",
   "execution_count": null,
   "metadata": {},
   "outputs": [],
   "source": [
    "allYc <- inner_join(ycInd, ycUst, ycEuro, by=c('TIME_STAMP')) %>% as.data.frame()\n",
    "\n",
    "print(head(allYc))\n",
    "print(tail(allYc))"
   ]
  },
  {
   "cell_type": "markdown",
   "metadata": {},
   "source": [
    "This notebook was created using [pluto](http://pluto.studio). Learn more [here](https://github.com/shyams80/pluto)"
   ]
  }
 ],
 "metadata": {
  "kernelspec": {
   "display_name": "R",
   "language": "R",
   "name": "ir"
  },
  "language_info": {
   "codemirror_mode": "r",
   "file_extension": ".r",
   "mimetype": "text/x-r-source",
   "name": "R",
   "pygments_lexer": "r",
   "version": "3.4.4"
  }
 },
 "nbformat": 4,
 "nbformat_minor": 2
}
