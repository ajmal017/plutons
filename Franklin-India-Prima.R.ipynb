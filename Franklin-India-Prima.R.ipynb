{
 "cells": [
  {
   "cell_type": "markdown",
   "metadata": {},
   "source": [
    "# Franklin Prima Portfolio at the turn\n",
    "\n",
    "In our notebook on [mutal fund drawdowns](https://github.com/stockviz/plutons/blob/master/mutual-fund-drawdown.R.ipynb), we saw how Franklin India Prima Fund drew down the least compared to other large midcap mutual funds. How did the portfolio change through time?"
   ]
  },
  {
   "cell_type": "code",
   "execution_count": null,
   "metadata": {},
   "outputs": [],
   "source": [
    "library(tidyverse)\n",
    "library(ggthemes)\n",
    "library(odbc)\n",
    "library(plutoR)\n",
    "library(quantmod)\n",
    "library(PerformanceAnalytics)\n",
    "\n",
    "options(\"scipen\"=999)\n",
    "options(stringsAsFactors = FALSE)\n",
    "options(repr.plot.width=16, repr.plot.height=8)\n",
    "\n",
    "source(\"config.R\")\n",
    "source(\"goofy/plot.common.R\")\n",
    "source(\"goofy/misc.common.R\")\n",
    "\n",
    "indices <- Indices()\n",
    "mfi <- MutualFundsIndia()"
   ]
  },
  {
   "cell_type": "markdown",
   "metadata": {},
   "source": [
    "### The big picture\n",
    "\n",
    "How did the fund perform over the Midcap 150 TR index over a 5 year period?"
   ]
  },
  {
   "cell_type": "code",
   "execution_count": null,
   "metadata": {},
   "outputs": [],
   "source": [
    "indexName <- \"NIFTY MIDCAP 150 TR\"\n",
    "schemeCode <- 100473\n",
    "schemeName <- \"Franklin India Prima\"\n",
    "startDate <- as.Date(\"2014-01-01\")\n",
    "endDate <- as.Date(\"2019-06-30\")"
   ]
  },
  {
   "cell_type": "code",
   "execution_count": null,
   "metadata": {},
   "outputs": [],
   "source": [
    "#get the daily returns of the fund\n",
    "navs <- data.frame(mfi$NavTimeSeries() %>%\n",
    "        filter(SCHEME_CODE == schemeCode & TIME_STAMP >= startDate & TIME_STAMP <= endDate) %>%\n",
    "        select(TIME_STAMP, NAV))\n",
    "    \n",
    "navXts <- dailyReturn(xts(navs$NAV, navs$TIME_STAMP))\n",
    "\n",
    "#grab the benchmark\n",
    "bm <- data.frame(indices$NseTimeSeries() %>%\n",
    "    filter(NAME == indexName & TIME_STAMP >= startDate & TIME_STAMP <= endDate) %>%\n",
    "    select(TIME_STAMP, CLOSE))\n",
    "\n",
    "navXts <- merge.xts(navXts, dailyReturn(xts(bm$CLOSE, bm$TIME_STAMP)))\n",
    "names(navXts) <- c(\"FUND\", indexName)"
   ]
  },
  {
   "cell_type": "code",
   "execution_count": null,
   "metadata": {},
   "outputs": [],
   "source": [
    "# plot the cumulative returns\n",
    "Common.PlotCumReturns(navXts, sprintf(\"%s vs. %s\", schemeName, indexName), \"\")"
   ]
  },
  {
   "cell_type": "markdown",
   "metadata": {},
   "source": [
    "### How was the fund positioned going into 2018 vs. where it was in March 2019?"
   ]
  },
  {
   "cell_type": "code",
   "execution_count": null,
   "metadata": {},
   "outputs": [],
   "source": [
    "date1 <- as.Date(\"2017-12-31\")\n",
    "date2 <- as.Date(\"2019-03-31\")\n",
    "\n",
    "sectorAlloc1 <- mfi$Portfolio() %>%\n",
    "    filter(SCHEME_CODE == schemeCode \n",
    "           & INSTRUMENT == 'EQUITY' \n",
    "           & !is.null(WEIGHTAGE)\n",
    "           & WEIGHTAGE > 0\n",
    "           & PORTFOLIO_DATE == date1\n",
    "           & (INSTRUMENT_TYPE == 'STOCK' \n",
    "              | INSTRUMENT_TYPE == 'E' \n",
    "              | INSTRUMENT_TYPE == '' \n",
    "              | is.null(INSTRUMENT_TYPE))) %>%\n",
    "    group_by(INDUSTRY_BSE) %>%\n",
    "    summarize(ALLOC = sum(WEIGHTAGE)) %>%\n",
    "    arrange(desc(ALLOC)) %>%\n",
    "    collect()\n",
    "\n",
    "sectorAlloc1Df <- sectorAlloc1 %>%\n",
    "    mutate(INDUSTRY_BSE = replace(INDUSTRY_BSE, INDUSTRY_BSE == '-' \n",
    "                                  | is.na(INDUSTRY_BSE), 'UNK')) %>%\n",
    "    as.data.frame()\n",
    "\n",
    "sectorAlloc2 <- mfi$Portfolio() %>%\n",
    "    filter(SCHEME_CODE == schemeCode \n",
    "           & INSTRUMENT == 'EQUITY' \n",
    "           & !is.null(WEIGHTAGE)\n",
    "           & WEIGHTAGE > 0\n",
    "           & PORTFOLIO_DATE == date2\n",
    "           & (INSTRUMENT_TYPE == 'STOCK' \n",
    "              | INSTRUMENT_TYPE == 'E' \n",
    "              | INSTRUMENT_TYPE == '' \n",
    "              | is.null(INSTRUMENT_TYPE))) %>%\n",
    "    group_by(INDUSTRY_BSE) %>%\n",
    "    summarize(ALLOC = sum(WEIGHTAGE)) %>%\n",
    "    arrange(desc(ALLOC)) %>%\n",
    "    collect()\n",
    "\n",
    "sectorAlloc2Df <- sectorAlloc2 %>%\n",
    "    mutate(INDUSTRY_BSE = replace(INDUSTRY_BSE, INDUSTRY_BSE == '-' \n",
    "                                  | is.na(INDUSTRY_BSE), 'UNK')) %>%\n",
    "    as.data.frame()\n"
   ]
  },
  {
   "cell_type": "code",
   "execution_count": null,
   "metadata": {},
   "outputs": [],
   "source": [
    "pie(sectorAlloc1Df$ALLOC, labels=sprintf(\"%s (%.2f%%)\", sectorAlloc1Df$INDUSTRY, sectorAlloc1Df$ALLOC), \n",
    "    col=economist_pal()(9), \n",
    "    main=sprintf(\"%s Sector Allocations (%s)\", schemeName, date1), \n",
    "    family='Segoe UI', \n",
    "    init.angle=45)\n",
    "mtext(\"@StockViz\", side=1)"
   ]
  },
  {
   "cell_type": "code",
   "execution_count": null,
   "metadata": {},
   "outputs": [],
   "source": [
    "pie(sectorAlloc2Df$ALLOC, labels=sprintf(\"%s (%.2f%%)\", sectorAlloc2Df$INDUSTRY, sectorAlloc2Df$ALLOC), \n",
    "    col=economist_pal()(9), \n",
    "    main=sprintf(\"%s Sector Allocations (%s)\", schemeName, date2), \n",
    "    family='Segoe UI', \n",
    "    init.angle=45)\n",
    "mtext(\"@StockViz\", side=1)"
   ]
  },
  {
   "cell_type": "code",
   "execution_count": null,
   "metadata": {},
   "outputs": [],
   "source": [
    "# zoom into allocations that are more than 2%\n",
    "\n",
    "sectorAlloc1Df2 <- sectorAlloc1Df[sectorAlloc1Df$ALLOC > 2, ]\n",
    "sectorAlloc2Df2 <- sectorAlloc2Df[sectorAlloc2Df$ALLOC > 2, ]"
   ]
  },
  {
   "cell_type": "code",
   "execution_count": null,
   "metadata": {},
   "outputs": [],
   "source": [
    "pie(sectorAlloc1Df2$ALLOC, labels=sprintf(\"%s (%.2f%%)\", sectorAlloc1Df2$INDUSTRY, sectorAlloc1Df2$ALLOC), \n",
    "    col=economist_pal()(9), \n",
    "    main=sprintf(\"%s Sector Allocations (%s) > 2%%\", schemeName, date1), \n",
    "    family='Segoe UI', \n",
    "    init.angle=45)\n",
    "mtext(\"@StockViz\", side=1)"
   ]
  },
  {
   "cell_type": "code",
   "execution_count": null,
   "metadata": {},
   "outputs": [],
   "source": [
    "pie(sectorAlloc2Df2$ALLOC, labels=sprintf(\"%s (%.2f%%)\", sectorAlloc2Df2$INDUSTRY, sectorAlloc2Df2$ALLOC), \n",
    "    col=economist_pal()(9), \n",
    "    main=sprintf(\"%s Sector Allocations (%s) > 2%%\", schemeName, date2), \n",
    "    family='Segoe UI', \n",
    "    init.angle=45)\n",
    "mtext(\"@StockViz\", side=1)"
   ]
  },
  {
   "cell_type": "markdown",
   "metadata": {},
   "source": [
    "This notebook was created using [pluto](http://pluto.studio). Learn more [here](https://github.com/shyams80/pluto)"
   ]
  }
 ],
 "metadata": {
  "kernelspec": {
   "display_name": "R",
   "language": "R",
   "name": "ir"
  },
  "language_info": {
   "codemirror_mode": "r",
   "file_extension": ".r",
   "mimetype": "text/x-r-source",
   "name": "R",
   "pygments_lexer": "r",
   "version": "3.4.4"
  }
 },
 "nbformat": 4,
 "nbformat_minor": 2
}
