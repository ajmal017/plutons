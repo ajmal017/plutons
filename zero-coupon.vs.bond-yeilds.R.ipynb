{
 "cells": [
  {
   "cell_type": "markdown",
   "metadata": {},
   "source": [
    "# Zero-coupon vs. Market yields\n",
    "\n",
    "A zero-coupon yeild is a \"synthetic\" construct. It is next to impossible to find an actual zero-coupon bond with the exact tenor that trades at those yeilds. It is primarily used as an input to quant/risk models because it is \"pure.\" \n",
    "\n",
    "Market yields are shaped mostly by supply and demand. So it is a useful measure for a practical risk-free rate. \n",
    "\n",
    "pluto has [zero-coupon](https://plutopy.readthedocs.io/en/latest/YieldCurve.html#plutoPy.model.YieldCurve.IndiaZeroCoupon) rates starting from 2011-01-18 and a market [based bond index](https://plutopy.readthedocs.io/en/latest/Indices.html#plutoPy.model.Indices.IndiaGsecTimeSeries) starting from 2003-12-31. We will plot the yields of the two below to get a sense of the difference between the two."
   ]
  },
  {
   "cell_type": "code",
   "execution_count": 1,
   "metadata": {},
   "outputs": [
    {
     "name": "stderr",
     "output_type": "stream",
     "text": [
      "── \u001b[1mAttaching packages\u001b[22m ─────────────────────────────────────── tidyverse 1.2.1 ──\n",
      "\u001b[32m✔\u001b[39m \u001b[34mggplot2\u001b[39m 3.2.0     \u001b[32m✔\u001b[39m \u001b[34mpurrr  \u001b[39m 0.3.2\n",
      "\u001b[32m✔\u001b[39m \u001b[34mtibble \u001b[39m 2.1.3     \u001b[32m✔\u001b[39m \u001b[34mdplyr  \u001b[39m 0.8.1\n",
      "\u001b[32m✔\u001b[39m \u001b[34mtidyr  \u001b[39m 0.8.3     \u001b[32m✔\u001b[39m \u001b[34mstringr\u001b[39m 1.4.0\n",
      "\u001b[32m✔\u001b[39m \u001b[34mreadr  \u001b[39m 1.3.1     \u001b[32m✔\u001b[39m \u001b[34mforcats\u001b[39m 0.4.0\n",
      "── \u001b[1mConflicts\u001b[22m ────────────────────────────────────────── tidyverse_conflicts() ──\n",
      "\u001b[31m✖\u001b[39m \u001b[34mdplyr\u001b[39m::\u001b[32mfilter()\u001b[39m masks \u001b[34mstats\u001b[39m::filter()\n",
      "\u001b[31m✖\u001b[39m \u001b[34mdplyr\u001b[39m::\u001b[32mlag()\u001b[39m    masks \u001b[34mstats\u001b[39m::lag()\n",
      "\n",
      "Attaching package: ‘reshape2’\n",
      "\n",
      "The following object is masked from ‘package:tidyr’:\n",
      "\n",
      "    smiths\n",
      "\n",
      "Loading required package: xts\n",
      "Loading required package: zoo\n",
      "\n",
      "Attaching package: ‘zoo’\n",
      "\n",
      "The following objects are masked from ‘package:base’:\n",
      "\n",
      "    as.Date, as.Date.numeric\n",
      "\n",
      "\n",
      "Attaching package: ‘xts’\n",
      "\n",
      "The following objects are masked from ‘package:dplyr’:\n",
      "\n",
      "    first, last\n",
      "\n",
      "Loading required package: TTR\n",
      "Version 0.4-0 included new data defaults. See ?getSymbols.\n",
      "\n",
      "Attaching package: ‘lubridate’\n",
      "\n",
      "The following object is masked from ‘package:base’:\n",
      "\n",
      "    date\n",
      "\n",
      "\n",
      "Attaching package: ‘PerformanceAnalytics’\n",
      "\n",
      "The following object is masked from ‘package:graphics’:\n",
      "\n",
      "    legend\n",
      "\n",
      "Registering fonts with R\n",
      "\n",
      "Attaching package: ‘gridExtra’\n",
      "\n",
      "The following object is masked from ‘package:dplyr’:\n",
      "\n",
      "    combine\n",
      "\n"
     ]
    }
   ],
   "source": [
    "library(tidyverse)\n",
    "library(ggthemes)\n",
    "library(reshape2)\n",
    "library(odbc)\n",
    "library(plutoR)\n",
    "library(quantmod)\n",
    "library(lubridate)\n",
    "library(ggrepel)\n",
    "library(PerformanceAnalytics)\n",
    "\n",
    "options(\"scipen\"=999)\n",
    "options(stringsAsFactors = FALSE)\n",
    "options(repr.plot.width=16, repr.plot.height=8)\n",
    "\n",
    "source(\"config.R\")\n",
    "source(\"goofy/plot.common.R\")\n",
    "source(\"goofy/misc.common.R\")\n",
    "\n",
    "#initialize\n",
    "indices <- Indices() #for IndiaGsecTimeSeries\n",
    "ycurves <- YieldCurve() #for IndiaZeroCoupon"
   ]
  },
  {
   "cell_type": "code",
   "execution_count": 2,
   "metadata": {},
   "outputs": [
    {
     "name": "stderr",
     "output_type": "stream",
     "text": [
      "Warning message:\n",
      "“Missing values are always removed in SQL.\n",
      "Use `MAX(x, na.rm = TRUE)` to silence this warning\n",
      "This warning is displayed only once per session.”Warning message:\n",
      "“Missing values are always removed in SQL.\n",
      "Use `MIN(x, na.rm = TRUE)` to silence this warning\n",
      "This warning is displayed only once per session.”"
     ]
    },
    {
     "name": "stdout",
     "output_type": "stream",
     "text": [
      "[1] \"bond index data:\"\n",
      "\u001b[38;5;246m# A tibble: 6 x 3\u001b[39m\n",
      "  TIME_STAMP NAME  YIELD\n",
      "  \u001b[3m\u001b[38;5;246m<date>\u001b[39m\u001b[23m     \u001b[3m\u001b[38;5;246m<chr>\u001b[39m\u001b[23m \u001b[3m\u001b[38;5;246m<dbl>\u001b[39m\u001b[23m\n",
      "\u001b[38;5;250m1\u001b[39m 2011-01-18 0_5    7.94\n",
      "\u001b[38;5;250m2\u001b[39m 2011-01-19 0_5    7.96\n",
      "\u001b[38;5;250m3\u001b[39m 2011-01-20 0_5    7.93\n",
      "\u001b[38;5;250m4\u001b[39m 2011-01-21 0_5    7.93\n",
      "\u001b[38;5;250m5\u001b[39m 2011-01-22 0_5    7.93\n",
      "\u001b[38;5;250m6\u001b[39m 2011-01-23 0_5    7.93\n",
      "\u001b[38;5;246m# A tibble: 6 x 3\u001b[39m\n",
      "  TIME_STAMP NAME  YIELD\n",
      "  \u001b[3m\u001b[38;5;246m<date>\u001b[39m\u001b[23m     \u001b[3m\u001b[38;5;246m<chr>\u001b[39m\u001b[23m \u001b[3m\u001b[38;5;246m<dbl>\u001b[39m\u001b[23m\n",
      "\u001b[38;5;250m1\u001b[39m 2019-07-11 5_10   6.67\n",
      "\u001b[38;5;250m2\u001b[39m 2019-07-12 5_10   6.65\n",
      "\u001b[38;5;250m3\u001b[39m 2019-07-13 5_10   6.65\n",
      "\u001b[38;5;250m4\u001b[39m 2019-07-14 5_10   6.65\n",
      "\u001b[38;5;250m5\u001b[39m 2019-07-15 5_10   6.62\n",
      "\u001b[38;5;250m6\u001b[39m 2019-07-16 5_10   6.56\n",
      "[1] \"zero-coupon data:\"\n",
      "\u001b[38;5;246m# A tibble: 6 x 3\u001b[39m\n",
      "  TIME_STAMP MATURITY YIELD\n",
      "  \u001b[3m\u001b[38;5;246m<date>\u001b[39m\u001b[23m        \u001b[3m\u001b[38;5;246m<dbl>\u001b[39m\u001b[23m \u001b[3m\u001b[38;5;246m<dbl>\u001b[39m\u001b[23m\n",
      "\u001b[38;5;250m1\u001b[39m 2011-01-18        5  7.75\n",
      "\u001b[38;5;250m2\u001b[39m 2011-01-18       10  8.23\n",
      "\u001b[38;5;250m3\u001b[39m 2011-01-18       15  8.42\n",
      "\u001b[38;5;250m4\u001b[39m 2011-01-18       20  8.51\n",
      "\u001b[38;5;250m5\u001b[39m 2011-01-18       30  8.60\n",
      "\u001b[38;5;250m6\u001b[39m 2011-01-19        5  7.74\n",
      "\u001b[38;5;246m# A tibble: 6 x 3\u001b[39m\n",
      "  TIME_STAMP MATURITY YIELD\n",
      "  \u001b[3m\u001b[38;5;246m<date>\u001b[39m\u001b[23m        \u001b[3m\u001b[38;5;246m<dbl>\u001b[39m\u001b[23m \u001b[3m\u001b[38;5;246m<dbl>\u001b[39m\u001b[23m\n",
      "\u001b[38;5;250m1\u001b[39m 2019-07-15       30  6.92\n",
      "\u001b[38;5;250m2\u001b[39m 2019-07-16        5  6.28\n",
      "\u001b[38;5;250m3\u001b[39m 2019-07-16       10  6.55\n",
      "\u001b[38;5;250m4\u001b[39m 2019-07-16       15  6.70\n",
      "\u001b[38;5;250m5\u001b[39m 2019-07-16       20  6.79\n",
      "\u001b[38;5;250m6\u001b[39m 2019-07-16       30  6.87\n"
     ]
    }
   ],
   "source": [
    "startEndDatesIndex <- (indices$IndiaGsecTimeSeries() %>%\n",
    "    summarize(MAX_TS = max(TIME_STAMP), MIN_TS = min(TIME_STAMP)) %>%\n",
    "    collect())\n",
    "\n",
    "startEndDatesZero <- (ycurves$IndiaZeroCoupon() %>%\n",
    "    summarize(MAX_TS = max(TIME_STAMP), MIN_TS = min(TIME_STAMP)) %>%\n",
    "    collect())\n",
    "\n",
    "startDate <- max(startEndDatesIndex$MIN_TS[[1]], startEndDatesZero$MIN_TS[[1]])\n",
    "endDate <- min(startEndDatesIndex$MAX_TS[[1]], startEndDatesZero$MAX_TS[[1]])\n",
    "\n",
    "indexDt <- (indices$IndiaGsecTimeSeries() %>%\n",
    "            filter(TIME_STAMP >= startDate & TIME_STAMP <= endDate) %>%\n",
    "            select(TIME_STAMP, NAME, YIELD = YTM) %>%\n",
    "            collect())\n",
    "\n",
    "ycDt <- (ycurves$IndiaZeroCoupon() %>%\n",
    "            filter(TIME_STAMP >= startDate & TIME_STAMP <= endDate & MATURITY %in% c(5, 10, 15, 20, 30)) %>%\n",
    "            collect())\n",
    "\n",
    "print(\"bond index data:\")\n",
    "print(head(indexDt))\n",
    "print(tail(indexDt))\n",
    "\n",
    "print(\"zero-coupon data:\")\n",
    "print(head(ycDt))\n",
    "print(tail(ycDt))\n"
   ]
  },
  {
   "cell_type": "code",
   "execution_count": 3,
   "metadata": {},
   "outputs": [
    {
     "ename": "ERROR",
     "evalue": "Error in eval_tidy(enquo(var), var_env): object 'YIELD' not found\n",
     "output_type": "error",
     "traceback": [
      "Error in eval_tidy(enquo(var), var_env): object 'YIELD' not found\nTraceback:\n",
      "1. indexDt %>% mutate(MATURITY = as.numeric(strsplit(NAME, \"_\")[[1]][2])) %>% \n .     select(TIME_STAMP, MATURITY, YIELD) %>% gather(TIME_STAMP, \n .     MATURITY, YIELD) %>% spread(MATURITY, YIELD) %>% print()",
      "2. withVisible(eval(quote(`_fseq`(`_lhs`)), env, env))",
      "3. eval(quote(`_fseq`(`_lhs`)), env, env)",
      "4. eval(quote(`_fseq`(`_lhs`)), env, env)",
      "5. `_fseq`(`_lhs`)",
      "6. freduce(value, `_function_list`)",
      "7. function_list[[i]](value)",
      "8. spread(., MATURITY, YIELD)",
      "9. spread.data.frame(., MATURITY, YIELD)",
      "10. tidyselect::vars_pull(names(data), !(!enquo(value)))",
      "11. eval_tidy(enquo(var), var_env)"
     ]
    }
   ],
   "source": [
    "indexDt %>% \n",
    "    mutate(MATURITY = as.numeric(strsplit(NAME, \"_\")[[1]][2])) %>% \n",
    "    select(TIME_STAMP, MATURITY, YIELD) %>%\n",
    "    gather(TIME_STAMP, MATURITY, YIELD) %>%\n",
    "    spread(MATURITY, YIELD) %>%\n",
    "    print()"
   ]
  },
  {
   "cell_type": "markdown",
   "metadata": {},
   "source": [
    "This notebook was created using [pluto](http://pluto.studio). Learn more [here](https://github.com/shyams80/pluto)"
   ]
  }
 ],
 "metadata": {
  "kernelspec": {
   "display_name": "R",
   "language": "R",
   "name": "ir"
  },
  "language_info": {
   "codemirror_mode": "r",
   "file_extension": ".r",
   "mimetype": "text/x-r-source",
   "name": "R",
   "pygments_lexer": "r",
   "version": "3.4.4"
  }
 },
 "nbformat": 4,
 "nbformat_minor": 2
}
