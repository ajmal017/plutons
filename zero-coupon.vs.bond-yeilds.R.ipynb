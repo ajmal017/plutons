{
 "cells": [
  {
   "cell_type": "markdown",
   "metadata": {},
   "source": [
    "# Zero-coupon vs. Market yields\n",
    "\n",
    "A zero-coupon yeild is a \"synthetic\" construct. It is next to impossible to find an actual zero-coupon bond with the exact tenor that trades at those yeilds. It is primarily used as an input to quant/risk models because it is \"pure.\" \n",
    "\n",
    "Market yields are shaped mostly by supply and demand. So it is a useful measure for a practical risk-free rate. \n",
    "\n",
    "pluto has [zero-coupon](https://plutopy.readthedocs.io/en/latest/YieldCurve.html#plutoPy.model.YieldCurve.IndiaZeroCoupon) rates starting from 2011-01-18 and a market [based bond index](https://plutopy.readthedocs.io/en/latest/Indices.html#plutoPy.model.Indices.IndiaGsecTimeSeries) starting from 2003-12-31. We will plot the yields of the two below to get a sense of the difference between the two."
   ]
  },
  {
   "cell_type": "code",
   "execution_count": 1,
   "metadata": {},
   "outputs": [
    {
     "name": "stderr",
     "output_type": "stream",
     "text": [
      "── \u001b[1mAttaching packages\u001b[22m ─────────────────────────────────────── tidyverse 1.2.1 ──\n",
      "\u001b[32m✔\u001b[39m \u001b[34mggplot2\u001b[39m 3.2.0     \u001b[32m✔\u001b[39m \u001b[34mpurrr  \u001b[39m 0.3.2\n",
      "\u001b[32m✔\u001b[39m \u001b[34mtibble \u001b[39m 2.1.3     \u001b[32m✔\u001b[39m \u001b[34mdplyr  \u001b[39m 0.8.1\n",
      "\u001b[32m✔\u001b[39m \u001b[34mtidyr  \u001b[39m 0.8.3     \u001b[32m✔\u001b[39m \u001b[34mstringr\u001b[39m 1.4.0\n",
      "\u001b[32m✔\u001b[39m \u001b[34mreadr  \u001b[39m 1.3.1     \u001b[32m✔\u001b[39m \u001b[34mforcats\u001b[39m 0.4.0\n",
      "── \u001b[1mConflicts\u001b[22m ────────────────────────────────────────── tidyverse_conflicts() ──\n",
      "\u001b[31m✖\u001b[39m \u001b[34mdplyr\u001b[39m::\u001b[32mfilter()\u001b[39m masks \u001b[34mstats\u001b[39m::filter()\n",
      "\u001b[31m✖\u001b[39m \u001b[34mdplyr\u001b[39m::\u001b[32mlag()\u001b[39m    masks \u001b[34mstats\u001b[39m::lag()\n",
      "\n",
      "Attaching package: ‘reshape2’\n",
      "\n",
      "The following object is masked from ‘package:tidyr’:\n",
      "\n",
      "    smiths\n",
      "\n",
      "Loading required package: xts\n",
      "Loading required package: zoo\n",
      "\n",
      "Attaching package: ‘zoo’\n",
      "\n",
      "The following objects are masked from ‘package:base’:\n",
      "\n",
      "    as.Date, as.Date.numeric\n",
      "\n",
      "\n",
      "Attaching package: ‘xts’\n",
      "\n",
      "The following objects are masked from ‘package:dplyr’:\n",
      "\n",
      "    first, last\n",
      "\n",
      "Loading required package: TTR\n",
      "Version 0.4-0 included new data defaults. See ?getSymbols.\n",
      "\n",
      "Attaching package: ‘lubridate’\n",
      "\n",
      "The following object is masked from ‘package:base’:\n",
      "\n",
      "    date\n",
      "\n",
      "\n",
      "Attaching package: ‘PerformanceAnalytics’\n",
      "\n",
      "The following object is masked from ‘package:graphics’:\n",
      "\n",
      "    legend\n",
      "\n",
      "Registering fonts with R\n",
      "\n",
      "Attaching package: ‘gridExtra’\n",
      "\n",
      "The following object is masked from ‘package:dplyr’:\n",
      "\n",
      "    combine\n",
      "\n"
     ]
    }
   ],
   "source": [
    "library(tidyverse)\n",
    "library(ggthemes)\n",
    "library(reshape2)\n",
    "library(odbc)\n",
    "library(plutoR)\n",
    "library(quantmod)\n",
    "library(lubridate)\n",
    "library(ggrepel)\n",
    "library(PerformanceAnalytics)\n",
    "\n",
    "options(\"scipen\"=999)\n",
    "options(stringsAsFactors = FALSE)\n",
    "options(repr.plot.width=16, repr.plot.height=8)\n",
    "\n",
    "source(\"config.R\")\n",
    "source(\"goofy/plot.common.R\")\n",
    "source(\"goofy/misc.common.R\")\n",
    "\n",
    "#initialize\n",
    "indices <- Indices() #for IndiaGsecTimeSeries\n",
    "ycurves <- YieldCurve() #for IndiaZeroCoupon"
   ]
  },
  {
   "cell_type": "code",
   "execution_count": 2,
   "metadata": {},
   "outputs": [
    {
     "name": "stderr",
     "output_type": "stream",
     "text": [
      "Warning message:\n",
      "“Missing values are always removed in SQL.\n",
      "Use `MAX(x, na.rm = TRUE)` to silence this warning\n",
      "This warning is displayed only once per session.”Warning message:\n",
      "“Missing values are always removed in SQL.\n",
      "Use `MIN(x, na.rm = TRUE)` to silence this warning\n",
      "This warning is displayed only once per session.”"
     ]
    },
    {
     "ename": "ERROR",
     "evalue": "Error: Can only index with strings\n",
     "output_type": "error",
     "traceback": [
      "Error: Can only index with strings\nTraceback:\n",
      "1. indices$IndiaGsecTimeSeries() %>% filter(TIME_STAMP >= startDate & \n .     TIME_STAMP <= endDate) %>% mutate(MATURITY = as.numeric(strsplit(NAME, \n .     \"_\")[[1]][2])) %>% select(TIME_STAMP, MATURITY, YIELD = YTM) %>% \n .     collect()",
      "2. withVisible(eval(quote(`_fseq`(`_lhs`)), env, env))",
      "3. eval(quote(`_fseq`(`_lhs`)), env, env)",
      "4. eval(quote(`_fseq`(`_lhs`)), env, env)",
      "5. `_fseq`(`_lhs`)",
      "6. freduce(value, `_function_list`)",
      "7. withVisible(function_list[[k]](value))",
      "8. function_list[[k]](value)",
      "9. collect(.)",
      "10. collect.tbl_sql(.)",
      "11. db_sql_render(x$src$con, x)",
      "12. db_sql_render.DBIConnection(x$src$con, x)",
      "13. sql_render(sql, con = con, ...)",
      "14. sql_render.tbl_lazy(sql, con = con, ...)",
      "15. sql_render(query$ops, con = con, ..., bare_identifier_ok = bare_identifier_ok)",
      "16. sql_render.op(query$ops, con = con, ..., bare_identifier_ok = bare_identifier_ok)",
      "17. sql_build(query, con = con, ...)",
      "18. sql_build.op_select(query, con = con, ...)",
      "19. translate_sql_(op$args$vars, con, vars_group = op_grps(op), vars_order = translate_sql_(op_sort(op), \n  .     con, context = list(clause = \"ORDER\")), vars_frame = op_frame(op), \n  .     context = list(clause = \"SELECT\"))",
      "20. lapply(dots, function(x) {\n  .     if (is_null(get_expr(x))) {\n  .         NULL\n  .     }\n  .     else if (is_atomic(get_expr(x))) {\n  .         escape(get_expr(x), con = con)\n  .     }\n  .     else {\n  .         mask <- sql_data_mask(x, variant, con = con, window = window)\n  .         escape(eval_tidy(x, mask), con = con)\n  .     }\n  . })",
      "21. FUN(X[[i]], ...)",
      "22. escape(eval_tidy(x, mask), con = con)",
      "23. eval_tidy(x, mask)",
      "24. as.numeric(strsplit(NAME, \"_\")[[1]][2])",
      "25. sql_expr(cast(!(!x %as% (!(!type)))))",
      "26. enexpr(x)",
      "27. strsplit(NAME, \"_\")[[1]][2]",
      "28. build_sql(\"CASE WHEN (\", i, \") THEN (\", x, \") END\")",
      "29. purrr::map_chr(enexprs(...), escape_expr, con = con)",
      "30. .f(.x[[i]], ...)",
      "31. eval_bare(x, .env)",
      "32. strsplit(NAME, \"_\")[[1]]",
      "33. stop(\"Can only index with strings\", call. = FALSE)"
     ]
    }
   ],
   "source": [
    "startEndDatesIndex <- (indices$IndiaGsecTimeSeries() %>%\n",
    "    summarize(MAX_TS = max(TIME_STAMP), MIN_TS = min(TIME_STAMP)) %>%\n",
    "    collect())\n",
    "\n",
    "startEndDatesZero <- (ycurves$IndiaZeroCoupon() %>%\n",
    "    summarize(MAX_TS = max(TIME_STAMP), MIN_TS = min(TIME_STAMP)) %>%\n",
    "    collect())\n",
    "\n",
    "startDate <- max(startEndDatesIndex$MIN_TS[[1]], startEndDatesZero$MIN_TS[[1]])\n",
    "endDate <- min(startEndDatesIndex$MAX_TS[[1]], startEndDatesZero$MAX_TS[[1]])\n",
    "\n",
    "indexDt <- (indices$IndiaGsecTimeSeries() %>%\n",
    "            filter(TIME_STAMP >= startDate & TIME_STAMP <= endDate) %>%\n",
    "            mutate(MATURITY = as.numeric(strsplit(NAME, \"_\")[[1]][2])) %>% \n",
    "            select(TIME_STAMP, MATURITY, YIELD = YTM) %>%\n",
    "            collect())\n",
    "\n",
    "ycDt <- (ycurves$IndiaZeroCoupon() %>%\n",
    "            filter(TIME_STAMP >= startDate & TIME_STAMP <= endDate & MATURITY %in% c(5, 10, 15, 20, 30)) %>%\n",
    "            collect())\n",
    "\n",
    "print(\"bond index data:\")\n",
    "print(head(indexDt))\n",
    "print(tail(indexDt))\n",
    "\n",
    "print(\"zero-coupon data:\")\n",
    "print(head(ycDt))\n",
    "print(tail(ycDt))\n"
   ]
  },
  {
   "cell_type": "code",
   "execution_count": 3,
   "metadata": {},
   "outputs": [
    {
     "ename": "ERROR",
     "evalue": "Error in eval(lhs, parent, parent): object 'indexDt' not found\n",
     "output_type": "error",
     "traceback": [
      "Error in eval(lhs, parent, parent): object 'indexDt' not found\nTraceback:\n",
      "1. indexDt %>% inner_join(ycDt, by = c(\"TIME_STAMP\", \"MATURITY\")) %>% \n .     print()",
      "2. eval(lhs, parent, parent)",
      "3. eval(lhs, parent, parent)"
     ]
    }
   ],
   "source": [
    "indexDt %>% \n",
    "    inner_join(ycDt, by=c('TIME_STAMP', 'MATURITY')) %>%\n",
    "    print()"
   ]
  },
  {
   "cell_type": "markdown",
   "metadata": {},
   "source": [
    "This notebook was created using [pluto](http://pluto.studio). Learn more [here](https://github.com/shyams80/pluto)"
   ]
  }
 ],
 "metadata": {
  "kernelspec": {
   "display_name": "R",
   "language": "R",
   "name": "ir"
  },
  "language_info": {
   "codemirror_mode": "r",
   "file_extension": ".r",
   "mimetype": "text/x-r-source",
   "name": "R",
   "pygments_lexer": "r",
   "version": "3.4.4"
  }
 },
 "nbformat": 4,
 "nbformat_minor": 2
}
