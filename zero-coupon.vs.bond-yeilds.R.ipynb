{
 "cells": [
  {
   "cell_type": "markdown",
   "metadata": {},
   "source": [
    "# Zero-coupon vs. Market yields\n",
    "\n",
    "A zero-coupon yeild is a \"synthetic\" construct. It is next to impossible to find an actual zero-coupon bond with the exact tenor that trades at those yeilds. It is primarily used as an input to quant/risk models because it is \"pure.\" \n",
    "\n",
    "Market yields are shaped mostly by supply and demand. So it is a useful measure for a practical risk-free rate. \n",
    "\n",
    "pluto has [zero-coupon](https://plutopy.readthedocs.io/en/latest/YieldCurve.html#plutoPy.model.YieldCurve.IndiaZeroCoupon) rates starting from 2011-01-18 and a market [based bond index](https://plutopy.readthedocs.io/en/latest/Indices.html#plutoPy.model.Indices.IndiaGsecTimeSeries) starting from 2003-12-31. We will plot the yields of the two below to get a sense of the difference between the two."
   ]
  },
  {
   "cell_type": "code",
   "execution_count": null,
   "metadata": {},
   "outputs": [],
   "source": [
    "library(tidyverse)\n",
    "library(ggthemes)\n",
    "library(reshape2)\n",
    "library(odbc)\n",
    "library(plutoR)\n",
    "library(quantmod)\n",
    "library(lubridate)\n",
    "library(ggrepel)\n",
    "library(PerformanceAnalytics)\n",
    "\n",
    "options(\"scipen\"=999)\n",
    "options(stringsAsFactors = FALSE)\n",
    "options(repr.plot.width=16, repr.plot.height=8)\n",
    "\n",
    "source(\"config.R\")\n",
    "source(\"goofy/plot.common.R\")\n",
    "source(\"goofy/misc.common.R\")\n",
    "\n",
    "#initialize\n",
    "indices <- Indices() #for IndiaGsecTimeSeries\n",
    "ycurves <- YieldCurve() #for IndiaZeroCoupon"
   ]
  },
  {
   "cell_type": "code",
   "execution_count": null,
   "metadata": {},
   "outputs": [],
   "source": [
    "startEndDatesIndex <- (indices$IndiaGsecTimeSeries() %>%\n",
    "    summarize(MAX_TS = max(TIME_STAMP), MIN_TS = min(TIME_STAMP)) %>%\n",
    "    collect())\n",
    "\n",
    "startEndDatesZero <- (ycurves$IndiaZeroCoupon() %>%\n",
    "    summarize(MAX_TS = max(TIME_STAMP), MIN_TS = min(TIME_STAMP)) %>%\n",
    "    collect())\n",
    "\n",
    "startDate <- max(startEndDatesIndex$MIN_TS[[1]], startEndDatesZero$MIN_TS[[1]])\n",
    "endDate <- min(startEndDatesIndex$MAX_TS[[1]], startEndDatesZero$MAX_TS[[1]])\n",
    "\n",
    "indexDt <- (indices$IndiaGsecTimeSeries() %>%\n",
    "            filter(TIME_STAMP >= startDate & TIME_STAMP <= endDate) %>%\n",
    "            select(TIME_STAMP, NAME, YIELD = YTM) %>%\n",
    "            collect() %>%\n",
    "            mutate(MATURITY = as.numeric(strsplit(NAME, \"_\")[[1]][2])) %>% \n",
    "            select(TIME_STAMP, MATURITY, YIELD))\n",
    "\n",
    "ycDt <- (ycurves$IndiaZeroCoupon() %>%\n",
    "            filter(TIME_STAMP >= startDate & TIME_STAMP <= endDate \n",
    "                   & MATURITY %in% c(5, 10, 15, 20, 30)) %>%\n",
    "            collect())\n",
    "\n",
    "print(\"bond index data:\")\n",
    "print(head(indexDt))\n",
    "print(tail(indexDt))\n",
    "\n",
    "print(\"zero-coupon data:\")\n",
    "print(head(ycDt))\n",
    "print(tail(ycDt))\n"
   ]
  },
  {
   "cell_type": "code",
   "execution_count": null,
   "metadata": {},
   "outputs": [],
   "source": [
    "indexDt %>% \n",
    "    inner_join(ycDt, by=c('TIME_STAMP', 'MATURITY')) %>%\n",
    "    print()"
   ]
  },
  {
   "cell_type": "markdown",
   "metadata": {},
   "source": [
    "This notebook was created using [pluto](http://pluto.studio). Learn more [here](https://github.com/shyams80/pluto)"
   ]
  }
 ],
 "metadata": {
  "kernelspec": {
   "display_name": "R",
   "language": "R",
   "name": "ir"
  },
  "language_info": {
   "codemirror_mode": "r",
   "file_extension": ".r",
   "mimetype": "text/x-r-source",
   "name": "R",
   "pygments_lexer": "r",
   "version": "3.4.4"
  }
 },
 "nbformat": 4,
 "nbformat_minor": 2
}
