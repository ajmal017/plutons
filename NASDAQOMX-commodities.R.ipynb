{
 "cells": [
  {
   "cell_type": "raw",
   "metadata": {},
   "source": [
    "# Exploring the NASDAQOMX commoditiy indices"
   ]
  },
  {
   "cell_type": "code",
   "execution_count": 1,
   "metadata": {},
   "outputs": [
    {
     "name": "stderr",
     "output_type": "stream",
     "text": [
      "── \u001b[1mAttaching packages\u001b[22m ─────────────────────────────────────── tidyverse 1.2.1 ──\n",
      "\u001b[32m✔\u001b[39m \u001b[34mggplot2\u001b[39m 3.2.0     \u001b[32m✔\u001b[39m \u001b[34mpurrr  \u001b[39m 0.3.2\n",
      "\u001b[32m✔\u001b[39m \u001b[34mtibble \u001b[39m 2.1.3     \u001b[32m✔\u001b[39m \u001b[34mdplyr  \u001b[39m 0.8.1\n",
      "\u001b[32m✔\u001b[39m \u001b[34mtidyr  \u001b[39m 0.8.3     \u001b[32m✔\u001b[39m \u001b[34mstringr\u001b[39m 1.4.0\n",
      "\u001b[32m✔\u001b[39m \u001b[34mreadr  \u001b[39m 1.3.1     \u001b[32m✔\u001b[39m \u001b[34mforcats\u001b[39m 0.4.0\n",
      "── \u001b[1mConflicts\u001b[22m ────────────────────────────────────────── tidyverse_conflicts() ──\n",
      "\u001b[31m✖\u001b[39m \u001b[34mdplyr\u001b[39m::\u001b[32mfilter()\u001b[39m masks \u001b[34mstats\u001b[39m::filter()\n",
      "\u001b[31m✖\u001b[39m \u001b[34mdplyr\u001b[39m::\u001b[32mlag()\u001b[39m    masks \u001b[34mstats\u001b[39m::lag()\n",
      "Loading required package: xts\n",
      "Loading required package: zoo\n",
      "\n",
      "Attaching package: ‘zoo’\n",
      "\n",
      "The following objects are masked from ‘package:base’:\n",
      "\n",
      "    as.Date, as.Date.numeric\n",
      "\n",
      "\n",
      "Attaching package: ‘xts’\n",
      "\n",
      "The following objects are masked from ‘package:dplyr’:\n",
      "\n",
      "    first, last\n",
      "\n",
      "Loading required package: TTR\n",
      "Version 0.4-0 included new data defaults. See ?getSymbols.\n",
      "\n",
      "Attaching package: ‘PerformanceAnalytics’\n",
      "\n",
      "The following object is masked from ‘package:graphics’:\n",
      "\n",
      "    legend\n",
      "\n",
      "Registering fonts with R\n",
      "\n",
      "Attaching package: ‘gridExtra’\n",
      "\n",
      "The following object is masked from ‘package:dplyr’:\n",
      "\n",
      "    combine\n",
      "\n",
      "\n",
      "Attaching package: ‘lubridate’\n",
      "\n",
      "The following object is masked from ‘package:base’:\n",
      "\n",
      "    date\n",
      "\n"
     ]
    }
   ],
   "source": [
    "library(tidyverse)\n",
    "library(ggthemes)\n",
    "library(odbc)\n",
    "library(plutoR)\n",
    "library(quantmod)\n",
    "library(PerformanceAnalytics)\n",
    "\n",
    "options(\"scipen\"=999)\n",
    "options(stringsAsFactors = FALSE)\n",
    "options(repr.plot.width=16, repr.plot.height=8)\n",
    "\n",
    "source(\"config.R\")\n",
    "source(\"goofy/plot.common.R\")\n",
    "source(\"goofy/misc.common.R\")\n",
    "\n",
    "nasdaqOmx <- NasdaqOmx()"
   ]
  },
  {
   "cell_type": "code",
   "execution_count": 2,
   "metadata": {},
   "outputs": [
    {
     "name": "stderr",
     "output_type": "stream",
     "text": [
      "Joining, by = \"ID\"\n",
      "Warning message:\n",
      "“Missing values are always removed in SQL.\n",
      "Use `MIN(x, na.rm = TRUE)` to silence this warning\n",
      "This warning is displayed only once per session.”Warning message:\n",
      "“Missing values are always removed in SQL.\n",
      "Use `MAX(x, na.rm = TRUE)` to silence this warning\n",
      "This warning is displayed only once per session.”"
     ]
    },
    {
     "name": "stdout",
     "output_type": "stream",
     "text": [
      "\u001b[38;5;246m# Source:     lazy query [?? x 4]\u001b[39m\n",
      "\u001b[38;5;246m# Database:   Microsoft SQL Server 13.00.4224[ro1@NORWAY/StockVizUs2]\u001b[39m\n",
      "\u001b[38;5;246m# Groups:     ID\u001b[39m\n",
      "\u001b[38;5;246m# Ordered by: NAME\u001b[39m\n",
      "         ID NAME                                           ST         ET        \n",
      "      \u001b[3m\u001b[38;5;246m<int>\u001b[39m\u001b[23m \u001b[3m\u001b[38;5;246m<chr>\u001b[39m\u001b[23m                                          \u001b[3m\u001b[38;5;246m<date>\u001b[39m\u001b[23m     \u001b[3m\u001b[38;5;246m<date>\u001b[39m\u001b[23m    \n",
      "\u001b[38;5;250m 1\u001b[39m 13\u001b[4m1\u001b[24m\u001b[4m4\u001b[24m\u001b[4m3\u001b[24m745 NASDAQ Commodity Agriculture Index TR (NQCIAC… 2012-04-16 2019-07-08\n",
      "\u001b[38;5;250m 2\u001b[39m 13\u001b[4m1\u001b[24m\u001b[4m4\u001b[24m\u001b[4m3\u001b[24m747 NASDAQ Commodity Aluminum Index TR (NQCIALTR)  2012-04-16 2019-07-08\n",
      "\u001b[38;5;250m 3\u001b[39m 13\u001b[4m1\u001b[24m\u001b[4m4\u001b[24m\u001b[4m3\u001b[24m750 NASDAQ Commodity Benchmark Index TR (NQCITR)   2012-04-16 2019-07-08\n",
      "\u001b[38;5;250m 4\u001b[39m 13\u001b[4m1\u001b[24m\u001b[4m4\u001b[24m\u001b[4m3\u001b[24m753 NASDAQ Commodity Brent Crude Index TR (NQCICB… 2012-04-16 2019-07-08\n",
      "\u001b[38;5;250m 5\u001b[39m 13\u001b[4m1\u001b[24m\u001b[4m4\u001b[24m\u001b[4m3\u001b[24m755 NASDAQ Commodity Cocoa Index TR (NQCICCTR)     2012-04-16 2019-07-08\n",
      "\u001b[38;5;250m 6\u001b[39m 13\u001b[4m1\u001b[24m\u001b[4m4\u001b[24m\u001b[4m3\u001b[24m757 NASDAQ Commodity Coffee Index TR (NQCIKCTR)    2012-04-16 2019-07-08\n",
      "\u001b[38;5;250m 7\u001b[39m 13\u001b[4m1\u001b[24m\u001b[4m4\u001b[24m\u001b[4m3\u001b[24m759 NASDAQ Commodity Copper Index TR (NQCICUTR)    2012-04-16 2019-07-08\n",
      "\u001b[38;5;250m 8\u001b[39m 13\u001b[4m1\u001b[24m\u001b[4m4\u001b[24m\u001b[4m3\u001b[24m761 NASDAQ Commodity Corn Index TR (NQCICTR)       2012-04-16 2019-07-08\n",
      "\u001b[38;5;250m 9\u001b[39m 13\u001b[4m1\u001b[24m\u001b[4m4\u001b[24m\u001b[4m3\u001b[24m770 NASDAQ Commodity Cotton Index TR (NQCICTTR)    2012-04-16 2019-07-08\n",
      "\u001b[38;5;250m10\u001b[39m 13\u001b[4m1\u001b[24m\u001b[4m4\u001b[24m\u001b[4m3\u001b[24m766 NASDAQ Commodity Crude Oil Index TR (NQCICLTR) 2012-04-16 2019-07-08\n",
      "\u001b[38;5;250m11\u001b[39m 13\u001b[4m1\u001b[24m\u001b[4m4\u001b[24m\u001b[4m3\u001b[24m765 NASDAQ Commodity Div Agriculture TR (NQCIDATR) 2012-04-16 2019-07-08\n",
      "\u001b[38;5;250m12\u001b[39m 13\u001b[4m1\u001b[24m\u001b[4m4\u001b[24m\u001b[4m3\u001b[24m767 NASDAQ Commodity Energy Index TR (NQCIENTR)    2012-04-16 2019-07-08\n",
      "\u001b[38;5;250m13\u001b[39m 13\u001b[4m1\u001b[24m\u001b[4m4\u001b[24m\u001b[4m3\u001b[24m772 NASDAQ Commodity Feeder Cattle Index TR (NQCI… 2012-04-16 2019-07-08\n",
      "\u001b[38;5;250m14\u001b[39m 13\u001b[4m1\u001b[24m\u001b[4m4\u001b[24m\u001b[4m3\u001b[24m777 NASDAQ Commodity Gasoil Index TR (NQCIGOTR)    2012-04-16 2019-07-08\n",
      "\u001b[38;5;250m15\u001b[39m 13\u001b[4m1\u001b[24m\u001b[4m4\u001b[24m\u001b[4m3\u001b[24m773 NASDAQ Commodity Gasoline Index TR (NQCIRBTR)  2012-04-16 2019-07-08\n",
      "\u001b[38;5;250m16\u001b[39m 13\u001b[4m1\u001b[24m\u001b[4m4\u001b[24m\u001b[4m3\u001b[24m779 NASDAQ Commodity Gold Index TR (NQCIGCTR)      2012-04-16 2019-07-08\n",
      "\u001b[38;5;250m17\u001b[39m 13\u001b[4m1\u001b[24m\u001b[4m4\u001b[24m\u001b[4m3\u001b[24m780 NASDAQ Commodity Grains Index TR (NQCIGRTR)    2012-04-16 2019-07-08\n",
      "\u001b[38;5;250m18\u001b[39m 13\u001b[4m1\u001b[24m\u001b[4m4\u001b[24m\u001b[4m3\u001b[24m782 NASDAQ Commodity Heating Oil Index TR (NQCIHO… 2012-04-16 2019-07-08\n",
      "\u001b[38;5;250m19\u001b[39m 13\u001b[4m1\u001b[24m\u001b[4m4\u001b[24m\u001b[4m3\u001b[24m786 NASDAQ Commodity HG Copper Index TR (NQCIHGTR) 2012-04-16 2019-07-08\n",
      "\u001b[38;5;250m20\u001b[39m 13\u001b[4m1\u001b[24m\u001b[4m4\u001b[24m\u001b[4m3\u001b[24m789 NASDAQ Commodity Industrial Metals TR (NQCIIM… 2012-04-16 2019-07-08\n",
      "\u001b[38;5;250m21\u001b[39m 13\u001b[4m1\u001b[24m\u001b[4m4\u001b[24m\u001b[4m3\u001b[24m788 NASDAQ Commodity Kansas Wheat Index TR (NQCIK… 2012-04-16 2019-07-08\n",
      "\u001b[38;5;250m22\u001b[39m 13\u001b[4m1\u001b[24m\u001b[4m4\u001b[24m\u001b[4m3\u001b[24m790 NASDAQ Commodity Lead Index TR (NQCIPBTR)      2012-04-16 2019-07-08\n",
      "\u001b[38;5;250m23\u001b[39m 13\u001b[4m1\u001b[24m\u001b[4m4\u001b[24m\u001b[4m3\u001b[24m793 NASDAQ Commodity Lean Hogs Index TR (NQCILHTR) 2012-04-16 2019-07-08\n",
      "\u001b[38;5;250m24\u001b[39m 13\u001b[4m1\u001b[24m\u001b[4m4\u001b[24m\u001b[4m3\u001b[24m801 NASDAQ Commodity Live Cattle Index TR (NQCILC… 2012-04-16 2019-07-08\n",
      "\u001b[38;5;250m25\u001b[39m 13\u001b[4m1\u001b[24m\u001b[4m4\u001b[24m\u001b[4m3\u001b[24m797 NASDAQ Commodity Live Stock Index TR (NQCILST… 2012-04-16 2019-07-08\n",
      "\u001b[38;5;250m26\u001b[39m 13\u001b[4m1\u001b[24m\u001b[4m4\u001b[24m\u001b[4m3\u001b[24m794 NASDAQ Commodity Metals Index TR (NQCIMETR)    2012-04-16 2019-07-08\n",
      "\u001b[38;5;250m27\u001b[39m 13\u001b[4m1\u001b[24m\u001b[4m4\u001b[24m\u001b[4m3\u001b[24m798 NASDAQ Commodity Natural Gas Index TR (NQCING… 2012-04-16 2019-07-08\n",
      "\u001b[38;5;250m28\u001b[39m 13\u001b[4m1\u001b[24m\u001b[4m4\u001b[24m\u001b[4m3\u001b[24m803 NASDAQ Commodity Nickel Index TR (NQCINITR)    2012-04-16 2019-07-08\n",
      "\u001b[38;5;250m29\u001b[39m 13\u001b[4m1\u001b[24m\u001b[4m4\u001b[24m\u001b[4m3\u001b[24m810 NASDAQ Commodity Palladium Index TR (NQCIPATR) 2012-04-16 2019-07-08\n",
      "\u001b[38;5;250m30\u001b[39m 13\u001b[4m1\u001b[24m\u001b[4m4\u001b[24m\u001b[4m3\u001b[24m807 NASDAQ Commodity Petroleum Index TR (NQCIPETR) 2012-04-16 2019-07-08\n",
      "\u001b[38;5;250m31\u001b[39m 13\u001b[4m1\u001b[24m\u001b[4m4\u001b[24m\u001b[4m3\u001b[24m809 NASDAQ Commodity Platinum Index TR (NQCIPLTR)  2012-04-16 2019-07-08\n",
      "\u001b[38;5;250m32\u001b[39m 13\u001b[4m1\u001b[24m\u001b[4m4\u001b[24m\u001b[4m3\u001b[24m806 NASDAQ Commodity Precious Metals TR (NQCIPMTR) 2012-04-16 2019-07-08\n",
      "\u001b[38;5;250m33\u001b[39m 13\u001b[4m1\u001b[24m\u001b[4m4\u001b[24m\u001b[4m3\u001b[24m813 NASDAQ Commodity Robusta Coffee Index TR (NQC… 2012-04-16 2019-07-08\n",
      "\u001b[38;5;250m34\u001b[39m 13\u001b[4m1\u001b[24m\u001b[4m4\u001b[24m\u001b[4m3\u001b[24m818 NASDAQ Commodity Silver Index TR (NQCISITR)    2012-04-16 2019-07-08\n",
      "\u001b[38;5;250m35\u001b[39m 13\u001b[4m1\u001b[24m\u001b[4m4\u001b[24m\u001b[4m3\u001b[24m817 NASDAQ Commodity Softs Index TR (NQCISOTR)     2012-04-16 2019-07-08\n",
      "\u001b[38;5;250m36\u001b[39m 13\u001b[4m1\u001b[24m\u001b[4m4\u001b[24m\u001b[4m3\u001b[24m816 NASDAQ Commodity Soybean Index TR (NQCISTR)    2012-04-16 2019-07-08\n",
      "\u001b[38;5;250m37\u001b[39m 13\u001b[4m1\u001b[24m\u001b[4m4\u001b[24m\u001b[4m3\u001b[24m821 NASDAQ Commodity Soybean Meal Index TR (NQCIS… 2012-04-16 2019-07-08\n",
      "\u001b[38;5;250m38\u001b[39m 13\u001b[4m1\u001b[24m\u001b[4m4\u001b[24m\u001b[4m3\u001b[24m823 NASDAQ Commodity Soybean Oil Index TR (NQCIBO… 2012-04-16 2019-07-08\n",
      "\u001b[38;5;250m39\u001b[39m 13\u001b[4m1\u001b[24m\u001b[4m4\u001b[24m\u001b[4m3\u001b[24m826 NASDAQ Commodity Spring Wheat Index TR (NQCIM… 2012-04-16 2019-07-08\n",
      "\u001b[38;5;250m40\u001b[39m 13\u001b[4m1\u001b[24m\u001b[4m4\u001b[24m\u001b[4m3\u001b[24m829 NASDAQ Commodity Sugar Index TR (NQCISBTR)     2012-04-16 2019-07-08\n",
      "\u001b[38;5;250m41\u001b[39m 13\u001b[4m1\u001b[24m\u001b[4m4\u001b[24m\u001b[4m3\u001b[24m833 NASDAQ Commodity Tin Index TR (NQCISNTR)       2012-04-16 2019-07-08\n",
      "\u001b[38;5;250m42\u001b[39m 41\u001b[4m1\u001b[24m\u001b[4m6\u001b[24m\u001b[4m6\u001b[24m489 Nasdaq Commodity Tradable Ex Energy Index TR … 2016-09-21 2019-07-08\n",
      "\u001b[38;5;250m43\u001b[39m 13\u001b[4m1\u001b[24m\u001b[4m4\u001b[24m\u001b[4m3\u001b[24m831 NASDAQ Commodity Tradable Index TR (NQCITTR)   2012-04-16 2019-07-08\n",
      "\u001b[38;5;250m44\u001b[39m 13\u001b[4m1\u001b[24m\u001b[4m4\u001b[24m\u001b[4m3\u001b[24m835 NASDAQ Commodity Wheat Index TR (NQCIWTR)      2012-04-16 2019-07-08\n",
      "\u001b[38;5;250m45\u001b[39m 13\u001b[4m1\u001b[24m\u001b[4m4\u001b[24m\u001b[4m3\u001b[24m838 NASDAQ Commodity White Sugar Index TR (NQCISW… 2012-04-16 2019-07-08\n",
      "\u001b[38;5;250m46\u001b[39m 13\u001b[4m1\u001b[24m\u001b[4m4\u001b[24m\u001b[4m3\u001b[24m839 NASDAQ Commodity Zinc Index TR (NQCIZNTR)      2012-04-16 2019-07-08\n",
      "\u001b[38;5;250m47\u001b[39m 13\u001b[4m1\u001b[24m\u001b[4m3\u001b[24m\u001b[4m4\u001b[24m145 NQ US Bnchmk Commodity Chemicals TR Index (NQ… 2011-06-07 2019-07-05\n"
     ]
    }
   ],
   "source": [
    "nasdaqOmx$Meta() %>%\n",
    "    inner_join(nasdaqOmx$TimeSeries()) %>%\n",
    "    group_by(ID, NAME) %>%\n",
    "    filter(NAME %like% '% Commodity %') %>%\n",
    "    summarize(ST = min(TIME_STAMP), ET = max(TIME_STAMP)) %>%\n",
    "    arrange(NAME) %>%\n",
    "    print(n = Inf)"
   ]
  },
  {
   "cell_type": "markdown",
   "metadata": {},
   "source": [
    "This notebook was created using [pluto](http://pluto.studio). Learn more [here](https://github.com/shyams80/pluto)"
   ]
  }
 ],
 "metadata": {
  "kernelspec": {
   "display_name": "R",
   "language": "R",
   "name": "ir"
  },
  "language_info": {
   "codemirror_mode": "r",
   "file_extension": ".r",
   "mimetype": "text/x-r-source",
   "name": "R",
   "pygments_lexer": "r",
   "version": "3.4.4"
  }
 },
 "nbformat": 4,
 "nbformat_minor": 2
}
