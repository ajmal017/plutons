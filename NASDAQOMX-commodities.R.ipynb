{
 "cells": [
  {
   "cell_type": "markdown",
   "metadata": {},
   "source": [
    "# Exploring the NASDAQOMX commoditiy indices"
   ]
  },
  {
   "cell_type": "code",
   "execution_count": null,
   "metadata": {},
   "outputs": [],
   "source": [
    "library(tidyverse)\n",
    "library(ggthemes)\n",
    "library(odbc)\n",
    "library(plutoR)\n",
    "library(quantmod)\n",
    "library(PerformanceAnalytics)\n",
    "\n",
    "options(\"scipen\"=999)\n",
    "options(stringsAsFactors = FALSE)\n",
    "options(repr.plot.width=16, repr.plot.height=8)\n",
    "\n",
    "source(\"config.R\")\n",
    "source(\"goofy/plot.common.R\")\n",
    "source(\"goofy/misc.common.R\")\n",
    "\n",
    "nasdaqOmx <- NasdaqOmx()"
   ]
  },
  {
   "cell_type": "code",
   "execution_count": null,
   "metadata": {},
   "outputs": [],
   "source": [
    "nasdaqOmx$Meta() %>%\n",
    "    inner_join(nasdaqOmx$TimeSeries()) %>%\n",
    "    group_by(ID, NAME) %>%\n",
    "    filter(NAME %like% '% Commodity %') %>%\n",
    "    summarize(ST = min(TIME_STAMP), ET = max(TIME_STAMP)) %>%\n",
    "    arrange(NAME) %>%\n",
    "    print(n = Inf)"
   ]
  },
  {
   "cell_type": "markdown",
   "metadata": {},
   "source": [
    "### coffee or sugar?"
   ]
  },
  {
   "cell_type": "code",
   "execution_count": null,
   "metadata": {},
   "outputs": [],
   "source": [
    "id1 <- 13143757 #NASDAQ Commodity Coffee Index TR (NQCIKCTR)\n",
    "id2 <- 13143829 #NASDAQ Commodity Sugar Index TR (NQCISBTR)\n",
    "\n",
    "name1 <- 'Coffee'\n",
    "name2 <- 'Sugar'\n",
    "\n",
    "nqVals1 <- nasdaqOmx$TimeSeries() %>%\n",
    "    filter(ID == id1) %>%\n",
    "    select(TIME_STAMP, CLOSE) %>%\n",
    "    collect()\n",
    "\n",
    "nqVals2 <- nasdaqOmx$TimeSeries() %>%\n",
    "    filter(ID == id2) %>%\n",
    "    select(TIME_STAMP, CLOSE) %>%\n",
    "    collect()\n",
    "\n",
    "nqRets <- merge(dailyReturn(xts(nqVals1$CLOSE, nqVals1$TIME_STAMP)), dailyReturn(xts(nqVals2$CLOSE, nqVals2$TIME_STAMP)))\n",
    "names(nqRets) <- c(name1, name2)\n",
    "\n",
    "Common.PlotCumReturns(nqRets, sprintf(\"%s vs %s\", name1, name2), \"NASDAQ Commodity Indices (TR)\")"
   ]
  },
  {
   "cell_type": "markdown",
   "metadata": {},
   "source": [
    "This notebook was created using [pluto](http://pluto.studio). Learn more [here](https://github.com/shyams80/pluto)"
   ]
  }
 ],
 "metadata": {
  "kernelspec": {
   "display_name": "R",
   "language": "R",
   "name": "ir"
  },
  "language_info": {
   "codemirror_mode": "r",
   "file_extension": ".r",
   "mimetype": "text/x-r-source",
   "name": "R",
   "pygments_lexer": "r",
   "version": "3.4.4"
  }
 },
 "nbformat": 4,
 "nbformat_minor": 2
}
