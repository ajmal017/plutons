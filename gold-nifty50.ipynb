{
 "cells": [
  {
   "cell_type": "markdown",
   "metadata": {},
   "source": [
    "# explore gold and silver using FRED data"
   ]
  },
  {
   "cell_type": "code",
   "execution_count": null,
   "metadata": {},
   "outputs": [],
   "source": [
    "library(tidyverse)\n",
    "library(ggthemes)\n",
    "library(odbc)\n",
    "library(plutoR)\n",
    "library(quantmod)\n",
    "library(PerformanceAnalytics)\n",
    "options(\"scipen\"=999)\n",
    "\n",
    "source(\"goofy/misc.common.R\")\n",
    "source(\"goofy/plot.common.R\")\n",
    "source(\"config.R\")\n",
    "\n",
    "fred<-Fred()\n",
    "indices<-Indices()"
   ]
  },
  {
   "cell_type": "markdown",
   "metadata": {},
   "source": [
    "first, lets check what kind of data is available on the FRED for gold"
   ]
  },
  {
   "cell_type": "code",
   "execution_count": null,
   "metadata": {},
   "outputs": [],
   "source": [
    "goldFred <- fred$Meta() %>% inner_join(fred$TimeSeries(), by = 'SERIES_ID') %>%\n",
    "    filter(NAME %like% '%gold%') %>%\n",
    "    group_by(SERIES_ID, TICKER, NAME) %>%\n",
    "    summarize(MIN_TS = min(TIME_STAMP), MAX_TS = max(TIME_STAMP)) %>%\n",
    "    select(SERIES_ID, TICKER, NAME, MIN_TS, MAX_TS)\n",
    "\n",
    "print(data.frame(goldFred))"
   ]
  },
  {
   "cell_type": "code",
   "execution_count": null,
   "metadata": {},
   "outputs": [],
   "source": [
    "seriesIdGold <- -2147252004 #use the afternoon USD fix\n",
    "goldDf <- data.frame(fred$TimeSeries() %>% filter(SERIES_ID == seriesIdGold, TIME_STAMP >= as.Date('1995-01-01')) %>% \n",
    "    select(TIME_STAMP, VAL))\n",
    "goldDf$TIME_STAMP <- as.Date(goldDf$TIME_STAMP)\n",
    "\n",
    "fredDetailsGold <- data.frame(goldFred %>% filter(SERIES_ID == seriesIdGold))\n",
    "\n",
    "print(nrow(goldDf))\n",
    "print(head(goldDf))\n",
    "\n",
    "goldXts <- xts(goldDf$VAL, goldDf$TIME_STAMP)"
   ]
  },
  {
   "cell_type": "code",
   "execution_count": null,
   "metadata": {},
   "outputs": [],
   "source": [
    "### plot the price of gold in USD"
   ]
  },
  {
   "cell_type": "code",
   "execution_count": null,
   "metadata": {},
   "outputs": [],
   "source": [
    "firstDate <- min(goldDf$TIME_STAMP)\n",
    "lastDate <- max(goldDf$TIME_STAMP)\n",
    "xAxisTicks <- seq(from=firstDate, to=lastDate, length.out=10)\n",
    "\n",
    "options(repr.plot.width=16, repr.plot.height=8)\n",
    "\n",
    "ggplot(goldDf, aes(x=TIME_STAMP, y=VAL)) +\n",
    "    theme_economist() +\n",
    "    #theme(text = element_text(size = 3), element_line(size = 0.1)) +\n",
    "    geom_line() +\n",
    "    scale_y_log10() +\n",
    "    scale_x_date(breaks = xAxisTicks) +\n",
    "    labs(x='', y='log(price)', color='', title=sprintf(\"FRED: %s - %s\", fredDetailsGold$TICKER[1], fredDetailsGold$NAME[1]), \n",
    "         subtitle=sprintf(\"[%s:%s]\", firstDate, lastDate)) +\n",
    "    annotate(\"text\", x=lastDate, y=min(goldDf$VAL, na.rm=T), label = \"@StockViz\", hjust=1.1, vjust=-1.1, col=\"white\", cex=6, fontface = \"bold\", alpha = 0.8)"
   ]
  },
  {
   "cell_type": "markdown",
   "metadata": {},
   "source": [
    "### NIFTY 50 vs. Gold\n",
    "\n",
    "The NIFTY 50 TR index has been around since 1999. Translate that index to USD and plot monthly returns vs. gold."
   ]
  },
  {
   "cell_type": "code",
   "execution_count": null,
   "metadata": {},
   "outputs": [],
   "source": [
    "trIndex <- data.frame(indices$NseTimeSeries() %>%\n",
    "    filter(NAME == \"NIFTY 50 TR\" && TIME_STAMP >= '2000-01-01' && TIME_STAMP <= lastDate) %>%\n",
    "    select(TIME_STAMP, CLOSE))\n",
    "\n",
    "trXts <- xts(trIndex$CLOSE, as.Date(trIndex$TIME_STAMP))"
   ]
  },
  {
   "cell_type": "code",
   "execution_count": null,
   "metadata": {},
   "outputs": [],
   "source": [
    "#DEXINUS, from the example: http://pluto.studio/user/shyams80/notebooks/docs-R/Fred.ipynb\n",
    "seriesIdUsdInr <- -2147478748\n",
    "usdInrDf <- data.frame(fred$TimeSeries() %>% filter(SERIES_ID == seriesIdUsdInr, TIME_STAMP >= as.Date('2000-01-01')) %>% \n",
    "    select(TIME_STAMP, VAL))\n",
    "usdInrDf$TIME_STAMP <- as.Date(usdInrDf$TIME_STAMP)\n",
    "\n",
    "fredDetailsUsdInr <- data.frame(fred$Meta() %>% filter(SERIES_ID == seriesIdUsdInr))\n",
    "\n",
    "print(nrow(usdInrDf))\n",
    "print(head(usdInrDf))\n",
    "\n",
    "usdInrXts <- xts(usdInrDf$VAL, usdInrDf$TIME_STAMP)"
   ]
  },
  {
   "cell_type": "code",
   "execution_count": null,
   "metadata": {},
   "outputs": [],
   "source": [
    "allXts <- merge(trXts, usdInrXts, goldXts)\n",
    "#holidays don't match up, so carry the USDINR forward.\n",
    "allXts[,2] <- na.locf(allXts[,2])\n",
    "allXts <- na.omit(allXts)"
   ]
  },
  {
   "cell_type": "code",
   "execution_count": null,
   "metadata": {},
   "outputs": [],
   "source": [
    "#end-of months don't match, so force them to a common on\n",
    "monthlies <- merge(Common.NormalizeMonthlyDates(monthlyReturn(allXts[,1]/allXts[,2])), \n",
    "                   Common.NormalizeMonthlyDates(monthlyReturn(allXts[,3])))\n",
    "names(monthlies) <-c('TR', 'GOLD')\n",
    "\n",
    "print(head(monthlies))"
   ]
  },
  {
   "cell_type": "code",
   "execution_count": null,
   "metadata": {},
   "outputs": [],
   "source": [
    "Common.PlotCumReturns(monthlies, \"NIFTY 50 TR vs. Gold\", \"in USD\")"
   ]
  },
  {
   "cell_type": "markdown",
   "metadata": {},
   "source": [
    "### take-away\n",
    "\n",
    "NIFTY 50 has  point over gold in annualized returns. Better yet, the asset clsses seem to be uncorrelated so they diversify each other.\n",
    "\n",
    "For people with a time horizon of 8+ years, the RBI issued sovereign gold bonds are a good option. \n",
    "\n",
    "Related: https://stockviz.biz/2016/12/02/investing-in-gold/"
   ]
  },
  {
   "cell_type": "code",
   "execution_count": null,
   "metadata": {},
   "outputs": [],
   "source": [
    "*This notebook was created using [pluto](http://pluto.studio). Learn more [here](https://github.com/shyams80/pluto)*"
   ]
  }
 ],
 "metadata": {
  "kernelspec": {
   "display_name": "R",
   "language": "R",
   "name": "ir"
  },
  "language_info": {
   "codemirror_mode": "r",
   "file_extension": ".r",
   "mimetype": "text/x-r-source",
   "name": "R",
   "pygments_lexer": "r",
   "version": "3.4.4"
  }
 },
 "nbformat": 4,
 "nbformat_minor": 2
}
