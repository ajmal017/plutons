{
 "cells": [
  {
   "cell_type": "markdown",
   "metadata": {},
   "source": [
    "# Gold vs. NIFTY 50 (TR)\n",
    "\n",
    "Combines data from the FRED and NSE to study gold and NIFTY 50 TR returns."
   ]
  },
  {
   "cell_type": "code",
   "execution_count": 1,
   "metadata": {},
   "outputs": [
    {
     "name": "stderr",
     "output_type": "stream",
     "text": [
      "── \u001b[1mAttaching packages\u001b[22m ─────────────────────────────────────── tidyverse 1.2.1 ──\n",
      "\u001b[32m✔\u001b[39m \u001b[34mggplot2\u001b[39m 3.2.1     \u001b[32m✔\u001b[39m \u001b[34mpurrr  \u001b[39m 0.3.2\n",
      "\u001b[32m✔\u001b[39m \u001b[34mtibble \u001b[39m 2.1.3     \u001b[32m✔\u001b[39m \u001b[34mdplyr  \u001b[39m 0.8.3\n",
      "\u001b[32m✔\u001b[39m \u001b[34mtidyr  \u001b[39m 0.8.3     \u001b[32m✔\u001b[39m \u001b[34mstringr\u001b[39m 1.4.0\n",
      "\u001b[32m✔\u001b[39m \u001b[34mreadr  \u001b[39m 1.3.1     \u001b[32m✔\u001b[39m \u001b[34mforcats\u001b[39m 0.4.0\n",
      "── \u001b[1mConflicts\u001b[22m ────────────────────────────────────────── tidyverse_conflicts() ──\n",
      "\u001b[31m✖\u001b[39m \u001b[34mdplyr\u001b[39m::\u001b[32mfilter()\u001b[39m masks \u001b[34mstats\u001b[39m::filter()\n",
      "\u001b[31m✖\u001b[39m \u001b[34mdplyr\u001b[39m::\u001b[32mlag()\u001b[39m    masks \u001b[34mstats\u001b[39m::lag()\n"
     ]
    },
    {
     "ename": "ERROR",
     "evalue": "Error in library(ggthemes): there is no package called ‘ggthemes’\n",
     "output_type": "error",
     "traceback": [
      "Error in library(ggthemes): there is no package called ‘ggthemes’\nTraceback:\n",
      "1. library(ggthemes)"
     ]
    }
   ],
   "source": [
    "library(tidyverse)\n",
    "library(ggthemes)\n",
    "library(odbc)\n",
    "library(plutoR)\n",
    "library(quantmod)\n",
    "library(PerformanceAnalytics)\n",
    "options(\"scipen\"=999)\n",
    "\n",
    "source(\"goofy/misc.common.R\")\n",
    "source(\"goofy/plot.common.R\")\n",
    "source(\"config.R\")\n",
    "\n",
    "fred<-Fred()\n",
    "indices<-Indices()"
   ]
  },
  {
   "cell_type": "markdown",
   "metadata": {},
   "source": [
    "## Gold\n",
    "first, lets check what kind of data is available on the FRED for gold"
   ]
  },
  {
   "cell_type": "code",
   "execution_count": 2,
   "metadata": {},
   "outputs": [
    {
     "ename": "ERROR",
     "evalue": "Error in eval(lhs, parent, parent): object 'fred' not found\n",
     "output_type": "error",
     "traceback": [
      "Error in eval(lhs, parent, parent): object 'fred' not found\nTraceback:\n",
      "1. fred$Meta() %>% inner_join(fred$TimeSeries(), by = \"SERIES_ID\") %>% \n .     filter(NAME %like% \"%gold%\") %>% group_by(SERIES_ID, TICKER, \n .     NAME) %>% summarize(MIN_TS = min(TIME_STAMP), MAX_TS = max(TIME_STAMP)) %>% \n .     select(SERIES_ID, TICKER, NAME, MIN_TS, MAX_TS)",
      "2. eval(lhs, parent, parent)",
      "3. eval(lhs, parent, parent)"
     ]
    }
   ],
   "source": [
    "goldFred <- fred$Meta() %>% inner_join(fred$TimeSeries(), by = 'SERIES_ID') %>%\n",
    "    filter(NAME %like% '%gold%') %>%\n",
    "    group_by(SERIES_ID, TICKER, NAME) %>%\n",
    "    summarize(MIN_TS = min(TIME_STAMP), MAX_TS = max(TIME_STAMP)) %>%\n",
    "    select(SERIES_ID, TICKER, NAME, MIN_TS, MAX_TS)\n",
    "\n",
    "print(data.frame(goldFred))"
   ]
  },
  {
   "cell_type": "code",
   "execution_count": 3,
   "metadata": {},
   "outputs": [
    {
     "ename": "ERROR",
     "evalue": "Error in eval(lhs, parent, parent): object 'fred' not found\n",
     "output_type": "error",
     "traceback": [
      "Error in eval(lhs, parent, parent): object 'fred' not found\nTraceback:\n",
      "1. data.frame(fred$TimeSeries() %>% filter(SERIES_ID == seriesIdGold, \n .     TIME_STAMP >= as.Date(\"1995-01-01\")) %>% select(TIME_STAMP, \n .     VAL))",
      "2. fred$TimeSeries() %>% filter(SERIES_ID == seriesIdGold, TIME_STAMP >= \n .     as.Date(\"1995-01-01\")) %>% select(TIME_STAMP, VAL)",
      "3. eval(lhs, parent, parent)",
      "4. eval(lhs, parent, parent)"
     ]
    }
   ],
   "source": [
    "seriesIdGold <- -2147252004 #use the afternoon USD fix\n",
    "goldDf <- data.frame(fred$TimeSeries() %>% filter(SERIES_ID == seriesIdGold, TIME_STAMP >= as.Date('1995-01-01')) %>% \n",
    "    select(TIME_STAMP, VAL))\n",
    "goldDf$TIME_STAMP <- as.Date(goldDf$TIME_STAMP)\n",
    "\n",
    "fredDetailsGold <- data.frame(goldFred %>% filter(SERIES_ID == seriesIdGold))\n",
    "\n",
    "print(nrow(goldDf))\n",
    "print(head(goldDf))\n",
    "\n",
    "goldXts <- xts(goldDf$VAL, goldDf$TIME_STAMP)"
   ]
  },
  {
   "cell_type": "markdown",
   "metadata": {},
   "source": [
    "### plot the price of gold in USD"
   ]
  },
  {
   "cell_type": "code",
   "execution_count": 4,
   "metadata": {},
   "outputs": [
    {
     "ename": "ERROR",
     "evalue": "Error in eval(expr, envir, enclos): object 'goldDf' not found\n",
     "output_type": "error",
     "traceback": [
      "Error in eval(expr, envir, enclos): object 'goldDf' not found\nTraceback:\n"
     ]
    }
   ],
   "source": [
    "firstDate <- min(goldDf$TIME_STAMP)\n",
    "lastDate <- max(goldDf$TIME_STAMP)\n",
    "xAxisTicks <- seq(from=firstDate, to=lastDate, length.out=10)\n",
    "\n",
    "options(repr.plot.width=16, repr.plot.height=8)\n",
    "\n",
    "ggplot(goldDf, aes(x=TIME_STAMP, y=VAL)) +\n",
    "    theme_economist() +\n",
    "    #theme(text = element_text(size = 3), element_line(size = 0.1)) +\n",
    "    geom_line() +\n",
    "    scale_y_log10() +\n",
    "    scale_x_date(breaks = xAxisTicks) +\n",
    "    labs(x='', y='log(price)', color='', title=sprintf(\"FRED: %s - %s\", fredDetailsGold$TICKER[1], fredDetailsGold$NAME[1]), \n",
    "         subtitle=sprintf(\"[%s:%s]\", firstDate, lastDate)) +\n",
    "    annotate(\"text\", x=lastDate, y=min(goldDf$VAL, na.rm=T), label = \"@StockViz\", hjust=1.1, vjust=-1.1, col=\"white\", cex=6, fontface = \"bold\", alpha = 0.8)"
   ]
  },
  {
   "cell_type": "markdown",
   "metadata": {},
   "source": [
    "## NIFTY 50\n",
    "\n",
    "The NIFTY 50 TR index has been around since 1999. Translate that index to USD and plot monthly returns vs. gold."
   ]
  },
  {
   "cell_type": "code",
   "execution_count": 5,
   "metadata": {},
   "outputs": [
    {
     "ename": "ERROR",
     "evalue": "Error in eval(lhs, parent, parent): object 'indices' not found\n",
     "output_type": "error",
     "traceback": [
      "Error in eval(lhs, parent, parent): object 'indices' not found\nTraceback:\n",
      "1. data.frame(indices$NseTimeSeries() %>% filter(NAME == \"NIFTY 50 TR\" && \n .     TIME_STAMP >= \"2000-01-01\" && TIME_STAMP <= lastDate) %>% \n .     select(TIME_STAMP, CLOSE))",
      "2. indices$NseTimeSeries() %>% filter(NAME == \"NIFTY 50 TR\" && TIME_STAMP >= \n .     \"2000-01-01\" && TIME_STAMP <= lastDate) %>% select(TIME_STAMP, \n .     CLOSE)",
      "3. eval(lhs, parent, parent)",
      "4. eval(lhs, parent, parent)"
     ]
    }
   ],
   "source": [
    "trIndex <- data.frame(indices$NseTimeSeries() %>%\n",
    "    filter(NAME == \"NIFTY 50 TR\" && TIME_STAMP >= '2000-01-01' && TIME_STAMP <= lastDate) %>%\n",
    "    select(TIME_STAMP, CLOSE))\n",
    "\n",
    "trXts <- xts(trIndex$CLOSE, as.Date(trIndex$TIME_STAMP))"
   ]
  },
  {
   "cell_type": "code",
   "execution_count": 6,
   "metadata": {},
   "outputs": [],
   "source": [
    "## USDINR"
   ]
  },
  {
   "cell_type": "code",
   "execution_count": 7,
   "metadata": {},
   "outputs": [
    {
     "ename": "ERROR",
     "evalue": "Error in eval(lhs, parent, parent): object 'fred' not found\n",
     "output_type": "error",
     "traceback": [
      "Error in eval(lhs, parent, parent): object 'fred' not found\nTraceback:\n",
      "1. data.frame(fred$TimeSeries() %>% filter(SERIES_ID == seriesIdUsdInr, \n .     TIME_STAMP >= as.Date(\"2000-01-01\")) %>% select(TIME_STAMP, \n .     VAL))",
      "2. fred$TimeSeries() %>% filter(SERIES_ID == seriesIdUsdInr, TIME_STAMP >= \n .     as.Date(\"2000-01-01\")) %>% select(TIME_STAMP, VAL)",
      "3. eval(lhs, parent, parent)",
      "4. eval(lhs, parent, parent)"
     ]
    }
   ],
   "source": [
    "#DEXINUS, from the example: http://pluto.studio/user/shyams80/notebooks/docs-R/Fred.ipynb\n",
    "seriesIdUsdInr <- -2147478748\n",
    "usdInrDf <- data.frame(fred$TimeSeries() %>% filter(SERIES_ID == seriesIdUsdInr, TIME_STAMP >= as.Date('2000-01-01')) %>% \n",
    "    select(TIME_STAMP, VAL))\n",
    "usdInrDf$TIME_STAMP <- as.Date(usdInrDf$TIME_STAMP)\n",
    "\n",
    "fredDetailsUsdInr <- data.frame(fred$Meta() %>% filter(SERIES_ID == seriesIdUsdInr))\n",
    "\n",
    "print(nrow(usdInrDf))\n",
    "print(head(usdInrDf))\n",
    "\n",
    "usdInrXts <- xts(usdInrDf$VAL, usdInrDf$TIME_STAMP)"
   ]
  },
  {
   "cell_type": "markdown",
   "metadata": {},
   "source": [
    "## Merge, compute and plot returns"
   ]
  },
  {
   "cell_type": "code",
   "execution_count": 8,
   "metadata": {},
   "outputs": [
    {
     "ename": "ERROR",
     "evalue": "Error in merge(trXts, usdInrXts, goldXts): object 'trXts' not found\n",
     "output_type": "error",
     "traceback": [
      "Error in merge(trXts, usdInrXts, goldXts): object 'trXts' not found\nTraceback:\n",
      "1. merge(trXts, usdInrXts, goldXts)"
     ]
    }
   ],
   "source": [
    "allXts <- merge(trXts, usdInrXts, goldXts)\n",
    "#holidays don't match up, so carry the USDINR forward.\n",
    "allXts[,2] <- na.locf(allXts[,2])\n",
    "allXts <- na.omit(allXts)"
   ]
  },
  {
   "cell_type": "code",
   "execution_count": 9,
   "metadata": {},
   "outputs": [
    {
     "ename": "ERROR",
     "evalue": "Error in Common.NormalizeMonthlyDates(monthlyReturn(allXts[, 1]/allXts[, : could not find function \"Common.NormalizeMonthlyDates\"\n",
     "output_type": "error",
     "traceback": [
      "Error in Common.NormalizeMonthlyDates(monthlyReturn(allXts[, 1]/allXts[, : could not find function \"Common.NormalizeMonthlyDates\"\nTraceback:\n",
      "1. merge(Common.NormalizeMonthlyDates(monthlyReturn(allXts[, 1]/allXts[, \n .     2])), Common.NormalizeMonthlyDates(monthlyReturn(allXts[, \n .     3])))"
     ]
    }
   ],
   "source": [
    "#end-of months don't match, so force them to a common on\n",
    "monthlies <- merge(Common.NormalizeMonthlyDates(monthlyReturn(allXts[,1]/allXts[,2])), \n",
    "                   Common.NormalizeMonthlyDates(monthlyReturn(allXts[,3])))\n",
    "names(monthlies) <-c('TR', 'GOLD')\n",
    "\n",
    "print(head(monthlies))"
   ]
  },
  {
   "cell_type": "code",
   "execution_count": 10,
   "metadata": {},
   "outputs": [
    {
     "ename": "ERROR",
     "evalue": "Error in Common.PlotCumReturns(monthlies, \"NIFTY 50 TR vs. Gold\", \"in USD\"): could not find function \"Common.PlotCumReturns\"\n",
     "output_type": "error",
     "traceback": [
      "Error in Common.PlotCumReturns(monthlies, \"NIFTY 50 TR vs. Gold\", \"in USD\"): could not find function \"Common.PlotCumReturns\"\nTraceback:\n"
     ]
    }
   ],
   "source": [
    "Common.PlotCumReturns(monthlies, \"NIFTY 50 TR vs. Gold\", \"in USD\")"
   ]
  },
  {
   "cell_type": "markdown",
   "metadata": {},
   "source": [
    "## Take-away\n",
    "\n",
    "NIFTY 50 has  point over gold in annualized returns. Better yet, the asset classes seem to be uncorrelated so they diversify each other.\n",
    "\n",
    "For people with a time horizon of 8+ years, the RBI issued sovereign gold bonds are a good option. \n",
    "\n",
    "Related: https://stockviz.biz/2016/12/02/investing-in-gold/"
   ]
  },
  {
   "cell_type": "markdown",
   "metadata": {},
   "source": [
    "*This notebook was created using [pluto](http://pluto.studio). Learn more [here](https://github.com/shyams80/pluto)*"
   ]
  }
 ],
 "metadata": {
  "kernelspec": {
   "display_name": "R",
   "language": "R",
   "name": "ir"
  },
  "language_info": {
   "codemirror_mode": "r",
   "file_extension": ".r",
   "mimetype": "text/x-r-source",
   "name": "R",
   "pygments_lexer": "r",
   "version": "3.6.1"
  }
 },
 "nbformat": 4,
 "nbformat_minor": 2
}
