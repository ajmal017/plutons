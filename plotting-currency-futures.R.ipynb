{
 "cells": [
  {
   "cell_type": "code",
   "execution_count": null,
   "metadata": {},
   "outputs": [],
   "source": [
    "library(tidyverse)\n",
    "library(ggthemes)\n",
    "library(odbc)\n",
    "library(RPostgres)\n",
    "library(plutoR)\n",
    "library(quantmod)\n",
    "library(PerformanceAnalytics)\n",
    "library(reshape2)\n",
    "library(ggrepel)\n",
    "library(ggpubr)\n",
    "\n",
    "options(\"scipen\"=999)\n",
    "options(stringsAsFactors = FALSE)\n",
    "options(repr.plot.width=16, repr.plot.height=8)\n",
    "\n",
    "source(\"config.R\")\n",
    "source(\"goofy/plot.common.R\")\n",
    "source(\"goofy/misc.common.R\")\n",
    "\n",
    "#initialize\n",
    "currencies <- Currencies()"
   ]
  },
  {
   "cell_type": "code",
   "execution_count": null,
   "metadata": {},
   "outputs": [],
   "source": [
    "# sample: https://github.com/shyams80/plutons/blob/master/docs-R/Currencies.ipynb\n",
    "# from the sample, we know that USDINR started trading from 2010-10-29\n",
    "startDate <- as.Date('2010-11-01')\n",
    "currPair <- 'USDINR'\n",
    "\n",
    "closestExpiries <- currencies$NseFuturesTimeSeries() %>%\n",
    "    filter(TIME_STAMP >= startDate & SYMBOL == currPair) %>%\n",
    "    group_by(TIME_STAMP) %>%\n",
    "    summarize(EXPIRY_DT = min(EXPIRY)) \n",
    "\n",
    "px <- closestExpiries %>% \n",
    "    inner_join(currencies$NseFuturesTimeSeries(), by=c('TIME_STAMP' = 'TIME_STAMP', 'EXPIRY_DT' = 'EXPIRY')) %>%\n",
    "    filter(TIME_STAMP >= startDate & SYMBOL == currPair) %>%\n",
    "    select(TIME_STAMP, EXPIRY_DT, CLOSE, OI) %>%\n",
    "    arrange(TIME_STAMP) %>%\n",
    "    collect() %>%\n",
    "    as.data.frame()"
   ]
  },
  {
   "cell_type": "code",
   "execution_count": null,
   "metadata": {},
   "outputs": [],
   "source": [
    "firstDate <- min(px$TIME_STAMP)\n",
    "lastDate <- max(px$TIME_STAMP)\n",
    "xAxisTicks <- seq(from=firstDate, to=lastDate, length.out=10)\n",
    "\n",
    "p1 <- ggplot(px, aes(x=TIME_STAMP, y=CLOSE)) +\n",
    "    theme_economist() +\n",
    "    geom_line() +\n",
    "    scale_x_date(breaks = xAxisTicks) +\n",
    "    labs(x='', y='price', color='', fill='', \n",
    "         title='', subtitle=sprintf(\"[%s:%s]\", firstDate, lastDate))\n",
    "\n",
    "p2 <- ggplot(px, aes(x=TIME_STAMP, y=OI)) +\n",
    "    theme_economist() +\n",
    "    geom_bar(stat=\"identity\") +\n",
    "    scale_x_date(breaks = xAxisTicks) +\n",
    "    labs(x='', y='open interest', color='', fill='')\n",
    "\n",
    "figure <- ggarrange(p1, p2, labels=c(\"Price\", \"OI\"), ncol=1, nrow=2)\n",
    "figure <- annotate_figure(figure, \n",
    "                top = text_grob(currPair, face = \"bold\", size = 14, family='Segoe UI'), \n",
    "                bottom = text_grob(\"@StockViz\", face=\"bold\", size=12, family=\"Segoe UI\", color='grey'))\n",
    "print(figure)"
   ]
  },
  {
   "cell_type": "markdown",
   "metadata": {},
   "source": [
    "This notebook was created using [pluto](http://pluto.studio). Learn more [here](https://github.com/shyams80/pluto)"
   ]
  }
 ],
 "metadata": {
  "kernelspec": {
   "display_name": "R",
   "language": "R",
   "name": "ir"
  },
  "language_info": {
   "codemirror_mode": "r",
   "file_extension": ".r",
   "mimetype": "text/x-r-source",
   "name": "R",
   "pygments_lexer": "r",
   "version": "3.4.4"
  }
 },
 "nbformat": 4,
 "nbformat_minor": 2
}
