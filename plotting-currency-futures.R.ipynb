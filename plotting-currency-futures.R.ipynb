{
 "cells": [
  {
   "cell_type": "code",
   "execution_count": 1,
   "metadata": {},
   "outputs": [
    {
     "name": "stderr",
     "output_type": "stream",
     "text": [
      "── \u001b[1mAttaching packages\u001b[22m ─────────────────────────────────────── tidyverse 1.2.1 ──\n",
      "\u001b[32m✔\u001b[39m \u001b[34mggplot2\u001b[39m 3.2.0     \u001b[32m✔\u001b[39m \u001b[34mpurrr  \u001b[39m 0.3.2\n",
      "\u001b[32m✔\u001b[39m \u001b[34mtibble \u001b[39m 2.1.3     \u001b[32m✔\u001b[39m \u001b[34mdplyr  \u001b[39m 0.8.3\n",
      "\u001b[32m✔\u001b[39m \u001b[34mtidyr  \u001b[39m 0.8.3     \u001b[32m✔\u001b[39m \u001b[34mstringr\u001b[39m 1.4.0\n",
      "\u001b[32m✔\u001b[39m \u001b[34mreadr  \u001b[39m 1.3.1     \u001b[32m✔\u001b[39m \u001b[34mforcats\u001b[39m 0.4.0\n",
      "── \u001b[1mConflicts\u001b[22m ────────────────────────────────────────── tidyverse_conflicts() ──\n",
      "\u001b[31m✖\u001b[39m \u001b[34mdplyr\u001b[39m::\u001b[32mfilter()\u001b[39m masks \u001b[34mstats\u001b[39m::filter()\n",
      "\u001b[31m✖\u001b[39m \u001b[34mdplyr\u001b[39m::\u001b[32mlag()\u001b[39m    masks \u001b[34mstats\u001b[39m::lag()\n",
      "Loading required package: xts\n",
      "Loading required package: zoo\n",
      "\n",
      "Attaching package: ‘zoo’\n",
      "\n",
      "The following objects are masked from ‘package:base’:\n",
      "\n",
      "    as.Date, as.Date.numeric\n",
      "\n",
      "Registered S3 method overwritten by 'xts':\n",
      "  method     from\n",
      "  as.zoo.xts zoo \n",
      "\n",
      "Attaching package: ‘xts’\n",
      "\n",
      "The following objects are masked from ‘package:dplyr’:\n",
      "\n",
      "    first, last\n",
      "\n",
      "Loading required package: TTR\n",
      "Registered S3 method overwritten by 'quantmod':\n",
      "  method            from\n",
      "  as.zoo.data.frame zoo \n",
      "Version 0.4-0 included new data defaults. See ?getSymbols.\n",
      "\n",
      "Attaching package: ‘PerformanceAnalytics’\n",
      "\n",
      "The following object is masked from ‘package:graphics’:\n",
      "\n",
      "    legend\n",
      "\n",
      "\n",
      "Attaching package: ‘reshape2’\n",
      "\n",
      "The following object is masked from ‘package:tidyr’:\n",
      "\n",
      "    smiths\n",
      "\n",
      "Loading required package: magrittr\n",
      "\n",
      "Attaching package: ‘magrittr’\n",
      "\n",
      "The following object is masked from ‘package:purrr’:\n",
      "\n",
      "    set_names\n",
      "\n",
      "The following object is masked from ‘package:tidyr’:\n",
      "\n",
      "    extract\n",
      "\n",
      "Registering fonts with R\n",
      "\n",
      "Attaching package: ‘gridExtra’\n",
      "\n",
      "The following object is masked from ‘package:dplyr’:\n",
      "\n",
      "    combine\n",
      "\n",
      "\n",
      "Attaching package: ‘lubridate’\n",
      "\n",
      "The following object is masked from ‘package:base’:\n",
      "\n",
      "    date\n",
      "\n"
     ]
    }
   ],
   "source": [
    "library(tidyverse)\n",
    "library(ggthemes)\n",
    "library(odbc)\n",
    "library(RPostgres)\n",
    "library(plutoR)\n",
    "library(quantmod)\n",
    "library(PerformanceAnalytics)\n",
    "library(reshape2)\n",
    "library(ggrepel)\n",
    "library(ggpubr)\n",
    "\n",
    "options(\"scipen\"=999)\n",
    "options(stringsAsFactors = FALSE)\n",
    "options(repr.plot.width=16, repr.plot.height=8)\n",
    "\n",
    "source(\"config.R\")\n",
    "source(\"goofy/plot.common.R\")\n",
    "source(\"goofy/misc.common.R\")\n",
    "\n",
    "#initialize\n",
    "currencies <- Currencies()"
   ]
  },
  {
   "cell_type": "code",
   "execution_count": 2,
   "metadata": {},
   "outputs": [
    {
     "name": "stderr",
     "output_type": "stream",
     "text": [
      "Warning message:\n",
      "“Missing values are always removed in SQL.\n",
      "Use `MIN(x, na.rm = TRUE)` to silence this warning\n",
      "This warning is displayed only once per session.”"
     ]
    },
    {
     "name": "stdout",
     "output_type": "stream",
     "text": [
      "\u001b[38;5;246m# A tibble: 2,092 x 4\u001b[39m\n",
      "   TIME_STAMP EXPIRY_DT  CLOSE     OI\n",
      "   \u001b[3m\u001b[38;5;246m<date>\u001b[39m\u001b[23m     \u001b[3m\u001b[38;5;246m<date>\u001b[39m\u001b[23m     \u001b[3m\u001b[38;5;246m<dbl>\u001b[39m\u001b[23m  \u001b[3m\u001b[38;5;246m<int>\u001b[39m\u001b[23m\n",
      "\u001b[38;5;250m 1\u001b[39m 2010-11-01 2010-11-26  44.7 \u001b[4m7\u001b[24m\u001b[4m5\u001b[24m\u001b[4m9\u001b[24m042\n",
      "\u001b[38;5;250m 2\u001b[39m 2010-11-02 2010-11-26  44.6 \u001b[4m7\u001b[24m\u001b[4m8\u001b[24m\u001b[4m9\u001b[24m294\n",
      "\u001b[38;5;250m 3\u001b[39m 2010-11-03 2010-11-26  44.5 \u001b[4m8\u001b[24m\u001b[4m0\u001b[24m\u001b[4m0\u001b[24m557\n",
      "\u001b[38;5;250m 4\u001b[39m 2010-11-04 2010-11-26  44.4 \u001b[4m8\u001b[24m\u001b[4m1\u001b[24m\u001b[4m0\u001b[24m587\n",
      "\u001b[38;5;250m 5\u001b[39m 2010-11-05 2010-11-26  44.2 \u001b[4m8\u001b[24m\u001b[4m2\u001b[24m\u001b[4m2\u001b[24m583\n",
      "\u001b[38;5;250m 6\u001b[39m 2010-11-08 2010-11-26  44.6 \u001b[4m9\u001b[24m\u001b[4m5\u001b[24m\u001b[4m2\u001b[24m986\n",
      "\u001b[38;5;250m 7\u001b[39m 2010-11-09 2010-11-26  44.5 \u001b[4m9\u001b[24m\u001b[4m5\u001b[24m\u001b[4m8\u001b[24m640\n",
      "\u001b[38;5;250m 8\u001b[39m 2010-11-10 2010-11-26  44.5 \u001b[4m8\u001b[24m\u001b[4m4\u001b[24m\u001b[4m3\u001b[24m632\n",
      "\u001b[38;5;250m 9\u001b[39m 2010-11-11 2010-11-26  44.5 \u001b[4m8\u001b[24m\u001b[4m1\u001b[24m\u001b[4m6\u001b[24m319\n",
      "\u001b[38;5;250m10\u001b[39m 2010-11-12 2010-11-26  44.9 \u001b[4m7\u001b[24m\u001b[4m7\u001b[24m\u001b[4m8\u001b[24m976\n",
      "\u001b[38;5;246m# … with 2,082 more rows\u001b[39m\n"
     ]
    }
   ],
   "source": [
    "# sample: https://github.com/shyams80/plutons/blob/master/docs-R/Currencies.ipynb\n",
    "# from the sample, we know that USDINR started trading from 2010-10-29\n",
    "startDate <- as.Date('2010-11-01')\n",
    "currPair <- 'USDINR'\n",
    "\n",
    "closestExpiries <- currencies$NseFuturesTimeSeries() %>%\n",
    "    filter(TIME_STAMP >= startDate & SYMBOL == currPair) %>%\n",
    "    group_by(TIME_STAMP) %>%\n",
    "    summarize(EXPIRY_DT = min(EXPIRY)) \n",
    "\n",
    "nearestTimeSeries <- closestExpiries %>% \n",
    "    inner_join(currencies$NseFuturesTimeSeries(), by=c('TIME_STAMP' = 'TIME_STAMP', 'EXPIRY_DT' = 'EXPIRY')) %>%\n",
    "    filter(TIME_STAMP >= startDate & SYMBOL == currPair) %>%\n",
    "    select(TIME_STAMP, EXPIRY_DT, CLOSE, OI) %>%\n",
    "    arrange(TIME_STAMP) %>%\n",
    "    collect()\n",
    "\n",
    "nearestTimeSeries %>% print()"
   ]
  },
  {
   "cell_type": "markdown",
   "metadata": {},
   "source": [
    "This notebook was created using [pluto](http://pluto.studio). Learn more [here](https://github.com/shyams80/pluto)"
   ]
  }
 ],
 "metadata": {
  "kernelspec": {
   "display_name": "R",
   "language": "R",
   "name": "ir"
  },
  "language_info": {
   "codemirror_mode": "r",
   "file_extension": ".r",
   "mimetype": "text/x-r-source",
   "name": "R",
   "pygments_lexer": "r",
   "version": "3.6.1"
  }
 },
 "nbformat": 4,
 "nbformat_minor": 2
}
