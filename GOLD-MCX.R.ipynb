{
 "cells": [
  {
   "cell_type": "markdown",
   "metadata": {},
   "source": [
    "# GOLD on MCX\n",
    "\n",
    "MCX, the Multi-Commodity eXchange of India, has a number of gold futures contracts listed. This is how you explore them on pluto."
   ]
  },
  {
   "cell_type": "code",
   "execution_count": 1,
   "metadata": {},
   "outputs": [
    {
     "name": "stderr",
     "output_type": "stream",
     "text": [
      "── \u001b[1mAttaching packages\u001b[22m ─────────────────────────────────────── tidyverse 1.2.1 ──\n",
      "\u001b[32m✔\u001b[39m \u001b[34mggplot2\u001b[39m 3.2.0     \u001b[32m✔\u001b[39m \u001b[34mpurrr  \u001b[39m 0.3.2\n",
      "\u001b[32m✔\u001b[39m \u001b[34mtibble \u001b[39m 2.1.3     \u001b[32m✔\u001b[39m \u001b[34mdplyr  \u001b[39m 0.8.3\n",
      "\u001b[32m✔\u001b[39m \u001b[34mtidyr  \u001b[39m 0.8.3     \u001b[32m✔\u001b[39m \u001b[34mstringr\u001b[39m 1.4.0\n",
      "\u001b[32m✔\u001b[39m \u001b[34mreadr  \u001b[39m 1.3.1     \u001b[32m✔\u001b[39m \u001b[34mforcats\u001b[39m 0.4.0\n",
      "── \u001b[1mConflicts\u001b[22m ────────────────────────────────────────── tidyverse_conflicts() ──\n",
      "\u001b[31m✖\u001b[39m \u001b[34mdplyr\u001b[39m::\u001b[32mfilter()\u001b[39m masks \u001b[34mstats\u001b[39m::filter()\n",
      "\u001b[31m✖\u001b[39m \u001b[34mdplyr\u001b[39m::\u001b[32mlag()\u001b[39m    masks \u001b[34mstats\u001b[39m::lag()\n",
      "Loading required package: xts\n",
      "Loading required package: zoo\n",
      "\n",
      "Attaching package: ‘zoo’\n",
      "\n",
      "The following objects are masked from ‘package:base’:\n",
      "\n",
      "    as.Date, as.Date.numeric\n",
      "\n",
      "Registered S3 method overwritten by 'xts':\n",
      "  method     from\n",
      "  as.zoo.xts zoo \n",
      "\n",
      "Attaching package: ‘xts’\n",
      "\n",
      "The following objects are masked from ‘package:dplyr’:\n",
      "\n",
      "    first, last\n",
      "\n",
      "Loading required package: TTR\n",
      "Registered S3 method overwritten by 'quantmod':\n",
      "  method            from\n",
      "  as.zoo.data.frame zoo \n",
      "Version 0.4-0 included new data defaults. See ?getSymbols.\n",
      "\n",
      "Attaching package: ‘PerformanceAnalytics’\n",
      "\n",
      "The following object is masked from ‘package:graphics’:\n",
      "\n",
      "    legend\n",
      "\n",
      "\n",
      "Attaching package: ‘reshape2’\n",
      "\n",
      "The following object is masked from ‘package:tidyr’:\n",
      "\n",
      "    smiths\n",
      "\n",
      "Loading required package: magrittr\n",
      "\n",
      "Attaching package: ‘magrittr’\n",
      "\n",
      "The following object is masked from ‘package:purrr’:\n",
      "\n",
      "    set_names\n",
      "\n",
      "The following object is masked from ‘package:tidyr’:\n",
      "\n",
      "    extract\n",
      "\n",
      "Registering fonts with R\n",
      "\n",
      "Attaching package: ‘gridExtra’\n",
      "\n",
      "The following object is masked from ‘package:dplyr’:\n",
      "\n",
      "    combine\n",
      "\n",
      "\n",
      "Attaching package: ‘lubridate’\n",
      "\n",
      "The following object is masked from ‘package:base’:\n",
      "\n",
      "    date\n",
      "\n"
     ]
    }
   ],
   "source": [
    "library(tidyverse)\n",
    "library(ggthemes)\n",
    "library(odbc)\n",
    "library(RPostgres)\n",
    "library(plutoR)\n",
    "library(quantmod)\n",
    "library(PerformanceAnalytics)\n",
    "library(reshape2)\n",
    "library(ggrepel)\n",
    "library(ggpubr)\n",
    "\n",
    "options(\"scipen\"=999)\n",
    "options(stringsAsFactors = FALSE)\n",
    "options(repr.plot.width=16, repr.plot.height=8)\n",
    "\n",
    "source(\"config.R\")\n",
    "source(\"goofy/plot.common.R\")\n",
    "source(\"goofy/misc.common.R\")\n",
    "\n",
    "#initialize\n",
    "commoditiesFnO <- CommodityFuturesAndOptions()"
   ]
  },
  {
   "cell_type": "code",
   "execution_count": 2,
   "metadata": {},
   "outputs": [
    {
     "name": "stdout",
     "output_type": "stream",
     "text": [
      "\u001b[38;5;246m# A tibble: 23 x 3\u001b[39m\n",
      "   CONTRACT   ST         ET        \n",
      "   \u001b[3m\u001b[38;5;246m<chr>\u001b[39m\u001b[23m      \u001b[3m\u001b[38;5;246m<date>\u001b[39m\u001b[23m     \u001b[3m\u001b[38;5;246m<date>\u001b[39m\u001b[23m    \n",
      "\u001b[38;5;250m 1\u001b[39m GOLD       2003-11-10 2019-07-19\n",
      "\u001b[38;5;250m 2\u001b[39m GOLDM      2003-11-20 2019-07-19\n",
      "\u001b[38;5;250m 3\u001b[39m GOLDHNI    2004-09-27 2010-06-25\n",
      "\u001b[38;5;250m 4\u001b[39m GOLDAHM    2005-07-15 2005-12-27\n",
      "\u001b[38;5;250m 5\u001b[39m GOLDDEL    2005-07-27 2005-12-27\n",
      "\u001b[38;5;250m 6\u001b[39m GOLDKOL    2005-07-27 2005-12-27\n",
      "\u001b[38;5;250m 7\u001b[39m GOLDMAHM   2005-09-19 2005-12-27\n",
      "\u001b[38;5;250m 8\u001b[39m GOLDMUM    2005-10-19 2005-12-27\n",
      "\u001b[38;5;250m 9\u001b[39m GOLDMKOL   2005-11-24 2005-12-27\n",
      "\u001b[38;5;250m10\u001b[39m GOLDMDEL   2005-11-24 2005-12-27\n",
      "\u001b[38;5;250m11\u001b[39m GOLDMMUM   2005-11-24 2005-12-27\n",
      "\u001b[38;5;250m12\u001b[39m IGOLDAHM   2005-12-27 2008-12-30\n",
      "\u001b[38;5;250m13\u001b[39m IGOLDDEL   2005-12-27 2008-12-30\n",
      "\u001b[38;5;250m14\u001b[39m IGOLDKOL   2005-12-28 2008-12-30\n",
      "\u001b[38;5;250m15\u001b[39m IGOLDMUM   2005-12-28 2008-12-30\n",
      "\u001b[38;5;250m16\u001b[39m IGOLDMKOL  2005-12-29 2008-12-30\n",
      "\u001b[38;5;250m17\u001b[39m IGOLDMAHM  2005-12-31 2008-12-30\n",
      "\u001b[38;5;250m18\u001b[39m IGOLDMDEL  2005-12-31 2008-12-30\n",
      "\u001b[38;5;250m19\u001b[39m IGOLDMMUM  2005-12-31 2008-12-30\n",
      "\u001b[38;5;250m20\u001b[39m GOLDGUINEA 2008-05-08 2019-07-19\n",
      "\u001b[38;5;250m21\u001b[39m GOLDPETAL  2011-04-18 2019-07-19\n",
      "\u001b[38;5;250m22\u001b[39m GOLDPTLDEL 2011-11-23 2017-06-30\n",
      "\u001b[38;5;250m23\u001b[39m GOLDGLOBAL 2015-07-09 2016-03-29\n"
     ]
    }
   ],
   "source": [
    "#list all gold contracts on the MCX\n",
    "\n",
    "goldMcx <- commoditiesFnO$McxEod() %>%\n",
    "    filter(CONTRACT %like% '%gold%' & (OTYPE == 'XX' | OTYPE == 'FUTCOM')) %>%\n",
    "    group_by(CONTRACT) %>%\n",
    "    summarize(ST = min(TIME_STAMP, na.rm=T), ET = max(TIME_STAMP, na.rm=T)) %>%\n",
    "    arrange(ST) %>%\n",
    "    collect()\n",
    "\n",
    "goldMcx %>%\n",
    "    print(n=Inf)"
   ]
  },
  {
   "cell_type": "markdown",
   "metadata": {},
   "source": [
    "Of these the first two - GOLD and GOLD MINI - are the oldest and represent gold of 1 kg and 100 grams with 995 purity. GOLD MINI has expirations every month whereas GOLD doesn't. GOLDGUINEA and GOLDPETAL were introduced much later in 2008 and 2011, respectively. We will cycle through these four contracts: GOLD, GOLDM, GOLDGUINEA and GOLDPETAL below."
   ]
  },
  {
   "cell_type": "code",
   "execution_count": 3,
   "metadata": {},
   "outputs": [],
   "source": [
    "expirySeries <- 0 # closest expiry\n",
    "contractNames <- c('GOLD', 'GOLDM', 'GOLDGUINEA', 'GOLDPETAL')"
   ]
  },
  {
   "cell_type": "code",
   "execution_count": 4,
   "metadata": {},
   "outputs": [],
   "source": [
    "plotTimeSeries <- function(cName){\n",
    "    px <- commoditiesFnO$McxEod() %>%\n",
    "        filter(CONTRACT == cName & (OTYPE == 'XX' | OTYPE == 'FUTCOM') & EXPIRY_SERIES == expirySeries) %>%\n",
    "        select(TIME_STAMP, CLOSE, VOLUME) %>%\n",
    "        collect() %>%\n",
    "        as.data.frame()\n",
    "    \n",
    "    firstDate <- min(px$TIME_STAMP)\n",
    "    lastDate <- max(px$TIME_STAMP)\n",
    "    xAxisTicks <- seq(from=firstDate, to=lastDate, length.out=10)\n",
    "\n",
    "    p1 <- ggplot(px, aes(x=T, y=CLOSE)) +\n",
    "        theme_economist() +\n",
    "        geom_line() +\n",
    "        scale_y_log10() +\n",
    "        scale_x_date(breaks = xAxisTicks) +\n",
    "        labs(x='', y='log(price)', color='', fill='', \n",
    "             title=cName, subtitle=sprintf(\"[%s:%s]\", firstDate, lastDate))\n",
    "        \n",
    "    p2 <- ggplot(px, aes(x=T, y=VOLUME)) +\n",
    "        theme_economist() +\n",
    "        geom_bar(stat=\"identity\") +\n",
    "        scale_x_date(breaks = xAxisTicks) +\n",
    "        labs(x='', y='volume', color='', fill='')\n",
    "    \n",
    "    ggarrange(p1, p2, labels=c(\"Price\", \"Volume\"), ncol=1, nrow=2)\n",
    "}"
   ]
  },
  {
   "cell_type": "code",
   "execution_count": 5,
   "metadata": {},
   "outputs": [
    {
     "ename": "ERROR",
     "evalue": "Error: Invalid input: date_trans works with objects of class Date only\n",
     "output_type": "error",
     "traceback": [
      "Error: Invalid input: date_trans works with objects of class Date only\nTraceback:\n",
      "1. plotTimeSeries(\"GOLD\")",
      "2. ggarrange(p1, p2, labels = c(\"Price\", \"Volume\"), ncol = 1, nrow = 2)   # at line 26 of file <text>",
      "3. purrr::map(plots, .plot_grid, ncol = ncol, nrow = nrow, labels = labels, \n .     label_size = .lab$size, label_fontfamily = .lab$family, label_fontface = .lab$face, \n .     label_colour = .lab$color, label_x = .lab$label.x, label_y = .lab$label.y, \n .     hjust = .lab$hjust, vjust = .lab$vjust, align = align, rel_widths = widths, \n .     rel_heights = heights, legend = legend, common.legend.grob = leg)",
      "4. .f(.x[[i]], ...)",
      "5. cowplot::plot_grid(plotlist = plotlist, ...)",
      "6. align_plots(plotlist = plots, align = align, axis = axis, greedy = greedy)",
      "7. lapply(plots, function(x) {\n .     if (!is.null(x)) \n .         as_gtable(x)\n .     else NULL\n . })",
      "8. FUN(X[[i]], ...)",
      "9. as_gtable(x)",
      "10. as_gtable.default(x)",
      "11. as_grob(plot)",
      "12. as_grob.ggplot(plot)",
      "13. ggplot2::ggplotGrob(plot)",
      "14. ggplot_gtable(ggplot_build(x))",
      "15. ggplot_build(x)",
      "16. ggplot_build.ggplot(x)",
      "17. lapply(data, scales_transform_df, scales = scales)",
      "18. FUN(X[[i]], ...)",
      "19. unlist(lapply(scales$scales, function(s) s$transform_df(df = df)), \n  .     recursive = FALSE)",
      "20. lapply(scales$scales, function(s) s$transform_df(df = df))",
      "21. FUN(X[[i]], ...)",
      "22. s$transform_df(df = df)",
      "23. f(..., self = self)",
      "24. lapply(df[aesthetics], self$transform)",
      "25. FUN(X[[i]], ...)",
      "26. f(..., self = self)",
      "27. self$trans$transform(x)",
      "28. stop(\"Invalid input: date_trans works with objects of class Date only\", \n  .     call. = FALSE)"
     ]
    }
   ],
   "source": [
    "#for(cName in contractNames) plotTimeSeries(cName)\n",
    "plotTimeSeries('GOLD')"
   ]
  },
  {
   "cell_type": "markdown",
   "metadata": {},
   "source": [
    "This notebook was created using [pluto](http://pluto.studio). Learn more [here](https://github.com/shyams80/pluto)"
   ]
  }
 ],
 "metadata": {
  "kernelspec": {
   "display_name": "R",
   "language": "R",
   "name": "ir"
  },
  "language_info": {
   "codemirror_mode": "r",
   "file_extension": ".r",
   "mimetype": "text/x-r-source",
   "name": "R",
   "pygments_lexer": "r",
   "version": "3.6.1"
  }
 },
 "nbformat": 4,
 "nbformat_minor": 2
}
