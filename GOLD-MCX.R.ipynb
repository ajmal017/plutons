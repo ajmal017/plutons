{
 "cells": [
  {
   "cell_type": "markdown",
   "metadata": {},
   "source": [
    "# GOLD on MCX\n",
    "\n",
    "MCX, the Multi-Commodity eXchange of India, has a number of gold futures contracts listed. This is how you explore them on pluto."
   ]
  },
  {
   "cell_type": "code",
   "execution_count": null,
   "metadata": {},
   "outputs": [],
   "source": [
    "library(tidyverse)\n",
    "library(ggthemes)\n",
    "library(odbc)\n",
    "library(RPostgres)\n",
    "library(plutoR)\n",
    "library(quantmod)\n",
    "library(PerformanceAnalytics)\n",
    "library(reshape2)\n",
    "library(ggrepel)\n",
    "library(ggpubr)\n",
    "\n",
    "options(\"scipen\"=999)\n",
    "options(stringsAsFactors = FALSE)\n",
    "options(repr.plot.width=16, repr.plot.height=8)\n",
    "\n",
    "source(\"config.R\")\n",
    "source(\"goofy/plot.common.R\")\n",
    "source(\"goofy/misc.common.R\")\n",
    "\n",
    "#initialize\n",
    "commoditiesFnO <- CommodityFuturesAndOptions()"
   ]
  },
  {
   "cell_type": "code",
   "execution_count": null,
   "metadata": {},
   "outputs": [],
   "source": [
    "#list all gold contracts on the MCX\n",
    "\n",
    "goldMcx <- commoditiesFnO$McxEod() %>%\n",
    "    filter(CONTRACT %like% '%gold%' & (OTYPE == 'XX' | OTYPE == 'FUTCOM')) %>%\n",
    "    group_by(CONTRACT) %>%\n",
    "    summarize(ST = min(TIME_STAMP, na.rm=T), ET = max(TIME_STAMP, na.rm=T)) %>%\n",
    "    arrange(ST) %>%\n",
    "    collect()\n",
    "\n",
    "goldMcx %>%\n",
    "    print(n=Inf)"
   ]
  },
  {
   "cell_type": "markdown",
   "metadata": {},
   "source": [
    "Of these the first two - GOLD and GOLD MINI - are the oldest and represent gold of 1 kg and 100 grams with 995 purity. GOLD MINI has expirations every month whereas GOLD doesn't. GOLDGUINEA and GOLDPETAL were introduced much later in 2008 and 2011, respectively. We will cycle through these four contracts: GOLD, GOLDM, GOLDGUINEA and GOLDPETAL below."
   ]
  },
  {
   "cell_type": "code",
   "execution_count": null,
   "metadata": {},
   "outputs": [],
   "source": [
    "expirySeries <- 0 # closest expiry\n",
    "contractNames <- c('GOLD', 'GOLDM', 'GOLDGUINEA', 'GOLDPETAL')"
   ]
  },
  {
   "cell_type": "code",
   "execution_count": null,
   "metadata": {},
   "outputs": [],
   "source": [
    "plotTimeSeries <- function(cName){\n",
    "    px <- commoditiesFnO$McxEod() %>%\n",
    "        filter(CONTRACT == cName & (OTYPE == 'XX' | OTYPE == 'FUTCOM') & EXPIRY_SERIES == expirySeries) %>%\n",
    "        select(TIME_STAMP, CLOSE, VOLUME) %>%\n",
    "        collect() %>%\n",
    "        as.data.frame()\n",
    "    \n",
    "    firstDate <- min(px$TIME_STAMP)\n",
    "    lastDate <- max(px$TIME_STAMP)\n",
    "    xAxisTicks <- seq(from=firstDate, to=lastDate, length.out=10)\n",
    "\n",
    "    p1 <- ggplot(px, aes(x=T, y=CLOSE)) +\n",
    "        theme_economist() +\n",
    "        geom_line() +\n",
    "        scale_y_log10() +\n",
    "        scale_x_date(breaks = xAxisTicks) +\n",
    "        labs(x='', y='log(price)', color='', fill='', \n",
    "             title=cName, subtitle=sprintf(\"[%s:%s]\", firstDate, lastDate))\n",
    "        \n",
    "    p2 <- ggplot(px, aes(x=T, y=VOLUME)) +\n",
    "        theme_economist() +\n",
    "        geom_bar(stat=\"identity\") +\n",
    "        scale_x_date(breaks = xAxisTicks) +\n",
    "        labs(x='', y='volume', color='', fill='')\n",
    "    \n",
    "    ggarrange(p1, p2, labels=c(\"Price\", \"Volume\"), ncol=1, nrow=2)\n",
    "}"
   ]
  },
  {
   "cell_type": "code",
   "execution_count": null,
   "metadata": {},
   "outputs": [],
   "source": [
    "#for(cName in contractNames) plotTimeSeries(cName)\n",
    "plotTimeSeries('GOLD')"
   ]
  },
  {
   "cell_type": "markdown",
   "metadata": {},
   "source": [
    "This notebook was created using [pluto](http://pluto.studio). Learn more [here](https://github.com/shyams80/pluto)"
   ]
  }
 ],
 "metadata": {
  "kernelspec": {
   "display_name": "R",
   "language": "R",
   "name": "ir"
  },
  "language_info": {
   "codemirror_mode": "r",
   "file_extension": ".r",
   "mimetype": "text/x-r-source",
   "name": "R",
   "pygments_lexer": "r",
   "version": "3.4.4"
  }
 },
 "nbformat": 4,
 "nbformat_minor": 2
}
