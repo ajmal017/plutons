{
 "cells": [
  {
   "cell_type": "markdown",
   "metadata": {},
   "source": [
    "# VIX-Adjusted Momentum (US)\n",
    "\n",
    "Replicating [VIX-Adjusted Momentum](https://cssanalytics.wordpress.com/2014/07/29/vix-adjusted-momentum/)"
   ]
  },
  {
   "cell_type": "code",
   "execution_count": 1,
   "metadata": {},
   "outputs": [
    {
     "name": "stderr",
     "output_type": "stream",
     "text": [
      "── \u001b[1mAttaching packages\u001b[22m ─────────────────────────────────────── tidyverse 1.2.1 ──\n",
      "\u001b[32m✔\u001b[39m \u001b[34mggplot2\u001b[39m 3.2.0     \u001b[32m✔\u001b[39m \u001b[34mpurrr  \u001b[39m 0.3.2\n",
      "\u001b[32m✔\u001b[39m \u001b[34mtibble \u001b[39m 2.1.3     \u001b[32m✔\u001b[39m \u001b[34mdplyr  \u001b[39m 0.8.1\n",
      "\u001b[32m✔\u001b[39m \u001b[34mtidyr  \u001b[39m 0.8.3     \u001b[32m✔\u001b[39m \u001b[34mstringr\u001b[39m 1.4.0\n",
      "\u001b[32m✔\u001b[39m \u001b[34mreadr  \u001b[39m 1.3.1     \u001b[32m✔\u001b[39m \u001b[34mforcats\u001b[39m 0.4.0\n",
      "── \u001b[1mConflicts\u001b[22m ────────────────────────────────────────── tidyverse_conflicts() ──\n",
      "\u001b[31m✖\u001b[39m \u001b[34mdplyr\u001b[39m::\u001b[32mfilter()\u001b[39m masks \u001b[34mstats\u001b[39m::filter()\n",
      "\u001b[31m✖\u001b[39m \u001b[34mdplyr\u001b[39m::\u001b[32mlag()\u001b[39m    masks \u001b[34mstats\u001b[39m::lag()\n",
      "Loading required package: xts\n",
      "Loading required package: zoo\n",
      "\n",
      "Attaching package: ‘zoo’\n",
      "\n",
      "The following objects are masked from ‘package:base’:\n",
      "\n",
      "    as.Date, as.Date.numeric\n",
      "\n",
      "\n",
      "Attaching package: ‘xts’\n",
      "\n",
      "The following objects are masked from ‘package:dplyr’:\n",
      "\n",
      "    first, last\n",
      "\n",
      "Loading required package: TTR\n",
      "Version 0.4-0 included new data defaults. See ?getSymbols.\n",
      "\n",
      "Attaching package: ‘PerformanceAnalytics’\n",
      "\n",
      "The following object is masked from ‘package:graphics’:\n",
      "\n",
      "    legend\n",
      "\n",
      "Registering fonts with R\n",
      "\n",
      "Attaching package: ‘gridExtra’\n",
      "\n",
      "The following object is masked from ‘package:dplyr’:\n",
      "\n",
      "    combine\n",
      "\n",
      "\n",
      "Attaching package: ‘lubridate’\n",
      "\n",
      "The following object is masked from ‘package:base’:\n",
      "\n",
      "    date\n",
      "\n"
     ]
    }
   ],
   "source": [
    "library(tidyverse)\n",
    "library(ggthemes)\n",
    "library(odbc)\n",
    "library(plutoR)\n",
    "library(quantmod)\n",
    "library(PerformanceAnalytics)\n",
    "\n",
    "options(\"scipen\"=999)\n",
    "options(stringsAsFactors = FALSE)\n",
    "options(repr.plot.width=16, repr.plot.height=8)\n",
    "\n",
    "source(\"config.R\")\n",
    "source(\"goofy/plot.common.R\")\n",
    "source(\"goofy/misc.common.R\")\n",
    "\n",
    "indices <- Indices()"
   ]
  },
  {
   "cell_type": "code",
   "execution_count": 2,
   "metadata": {},
   "outputs": [],
   "source": [
    "startDate <- as.Date('1990-01-02')\n",
    "endDate <- as.Date('2019-06-30')\n",
    "\n",
    "vixDt <- indices$YahooFinanceTimeSeries() %>%\n",
    "    filter(NAME == '^VIX' & TIME_STAMP >= startDate & TIME_STAMP <= endDate) %>%\n",
    "    select(TIME_STAMP, CLOSE) %>%\n",
    "    collect()\n",
    "    \n",
    "sp500Dt <- indices$YahooFinanceTimeSeries() %>%\n",
    "    filter(NAME == '^GSPC' & TIME_STAMP >= startDate & TIME_STAMP <= endDate) %>%\n",
    "    select(TIME_STAMP, CLOSE) %>%\n",
    "    collect()\n",
    "\n",
    "allXts <- merge(sp500Xts <- xts(sp500Dt$CLOSE, sp500Dt$TIME_STAMP), xts(vixDt$CLOSE, vixDt$TIME_STAMP))\n",
    "names(allXts) <- c('SP500', 'VIX')\n"
   ]
  },
  {
   "cell_type": "code",
   "execution_count": 3,
   "metadata": {},
   "outputs": [
    {
     "name": "stdout",
     "output_type": "stream",
     "text": [
      "            SP500   VIX  SMA_200         D_RET   D_RET_LAG_1    VIX_ADJ_RET\n",
      "1990-10-15 303.23 31.64 338.9269  0.0106656401 -0.0142136261  0.00033709357\n",
      "1990-10-16 298.92 31.45 338.6230 -0.0142136261 -0.0005352703 -0.00045194358\n",
      "1990-10-17 298.76 31.37 338.3230 -0.0005352703  0.0233631670 -0.00001706313\n",
      "1990-10-18 305.74 29.60 338.0734  0.0233631670  0.0220449441  0.00078929618\n",
      "1990-10-19 312.48 27.86 337.8748  0.0220449441  0.0072964635  0.00079127578\n",
      "1990-10-22 314.76 27.27 337.6796  0.0072964635 -0.0076249362  0.00026756375\n",
      "           VIX_ADJ_RET_SMA_200    ROC_200\n",
      "1990-10-15     -0.000016508160 -0.1569685\n",
      "1990-10-16     -0.000018767878 -0.1689510\n",
      "1990-10-17     -0.000018142490 -0.1672427\n",
      "1990-10-18     -0.000011955377 -0.1403830\n",
      "1990-10-19     -0.000005573280 -0.1127768\n",
      "1990-10-22     -0.000005349595 -0.1103197\n",
      "             SP500   VIX  SMA_200        D_RET  D_RET_LAG_1    VIX_ADJ_RET\n",
      "2019-06-20 2954.18 14.75 2775.676  0.009472185 -0.001259223  0.00064218205\n",
      "2019-06-21 2950.46 15.40 2775.945 -0.001259223 -0.001731887 -0.00008176772\n",
      "2019-06-24 2945.35 15.26 2776.228 -0.001731887 -0.009496397 -0.00011349193\n",
      "2019-06-25 2917.38 16.28 2776.425 -0.009496397 -0.001233934 -0.00058331676\n",
      "2019-06-26 2913.78 16.21 2776.635 -0.001233934  0.003823176 -0.00007612178\n",
      "2019-06-27 2924.92 15.82 2776.874  0.003823176  0.005757453  0.00024166724\n",
      "           VIX_ADJ_RET_SMA_200    ROC_200\n",
      "2019-06-20       0.00003886453 0.01814908\n",
      "2019-06-21       0.00003908423 0.01855201\n",
      "2019-06-24       0.00003952436 0.01964619\n",
      "2019-06-25       0.00003785430 0.01366544\n",
      "2019-06-26       0.00003821742 0.01466044\n",
      "2019-06-27       0.00003875562 0.01661032\n"
     ]
    }
   ],
   "source": [
    "allXts$SMA_200 <- SMA(allXts$SP500, 200)\n",
    "allXts$D_RET <- dailyReturn(allXts$SP500)\n",
    "allXts$D_RET_LAG_1 <- stats::lag(allXts$D_RET, -1) #signal is generated and traded at the close, so use next day's return\n",
    "\n",
    "allXts$VIX_ADJ_RET <- allXts$D_RET/allXts$VIX\n",
    "allXts$VIX_ADJ_RET_SMA_200 <- SMA(allXts$VIX_ADJ_RET, 200) \n",
    "\n",
    "allXts$ROC_200 <- rollapply(allXts$D_RET, 200, Return.cumulative) #simple compound return or ROC (rate of change) \n",
    "\n",
    "allXts <- na.omit(allXts)\n",
    "print(head(allXts))\n",
    "print(tail(allXts))"
   ]
  },
  {
   "cell_type": "code",
   "execution_count": 4,
   "metadata": {},
   "outputs": [],
   "source": [
    "#go long only if the index is above its 200-day average\n",
    "allXts$SMA_STRAT <- ifelse(allXts$SP500 > allXts$SMA_200, allXts$D_RET_LAG_1, 0) \n",
    "\n",
    "#go long only if the simple average (VIX-Adjusted Momentum) > 0\n",
    "allXts$VIX_STRAT <- ifelse(allXts$VIX_ADJ_RET_SMA_200 > 0, allXts$D_RET_LAG_1, 0) \n",
    "\n",
    "#go long only if the ROC > 0\n",
    "allXts$ROC_200_STRAT <- ifelse(allXts$ROC_200 > 0, allXts$D_RET_LAG_1, 0)"
   ]
  },
  {
   "cell_type": "code",
   "execution_count": 5,
   "metadata": {},
   "outputs": [
    {
     "name": "stdout",
     "output_type": "stream",
     "text": [
      "<simpleError in plot.window(c(655948800, 1561593600), c(NaN, NaN)): need finite 'ylim' values>\n"
     ]
    }
   ],
   "source": [
    "#plot returns\n",
    "toPlot <- merge(allXts$SMA_STRAT, allXts$VIX_STRAT, allXts$ROC_200_STRAT, allXts$SP500)\n",
    "Common.PlotCumReturns(toPlot, \"\", \"\")"
   ]
  },
  {
   "cell_type": "markdown",
   "metadata": {},
   "source": [
    "This notebook was created using [pluto](http://pluto.studio). Learn more [here](https://github.com/shyams80/pluto)"
   ]
  }
 ],
 "metadata": {
  "kernelspec": {
   "display_name": "R",
   "language": "R",
   "name": "ir"
  },
  "language_info": {
   "codemirror_mode": "r",
   "file_extension": ".r",
   "mimetype": "text/x-r-source",
   "name": "R",
   "pygments_lexer": "r",
   "version": "3.4.4"
  }
 },
 "nbformat": 4,
 "nbformat_minor": 2
}
