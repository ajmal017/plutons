{
 "cells": [
  {
   "cell_type": "markdown",
   "metadata": {},
   "source": [
    "# VIX-Adjusted Momentum (US)\n",
    "\n",
    "Replicating [VIX-Adjusted Momentum](https://cssanalytics.wordpress.com/2014/07/29/vix-adjusted-momentum/)"
   ]
  },
  {
   "cell_type": "code",
   "execution_count": null,
   "metadata": {},
   "outputs": [],
   "source": [
    "library(tidyverse)\n",
    "library(ggthemes)\n",
    "library(reshape2)\n",
    "library(odbc)\n",
    "library(plutoR)\n",
    "library(quantmod)\n",
    "library(lubridate)\n",
    "library(PerformanceAnalytics)\n",
    "\n",
    "options(\"scipen\"=999)\n",
    "options(stringsAsFactors = FALSE)\n",
    "options(repr.plot.width=16, repr.plot.height=8)\n",
    "\n",
    "source(\"config.R\")\n",
    "source(\"goofy/plot.common.R\")\n",
    "source(\"goofy/misc.common.R\")\n",
    "\n",
    "indices <- Indices()"
   ]
  },
  {
   "cell_type": "code",
   "execution_count": null,
   "metadata": {},
   "outputs": [],
   "source": [
    "startDate <- as.Date('1990-01-02')\n",
    "endDate <- as.Date('2019-06-30')\n",
    "\n",
    "vixDt <- indices$YahooFinanceTimeSeries() %>%\n",
    "    filter(NAME == '^VIX' & TIME_STAMP >= startDate & TIME_STAMP <= endDate) %>%\n",
    "    select(TIME_STAMP, CLOSE) %>%\n",
    "    collect()\n",
    "    \n",
    "sp500Dt <- indices$YahooFinanceTimeSeries() %>%\n",
    "    filter(NAME == '^GSPC' & TIME_STAMP >= startDate & TIME_STAMP <= endDate) %>%\n",
    "    select(TIME_STAMP, CLOSE) %>%\n",
    "    collect()\n",
    "\n",
    "allXts <- merge(sp500Xts <- xts(sp500Dt$CLOSE, sp500Dt$TIME_STAMP), xts(vixDt$CLOSE, vixDt$TIME_STAMP))\n",
    "names(allXts) <- c('SP500', 'VIX')\n"
   ]
  },
  {
   "cell_type": "code",
   "execution_count": null,
   "metadata": {},
   "outputs": [],
   "source": [
    "allXts$SMA_200 <- SMA(allXts$SP500, 200)\n",
    "allXts$D_RET <- dailyReturn(allXts$SP500)\n",
    "allXts$D_RET_LAG_1 <- stats::lag(allXts$D_RET, -1) #signal is generated and traded at the close, so use next day's return\n",
    "\n",
    "allXts$VIX_ADJ_RET <- allXts$D_RET/allXts$VIX\n",
    "allXts$VIX_ADJ_RET_SMA_200 <- SMA(allXts$VIX_ADJ_RET, 200) \n",
    "\n",
    "allXts$ROC_200 <- rollapply(allXts$D_RET, 200, Return.cumulative) #simple compound return or ROC (rate of change) \n",
    "\n",
    "allXts <- na.omit(allXts)\n",
    "print(head(allXts))\n",
    "print(tail(allXts))"
   ]
  },
  {
   "cell_type": "code",
   "execution_count": null,
   "metadata": {},
   "outputs": [],
   "source": [
    "#go long only if the index is above its 200-day average\n",
    "allXts$SMA_STRAT <- ifelse(allXts$SP500 > allXts$SMA_200, allXts$D_RET_LAG_1, 0) \n",
    "\n",
    "#go long only if the simple average (VIX-Adjusted Momentum) > 0\n",
    "allXts$VIX_STRAT <- ifelse(allXts$VIX_ADJ_RET_SMA_200 > 0, allXts$D_RET_LAG_1, 0) \n",
    "\n",
    "#go long only if the ROC > 0\n",
    "allXts$ROC_200_STRAT <- ifelse(allXts$ROC_200 > 0, allXts$D_RET_LAG_1, 0)"
   ]
  },
  {
   "cell_type": "code",
   "execution_count": null,
   "metadata": {},
   "outputs": [],
   "source": [
    "#plot returns\n",
    "toPlot <- merge(allXts$VIX_STRAT, allXts$SMA_STRAT, allXts$ROC_200_STRAT, allXts$D_RET_LAG_1)\n",
    "Common.PlotCumReturns(toPlot, \"Back-test\", \"\")"
   ]
  },
  {
   "cell_type": "code",
   "execution_count": null,
   "metadata": {},
   "outputs": [],
   "source": [
    "#calculate annual returns\n",
    "byYear <- merge(yearlyReturn(allXts$VIX_STRAT), \n",
    "                yearlyReturn(allXts$SMA_STRAT),\n",
    "                yearlyReturn(allXts$ROC_200_STRAT),\n",
    "                yearlyReturn(allXts$D_RET_LAG_1))\n",
    "\n",
    "byYear <- byYear * 100.0\n",
    "names(byYear) <- c('VIX-Momentum', 'SMA', 'ROC', 'BH')\n",
    "\n",
    "print(byYear)"
   ]
  },
  {
   "cell_type": "code",
   "execution_count": null,
   "metadata": {},
   "outputs": [],
   "source": [
    "#plot annual returns\n",
    "byYearDf <- data.frame(byYear)\n",
    "byYearDf$T <- year(index(byYear))\n",
    "\n",
    "ggplot(melt(byYearDf, id='T'), aes(x=T, y=value, fill=variable)) +\n",
    "    theme_economist() +\n",
    "    geom_bar(stat=\"identity\", position=position_dodge()) +\n",
    "    scale_x_continuous(labels=byYearDf$T, breaks=byYearDf$T) +\n",
    "    geom_text_repel(aes(label= round(value, 2)), position = position_dodge(0.9)) +\n",
    "    labs(x='', y='(%)', fill='', title=sprintf(\"Annual Returns\")) +\n",
    "    annotate(\"text\", x=max(byYearDf$T), y=as.numeric(min(byYear, na.rm=T)), \n",
    "             label = \"@StockViz\", hjust=1.1, vjust=-1.1, col=\"white\", cex=6, fontface = \"bold\", alpha = 0.8)"
   ]
  },
  {
   "cell_type": "markdown",
   "metadata": {},
   "source": [
    "This notebook was created using [pluto](http://pluto.studio). Learn more [here](https://github.com/shyams80/pluto)"
   ]
  }
 ],
 "metadata": {
  "kernelspec": {
   "display_name": "R",
   "language": "R",
   "name": "ir"
  },
  "language_info": {
   "codemirror_mode": "r",
   "file_extension": ".r",
   "mimetype": "text/x-r-source",
   "name": "R",
   "pygments_lexer": "r",
   "version": "3.4.4"
  }
 },
 "nbformat": 4,
 "nbformat_minor": 2
}
