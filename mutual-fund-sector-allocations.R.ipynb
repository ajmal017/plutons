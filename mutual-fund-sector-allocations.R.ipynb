{
 "cells": [
  {
   "cell_type": "markdown",
   "metadata": {},
   "source": [
    "# Visualizing sector allocations of a mutual fund through time"
   ]
  },
  {
   "cell_type": "code",
   "execution_count": null,
   "metadata": {},
   "outputs": [],
   "source": [
    "library(tidyverse)\n",
    "library(ggthemes)\n",
    "library(odbc)\n",
    "library(plutoR)\n",
    "library(quantmod)\n",
    "library(PerformanceAnalytics)\n",
    "\n",
    "options(\"scipen\"=999)\n",
    "options(stringsAsFactors = FALSE)\n",
    "options(repr.plot.width=16, repr.plot.height=8)\n",
    "\n",
    "source(\"config.R\")\n",
    "source(\"goofy/plot.common.R\")\n",
    "source(\"goofy/misc.common.R\")\n",
    "\n",
    "mfi <- MutualFundsIndia()"
   ]
  },
  {
   "cell_type": "code",
   "execution_count": null,
   "metadata": {},
   "outputs": [],
   "source": [
    "#Franklin India Prima Fund-Growth (https://github.com/stockviz/plutons/blob/master/mutual-fund-drawdown.R.ipynb)\n",
    "scode <- 100473 \n",
    "sname <- \"Franklin India Prima Fund\"\n",
    "\n",
    "sectorAlloc <- mfi$Portfolio() %>%\n",
    "    filter(SCHEME_CODE == scode \n",
    "           & INSTRUMENT == 'EQUITY' \n",
    "           & (INSTRUMENT_TYPE == 'STOCK' | INSTRUMENT_TYPE == 'E')) %>%\n",
    "    group_by(PORTFOLIO_DATE, SECTOR) %>%\n",
    "    summarize(ALLOC = sum(WEIGHTAGE)) %>%\n",
    "    arrange(PORTFOLIO_DATE, SECTOR) %>%\n",
    "    collect()\n",
    "\n",
    "saDf <- sectorAlloc %>%\n",
    "    mutate(SECTOR = replace(SECTOR, SECTOR == '-', 'UNK')) %>%\n",
    "    as.data.frame()"
   ]
  },
  {
   "cell_type": "code",
   "execution_count": null,
   "metadata": {},
   "outputs": [],
   "source": [
    "ggplot(saDf, aes(x = PORTFOLIO_DATE, y = SECTOR, fill = ALLOC)) +\n",
    "    theme_economist() +\n",
    "    theme(axis.text.x = element_text(angle = 90, hjust = 1)) +\n",
    "    geom_tile() +\n",
    "    geom_text(aes(label= sprintf(\"%.2f\", ALLOC)), hjust = 1) +\n",
    "    scale_fill_gradientn(colors=c(\"green\", \"white\", \"red\")) +\n",
    "    guides(fill=F) +\n",
    "    labs(x = \"\", y=\"\", fill=\"\", color=\"\", title=sprintf(\"%s Sector Weights\", sname)) "
   ]
  },
  {
   "cell_type": "markdown",
   "metadata": {},
   "source": [
    "This notebook was created using [pluto](http://pluto.studio). Learn more [here](https://github.com/shyams80/pluto)"
   ]
  }
 ],
 "metadata": {
  "kernelspec": {
   "display_name": "R",
   "language": "R",
   "name": "ir"
  },
  "language_info": {
   "codemirror_mode": "r",
   "file_extension": ".r",
   "mimetype": "text/x-r-source",
   "name": "R",
   "pygments_lexer": "r",
   "version": "3.4.4"
  }
 },
 "nbformat": 4,
 "nbformat_minor": 2
}
