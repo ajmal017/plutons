{
 "cells": [
  {
   "cell_type": "markdown",
   "metadata": {},
   "source": [
    "# Visualizing sector allocations of a mutual fund through time"
   ]
  },
  {
   "cell_type": "code",
   "execution_count": 1,
   "metadata": {},
   "outputs": [
    {
     "name": "stderr",
     "output_type": "stream",
     "text": [
      "── \u001b[1mAttaching packages\u001b[22m ─────────────────────────────────────── tidyverse 1.2.1 ──\n",
      "\u001b[32m✔\u001b[39m \u001b[34mggplot2\u001b[39m 3.2.0     \u001b[32m✔\u001b[39m \u001b[34mpurrr  \u001b[39m 0.3.2\n",
      "\u001b[32m✔\u001b[39m \u001b[34mtibble \u001b[39m 2.1.3     \u001b[32m✔\u001b[39m \u001b[34mdplyr  \u001b[39m 0.8.1\n",
      "\u001b[32m✔\u001b[39m \u001b[34mtidyr  \u001b[39m 0.8.3     \u001b[32m✔\u001b[39m \u001b[34mstringr\u001b[39m 1.4.0\n",
      "\u001b[32m✔\u001b[39m \u001b[34mreadr  \u001b[39m 1.3.1     \u001b[32m✔\u001b[39m \u001b[34mforcats\u001b[39m 0.4.0\n",
      "── \u001b[1mConflicts\u001b[22m ────────────────────────────────────────── tidyverse_conflicts() ──\n",
      "\u001b[31m✖\u001b[39m \u001b[34mdplyr\u001b[39m::\u001b[32mfilter()\u001b[39m masks \u001b[34mstats\u001b[39m::filter()\n",
      "\u001b[31m✖\u001b[39m \u001b[34mdplyr\u001b[39m::\u001b[32mlag()\u001b[39m    masks \u001b[34mstats\u001b[39m::lag()\n",
      "Loading required package: xts\n",
      "Loading required package: zoo\n",
      "\n",
      "Attaching package: ‘zoo’\n",
      "\n",
      "The following objects are masked from ‘package:base’:\n",
      "\n",
      "    as.Date, as.Date.numeric\n",
      "\n",
      "\n",
      "Attaching package: ‘xts’\n",
      "\n",
      "The following objects are masked from ‘package:dplyr’:\n",
      "\n",
      "    first, last\n",
      "\n",
      "Loading required package: TTR\n",
      "Version 0.4-0 included new data defaults. See ?getSymbols.\n",
      "\n",
      "Attaching package: ‘PerformanceAnalytics’\n",
      "\n",
      "The following object is masked from ‘package:graphics’:\n",
      "\n",
      "    legend\n",
      "\n",
      "Registering fonts with R\n",
      "\n",
      "Attaching package: ‘gridExtra’\n",
      "\n",
      "The following object is masked from ‘package:dplyr’:\n",
      "\n",
      "    combine\n",
      "\n",
      "\n",
      "Attaching package: ‘lubridate’\n",
      "\n",
      "The following object is masked from ‘package:base’:\n",
      "\n",
      "    date\n",
      "\n"
     ]
    }
   ],
   "source": [
    "library(tidyverse)\n",
    "library(ggthemes)\n",
    "library(odbc)\n",
    "library(plutoR)\n",
    "library(quantmod)\n",
    "library(PerformanceAnalytics)\n",
    "\n",
    "options(\"scipen\"=999)\n",
    "options(stringsAsFactors = FALSE)\n",
    "options(repr.plot.width=16, repr.plot.height=8)\n",
    "\n",
    "source(\"config.R\")\n",
    "source(\"goofy/plot.common.R\")\n",
    "source(\"goofy/misc.common.R\")\n",
    "\n",
    "mfi <- MutualFundsIndia()"
   ]
  },
  {
   "cell_type": "code",
   "execution_count": 2,
   "metadata": {},
   "outputs": [
    {
     "name": "stderr",
     "output_type": "stream",
     "text": [
      "Warning message:\n",
      "“Missing values are always removed in SQL.\n",
      "Use `SUM(x, na.rm = TRUE)` to silence this warning\n",
      "This warning is displayed only once per session.”"
     ]
    },
    {
     "ename": "ERROR",
     "evalue": "Error: <SQL> 'SELECT \"PORTFOLIO_DATE\", \"SECTOR\", SUM(\"WEIGHTAGE\") AS \"ALLOC\"\nFROM (SELECT TOP 100 PERCENT \"SCHEME_CODE\", \"PORTFOLIO_DATE\", \"INSTRUMENT\", \"INSTRUMENT_TYPE\", \"SYMBOL\", \"NAME\", \"SECTOR\", \"WEIGHTAGE\"\nFROM \"MF_PORTFOLIO_HISTORY\") \"dbplyr_001\"\nWHERE (\"SCHEME_CODE\" = 100473.0 AND \"INSTRUMENT\" = 'EQUITY' AND (\"INSTRUMENT_TYPE\" = 'STOCK' OR \"INSTRUMENT_TYPE\" = 'E' OR \"INSTRUMENT_TYPE\" = ))\nGROUP BY \"PORTFOLIO_DATE\", \"SECTOR\"\nORDER BY \"PORTFOLIO_DATE\", \"SECTOR\"'\n  nanodbc/nanodbc.cpp:1587: 42000: [Microsoft][ODBC Driver 17 for SQL Server][SQL Server]Incorrect syntax near ')'. \n",
     "output_type": "error",
     "traceback": [
      "Error: <SQL> 'SELECT \"PORTFOLIO_DATE\", \"SECTOR\", SUM(\"WEIGHTAGE\") AS \"ALLOC\"\nFROM (SELECT TOP 100 PERCENT \"SCHEME_CODE\", \"PORTFOLIO_DATE\", \"INSTRUMENT\", \"INSTRUMENT_TYPE\", \"SYMBOL\", \"NAME\", \"SECTOR\", \"WEIGHTAGE\"\nFROM \"MF_PORTFOLIO_HISTORY\") \"dbplyr_001\"\nWHERE (\"SCHEME_CODE\" = 100473.0 AND \"INSTRUMENT\" = 'EQUITY' AND (\"INSTRUMENT_TYPE\" = 'STOCK' OR \"INSTRUMENT_TYPE\" = 'E' OR \"INSTRUMENT_TYPE\" = ))\nGROUP BY \"PORTFOLIO_DATE\", \"SECTOR\"\nORDER BY \"PORTFOLIO_DATE\", \"SECTOR\"'\n  nanodbc/nanodbc.cpp:1587: 42000: [Microsoft][ODBC Driver 17 for SQL Server][SQL Server]Incorrect syntax near ')'. \nTraceback:\n",
      "1. mfi$Portfolio() %>% filter(SCHEME_CODE == scode & INSTRUMENT == \n .     \"EQUITY\" & (INSTRUMENT_TYPE == \"STOCK\" | INSTRUMENT_TYPE == \n .     \"E\" | INSTRUMENT_TYPE == NULL)) %>% group_by(PORTFOLIO_DATE, \n .     SECTOR) %>% summarize(ALLOC = sum(WEIGHTAGE)) %>% arrange(PORTFOLIO_DATE, \n .     SECTOR) %>% collect()",
      "2. withVisible(eval(quote(`_fseq`(`_lhs`)), env, env))",
      "3. eval(quote(`_fseq`(`_lhs`)), env, env)",
      "4. eval(quote(`_fseq`(`_lhs`)), env, env)",
      "5. `_fseq`(`_lhs`)",
      "6. freduce(value, `_function_list`)",
      "7. withVisible(function_list[[k]](value))",
      "8. function_list[[k]](value)",
      "9. collect(.)",
      "10. collect.tbl_sql(.)",
      "11. db_collect(x$src$con, sql, n = n, warn_incomplete = warn_incomplete)",
      "12. db_collect.DBIConnection(x$src$con, sql, n = n, warn_incomplete = warn_incomplete)",
      "13. dbSendQuery(con, sql)",
      "14. dbSendQuery(con, sql)",
      "15. OdbcResult(connection = conn, statement = statement)",
      "16. new_result(connection@ptr, statement)"
     ]
    }
   ],
   "source": [
    "#Franklin India Prima Fund-Growth (https://github.com/stockviz/plutons/blob/master/mutual-fund-drawdown.R.ipynb)\n",
    "scode <- 100473 \n",
    "sname <- \"Franklin India Prima Fund\"\n",
    "\n",
    "sectorAlloc <- mfi$Portfolio() %>%\n",
    "    filter(SCHEME_CODE == scode \n",
    "           & INSTRUMENT == 'EQUITY' \n",
    "           & (INSTRUMENT_TYPE == 'STOCK' | INSTRUMENT_TYPE == 'E' | INSTRUMENT_TYPE == NULL)) %>%\n",
    "    group_by(PORTFOLIO_DATE, SECTOR) %>%\n",
    "    summarize(ALLOC = sum(WEIGHTAGE)) %>%\n",
    "    arrange(PORTFOLIO_DATE, SECTOR) %>%\n",
    "    collect()\n",
    "\n",
    "saDf <- sectorAlloc %>%\n",
    "    mutate(SECTOR = replace(SECTOR, SECTOR == '-' | is.na(SECTOR), 'UNK')) %>%\n",
    "    as.data.frame()"
   ]
  },
  {
   "cell_type": "code",
   "execution_count": 3,
   "metadata": {},
   "outputs": [
    {
     "ename": "ERROR",
     "evalue": "Error in ggplot(saDf, aes(x = PORTFOLIO_DATE, y = SECTOR, fill = ALLOC)): object 'saDf' not found\n",
     "output_type": "error",
     "traceback": [
      "Error in ggplot(saDf, aes(x = PORTFOLIO_DATE, y = SECTOR, fill = ALLOC)): object 'saDf' not found\nTraceback:\n",
      "1. ggplot(saDf, aes(x = PORTFOLIO_DATE, y = SECTOR, fill = ALLOC))"
     ]
    }
   ],
   "source": [
    "ggplot(saDf, aes(x = PORTFOLIO_DATE, y = SECTOR, fill = ALLOC)) +\n",
    "    theme_economist() +\n",
    "    theme(axis.text.x = element_text(angle = 90, hjust = 1)) +\n",
    "    geom_tile() +\n",
    "    #geom_text(aes(label= sprintf(\"%.2f\", ALLOC)), hjust = 1) +\n",
    "    scale_fill_gradientn(colors=c(\"green\", \"white\", \"red\")) +\n",
    "    guides(fill=F) +\n",
    "    labs(x = \"\", y=\"\", fill=\"\", color=\"\", title=sprintf(\"%s Sector Weights\", sname)) "
   ]
  },
  {
   "cell_type": "markdown",
   "metadata": {},
   "source": [
    "This notebook was created using [pluto](http://pluto.studio). Learn more [here](https://github.com/shyams80/pluto)"
   ]
  }
 ],
 "metadata": {
  "kernelspec": {
   "display_name": "R",
   "language": "R",
   "name": "ir"
  },
  "language_info": {
   "codemirror_mode": "r",
   "file_extension": ".r",
   "mimetype": "text/x-r-source",
   "name": "R",
   "pygments_lexer": "r",
   "version": "3.4.4"
  }
 },
 "nbformat": 4,
 "nbformat_minor": 2
}
