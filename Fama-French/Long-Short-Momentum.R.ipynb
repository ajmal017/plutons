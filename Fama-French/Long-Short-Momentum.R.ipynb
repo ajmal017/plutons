{
 "cells": [
  {
   "cell_type": "markdown",
   "metadata": {},
   "source": [
    "# The Long and Short of Fama-French Momentum\n",
    "\n",
    "Most investors are long-only and do not have access to investment vehicles that go short. However, academic factor investing focuses mostly on long-short portfolios to show their persistence. The contribution of the short-side of the portfolio to aggregate performance cannot be trivialized. Here, we construct three portfolios out of the Fama-French Momentum data-set -- long-only, short-only and long-short -- to get an idea of how they intersect.\n",
    "\n",
    "The [Fama-French](https://mba.tuck.dartmouth.edu/pages/faculty/ken.french/Data_Library/det_10_port_form_pr_12_2_daily.html) data-set has returns for portfolios constructed out of each decile of prior returns. With **HI_PRIOR** and **LO_PRIOR** returns, long-only, long-short and short-only portfolio daily returns can be calculated. These returns can then be compared with market returns contained in the [5 Factors (2x3)](https://mba.tuck.dartmouth.edu/pages/faculty/ken.french/Data_Library/f-f_5_factors_2x3.html) data-set by adding back the **Rf** to **Rm-Rf**.\n",
    "\n",
    "The documentation for the Fama-French data-set can be found [here](https://plutopy.readthedocs.io/en/latest/FamaFrench.html) and [here](https://shyams80.github.io/plutoR/docs/reference/FamaFrench-class.html)"
   ]
  },
  {
   "cell_type": "code",
   "execution_count": null,
   "metadata": {},
   "outputs": [],
   "source": [
    "library(tidyverse)\n",
    "library(ggthemes)\n",
    "library(odbc)\n",
    "library(plutoR)\n",
    "library(quantmod)\n",
    "library(PerformanceAnalytics)\n",
    "\n",
    "options(\"scipen\"=999)\n",
    "options(stringsAsFactors = FALSE)\n",
    "options(repr.plot.width=16, repr.plot.height=8)\n",
    "\n",
    "source(\"config.R\")\n",
    "source(\"goofy/plot.common.R\")\n",
    "\n",
    "#initialize\n",
    "famaFrench <- FamaFrench()"
   ]
  },
  {
   "cell_type": "code",
   "execution_count": null,
   "metadata": {},
   "outputs": [],
   "source": [
    "hiMom <- famaFrench$MomentumDaily() %>%\n",
    "    filter(KEY_ID == 'HI_PRIOR') %>%\n",
    "    select(TIME_STAMP, RET) %>%\n",
    "    collect() %>%\n",
    "    as.data.frame()\n",
    "\n",
    "loMom <- famaFrench$MomentumDaily() %>%\n",
    "    filter(KEY_ID == 'LO_PRIOR') %>%\n",
    "    select(TIME_STAMP, RET) %>%\n",
    "    collect() %>%\n",
    "    as.data.frame()\n",
    "\n",
    "mktRet <- famaFrench$FiveFactor3x2Daily() %>%\n",
    "    innerjoin(famaFrench$FiveFactor3x2Daily(), by=c('TIME_STAMP')) %>%\n",
    "    filter(KEY_ID.x == 'MKT-RF' & KEY_ID.y == 'RF') %>%\n",
    "    select(TIME_STAMP, R = RET.x + RET.y) %>%\n",
    "    collect() %>%\n",
    "    as.data.frame()\n",
    "\n",
    "head(loMom)\n",
    "head(hiMom)\n",
    "head(mktRet)\n",
    "\n",
    "tail(loMom)\n",
    "tail(hiMom)\n",
    "tail(mktRet)"
   ]
  },
  {
   "cell_type": "markdown",
   "metadata": {},
   "source": [
    "This notebook was created using [pluto](http://pluto.studio). Learn more [here](https://github.com/shyams80/pluto)"
   ]
  }
 ],
 "metadata": {
  "kernelspec": {
   "display_name": "R",
   "language": "R",
   "name": "ir"
  },
  "language_info": {
   "codemirror_mode": "r",
   "file_extension": ".r",
   "mimetype": "text/x-r-source",
   "name": "R",
   "pygments_lexer": "r",
   "version": "3.4.4"
  }
 },
 "nbformat": 4,
 "nbformat_minor": 2
}
