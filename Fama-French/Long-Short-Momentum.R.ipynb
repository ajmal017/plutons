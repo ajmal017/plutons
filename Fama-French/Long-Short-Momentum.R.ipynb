{
 "cells": [
  {
   "cell_type": "markdown",
   "metadata": {},
   "source": [
    "# The Long and Short of Fama-French Momentum\n",
    "\n",
    "Most investors are long-only and do not have access to investment vehicles that go short. However, academic factor investing focuses mostly on long-short portfolios to show their persistence. The contribution of the short-side of the portfolio to aggregate performance cannot be trivialized. Here, we construct three portfolios out of the Fama-French Momentum data-set -- long-only, short-only and long-short -- to get an idea of how they intersect.\n",
    "\n",
    "The [Fama-French](https://mba.tuck.dartmouth.edu/pages/faculty/ken.french/Data_Library/det_10_port_form_pr_12_2_daily.html) data-set has returns for portfolios constructed out of each decile of prior returns. With **HI_PRIOR** and **LO_PRIOR** returns, long-only, long-short and short-only portfolio daily returns can be calculated. These returns can then be compared with market returns contained in the [5 Factors (2x3)](https://mba.tuck.dartmouth.edu/pages/faculty/ken.french/Data_Library/f-f_5_factors_2x3.html) data-set by adding back the **Rf** to **Rm-Rf**.\n",
    "\n",
    "The documentation for the Fama-French data-set can be found [here](https://plutopy.readthedocs.io/en/latest/FamaFrench.html) and [here](https://shyams80.github.io/plutoR/docs/reference/FamaFrench-class.html)"
   ]
  },
  {
   "cell_type": "code",
   "execution_count": 1,
   "metadata": {},
   "outputs": [
    {
     "name": "stderr",
     "output_type": "stream",
     "text": [
      "── \u001b[1mAttaching packages\u001b[22m ─────────────────────────────────────── tidyverse 1.2.1 ──\n",
      "\u001b[32m✔\u001b[39m \u001b[34mggplot2\u001b[39m 3.2.1     \u001b[32m✔\u001b[39m \u001b[34mpurrr  \u001b[39m 0.3.2\n",
      "\u001b[32m✔\u001b[39m \u001b[34mtibble \u001b[39m 2.1.3     \u001b[32m✔\u001b[39m \u001b[34mdplyr  \u001b[39m 0.8.3\n",
      "\u001b[32m✔\u001b[39m \u001b[34mtidyr  \u001b[39m 0.8.3     \u001b[32m✔\u001b[39m \u001b[34mstringr\u001b[39m 1.4.0\n",
      "\u001b[32m✔\u001b[39m \u001b[34mreadr  \u001b[39m 1.3.1     \u001b[32m✔\u001b[39m \u001b[34mforcats\u001b[39m 0.4.0\n",
      "── \u001b[1mConflicts\u001b[22m ────────────────────────────────────────── tidyverse_conflicts() ──\n",
      "\u001b[31m✖\u001b[39m \u001b[34mdplyr\u001b[39m::\u001b[32mfilter()\u001b[39m masks \u001b[34mstats\u001b[39m::filter()\n",
      "\u001b[31m✖\u001b[39m \u001b[34mdplyr\u001b[39m::\u001b[32mlag()\u001b[39m    masks \u001b[34mstats\u001b[39m::lag()\n",
      "Loading required package: xts\n",
      "Loading required package: zoo\n",
      "\n",
      "Attaching package: ‘zoo’\n",
      "\n",
      "The following objects are masked from ‘package:base’:\n",
      "\n",
      "    as.Date, as.Date.numeric\n",
      "\n",
      "Registered S3 method overwritten by 'xts':\n",
      "  method     from\n",
      "  as.zoo.xts zoo \n",
      "\n",
      "Attaching package: ‘xts’\n",
      "\n",
      "The following objects are masked from ‘package:dplyr’:\n",
      "\n",
      "    first, last\n",
      "\n",
      "Loading required package: TTR\n",
      "Registered S3 method overwritten by 'quantmod':\n",
      "  method            from\n",
      "  as.zoo.data.frame zoo \n",
      "Version 0.4-0 included new data defaults. See ?getSymbols.\n",
      "\n",
      "Attaching package: ‘PerformanceAnalytics’\n",
      "\n",
      "The following object is masked from ‘package:graphics’:\n",
      "\n",
      "    legend\n",
      "\n",
      "Registering fonts with R\n"
     ]
    }
   ],
   "source": [
    "library(tidyverse)\n",
    "library(ggthemes)\n",
    "library(odbc)\n",
    "library(plutoR)\n",
    "library(quantmod)\n",
    "library(PerformanceAnalytics)\n",
    "\n",
    "options(\"scipen\"=999)\n",
    "options(stringsAsFactors = FALSE)\n",
    "options(repr.plot.width=16, repr.plot.height=8)\n",
    "\n",
    "source(\"config.R\")\n",
    "source(\"goofy/plot.common.R\")\n",
    "\n",
    "#initialize\n",
    "famaFrench <- FamaFrench()"
   ]
  },
  {
   "cell_type": "code",
   "execution_count": 2,
   "metadata": {},
   "outputs": [
    {
     "name": "stderr",
     "output_type": "stream",
     "text": [
      "Warning message:\n",
      "“Missing values are always removed in SQL.\n",
      "Use `MIN(x, na.rm = TRUE)` to silence this warning\n",
      "This warning is displayed only once per session.”"
     ]
    }
   ],
   "source": [
    "momStartDt <- (famaFrench$MomentumDaily() %>% summarize(MAX = min(TIME_STAMP)) %>% collect())$MAX[[1]]\n",
    "mktStartDt <- (famaFrench$FiveFactor3x2Daily() %>% summarize(MAX = min(TIME_STAMP)) %>% collect())$MAX[[1]]\n",
    "startDt <- max(momStartDt, mktStartDt)\n",
    "\n",
    "hiMom <- famaFrench$MomentumDaily() %>%\n",
    "    filter(KEY_ID == 'HI_PRIOR' & TIME_STAMP >= startDt) %>%\n",
    "    select(TIME_STAMP, RET) %>%\n",
    "    collect() %>%\n",
    "    as.data.frame()\n",
    "\n",
    "loMom <- famaFrench$MomentumDaily() %>%\n",
    "    filter(KEY_ID == 'LO_PRIOR' & TIME_STAMP >= startDt) %>%\n",
    "    select(TIME_STAMP, RET) %>%\n",
    "    collect() %>%\n",
    "    as.data.frame()\n",
    "\n",
    "mktRet <- famaFrench$FiveFactor3x2Daily() %>%\n",
    "    inner_join(famaFrench$FiveFactor3x2Daily(), by=c('TIME_STAMP')) %>%\n",
    "    filter(KEY_ID.x == 'MKT-RF' & KEY_ID.y == 'RF' & TIME_STAMP >= startDt) %>%\n",
    "    mutate(R = RET.x + RET.y) %>%\n",
    "    select(TIME_STAMP, R) %>%\n",
    "    collect() %>%\n",
    "    as.data.frame()"
   ]
  },
  {
   "cell_type": "code",
   "execution_count": 3,
   "metadata": {},
   "outputs": [
    {
     "name": "stdout",
     "output_type": "stream",
     "text": [
      "           xts.hiMom.RET..hiMom.TIME_STAMP. xts.loMom.RET..loMom.TIME_STAMP.\n",
      "1963-07-01                            -0.98                            -0.56\n",
      "1963-07-02                             1.41                             0.20\n",
      "1963-07-03                             0.83                             0.49\n",
      "1963-07-05                             0.44                             0.42\n",
      "1963-07-08                            -0.92                            -0.39\n",
      "1963-07-09                             1.17                             0.13\n",
      "           xts.mktRet.R..mktRet.TIME_STAMP.\n",
      "1963-07-01                           -0.658\n",
      "1963-07-02                            0.802\n",
      "1963-07-03                            0.642\n",
      "1963-07-05                            0.412\n",
      "1963-07-08                           -0.618\n",
      "1963-07-09                            0.462\n",
      "           xts.hiMom.RET..hiMom.TIME_STAMP. xts.loMom.RET..loMom.TIME_STAMP.\n",
      "2019-06-21                            -0.40                            -0.64\n",
      "2019-06-24                            -0.93                            -1.69\n",
      "2019-06-25                            -1.15                            -0.54\n",
      "2019-06-26                            -0.66                             0.55\n",
      "2019-06-27                             1.85                             1.43\n",
      "2019-06-28                             1.60                             0.95\n",
      "           xts.mktRet.R..mktRet.TIME_STAMP.\n",
      "2019-06-21                           -0.201\n",
      "2019-06-24                           -0.331\n",
      "2019-06-25                           -0.971\n",
      "2019-06-26                           -0.051\n",
      "2019-06-27                            0.609\n",
      "2019-06-28                            0.689\n"
     ]
    }
   ],
   "source": [
    "retXts <- merge(xts(hiMom$RET, hiMom$TIME_STAMP), xts(loMom$RET, loMom$TIME_STAMP), xts(mktRet$R, mktRet$TIME_STAMP))\n",
    "retXts <- na.omit(retXts)\n",
    "\n",
    "print(head(retXts))\n",
    "print(tail(retXts))"
   ]
  },
  {
   "cell_type": "markdown",
   "metadata": {},
   "source": [
    "This notebook was created using [pluto](http://pluto.studio). Learn more [here](https://github.com/shyams80/pluto)"
   ]
  }
 ],
 "metadata": {
  "kernelspec": {
   "display_name": "R",
   "language": "R",
   "name": "ir"
  },
  "language_info": {
   "codemirror_mode": "r",
   "file_extension": ".r",
   "mimetype": "text/x-r-source",
   "name": "R",
   "pygments_lexer": "r",
   "version": "3.6.1"
  }
 },
 "nbformat": 4,
 "nbformat_minor": 2
}
