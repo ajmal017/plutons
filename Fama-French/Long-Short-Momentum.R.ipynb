{
 "cells": [
  {
   "cell_type": "markdown",
   "metadata": {},
   "source": [
    "# The Long and Short of Fama-French Momentum\n",
    "\n",
    "Most investors are long-only and do not have access to investment vehicles that go short. However, academic factor investing focuses mostly on long-short portfolios to show their persistence. The contribution of the short-side of the portfolio to aggregate performance cannot be trivialized. Here, we construct three portfolios out of the Fama-French Momentum data-set -- long-only, short-only and long-short -- to get an idea of how they intersect.\n",
    "\n",
    "The [Fama-French](https://mba.tuck.dartmouth.edu/pages/faculty/ken.french/Data_Library/det_10_port_form_pr_12_2_daily.html) data-set has returns for portfolios constructed out of each decile of prior returns. With **HI_PRIOR** and **LO_PRIOR** returns, long-only, long-short and short-only portfolio daily returns can be calculated. These returns can then be compared with market returns contained in the [5 Factors (2x3)](https://mba.tuck.dartmouth.edu/pages/faculty/ken.french/Data_Library/f-f_5_factors_2x3.html) data-set by adding back the **Rf** to **Rm-Rf**.\n",
    "\n",
    "The documentation for the Fama-French data-set can be found [here](https://plutopy.readthedocs.io/en/latest/FamaFrench.html) and [here](https://shyams80.github.io/plutoR/docs/reference/FamaFrench-class.html)"
   ]
  },
  {
   "cell_type": "code",
   "execution_count": 1,
   "metadata": {},
   "outputs": [
    {
     "name": "stderr",
     "output_type": "stream",
     "text": [
      "── \u001b[1mAttaching packages\u001b[22m ─────────────────────────────────────── tidyverse 1.2.1 ──\n",
      "\u001b[32m✔\u001b[39m \u001b[34mggplot2\u001b[39m 3.2.1     \u001b[32m✔\u001b[39m \u001b[34mpurrr  \u001b[39m 0.3.2\n",
      "\u001b[32m✔\u001b[39m \u001b[34mtibble \u001b[39m 2.1.3     \u001b[32m✔\u001b[39m \u001b[34mdplyr  \u001b[39m 0.8.3\n",
      "\u001b[32m✔\u001b[39m \u001b[34mtidyr  \u001b[39m 0.8.3     \u001b[32m✔\u001b[39m \u001b[34mstringr\u001b[39m 1.4.0\n",
      "\u001b[32m✔\u001b[39m \u001b[34mreadr  \u001b[39m 1.3.1     \u001b[32m✔\u001b[39m \u001b[34mforcats\u001b[39m 0.4.0\n",
      "── \u001b[1mConflicts\u001b[22m ────────────────────────────────────────── tidyverse_conflicts() ──\n",
      "\u001b[31m✖\u001b[39m \u001b[34mdplyr\u001b[39m::\u001b[32mfilter()\u001b[39m masks \u001b[34mstats\u001b[39m::filter()\n",
      "\u001b[31m✖\u001b[39m \u001b[34mdplyr\u001b[39m::\u001b[32mlag()\u001b[39m    masks \u001b[34mstats\u001b[39m::lag()\n",
      "Loading required package: xts\n",
      "Loading required package: zoo\n",
      "\n",
      "Attaching package: ‘zoo’\n",
      "\n",
      "The following objects are masked from ‘package:base’:\n",
      "\n",
      "    as.Date, as.Date.numeric\n",
      "\n",
      "Registered S3 method overwritten by 'xts':\n",
      "  method     from\n",
      "  as.zoo.xts zoo \n",
      "\n",
      "Attaching package: ‘xts’\n",
      "\n",
      "The following objects are masked from ‘package:dplyr’:\n",
      "\n",
      "    first, last\n",
      "\n",
      "Loading required package: TTR\n",
      "Registered S3 method overwritten by 'quantmod':\n",
      "  method            from\n",
      "  as.zoo.data.frame zoo \n",
      "Version 0.4-0 included new data defaults. See ?getSymbols.\n",
      "\n",
      "Attaching package: ‘PerformanceAnalytics’\n",
      "\n",
      "The following object is masked from ‘package:graphics’:\n",
      "\n",
      "    legend\n",
      "\n",
      "Registering fonts with R\n"
     ]
    }
   ],
   "source": [
    "library(tidyverse)\n",
    "library(ggthemes)\n",
    "library(odbc)\n",
    "library(plutoR)\n",
    "library(quantmod)\n",
    "library(PerformanceAnalytics)\n",
    "\n",
    "options(\"scipen\"=999)\n",
    "options(stringsAsFactors = FALSE)\n",
    "options(repr.plot.width=16, repr.plot.height=8)\n",
    "\n",
    "source(\"config.R\")\n",
    "source(\"goofy/plot.common.R\")\n",
    "\n",
    "#initialize\n",
    "famaFrench <- FamaFrench()"
   ]
  },
  {
   "cell_type": "code",
   "execution_count": 2,
   "metadata": {},
   "outputs": [
    {
     "name": "stderr",
     "output_type": "stream",
     "text": [
      "Warning message:\n",
      "“Missing values are always removed in SQL.\n",
      "Use `MIN(x, na.rm = TRUE)` to silence this warning\n",
      "This warning is displayed only once per session.”"
     ]
    },
    {
     "data": {
      "text/html": [
       "<table>\n",
       "<caption>A data.frame: 6 × 2</caption>\n",
       "<thead>\n",
       "\t<tr><th scope=col>TIME_STAMP</th><th scope=col>RET</th></tr>\n",
       "\t<tr><th scope=col>&lt;date&gt;</th><th scope=col>&lt;dbl&gt;</th></tr>\n",
       "</thead>\n",
       "<tbody>\n",
       "\t<tr><td>1963-07-01</td><td>-0.56</td></tr>\n",
       "\t<tr><td>1963-07-01</td><td>-0.38</td></tr>\n",
       "\t<tr><td>1963-07-02</td><td> 0.20</td></tr>\n",
       "\t<tr><td>1963-07-02</td><td> 0.58</td></tr>\n",
       "\t<tr><td>1963-07-03</td><td> 0.49</td></tr>\n",
       "\t<tr><td>1963-07-03</td><td> 0.51</td></tr>\n",
       "</tbody>\n",
       "</table>\n"
      ],
      "text/latex": [
       "A data.frame: 6 × 2\n",
       "\\begin{tabular}{r|ll}\n",
       " TIME\\_STAMP & RET\\\\\n",
       " <date> & <dbl>\\\\\n",
       "\\hline\n",
       "\t 1963-07-01 & -0.56\\\\\n",
       "\t 1963-07-01 & -0.38\\\\\n",
       "\t 1963-07-02 &  0.20\\\\\n",
       "\t 1963-07-02 &  0.58\\\\\n",
       "\t 1963-07-03 &  0.49\\\\\n",
       "\t 1963-07-03 &  0.51\\\\\n",
       "\\end{tabular}\n"
      ],
      "text/markdown": [
       "\n",
       "A data.frame: 6 × 2\n",
       "\n",
       "| TIME_STAMP &lt;date&gt; | RET &lt;dbl&gt; |\n",
       "|---|---|\n",
       "| 1963-07-01 | -0.56 |\n",
       "| 1963-07-01 | -0.38 |\n",
       "| 1963-07-02 |  0.20 |\n",
       "| 1963-07-02 |  0.58 |\n",
       "| 1963-07-03 |  0.49 |\n",
       "| 1963-07-03 |  0.51 |\n",
       "\n"
      ],
      "text/plain": [
       "  TIME_STAMP RET  \n",
       "1 1963-07-01 -0.56\n",
       "2 1963-07-01 -0.38\n",
       "3 1963-07-02  0.20\n",
       "4 1963-07-02  0.58\n",
       "5 1963-07-03  0.49\n",
       "6 1963-07-03  0.51"
      ]
     },
     "metadata": {},
     "output_type": "display_data"
    },
    {
     "data": {
      "text/html": [
       "<table>\n",
       "<caption>A data.frame: 6 × 2</caption>\n",
       "<thead>\n",
       "\t<tr><th scope=col>TIME_STAMP</th><th scope=col>RET</th></tr>\n",
       "\t<tr><th scope=col>&lt;date&gt;</th><th scope=col>&lt;dbl&gt;</th></tr>\n",
       "</thead>\n",
       "<tbody>\n",
       "\t<tr><td>1963-07-01</td><td>-0.98</td></tr>\n",
       "\t<tr><td>1963-07-01</td><td>-0.95</td></tr>\n",
       "\t<tr><td>1963-07-02</td><td> 1.41</td></tr>\n",
       "\t<tr><td>1963-07-02</td><td> 0.99</td></tr>\n",
       "\t<tr><td>1963-07-03</td><td> 0.83</td></tr>\n",
       "\t<tr><td>1963-07-03</td><td> 0.94</td></tr>\n",
       "</tbody>\n",
       "</table>\n"
      ],
      "text/latex": [
       "A data.frame: 6 × 2\n",
       "\\begin{tabular}{r|ll}\n",
       " TIME\\_STAMP & RET\\\\\n",
       " <date> & <dbl>\\\\\n",
       "\\hline\n",
       "\t 1963-07-01 & -0.98\\\\\n",
       "\t 1963-07-01 & -0.95\\\\\n",
       "\t 1963-07-02 &  1.41\\\\\n",
       "\t 1963-07-02 &  0.99\\\\\n",
       "\t 1963-07-03 &  0.83\\\\\n",
       "\t 1963-07-03 &  0.94\\\\\n",
       "\\end{tabular}\n"
      ],
      "text/markdown": [
       "\n",
       "A data.frame: 6 × 2\n",
       "\n",
       "| TIME_STAMP &lt;date&gt; | RET &lt;dbl&gt; |\n",
       "|---|---|\n",
       "| 1963-07-01 | -0.98 |\n",
       "| 1963-07-01 | -0.95 |\n",
       "| 1963-07-02 |  1.41 |\n",
       "| 1963-07-02 |  0.99 |\n",
       "| 1963-07-03 |  0.83 |\n",
       "| 1963-07-03 |  0.94 |\n",
       "\n"
      ],
      "text/plain": [
       "  TIME_STAMP RET  \n",
       "1 1963-07-01 -0.98\n",
       "2 1963-07-01 -0.95\n",
       "3 1963-07-02  1.41\n",
       "4 1963-07-02  0.99\n",
       "5 1963-07-03  0.83\n",
       "6 1963-07-03  0.94"
      ]
     },
     "metadata": {},
     "output_type": "display_data"
    },
    {
     "data": {
      "text/html": [
       "<table>\n",
       "<caption>A data.frame: 6 × 2</caption>\n",
       "<thead>\n",
       "\t<tr><th scope=col>TIME_STAMP</th><th scope=col>R</th></tr>\n",
       "\t<tr><th scope=col>&lt;date&gt;</th><th scope=col>&lt;dbl&gt;</th></tr>\n",
       "</thead>\n",
       "<tbody>\n",
       "\t<tr><td>1963-07-01</td><td>-0.658</td></tr>\n",
       "\t<tr><td>1963-07-02</td><td> 0.802</td></tr>\n",
       "\t<tr><td>1963-07-03</td><td> 0.642</td></tr>\n",
       "\t<tr><td>1963-07-05</td><td> 0.412</td></tr>\n",
       "\t<tr><td>1963-07-08</td><td>-0.618</td></tr>\n",
       "\t<tr><td>1963-07-09</td><td> 0.462</td></tr>\n",
       "</tbody>\n",
       "</table>\n"
      ],
      "text/latex": [
       "A data.frame: 6 × 2\n",
       "\\begin{tabular}{r|ll}\n",
       " TIME\\_STAMP & R\\\\\n",
       " <date> & <dbl>\\\\\n",
       "\\hline\n",
       "\t 1963-07-01 & -0.658\\\\\n",
       "\t 1963-07-02 &  0.802\\\\\n",
       "\t 1963-07-03 &  0.642\\\\\n",
       "\t 1963-07-05 &  0.412\\\\\n",
       "\t 1963-07-08 & -0.618\\\\\n",
       "\t 1963-07-09 &  0.462\\\\\n",
       "\\end{tabular}\n"
      ],
      "text/markdown": [
       "\n",
       "A data.frame: 6 × 2\n",
       "\n",
       "| TIME_STAMP &lt;date&gt; | R &lt;dbl&gt; |\n",
       "|---|---|\n",
       "| 1963-07-01 | -0.658 |\n",
       "| 1963-07-02 |  0.802 |\n",
       "| 1963-07-03 |  0.642 |\n",
       "| 1963-07-05 |  0.412 |\n",
       "| 1963-07-08 | -0.618 |\n",
       "| 1963-07-09 |  0.462 |\n",
       "\n"
      ],
      "text/plain": [
       "  TIME_STAMP R     \n",
       "1 1963-07-01 -0.658\n",
       "2 1963-07-02  0.802\n",
       "3 1963-07-03  0.642\n",
       "4 1963-07-05  0.412\n",
       "5 1963-07-08 -0.618\n",
       "6 1963-07-09  0.462"
      ]
     },
     "metadata": {},
     "output_type": "display_data"
    },
    {
     "data": {
      "text/html": [
       "<table>\n",
       "<caption>A data.frame: 6 × 2</caption>\n",
       "<thead>\n",
       "\t<tr><th></th><th scope=col>TIME_STAMP</th><th scope=col>RET</th></tr>\n",
       "\t<tr><th></th><th scope=col>&lt;date&gt;</th><th scope=col>&lt;dbl&gt;</th></tr>\n",
       "</thead>\n",
       "<tbody>\n",
       "\t<tr><th scope=row>28185</th><td>2019-06-26</td><td>0.55</td></tr>\n",
       "\t<tr><th scope=row>28186</th><td>2019-06-26</td><td>1.69</td></tr>\n",
       "\t<tr><th scope=row>28187</th><td>2019-06-27</td><td>1.43</td></tr>\n",
       "\t<tr><th scope=row>28188</th><td>2019-06-27</td><td>1.07</td></tr>\n",
       "\t<tr><th scope=row>28189</th><td>2019-06-28</td><td>0.95</td></tr>\n",
       "\t<tr><th scope=row>28190</th><td>2019-06-28</td><td>1.24</td></tr>\n",
       "</tbody>\n",
       "</table>\n"
      ],
      "text/latex": [
       "A data.frame: 6 × 2\n",
       "\\begin{tabular}{r|ll}\n",
       "  & TIME\\_STAMP & RET\\\\\n",
       "  & <date> & <dbl>\\\\\n",
       "\\hline\n",
       "\t28185 & 2019-06-26 & 0.55\\\\\n",
       "\t28186 & 2019-06-26 & 1.69\\\\\n",
       "\t28187 & 2019-06-27 & 1.43\\\\\n",
       "\t28188 & 2019-06-27 & 1.07\\\\\n",
       "\t28189 & 2019-06-28 & 0.95\\\\\n",
       "\t28190 & 2019-06-28 & 1.24\\\\\n",
       "\\end{tabular}\n"
      ],
      "text/markdown": [
       "\n",
       "A data.frame: 6 × 2\n",
       "\n",
       "| <!--/--> | TIME_STAMP &lt;date&gt; | RET &lt;dbl&gt; |\n",
       "|---|---|---|\n",
       "| 28185 | 2019-06-26 | 0.55 |\n",
       "| 28186 | 2019-06-26 | 1.69 |\n",
       "| 28187 | 2019-06-27 | 1.43 |\n",
       "| 28188 | 2019-06-27 | 1.07 |\n",
       "| 28189 | 2019-06-28 | 0.95 |\n",
       "| 28190 | 2019-06-28 | 1.24 |\n",
       "\n"
      ],
      "text/plain": [
       "      TIME_STAMP RET \n",
       "28185 2019-06-26 0.55\n",
       "28186 2019-06-26 1.69\n",
       "28187 2019-06-27 1.43\n",
       "28188 2019-06-27 1.07\n",
       "28189 2019-06-28 0.95\n",
       "28190 2019-06-28 1.24"
      ]
     },
     "metadata": {},
     "output_type": "display_data"
    },
    {
     "data": {
      "text/html": [
       "<table>\n",
       "<caption>A data.frame: 6 × 2</caption>\n",
       "<thead>\n",
       "\t<tr><th></th><th scope=col>TIME_STAMP</th><th scope=col>RET</th></tr>\n",
       "\t<tr><th></th><th scope=col>&lt;date&gt;</th><th scope=col>&lt;dbl&gt;</th></tr>\n",
       "</thead>\n",
       "<tbody>\n",
       "\t<tr><th scope=row>28185</th><td>2019-06-26</td><td>-0.66</td></tr>\n",
       "\t<tr><th scope=row>28186</th><td>2019-06-26</td><td>-0.51</td></tr>\n",
       "\t<tr><th scope=row>28187</th><td>2019-06-27</td><td> 1.85</td></tr>\n",
       "\t<tr><th scope=row>28188</th><td>2019-06-27</td><td> 0.47</td></tr>\n",
       "\t<tr><th scope=row>28189</th><td>2019-06-28</td><td> 1.60</td></tr>\n",
       "\t<tr><th scope=row>28190</th><td>2019-06-28</td><td> 0.35</td></tr>\n",
       "</tbody>\n",
       "</table>\n"
      ],
      "text/latex": [
       "A data.frame: 6 × 2\n",
       "\\begin{tabular}{r|ll}\n",
       "  & TIME\\_STAMP & RET\\\\\n",
       "  & <date> & <dbl>\\\\\n",
       "\\hline\n",
       "\t28185 & 2019-06-26 & -0.66\\\\\n",
       "\t28186 & 2019-06-26 & -0.51\\\\\n",
       "\t28187 & 2019-06-27 &  1.85\\\\\n",
       "\t28188 & 2019-06-27 &  0.47\\\\\n",
       "\t28189 & 2019-06-28 &  1.60\\\\\n",
       "\t28190 & 2019-06-28 &  0.35\\\\\n",
       "\\end{tabular}\n"
      ],
      "text/markdown": [
       "\n",
       "A data.frame: 6 × 2\n",
       "\n",
       "| <!--/--> | TIME_STAMP &lt;date&gt; | RET &lt;dbl&gt; |\n",
       "|---|---|---|\n",
       "| 28185 | 2019-06-26 | -0.66 |\n",
       "| 28186 | 2019-06-26 | -0.51 |\n",
       "| 28187 | 2019-06-27 |  1.85 |\n",
       "| 28188 | 2019-06-27 |  0.47 |\n",
       "| 28189 | 2019-06-28 |  1.60 |\n",
       "| 28190 | 2019-06-28 |  0.35 |\n",
       "\n"
      ],
      "text/plain": [
       "      TIME_STAMP RET  \n",
       "28185 2019-06-26 -0.66\n",
       "28186 2019-06-26 -0.51\n",
       "28187 2019-06-27  1.85\n",
       "28188 2019-06-27  0.47\n",
       "28189 2019-06-28  1.60\n",
       "28190 2019-06-28  0.35"
      ]
     },
     "metadata": {},
     "output_type": "display_data"
    },
    {
     "data": {
      "text/html": [
       "<table>\n",
       "<caption>A data.frame: 6 × 2</caption>\n",
       "<thead>\n",
       "\t<tr><th></th><th scope=col>TIME_STAMP</th><th scope=col>R</th></tr>\n",
       "\t<tr><th></th><th scope=col>&lt;date&gt;</th><th scope=col>&lt;dbl&gt;</th></tr>\n",
       "</thead>\n",
       "<tbody>\n",
       "\t<tr><th scope=row>14090</th><td>2019-06-21</td><td>-0.201</td></tr>\n",
       "\t<tr><th scope=row>14091</th><td>2019-06-24</td><td>-0.331</td></tr>\n",
       "\t<tr><th scope=row>14092</th><td>2019-06-25</td><td>-0.971</td></tr>\n",
       "\t<tr><th scope=row>14093</th><td>2019-06-26</td><td>-0.051</td></tr>\n",
       "\t<tr><th scope=row>14094</th><td>2019-06-27</td><td> 0.609</td></tr>\n",
       "\t<tr><th scope=row>14095</th><td>2019-06-28</td><td> 0.689</td></tr>\n",
       "</tbody>\n",
       "</table>\n"
      ],
      "text/latex": [
       "A data.frame: 6 × 2\n",
       "\\begin{tabular}{r|ll}\n",
       "  & TIME\\_STAMP & R\\\\\n",
       "  & <date> & <dbl>\\\\\n",
       "\\hline\n",
       "\t14090 & 2019-06-21 & -0.201\\\\\n",
       "\t14091 & 2019-06-24 & -0.331\\\\\n",
       "\t14092 & 2019-06-25 & -0.971\\\\\n",
       "\t14093 & 2019-06-26 & -0.051\\\\\n",
       "\t14094 & 2019-06-27 &  0.609\\\\\n",
       "\t14095 & 2019-06-28 &  0.689\\\\\n",
       "\\end{tabular}\n"
      ],
      "text/markdown": [
       "\n",
       "A data.frame: 6 × 2\n",
       "\n",
       "| <!--/--> | TIME_STAMP &lt;date&gt; | R &lt;dbl&gt; |\n",
       "|---|---|---|\n",
       "| 14090 | 2019-06-21 | -0.201 |\n",
       "| 14091 | 2019-06-24 | -0.331 |\n",
       "| 14092 | 2019-06-25 | -0.971 |\n",
       "| 14093 | 2019-06-26 | -0.051 |\n",
       "| 14094 | 2019-06-27 |  0.609 |\n",
       "| 14095 | 2019-06-28 |  0.689 |\n",
       "\n"
      ],
      "text/plain": [
       "      TIME_STAMP R     \n",
       "14090 2019-06-21 -0.201\n",
       "14091 2019-06-24 -0.331\n",
       "14092 2019-06-25 -0.971\n",
       "14093 2019-06-26 -0.051\n",
       "14094 2019-06-27  0.609\n",
       "14095 2019-06-28  0.689"
      ]
     },
     "metadata": {},
     "output_type": "display_data"
    }
   ],
   "source": [
    "momStartDt <- (famaFrench$MomentumDaily() %>% summarize(MAX = min(TIME_STAMP)) %>% collect())$MAX[[1]]\n",
    "mktStartDt <- (famaFrench$FiveFactor3x2Daily() %>% summarize(MAX = min(TIME_STAMP)) %>% collect())$MAX[[1]]\n",
    "startDt <- max(momStartDt, mktStartDt)\n",
    "\n",
    "hiMom <- famaFrench$MomentumDaily() %>%\n",
    "    filter(KEY_ID == 'HI_PRIOR' & TIME_STAMP >= startDt) %>%\n",
    "    select(TIME_STAMP, RET) %>%\n",
    "    collect() %>%\n",
    "    as.data.frame()\n",
    "\n",
    "loMom <- famaFrench$MomentumDaily() %>%\n",
    "    filter(KEY_ID == 'LO_PRIOR' & TIME_STAMP >= startDt) %>%\n",
    "    select(TIME_STAMP, RET) %>%\n",
    "    collect() %>%\n",
    "    as.data.frame()\n",
    "\n",
    "mktRet <- famaFrench$FiveFactor3x2Daily() %>%\n",
    "    inner_join(famaFrench$FiveFactor3x2Daily(), by=c('TIME_STAMP')) %>%\n",
    "    filter(KEY_ID.x == 'MKT-RF' & KEY_ID.y == 'RF' & TIME_STAMP >= startDt) %>%\n",
    "    mutate(R = RET.x + RET.y) %>%\n",
    "    select(TIME_STAMP, R) %>%\n",
    "    collect() %>%\n",
    "    as.data.frame()\n",
    "\n",
    "head(loMom)\n",
    "head(hiMom)\n",
    "head(mktRet)\n",
    "\n",
    "tail(loMom)\n",
    "tail(hiMom)\n",
    "tail(mktRet)"
   ]
  },
  {
   "cell_type": "markdown",
   "metadata": {},
   "source": [
    "This notebook was created using [pluto](http://pluto.studio). Learn more [here](https://github.com/shyams80/pluto)"
   ]
  }
 ],
 "metadata": {
  "kernelspec": {
   "display_name": "R",
   "language": "R",
   "name": "ir"
  },
  "language_info": {
   "codemirror_mode": "r",
   "file_extension": ".r",
   "mimetype": "text/x-r-source",
   "name": "R",
   "pygments_lexer": "r",
   "version": "3.6.1"
  }
 },
 "nbformat": 4,
 "nbformat_minor": 2
}
