{
 "cells": [
  {
   "cell_type": "markdown",
   "metadata": {},
   "source": [
    "# Equity Risk Premium\n",
    "\n",
    "The Fama-French 5-factor [data-set](https://mba.tuck.dartmouth.edu/pages/faculty/ken.french/Data_Library/f-f_5_factors_2x3.html) has the Rm-Rf field denoting the market's excess return over the risk-free rate.\n",
    "\n",
    "Cumulative excess returns over different rolling windows (5, 10, 20 yrs) should give us an idea of how equity investors have been compensated for the additional risk that they took.\n",
    "\n",
    "Documentation for the Fama-French data-set on pluto: [python](https://plutopy.readthedocs.io/en/latest/FamaFrench.html), [R](https://shyams80.github.io/plutoR/docs/reference/FamaFrench-class.html)"
   ]
  },
  {
   "cell_type": "code",
   "execution_count": null,
   "metadata": {},
   "outputs": [],
   "source": [
    "library(tidyverse)\n",
    "library(ggthemes)\n",
    "library(odbc)\n",
    "library(plutoR)\n",
    "library(quantmod)\n",
    "library(PerformanceAnalytics)\n",
    "\n",
    "options(\"scipen\"=999)\n",
    "options(stringsAsFactors = FALSE)\n",
    "options(repr.plot.width=16, repr.plot.height=8)\n",
    "\n",
    "source(\"config.R\")\n",
    "source(\"goofy/plot.common.R\")\n",
    "\n",
    "#initialize\n",
    "famaFrench <- FamaFrench()"
   ]
  },
  {
   "cell_type": "code",
   "execution_count": null,
   "metadata": {},
   "outputs": [],
   "source": [
    "dailyExs <- famaFrench$FiveFactor3x2Daily() %>%\n",
    "    filter(KEY_ID == 'MKT-RF') %>%\n",
    "    select(TIME_STAMP, RET) %>%\n",
    "    collect()\n",
    "    \n",
    "dailyExsXts <- xts(dailyExs$RET/100, dailyExs$TIME_STAMP)\n",
    "\n",
    "print(\"Excess Returns: \")\n",
    "print(head(dailyExsXts))\n",
    "print(tail(dailyExsXts))"
   ]
  },
  {
   "cell_type": "code",
   "execution_count": null,
   "metadata": {},
   "outputs": [],
   "source": [
    "plotRollingReturns <- function(numYears, retXts){\n",
    "    numPer <- 220 * numYears\n",
    "    retUnits <- \"days\"\n",
    "    \n",
    "    rollRet <- rollapply(retXts, numPer, Return.cumulative)\n",
    "    rollRet <- 100*na.omit(rollRet)\n",
    "    names(rollRet) <- c('RET')\n",
    "    \n",
    "    rollRetDf <- data.frame(rollRet)\n",
    "    rollRetDf$T <- index(rollRet)\n",
    "\n",
    "    firstDate <- first(index(rollRet))\n",
    "    lastDate <- last(index(rollRet))\n",
    "    xAxisTicks <- seq(from=firstDate, to=lastDate, length.out=10)\n",
    "\n",
    "    ggplot(rollRetDf, aes(x=T, y=RET)) +\n",
    "        theme_economist() +\n",
    "        geom_line() +\n",
    "        scale_x_date(breaks = xAxisTicks) +\n",
    "        labs(x='', y='cumulative return (%)', color='', \n",
    "             title=sprintf(\"Excess %d-year Rolling Returns (%s)\", numYears, retUnits), \n",
    "             subtitle=sprintf(\"[%s:%s]\", firstDate, lastDate)) +\n",
    "        annotate(\"text\", x=lastDate, y=min(rollRetDf$RET, na.rm=T), label = \"@StockViz\", \n",
    "                 hjust=1.1, vjust=-1.1, col=\"white\", cex=6, fontface = \"bold\", alpha = 0.8)\n",
    "}"
   ]
  },
  {
   "cell_type": "code",
   "execution_count": null,
   "metadata": {},
   "outputs": [],
   "source": [
    "#5-year rolling returns\n",
    "plotRollingReturns(5, dailyExsXts)"
   ]
  },
  {
   "cell_type": "code",
   "execution_count": null,
   "metadata": {},
   "outputs": [],
   "source": [
    "#10-year rolling returns\n",
    "plotRollingReturns(10, dailyExsXts)"
   ]
  },
  {
   "cell_type": "code",
   "execution_count": null,
   "metadata": {},
   "outputs": [],
   "source": [
    "#20-year rolling returns\n",
    "plotRollingReturns(20, dailyExsXts)"
   ]
  }
 ],
 "metadata": {
  "kernelspec": {
   "display_name": "R",
   "language": "R",
   "name": "ir"
  },
  "language_info": {
   "codemirror_mode": "r",
   "file_extension": ".r",
   "mimetype": "text/x-r-source",
   "name": "R",
   "pygments_lexer": "r",
   "version": "3.4.4"
  }
 },
 "nbformat": 4,
 "nbformat_minor": 2
}
