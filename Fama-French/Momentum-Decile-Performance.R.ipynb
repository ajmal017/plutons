{
 "cells": [
  {
   "cell_type": "markdown",
   "metadata": {},
   "source": [
    "# Momentum Decile Performance\n",
    "\n",
    "The [Fama-French](https://mba.tuck.dartmouth.edu/pages/faculty/ken.french/Data_Library/det_10_port_form_pr_12_2_daily.html) data-set has returns for portfolios constructed out of each decile of prior returns. Labeled LO_PRIOR, PRIOR_2..9 and HI_PRIOR, they represent portfolios who's prior returns were the lowest through to the highest.\n",
    "\n",
    "Here, we plot the returns of these portfolios to get a sense for how they have behaved through time.\n",
    "\n",
    "The documentation for the Fama-French data-set can be found [here](https://plutopy.readthedocs.io/en/latest/FamaFrench.html) and [here](https://shyams80.github.io/plutoR/docs/reference/FamaFrench-class.html)"
   ]
  },
  {
   "cell_type": "code",
   "execution_count": 1,
   "metadata": {},
   "outputs": [
    {
     "name": "stderr",
     "output_type": "stream",
     "text": [
      "── \u001b[1mAttaching packages\u001b[22m ─────────────────────────────────────── tidyverse 1.2.1 ──\n",
      "\u001b[32m✔\u001b[39m \u001b[34mggplot2\u001b[39m 3.2.1     \u001b[32m✔\u001b[39m \u001b[34mpurrr  \u001b[39m 0.3.2\n",
      "\u001b[32m✔\u001b[39m \u001b[34mtibble \u001b[39m 2.1.3     \u001b[32m✔\u001b[39m \u001b[34mdplyr  \u001b[39m 0.8.3\n",
      "\u001b[32m✔\u001b[39m \u001b[34mtidyr  \u001b[39m 0.8.3     \u001b[32m✔\u001b[39m \u001b[34mstringr\u001b[39m 1.4.0\n",
      "\u001b[32m✔\u001b[39m \u001b[34mreadr  \u001b[39m 1.3.1     \u001b[32m✔\u001b[39m \u001b[34mforcats\u001b[39m 0.4.0\n",
      "── \u001b[1mConflicts\u001b[22m ────────────────────────────────────────── tidyverse_conflicts() ──\n",
      "\u001b[31m✖\u001b[39m \u001b[34mdplyr\u001b[39m::\u001b[32mfilter()\u001b[39m masks \u001b[34mstats\u001b[39m::filter()\n",
      "\u001b[31m✖\u001b[39m \u001b[34mdplyr\u001b[39m::\u001b[32mlag()\u001b[39m    masks \u001b[34mstats\u001b[39m::lag()\n",
      "Loading required package: xts\n",
      "Loading required package: zoo\n",
      "\n",
      "Attaching package: ‘zoo’\n",
      "\n",
      "The following objects are masked from ‘package:base’:\n",
      "\n",
      "    as.Date, as.Date.numeric\n",
      "\n",
      "Registered S3 method overwritten by 'xts':\n",
      "  method     from\n",
      "  as.zoo.xts zoo \n",
      "\n",
      "Attaching package: ‘xts’\n",
      "\n",
      "The following objects are masked from ‘package:dplyr’:\n",
      "\n",
      "    first, last\n",
      "\n",
      "Loading required package: TTR\n",
      "Registered S3 method overwritten by 'quantmod':\n",
      "  method            from\n",
      "  as.zoo.data.frame zoo \n",
      "Version 0.4-0 included new data defaults. See ?getSymbols.\n",
      "\n",
      "Attaching package: ‘lubridate’\n",
      "\n",
      "The following object is masked from ‘package:base’:\n",
      "\n",
      "    date\n",
      "\n",
      "\n",
      "Attaching package: ‘reshape2’\n",
      "\n",
      "The following object is masked from ‘package:tidyr’:\n",
      "\n",
      "    smiths\n",
      "\n",
      "\n",
      "Attaching package: ‘PerformanceAnalytics’\n",
      "\n",
      "The following object is masked from ‘package:graphics’:\n",
      "\n",
      "    legend\n",
      "\n",
      "Registering fonts with R\n"
     ]
    }
   ],
   "source": [
    "library(tidyverse)\n",
    "library(ggthemes)\n",
    "library(odbc)\n",
    "library(plutoR)\n",
    "library(quantmod)\n",
    "library(lubridate)\n",
    "library(reshape2)\n",
    "library(PerformanceAnalytics)\n",
    "library(ggrepel)\n",
    "library(tbl2xts)\n",
    "\n",
    "options(\"scipen\"=999)\n",
    "options(stringsAsFactors = FALSE)\n",
    "options(repr.plot.width=16, repr.plot.height=8)\n",
    "\n",
    "source(\"config.R\")\n",
    "source(\"goofy/plot.common.R\")\n",
    "\n",
    "#initialize\n",
    "famaFrench <- FamaFrench()"
   ]
  },
  {
   "cell_type": "code",
   "execution_count": 2,
   "metadata": {},
   "outputs": [
    {
     "name": "stdout",
     "output_type": "stream",
     "text": [
      "            HI_PRIOR  LO_PRIOR   PRIOR_2   PRIOR_3   PRIOR_4   PRIOR_5\n",
      "2015-01-02 1.0004000 1.0028000 0.9981000 0.9989000 0.9986000 0.9985000\n",
      "2015-01-05 0.9854940 0.9740196 0.9645638 0.9757255 0.9733354 0.9777312\n",
      "2015-01-06 0.9759347 0.9590197 0.9475875 0.9602115 0.9598061 0.9646296\n",
      "2015-01-07 0.9923305 0.9595951 0.9547892 0.9670290 0.9645091 0.9733113\n",
      "2015-01-08 1.0153525 0.9813780 0.9720709 0.9852091 0.9799413 0.9903442\n",
      "2015-01-09 1.0095650 0.9766673 0.9661412 0.9787068 0.9696519 0.9800446\n",
      "             PRIOR_6   PRIOR_7   PRIOR_8   PRIOR_9\n",
      "2015-01-02 0.9995000 0.9973000 0.9989000 0.9973000\n",
      "2015-01-05 0.9785105 0.9804456 0.9828177 0.9840359\n",
      "2015-01-06 0.9662791 0.9738766 0.9728913 0.9798046\n",
      "2015-01-07 0.9760385 0.9852710 0.9876792 0.9945996\n",
      "2015-01-08 0.9929240 1.0009368 1.0045685 1.0098170\n",
      "2015-01-09 0.9829948 0.9905271 0.9938196 1.0034551\n"
     ]
    },
    {
     "ename": "ERROR",
     "evalue": "Error in array(ans, c(len.a%/%d2, d.ans), if (!is.null(names(dn.ans)) || : length of 'dimnames' [1] not equal to array extent\n",
     "output_type": "error",
     "traceback": [
      "Error in array(ans, c(len.a%/%d2, d.ans), if (!is.null(names(dn.ans)) || : length of 'dimnames' [1] not equal to array extent\nTraceback:\n",
      "1. apply(valueWtdPx, 2, yearlyReturn)",
      "2. array(ans, c(len.a%/%d2, d.ans), if (!is.null(names(dn.ans)) || \n .     !all(vapply(dn.ans, is.null, NA))) dn.ans)"
     ]
    }
   ],
   "source": [
    "#startDt <- (famaFrench$MomentumDaily() %>% summarize(MAX = min(TIME_STAMP)) %>% collect())$MAX[[1]]\n",
    "startDt <- as.Date(\"2015-01-01\")\n",
    "\n",
    "valueWtd <- famaFrench$MomentumDaily() %>%\n",
    "    filter(RET_TYPE == 'AVWRD' & TIME_STAMP >= startDt) %>%\n",
    "    mutate(R = RET/100) %>%\n",
    "    select(DATE = TIME_STAMP, KEY_ID, R) %>%\n",
    "    collect() %>% \n",
    "    # the KEY_ID column has decile names HI_PRIOR...LO_PRIOR\n",
    "    # we want HI_PRIOR...LO_PRIOR as column names\n",
    "    mutate(group=1) %>%\n",
    "    spread(KEY_ID, R) %>%\n",
    "    select(-group)\n",
    "    \n",
    "valueWtdPx <- valueWtd %>% \n",
    "    # transform the return stream to prices\n",
    "    # and convert to xts\n",
    "    mutate_each(list(~ cumprod(. + 1) ), -DATE) %>% \n",
    "    tbl_xts() \n",
    "\n",
    "print(head(valueWtdPx))\n",
    "\n",
    "valueWtdRets <- apply(valueWtdPx, 2, yearlyReturn)\n",
    "print(valueWtdRets)\n",
    "\n",
    "valueWtdRet <- valueWtd %>% \n",
    "    tbl_xts()"
   ]
  },
  {
   "cell_type": "code",
   "execution_count": 3,
   "metadata": {},
   "outputs": [],
   "source": [
    "plotAnnualReturns <- function(yearlies, mainTitle){\n",
    "    yDf <- data.frame(yearlies)\n",
    "    yDf$T <- year(index(yearlies))\n",
    "\n",
    "    toPlot <- melt(yDf, id='T')\n",
    "\n",
    "    ggplot(toPlot, aes(x=T, y=value, fill=variable)) +\n",
    "        theme_economist() +\n",
    "        geom_bar(stat=\"identity\", position=position_dodge()) +\n",
    "        scale_x_continuous(labels=yDf$T, breaks=yDf$T) +\n",
    "        geom_text_repel(aes(label= round(value, 2)), position = position_dodge(0.9)) +\n",
    "        coord_flip() +\n",
    "        labs(x='', y='(%)', fill='', title=mainTitle, subtitle=\"Annual Returns\") +\n",
    "        annotate(\"text\", x=max(yDf$T), y=min(toPlot$value), \n",
    "                 label = \"@StockViz\", hjust=1.1, vjust=-1.1, \n",
    "                 col=\"white\", cex=6, fontface = \"bold\", alpha = 0.8)  \n",
    "}"
   ]
  },
  {
   "cell_type": "markdown",
   "metadata": {},
   "source": [
    "This notebook was created using [pluto](http://pluto.studio). Learn more [here](https://github.com/shyams80/pluto)"
   ]
  }
 ],
 "metadata": {
  "kernelspec": {
   "display_name": "R",
   "language": "R",
   "name": "ir"
  },
  "language_info": {
   "codemirror_mode": "r",
   "file_extension": ".r",
   "mimetype": "text/x-r-source",
   "name": "R",
   "pygments_lexer": "r",
   "version": "3.6.1"
  }
 },
 "nbformat": 4,
 "nbformat_minor": 2
}
