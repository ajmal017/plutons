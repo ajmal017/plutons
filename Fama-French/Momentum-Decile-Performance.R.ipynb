{
 "cells": [
  {
   "cell_type": "markdown",
   "metadata": {},
   "source": [
    "# Momentum Decile Performance\n",
    "\n",
    "The [Fama-French](https://mba.tuck.dartmouth.edu/pages/faculty/ken.french/Data_Library/det_10_port_form_pr_12_2_daily.html) data-set has returns for portfolios constructed out of each decile of prior returns. Labeled LO_PRIOR, PRIOR_2..9 and HI_PRIOR, they represent portfolios who's prior returns were the lowest through to the highest.\n",
    "\n",
    "Here, we plot the returns of these portfolios to get a sense for how they have behaved through time.\n",
    "\n",
    "The documentation for the Fama-French data-set can be found [here](https://plutopy.readthedocs.io/en/latest/FamaFrench.html) and [here](https://shyams80.github.io/plutoR/docs/reference/FamaFrench-class.html)"
   ]
  },
  {
   "cell_type": "code",
   "execution_count": null,
   "metadata": {},
   "outputs": [],
   "source": [
    "library(tidyverse)\n",
    "library(ggthemes)\n",
    "library(odbc)\n",
    "library(plutoR)\n",
    "library(quantmod)\n",
    "library(lubridate)\n",
    "library(reshape2)\n",
    "library(PerformanceAnalytics)\n",
    "library(ggrepel)\n",
    "library(tbl2xts)\n",
    "\n",
    "options(\"scipen\"=999)\n",
    "options(stringsAsFactors = FALSE)\n",
    "options(repr.plot.width=16, repr.plot.height=8)\n",
    "\n",
    "source(\"config.R\")\n",
    "source(\"goofy/plot.common.R\")\n",
    "\n",
    "#initialize\n",
    "famaFrench <- FamaFrench()"
   ]
  },
  {
   "cell_type": "code",
   "execution_count": null,
   "metadata": {},
   "outputs": [],
   "source": [
    "#startDt <- (famaFrench$MomentumDaily() %>% summarize(MAX = min(TIME_STAMP)) %>% collect())$MAX[[1]]\n",
    "startDt <- as.Date(\"2019-01-01\")\n",
    "\n",
    "valueWtd <- famaFrench$MomentumDaily() %>%\n",
    "    filter(RET_TYPE == 'AVWRD' & TIME_STAMP >= startDt) %>%\n",
    "    mutate(R = RET/100) %>%\n",
    "    select(DATE = TIME_STAMP, KEY_ID, R) %>%\n",
    "    collect() %>% \n",
    "    # the KEY_ID column has decile names HI_PRIOR...LO_PRIOR\n",
    "    # we want HI_PRIOR...LO_PRIOR as column names\n",
    "    mutate(group=1) %>%\n",
    "    spread(KEY_ID, R) %>%\n",
    "    select(-group)\n",
    "    \n",
    "valueWtdPx <- valueWtd %>% \n",
    "    # transform the return stream to prices\n",
    "    # and convert to xts\n",
    "    mutate_each(list(~ cumprod(. + 1) ), -DATE) %>% \n",
    "    tbl_xts()\n",
    "\n",
    "valueWtdRet <- valueWtd %>% \n",
    "    tbl_xts()"
   ]
  },
  {
   "cell_type": "code",
   "execution_count": null,
   "metadata": {},
   "outputs": [],
   "source": [
    "plotAnnualReturns <- function(yearlies, mainTitle){\n",
    "    yDf <- data.frame(yearlies)\n",
    "    yDf$T <- year(index(yearlies))\n",
    "\n",
    "    toPlot <- melt(yDf, id='T')\n",
    "\n",
    "    ggplot(toPlot, aes(x=T, y=value, fill=variable)) +\n",
    "        theme_economist() +\n",
    "        geom_bar(stat=\"identity\", position=position_dodge()) +\n",
    "        scale_x_continuous(labels=yDf$T, breaks=yDf$T) +\n",
    "        geom_text_repel(aes(label= round(value, 2)), position = position_dodge(0.9)) +\n",
    "        coord_flip() +\n",
    "        labs(x='', y='(%)', fill='', title=mainTitle, subtitle=\"Annual Returns\") +\n",
    "        annotate(\"text\", x=max(yDf$T), y=min(toPlot$value), \n",
    "                 label = \"@StockViz\", hjust=1.1, vjust=-1.1, \n",
    "                 col=\"white\", cex=6, fontface = \"bold\", alpha = 0.8)  \n",
    "}"
   ]
  },
  {
   "cell_type": "markdown",
   "metadata": {},
   "source": [
    "This notebook was created using [pluto](http://pluto.studio). Learn more [here](https://github.com/shyams80/pluto)"
   ]
  }
 ],
 "metadata": {
  "kernelspec": {
   "display_name": "R",
   "language": "R",
   "name": "ir"
  },
  "language_info": {
   "codemirror_mode": "r",
   "file_extension": ".r",
   "mimetype": "text/x-r-source",
   "name": "R",
   "pygments_lexer": "r",
   "version": "3.4.4"
  }
 },
 "nbformat": 4,
 "nbformat_minor": 2
}
