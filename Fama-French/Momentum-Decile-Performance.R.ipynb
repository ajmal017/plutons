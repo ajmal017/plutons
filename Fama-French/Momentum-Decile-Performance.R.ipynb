{
 "cells": [
  {
   "cell_type": "markdown",
   "metadata": {},
   "source": [
    "# Momentum Decile Performance\n",
    "\n",
    "The [Fama-French](https://mba.tuck.dartmouth.edu/pages/faculty/ken.french/Data_Library/det_10_port_form_pr_12_2_daily.html) data-set has returns for portfolios constructed out of each decile of prior returns. Labeled LO_PRIOR, PRIOR_2..9 and HI_PRIOR, they represent portfolios who's prior returns were the lowest through to the highest.\n",
    "\n",
    "Here, we plot the returns of these portfolios to get a sense for how they have behaved through time.\n",
    "\n",
    "The documentation for the Fama-French data-set can be found [here](https://plutopy.readthedocs.io/en/latest/FamaFrench.html) and [here](https://shyams80.github.io/plutoR/docs/reference/FamaFrench-class.html)"
   ]
  },
  {
   "cell_type": "code",
   "execution_count": 1,
   "metadata": {},
   "outputs": [
    {
     "name": "stderr",
     "output_type": "stream",
     "text": [
      "── \u001b[1mAttaching packages\u001b[22m ─────────────────────────────────────── tidyverse 1.2.1 ──\n",
      "\u001b[32m✔\u001b[39m \u001b[34mggplot2\u001b[39m 3.2.1     \u001b[32m✔\u001b[39m \u001b[34mpurrr  \u001b[39m 0.3.2\n",
      "\u001b[32m✔\u001b[39m \u001b[34mtibble \u001b[39m 2.1.3     \u001b[32m✔\u001b[39m \u001b[34mdplyr  \u001b[39m 0.8.3\n",
      "\u001b[32m✔\u001b[39m \u001b[34mtidyr  \u001b[39m 0.8.3     \u001b[32m✔\u001b[39m \u001b[34mstringr\u001b[39m 1.4.0\n",
      "\u001b[32m✔\u001b[39m \u001b[34mreadr  \u001b[39m 1.3.1     \u001b[32m✔\u001b[39m \u001b[34mforcats\u001b[39m 0.4.0\n",
      "── \u001b[1mConflicts\u001b[22m ────────────────────────────────────────── tidyverse_conflicts() ──\n",
      "\u001b[31m✖\u001b[39m \u001b[34mdplyr\u001b[39m::\u001b[32mfilter()\u001b[39m masks \u001b[34mstats\u001b[39m::filter()\n",
      "\u001b[31m✖\u001b[39m \u001b[34mdplyr\u001b[39m::\u001b[32mlag()\u001b[39m    masks \u001b[34mstats\u001b[39m::lag()\n",
      "Loading required package: xts\n",
      "Loading required package: zoo\n",
      "\n",
      "Attaching package: ‘zoo’\n",
      "\n",
      "The following objects are masked from ‘package:base’:\n",
      "\n",
      "    as.Date, as.Date.numeric\n",
      "\n",
      "Registered S3 method overwritten by 'xts':\n",
      "  method     from\n",
      "  as.zoo.xts zoo \n",
      "\n",
      "Attaching package: ‘xts’\n",
      "\n",
      "The following objects are masked from ‘package:dplyr’:\n",
      "\n",
      "    first, last\n",
      "\n",
      "Loading required package: TTR\n",
      "Registered S3 method overwritten by 'quantmod':\n",
      "  method            from\n",
      "  as.zoo.data.frame zoo \n",
      "Version 0.4-0 included new data defaults. See ?getSymbols.\n",
      "\n",
      "Attaching package: ‘lubridate’\n",
      "\n",
      "The following object is masked from ‘package:base’:\n",
      "\n",
      "    date\n",
      "\n",
      "\n",
      "Attaching package: ‘reshape2’\n",
      "\n",
      "The following object is masked from ‘package:tidyr’:\n",
      "\n",
      "    smiths\n",
      "\n",
      "\n",
      "Attaching package: ‘PerformanceAnalytics’\n",
      "\n",
      "The following object is masked from ‘package:graphics’:\n",
      "\n",
      "    legend\n",
      "\n",
      "Registering fonts with R\n"
     ]
    }
   ],
   "source": [
    "library(tidyverse)\n",
    "library(ggthemes)\n",
    "library(odbc)\n",
    "library(plutoR)\n",
    "library(quantmod)\n",
    "library(lubridate)\n",
    "library(reshape2)\n",
    "library(PerformanceAnalytics)\n",
    "library(ggrepel)\n",
    "library(tbl2xts)\n",
    "\n",
    "options(\"scipen\"=999)\n",
    "options(stringsAsFactors = FALSE)\n",
    "options(repr.plot.width=16, repr.plot.height=8)\n",
    "\n",
    "source(\"config.R\")\n",
    "source(\"goofy/plot.common.R\")\n",
    "\n",
    "#initialize\n",
    "famaFrench <- FamaFrench()"
   ]
  },
  {
   "cell_type": "code",
   "execution_count": 2,
   "metadata": {},
   "outputs": [
    {
     "name": "stdout",
     "output_type": "stream",
     "text": [
      "\u001b[90m# A tibble: 124 x 11\u001b[39m\n",
      "   TIME_STAMP HI_PRIOR LO_PRIOR PRIOR_2  PRIOR_3  PRIOR_4  PRIOR_5 PRIOR_6\n",
      "   \u001b[3m\u001b[90m<date>\u001b[39m\u001b[23m        \u001b[3m\u001b[90m<dbl>\u001b[39m\u001b[23m    \u001b[3m\u001b[90m<dbl>\u001b[39m\u001b[23m   \u001b[3m\u001b[90m<dbl>\u001b[39m\u001b[23m    \u001b[3m\u001b[90m<dbl>\u001b[39m\u001b[23m    \u001b[3m\u001b[90m<dbl>\u001b[39m\u001b[23m    \u001b[3m\u001b[90m<dbl>\u001b[39m\u001b[23m   \u001b[3m\u001b[90m<dbl>\u001b[39m\u001b[23m\n",
      "\u001b[90m 1\u001b[39m 2019-01-02  0.001     0.033\u001b[4m7\u001b[24m  0.016\u001b[4m3\u001b[24m  0.018\u001b[4m7\u001b[24m   0.010\u001b[4m8\u001b[24m   0.007\u001b[4m0\u001b[24m\u001b[4m0\u001b[24m  0.006\u001b[4m7\u001b[24m\n",
      "\u001b[90m 2\u001b[39m 2019-01-03 -\u001b[31m0\u001b[39m\u001b[31m.\u001b[39m\u001b[31m0\u001b[39m\u001b[31m26\u001b[39m    -\u001b[31m0\u001b[39m\u001b[31m.\u001b[39m\u001b[31m0\u001b[39m\u001b[31m14\u001b[4m5\u001b[24m\u001b[39m -\u001b[31m0\u001b[39m\u001b[31m.\u001b[39m\u001b[31m00\u001b[39m\u001b[31m2\u001b[4m7\u001b[24m\u001b[39m -\u001b[31m0\u001b[39m\u001b[31m.\u001b[39m\u001b[31m0\u001b[39m\u001b[31m23\u001b[4m3\u001b[24m\u001b[39m  -\u001b[31m0\u001b[39m\u001b[31m.\u001b[39m\u001b[31m0\u001b[39m\u001b[31m18\u001b[4m3\u001b[24m\u001b[39m  -\u001b[31m0\u001b[39m\u001b[31m.\u001b[39m\u001b[31m0\u001b[39m\u001b[31m26\u001b[39m   -\u001b[31m0\u001b[39m\u001b[31m.\u001b[39m\u001b[31m0\u001b[39m\u001b[31m18\u001b[4m5\u001b[24m\u001b[39m\n",
      "\u001b[90m 3\u001b[39m 2019-01-04  0.045\u001b[4m2\u001b[24m    0.044\u001b[4m6\u001b[24m  0.047\u001b[4m4\u001b[24m  0.043\u001b[4m3\u001b[24m   0.037    0.032\u001b[4m8\u001b[24m   0.034\u001b[4m8\u001b[24m\n",
      "\u001b[90m 4\u001b[39m 2019-01-07  0.023\u001b[4m5\u001b[24m    0.037\u001b[4m6\u001b[24m  0.020\u001b[4m1\u001b[24m  0.013    0.006\u001b[4m6\u001b[24m   0.008\u001b[4m3\u001b[24m   0.006\u001b[4m3\u001b[24m\n",
      "\u001b[90m 5\u001b[39m 2019-01-08  0.013\u001b[4m8\u001b[24m    0.001\u001b[4m7\u001b[24m  0.010\u001b[4m7\u001b[24m  0.013\u001b[4m6\u001b[24m   0.009\u001b[4m2\u001b[24m   0.003\u001b[4m9\u001b[24m   0.007\u001b[4m9\u001b[24m\n",
      "\u001b[90m 6\u001b[39m 2019-01-09  0.004\u001b[4m8\u001b[24m\u001b[4m0\u001b[24m   0.014\u001b[4m8\u001b[24m  0.014\u001b[4m2\u001b[24m  0.010\u001b[4m9\u001b[24m   0.011\u001b[4m5\u001b[24m   0.003\u001b[4m3\u001b[24m   0.003\u001b[4m8\u001b[24m\n",
      "\u001b[90m 7\u001b[39m 2019-01-10  0.000\u001b[4m5\u001b[24m    0.014\u001b[4m9\u001b[24m  0.005\u001b[4m5\u001b[24m  0.006\u001b[4m9\u001b[24m   0.002\u001b[4m8\u001b[24m   0.004\u001b[4m9\u001b[24m   0.002\u001b[4m3\u001b[24m\n",
      "\u001b[90m 8\u001b[39m 2019-01-11 -\u001b[31m0\u001b[39m\u001b[31m.\u001b[39m\u001b[31m00\u001b[39m\u001b[31m3\u001b[4m8\u001b[24m\u001b[39m   -\u001b[31m0\u001b[39m\u001b[31m.\u001b[39m\u001b[31m000\u001b[39m\u001b[31m\u001b[4m9\u001b[24m\u001b[39m  0.003\u001b[4m6\u001b[24m  0.002\u001b[4m4\u001b[24m\u001b[4m0\u001b[24m  0.000\u001b[4m4\u001b[24m   0.008   -\u001b[31m0\u001b[39m\u001b[31m.\u001b[39m\u001b[31m000\u001b[39m\u001b[31m\u001b[4m9\u001b[24m\u001b[39m\n",
      "\u001b[90m 9\u001b[39m 2019-01-14 -\u001b[31m0\u001b[39m\u001b[31m.\u001b[39m\u001b[31m0\u001b[39m\u001b[31m11\u001b[4m8\u001b[24m\u001b[39m   -\u001b[31m0\u001b[39m\u001b[31m.\u001b[39m\u001b[31m00\u001b[39m\u001b[31m4\u001b[4m9\u001b[24m\u001b[39m -\u001b[31m0\u001b[39m\u001b[31m.\u001b[39m\u001b[31m00\u001b[39m\u001b[31m9\u001b[4m1\u001b[24m\u001b[39m -\u001b[31m0\u001b[39m\u001b[31m.\u001b[39m\u001b[31m00\u001b[39m\u001b[31m1\u001b[4m2\u001b[24m\u001b[4m0\u001b[24m\u001b[39m  0.004\u001b[4m1\u001b[24m\u001b[4m0\u001b[24m -\u001b[31m0\u001b[39m\u001b[31m.\u001b[39m\u001b[31m00\u001b[39m\u001b[31m3\u001b[4m2\u001b[24m\u001b[39m  -\u001b[31m0\u001b[39m\u001b[31m.\u001b[39m\u001b[31m00\u001b[39m\u001b[31m2\u001b[4m3\u001b[24m\u001b[39m\n",
      "\u001b[90m10\u001b[39m 2019-01-15  0.024    -\u001b[31m0\u001b[39m\u001b[31m.\u001b[39m\u001b[31m00\u001b[39m\u001b[31m1\u001b[39m   0.002\u001b[4m3\u001b[24m  0.002    0.004\u001b[4m2\u001b[24m   0.006\u001b[4m1\u001b[24m\u001b[4m0\u001b[24m  0.002\u001b[4m7\u001b[24m\n",
      "\u001b[90m# … with 114 more rows, and 3 more variables: PRIOR_7 \u001b[3m\u001b[90m<dbl>\u001b[90m\u001b[23m, PRIOR_8 \u001b[3m\u001b[90m<dbl>\u001b[90m\u001b[23m,\n",
      "#   PRIOR_9 \u001b[3m\u001b[90m<dbl>\u001b[90m\u001b[23m\u001b[39m\n"
     ]
    }
   ],
   "source": [
    "#startDt <- (famaFrench$MomentumDaily() %>% summarize(MAX = min(TIME_STAMP)) %>% collect())$MAX[[1]]\n",
    "startDt <- as.Date(\"2019-01-01\")\n",
    "\n",
    "valueWtd <- famaFrench$MomentumDaily() %>%\n",
    "    filter(RET_TYPE == 'AVWRD' & TIME_STAMP >= startDt) %>%\n",
    "    mutate(R = RET/100) %>%\n",
    "    select(TIME_STAMP, KEY_ID, R) %>%\n",
    "    collect() %>% \n",
    "    mutate(group=1) %>% \n",
    "    spread(KEY_ID, R) %>%\n",
    "    select(-group)\n",
    "\n",
    "valueWtd %>% print()"
   ]
  },
  {
   "cell_type": "markdown",
   "metadata": {},
   "source": [
    "This notebook was created using [pluto](http://pluto.studio). Learn more [here](https://github.com/shyams80/pluto)"
   ]
  }
 ],
 "metadata": {
  "kernelspec": {
   "display_name": "R",
   "language": "R",
   "name": "ir"
  },
  "language_info": {
   "codemirror_mode": "r",
   "file_extension": ".r",
   "mimetype": "text/x-r-source",
   "name": "R",
   "pygments_lexer": "r",
   "version": "3.6.1"
  }
 },
 "nbformat": 4,
 "nbformat_minor": 2
}
