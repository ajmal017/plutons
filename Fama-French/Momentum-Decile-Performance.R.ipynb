{
 "cells": [
  {
   "cell_type": "markdown",
   "metadata": {},
   "source": [
    "# Momentum Decile Performance\n",
    "\n",
    "The [Fama-French](https://mba.tuck.dartmouth.edu/pages/faculty/ken.french/Data_Library/det_10_port_form_pr_12_2_daily.html) data-set has returns for portfolios constructed out of each decile of prior returns. Labeled LO_PRIOR, PRIOR_2..9 and HI_PRIOR, they represent portfolios who's prior returns were the lowest through to the highest.\n",
    "\n",
    "Here, we plot the returns of these portfolios to get a sense for how they have behaved through time.\n",
    "\n",
    "The documentation for the Fama-French data-set can be found [here](https://plutopy.readthedocs.io/en/latest/FamaFrench.html) and [here](https://shyams80.github.io/plutoR/docs/reference/FamaFrench-class.html)"
   ]
  },
  {
   "cell_type": "code",
   "execution_count": 1,
   "metadata": {},
   "outputs": [
    {
     "name": "stderr",
     "output_type": "stream",
     "text": [
      "── \u001b[1mAttaching packages\u001b[22m ─────────────────────────────────────── tidyverse 1.2.1 ──\n",
      "\u001b[32m✔\u001b[39m \u001b[34mggplot2\u001b[39m 3.2.1     \u001b[32m✔\u001b[39m \u001b[34mpurrr  \u001b[39m 0.3.2\n",
      "\u001b[32m✔\u001b[39m \u001b[34mtibble \u001b[39m 2.1.3     \u001b[32m✔\u001b[39m \u001b[34mdplyr  \u001b[39m 0.8.3\n",
      "\u001b[32m✔\u001b[39m \u001b[34mtidyr  \u001b[39m 0.8.3     \u001b[32m✔\u001b[39m \u001b[34mstringr\u001b[39m 1.4.0\n",
      "\u001b[32m✔\u001b[39m \u001b[34mreadr  \u001b[39m 1.3.1     \u001b[32m✔\u001b[39m \u001b[34mforcats\u001b[39m 0.4.0\n",
      "── \u001b[1mConflicts\u001b[22m ────────────────────────────────────────── tidyverse_conflicts() ──\n",
      "\u001b[31m✖\u001b[39m \u001b[34mdplyr\u001b[39m::\u001b[32mfilter()\u001b[39m masks \u001b[34mstats\u001b[39m::filter()\n",
      "\u001b[31m✖\u001b[39m \u001b[34mdplyr\u001b[39m::\u001b[32mlag()\u001b[39m    masks \u001b[34mstats\u001b[39m::lag()\n",
      "Loading required package: xts\n",
      "Loading required package: zoo\n",
      "\n",
      "Attaching package: ‘zoo’\n",
      "\n",
      "The following objects are masked from ‘package:base’:\n",
      "\n",
      "    as.Date, as.Date.numeric\n",
      "\n",
      "Registered S3 method overwritten by 'xts':\n",
      "  method     from\n",
      "  as.zoo.xts zoo \n",
      "\n",
      "Attaching package: ‘xts’\n",
      "\n",
      "The following objects are masked from ‘package:dplyr’:\n",
      "\n",
      "    first, last\n",
      "\n",
      "Loading required package: TTR\n",
      "Registered S3 method overwritten by 'quantmod':\n",
      "  method            from\n",
      "  as.zoo.data.frame zoo \n",
      "Version 0.4-0 included new data defaults. See ?getSymbols.\n",
      "\n",
      "Attaching package: ‘lubridate’\n",
      "\n",
      "The following object is masked from ‘package:base’:\n",
      "\n",
      "    date\n",
      "\n",
      "\n",
      "Attaching package: ‘reshape2’\n",
      "\n",
      "The following object is masked from ‘package:tidyr’:\n",
      "\n",
      "    smiths\n",
      "\n",
      "\n",
      "Attaching package: ‘PerformanceAnalytics’\n",
      "\n",
      "The following object is masked from ‘package:graphics’:\n",
      "\n",
      "    legend\n",
      "\n",
      "Registering fonts with R\n"
     ]
    }
   ],
   "source": [
    "library(tidyverse)\n",
    "library(ggthemes)\n",
    "library(odbc)\n",
    "library(plutoR)\n",
    "library(quantmod)\n",
    "library(lubridate)\n",
    "library(reshape2)\n",
    "library(PerformanceAnalytics)\n",
    "library(ggrepel)\n",
    "library(tbl2xts)\n",
    "\n",
    "options(\"scipen\"=999)\n",
    "options(stringsAsFactors = FALSE)\n",
    "options(repr.plot.width=16, repr.plot.height=8)\n",
    "\n",
    "source(\"config.R\")\n",
    "source(\"goofy/plot.common.R\")\n",
    "\n",
    "#initialize\n",
    "famaFrench <- FamaFrench()"
   ]
  },
  {
   "cell_type": "code",
   "execution_count": 2,
   "metadata": {},
   "outputs": [
    {
     "name": "stdout",
     "output_type": "stream",
     "text": [
      "           HI_PRIOR LO_PRIOR PRIOR_2 PRIOR_3 PRIOR_4 PRIOR_5 PRIOR_6 PRIOR_7\n",
      "2019-01-02   0.0010   0.0337  0.0163  0.0187  0.0108  0.0070  0.0067  0.0001\n",
      "2019-01-03  -0.0260  -0.0145 -0.0027 -0.0233 -0.0183 -0.0260 -0.0185 -0.0333\n",
      "2019-01-04   0.0452   0.0446  0.0474  0.0433  0.0370  0.0328  0.0348  0.0299\n",
      "2019-01-07   0.0235   0.0376  0.0201  0.0130  0.0066  0.0083  0.0063  0.0041\n",
      "2019-01-08   0.0138   0.0017  0.0107  0.0136  0.0092  0.0039  0.0079  0.0092\n",
      "2019-01-09   0.0048   0.0148  0.0142  0.0109  0.0115  0.0033  0.0038  0.0032\n",
      "           PRIOR_8 PRIOR_9\n",
      "2019-01-02 -0.0062 -0.0078\n",
      "2019-01-03 -0.0221 -0.0262\n",
      "2019-01-04  0.0295  0.0347\n",
      "2019-01-07  0.0032  0.0071\n",
      "2019-01-08  0.0154  0.0100\n",
      "2019-01-09  0.0012  0.0059\n",
      "           HI_PRIOR LO_PRIOR PRIOR_2 PRIOR_3 PRIOR_4 PRIOR_5 PRIOR_6 PRIOR_7\n",
      "2019-06-21  -0.0074  -0.0006 -0.0035 -0.0022 -0.0018  0.0035  0.0001 -0.0039\n",
      "2019-06-24   0.0005  -0.0251 -0.0067 -0.0105 -0.0110 -0.0054 -0.0057  0.0001\n",
      "2019-06-25  -0.0156  -0.0006 -0.0056 -0.0066  0.0051 -0.0161 -0.0109 -0.0046\n",
      "2019-06-26  -0.0051   0.0169  0.0232  0.0125  0.0034  0.0074  0.0041 -0.0024\n",
      "2019-06-27   0.0047   0.0107  0.0132  0.0105  0.0103  0.0109  0.0036  0.0079\n",
      "2019-06-28   0.0035   0.0124  0.0141  0.0153  0.0107  0.0111  0.0080  0.0059\n",
      "           PRIOR_8 PRIOR_9\n",
      "2019-06-21 -0.0020 -0.0017\n",
      "2019-06-24 -0.0043  0.0000\n",
      "2019-06-25 -0.0108 -0.0042\n",
      "2019-06-26 -0.0029 -0.0082\n",
      "2019-06-27  0.0033  0.0042\n",
      "2019-06-28  0.0049  0.0056\n"
     ]
    }
   ],
   "source": [
    "#startDt <- (famaFrench$MomentumDaily() %>% summarize(MAX = min(TIME_STAMP)) %>% collect())$MAX[[1]]\n",
    "startDt <- as.Date(\"2019-01-01\")\n",
    "\n",
    "valueWtd <- famaFrench$MomentumDaily() %>%\n",
    "    filter(RET_TYPE == 'AVWRD' & TIME_STAMP >= startDt) %>%\n",
    "    mutate(R = RET/100) %>%\n",
    "    select(DATE = TIME_STAMP, KEY_ID, R) %>%\n",
    "    collect() %>% \n",
    "    mutate(group=1) %>% \n",
    "    spread(KEY_ID, R) %>%\n",
    "    select(-group) %>%\n",
    "    tbl_xts()\n",
    "\n",
    "print(head(valueWtd))\n",
    "print(tail(valueWtd))"
   ]
  },
  {
   "cell_type": "markdown",
   "metadata": {},
   "source": [
    "This notebook was created using [pluto](http://pluto.studio). Learn more [here](https://github.com/shyams80/pluto)"
   ]
  }
 ],
 "metadata": {
  "kernelspec": {
   "display_name": "R",
   "language": "R",
   "name": "ir"
  },
  "language_info": {
   "codemirror_mode": "r",
   "file_extension": ".r",
   "mimetype": "text/x-r-source",
   "name": "R",
   "pygments_lexer": "r",
   "version": "3.6.1"
  }
 },
 "nbformat": 4,
 "nbformat_minor": 2
}
