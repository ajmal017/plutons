{
 "cells": [
  {
   "cell_type": "markdown",
   "metadata": {},
   "source": [
    "# Exploring the Fama-French Momentum data-set\n",
    "\n",
    "Momentum and Value are the most persistent \"anomalies\" in equity investing. But what these mean to an academic is often completely different from how these are applied in practice.\n",
    "\n",
    "Academics call these \"anomalies\" because the standard CAPM/efficient-market model doesn't describe why these effects exists. They show that these effects are persistent by creating a long-short portfolio. For example, a momentum portfolio would be long the universe of stocks with “high” momentum and short the universe with “low” momentum.\n",
    "\n",
    "However, in the real world, almost all portfolios are long-only. Also, there are constraints in terms of the universe of stocks because of liquidity, size, etc. Market beta plays a smaller role in a long-short momentum portfolio compared to the long-only portfolio. So a real-world long-only momentum portfolio’s return profile will be completely different from that of a long-short academic portfolio."
   ]
  },
  {
   "cell_type": "code",
   "execution_count": 1,
   "metadata": {},
   "outputs": [
    {
     "name": "stderr",
     "output_type": "stream",
     "text": [
      "── \u001b[1mAttaching packages\u001b[22m ─────────────────────────────────────── tidyverse 1.2.1 ──\n",
      "\u001b[32m✔\u001b[39m \u001b[34mggplot2\u001b[39m 3.2.0     \u001b[32m✔\u001b[39m \u001b[34mpurrr  \u001b[39m 0.3.2\n",
      "\u001b[32m✔\u001b[39m \u001b[34mtibble \u001b[39m 2.1.3     \u001b[32m✔\u001b[39m \u001b[34mdplyr  \u001b[39m 0.8.3\n",
      "\u001b[32m✔\u001b[39m \u001b[34mtidyr  \u001b[39m 0.8.3     \u001b[32m✔\u001b[39m \u001b[34mstringr\u001b[39m 1.4.0\n",
      "\u001b[32m✔\u001b[39m \u001b[34mreadr  \u001b[39m 1.3.1     \u001b[32m✔\u001b[39m \u001b[34mforcats\u001b[39m 0.4.0\n",
      "── \u001b[1mConflicts\u001b[22m ────────────────────────────────────────── tidyverse_conflicts() ──\n",
      "\u001b[31m✖\u001b[39m \u001b[34mdplyr\u001b[39m::\u001b[32mfilter()\u001b[39m masks \u001b[34mstats\u001b[39m::filter()\n",
      "\u001b[31m✖\u001b[39m \u001b[34mdplyr\u001b[39m::\u001b[32mlag()\u001b[39m    masks \u001b[34mstats\u001b[39m::lag()\n"
     ]
    },
    {
     "ename": "ERROR",
     "evalue": "Error in library(ggthemes): there is no package called ‘ggthemes’\n",
     "output_type": "error",
     "traceback": [
      "Error in library(ggthemes): there is no package called ‘ggthemes’\nTraceback:\n",
      "1. library(ggthemes)"
     ]
    }
   ],
   "source": [
    "library(tidyverse)\n",
    "library(ggthemes)\n",
    "library(odbc)\n",
    "library(plutoR)\n",
    "library(quantmod)\n",
    "library(PerformanceAnalytics)\n",
    "\n",
    "options(\"scipen\"=999)\n",
    "options(stringsAsFactors = FALSE)\n",
    "source(\"config.R\")\n",
    "source(\"goofy/plot.common.R\")\n",
    "\n",
    "#initialize\n",
    "famaFrench <- FamaFrench()"
   ]
  },
  {
   "cell_type": "markdown",
   "metadata": {},
   "source": [
    "## Momentum Factor\n",
    "\n",
    "The Fama-French momentum factor is the **average** return of two high prior return portfolios *minus* the **average** return of two low prior return portfolios. Each portfolio has a size (market-equity) element thrown into the mix.\n",
    "\n",
    "Here's the complete description from their [website](https://mba.tuck.dartmouth.edu/pages/faculty/ken.french/Data_Library/det_mom_factor_daily.html):\n",
    "\n",
    "```\n",
    "We use six value-weight portfolios formed on size and prior (2-12) returns to construct Mom. The portfolios, which are formed daily, are the intersections of 2 portfolios formed on size (market equity, ME) and 3 portfolios formed on prior (2-12) return. The daily size breakpoint is the median NYSE market equity. The daily prior (2-12) return breakpoints are the 30th and 70th NYSE percentiles.\n",
    "\n",
    "Mom is the average return on the two high prior return portfolios minus the average return on the two low prior return portfolios,\n",
    "\n",
    " \tMom = 1/2 (Small High + Big High) - 1/2(Small Low + Big Low).\n",
    "```\n",
    "\n",
    "Fama-French publish both daily and monthly returns of the Momentum Factor. We will look at each in turn."
   ]
  },
  {
   "cell_type": "markdown",
   "metadata": {},
   "source": [
    "### Daily Returns\n",
    "\n",
    "In this data-set, the portfolio is rebalanced on a daily basis. Not very practical but it gives us an idea of how the factor behaves through time."
   ]
  },
  {
   "cell_type": "code",
   "execution_count": 2,
   "metadata": {},
   "outputs": [
    {
     "ename": "ERROR",
     "evalue": "Error in eval(lhs, parent, parent): object 'famaFrench' not found\n",
     "output_type": "error",
     "traceback": [
      "Error in eval(lhs, parent, parent): object 'famaFrench' not found\nTraceback:\n",
      "1. famaFrench$MomentumDaily() %>% filter(KEY_ID == \"M\") %>% select(TIME_STAMP, \n .     RET) %>% collect()",
      "2. eval(lhs, parent, parent)",
      "3. eval(lhs, parent, parent)"
     ]
    }
   ],
   "source": [
    "dailyMom <- famaFrench$MomentumDaily() %>%\n",
    "    filter(KEY_ID == 'M') %>%\n",
    "    select(TIME_STAMP, RET) %>%\n",
    "    collect()\n",
    "    \n",
    "dailyMomXts <- xts(dailyMom$RET, dailyMom$TIME_STAMP)"
   ]
  },
  {
   "cell_type": "code",
   "execution_count": 3,
   "metadata": {},
   "outputs": [
    {
     "ename": "ERROR",
     "evalue": "Error in rollapply(dailyMomXts, numDays, Return.cumulative): could not find function \"rollapply\"\n",
     "output_type": "error",
     "traceback": [
      "Error in rollapply(dailyMomXts, numDays, Return.cumulative): could not find function \"rollapply\"\nTraceback:\n"
     ]
    }
   ],
   "source": [
    "#calculate rolling return\n",
    "numYears <- 10\n",
    "numDays <- 220 * numYears\n",
    "rollRet <- 100*rollapply(dailyMomXts, numDays, Return.cumulative)\n",
    "rollRet <- na.omit(rollRet)\n",
    "names(rollRet) <- c('RET')"
   ]
  },
  {
   "cell_type": "code",
   "execution_count": 4,
   "metadata": {},
   "outputs": [
    {
     "ename": "ERROR",
     "evalue": "Error in data.frame(rollRet): object 'rollRet' not found\n",
     "output_type": "error",
     "traceback": [
      "Error in data.frame(rollRet): object 'rollRet' not found\nTraceback:\n",
      "1. data.frame(rollRet)"
     ]
    }
   ],
   "source": [
    "rollRetDf <- data.frame(rollRet)\n",
    "rollRetDf$T <- index(rollRet)\n",
    "\n",
    "firstDate <- first(index(rollRet))\n",
    "lastDate <- last(index(rollRet))\n",
    "xAxisTicks <- seq(from=firstDate, to=lastDate, length.out=10)\n",
    "\n",
    "ggplot(rollRetDf, aes(x=T, y=RET)) +\n",
    "    theme_economist() +\n",
    "    geom_line() +\n",
    "    scale_x_date(breaks = xAxisTicks) +\n",
    "    labs(x='', y='cumulative return (%)', color='', \n",
    "         title=sprintf(\"Momentum Factor %d-year Daily Rolling Returns\", numYears), \n",
    "         subtitle=sprintf(\"[%s:%s]\", firstDate, lastDate)) +\n",
    "    annotate(\"text\", x=lastDate, y=min(rollRetDf$RET, na.rm=T), label = \"@StockViz\", \n",
    "             hjust=1.1, vjust=-1.1, col=\"white\", cex=6, fontface = \"bold\", alpha = 0.8)\n"
   ]
  },
  {
   "cell_type": "markdown",
   "metadata": {},
   "source": [
    "This notebook was created using [pluto](http://pluto.studio). Learn more [here](https://github.com/shyams80/pluto)"
   ]
  }
 ],
 "metadata": {
  "kernelspec": {
   "display_name": "R",
   "language": "R",
   "name": "ir"
  },
  "language_info": {
   "codemirror_mode": "r",
   "file_extension": ".r",
   "mimetype": "text/x-r-source",
   "name": "R",
   "pygments_lexer": "r",
   "version": "3.4.4"
  }
 },
 "nbformat": 4,
 "nbformat_minor": 2
}
