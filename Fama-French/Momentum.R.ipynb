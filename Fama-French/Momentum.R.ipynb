{
 "cells": [
  {
   "cell_type": "markdown",
   "metadata": {},
   "source": [
    "# Exploring the Fama-French Momentum data-set\n",
    "\n",
    "Momentum and Value are the most persistent \"anomalies\" in equity investing. But what these mean to an academic is often completely different from how these are applied in practice.\n",
    "\n",
    "Academics call these \"anomalies\" because the standard CAPM/efficient-market model doesn't describe why these effects exists. They show that these effects are persistent by creating a long-short portfolio. For example, a momentum portfolio would be long the universe of stocks with “high” momentum and short the universe with “low” momentum.\n",
    "\n",
    "However, in the real world, almost all portfolios are long-only. Also, there are constraints in terms of the universe of stocks because of liquidity, size, etc. Market beta plays a smaller role in a long-short momentum portfolio compared to the long-only portfolio. So a real-world long-only momentum portfolio’s return profile will be completely different from that of a long-short academic portfolio."
   ]
  },
  {
   "cell_type": "code",
   "execution_count": null,
   "metadata": {},
   "outputs": [],
   "source": [
    "library(tidyverse)\n",
    "library(ggthemes)\n",
    "library(odbc)\n",
    "library(plutoR)\n",
    "library(quantmod)\n",
    "library(PerformanceAnalytics)\n",
    "\n",
    "options(\"scipen\"=999)\n",
    "options(stringsAsFactors = FALSE)\n",
    "options(repr.plot.width=16, repr.plot.height=8)\n",
    "\n",
    "source(\"config.R\")\n",
    "source(\"goofy/plot.common.R\")\n",
    "\n",
    "#initialize\n",
    "famaFrench <- FamaFrench()"
   ]
  },
  {
   "cell_type": "markdown",
   "metadata": {},
   "source": [
    "## Momentum Factor\n",
    "\n",
    "The Fama-French momentum factor is the **average** return of two high prior return portfolios *minus* the **average** return of two low prior return portfolios. Each portfolio has a size (market-equity) element thrown into the mix.\n",
    "\n",
    "Here's the complete description from their [website](https://mba.tuck.dartmouth.edu/pages/faculty/ken.french/Data_Library/det_mom_factor_daily.html):\n",
    "\n",
    "```\n",
    "We use six value-weight portfolios formed on size and prior (2-12) returns to construct Mom. The portfolios, which are formed daily, are the intersections of 2 portfolios formed on size (market equity, ME) and 3 portfolios formed on prior (2-12) return. The daily size breakpoint is the median NYSE market equity. The daily prior (2-12) return breakpoints are the 30th and 70th NYSE percentiles.\n",
    "\n",
    "Mom is the average return on the two high prior return portfolios minus the average return on the two low prior return portfolios,\n",
    "\n",
    " \tMom = 1/2 (Small High + Big High) - 1/2(Small Low + Big Low).\n",
    "```\n",
    "\n",
    "Fama-French publish both daily and monthly returns of the Momentum Factor. We will look at each in turn."
   ]
  },
  {
   "cell_type": "markdown",
   "metadata": {},
   "source": [
    "### Daily Returns\n",
    "\n",
    "In this data-set, the portfolio is rebalanced on a daily basis. Not very practical but it gives us an idea of how the factor behaves through time."
   ]
  },
  {
   "cell_type": "code",
   "execution_count": null,
   "metadata": {},
   "outputs": [],
   "source": [
    "dailyMom <- famaFrench$MomentumDaily() %>%\n",
    "    filter(KEY_ID == 'MOM') %>%\n",
    "    select(TIME_STAMP, RET) %>%\n",
    "    collect()\n",
    "    \n",
    "dailyMomXts <- xts(dailyMom$RET/100, dailyMom$TIME_STAMP)\n",
    "\n",
    "print(\"Momentum Returns: \")\n",
    "print(head(dailyMomXts))\n",
    "print(tail(dailyMomXts))"
   ]
  },
  {
   "cell_type": "code",
   "execution_count": null,
   "metadata": {},
   "outputs": [],
   "source": [
    "plotRollingReturns <- function(numYears, retXts){\n",
    "    avgDays <- as.numeric(index(retXts) %>% diff %>% mean)\n",
    "    \n",
    "    retUnits <- NA\n",
    "    numPer <- NA\n",
    "    if (avgDays < 10){\n",
    "        numPer <- 220 * numYears\n",
    "        retUnits <- \"days\"\n",
    "    } else if (avgDays >= 10 && avgDays <= 35){\n",
    "        numPer <- 12 * numYears\n",
    "        retUnits <- \"months\"\n",
    "    } else {\n",
    "        stop('retXts is of invalid units')\n",
    "    }\n",
    "    \n",
    "    rollRet <- rollapply(retXts, numPer, Return.cumulative)\n",
    "    rollRet <- 100*na.omit(rollRet)\n",
    "    names(rollRet) <- c('RET')\n",
    "    \n",
    "    rollRetDf <- data.frame(rollRet)\n",
    "    rollRetDf$T <- index(rollRet)\n",
    "\n",
    "    firstDate <- first(index(rollRet))\n",
    "    lastDate <- last(index(rollRet))\n",
    "    xAxisTicks <- seq(from=firstDate, to=lastDate, length.out=10)\n",
    "\n",
    "    ggplot(rollRetDf, aes(x=T, y=RET)) +\n",
    "        theme_economist() +\n",
    "        geom_line() +\n",
    "        scale_x_date(breaks = xAxisTicks) +\n",
    "        labs(x='', y='cumulative return (%)', color='', \n",
    "             title=sprintf(\"Momentum Factor %d-year Rolling Returns (%s)\", numYears, retUnits), \n",
    "             subtitle=sprintf(\"[%s:%s]\", firstDate, lastDate)) +\n",
    "        annotate(\"text\", x=lastDate, y=min(rollRetDf$RET, na.rm=T), label = \"@StockViz\", \n",
    "                 hjust=1.1, vjust=-1.1, col=\"white\", cex=6, fontface = \"bold\", alpha = 0.8)\n",
    "}"
   ]
  },
  {
   "cell_type": "code",
   "execution_count": null,
   "metadata": {},
   "outputs": [],
   "source": [
    "#5-year rolling returns\n",
    "plotRollingReturns(5, dailyMomXts)"
   ]
  },
  {
   "cell_type": "code",
   "execution_count": null,
   "metadata": {},
   "outputs": [],
   "source": [
    "#10-year rolling returns\n",
    "plotRollingReturns(10, dailyMomXts)"
   ]
  },
  {
   "cell_type": "markdown",
   "metadata": {},
   "source": [
    "A 5-year time-frame seems inadequate to benefit from momentum. There are multiple periods where the momentum factor returns have been negative and too close to zero for comfort. Note that these returns don't take transaction costs and taxes into account. Something to keep in mind while looking at pre-2000 datasets."
   ]
  },
  {
   "cell_type": "markdown",
   "metadata": {},
   "source": [
    "### Monthly Returns\n",
    "\n",
    "Absolutely no one rebalances their portfolio every day. Most momentum portfolios stick to a monthly rebalance schedule. Let's see how that behaves through time."
   ]
  },
  {
   "cell_type": "code",
   "execution_count": null,
   "metadata": {},
   "outputs": [],
   "source": [
    "monthlyMom <- famaFrench$MomentumMonthly() %>%\n",
    "    filter(KEY_ID == 'MOM') %>%\n",
    "    select(TIME_STAMP, RET) %>%\n",
    "    collect()\n",
    "    \n",
    "monthlyMomXts <- xts(monthlyMom$RET/100, monthlyMom$TIME_STAMP)\n",
    "\n",
    "print(\"Momentum Returns: \")\n",
    "print(head(monthlyMomXts))\n",
    "print(tail(monthlyMomXts))"
   ]
  },
  {
   "cell_type": "code",
   "execution_count": null,
   "metadata": {},
   "outputs": [],
   "source": [
    "#5-year rolling returns\n",
    "plotRollingReturns(5, monthlyMomXts)"
   ]
  },
  {
   "cell_type": "code",
   "execution_count": null,
   "metadata": {},
   "outputs": [],
   "source": [
    "#10-year rolling returns\n",
    "plotRollingReturns(10, monthlyMomXts)"
   ]
  },
  {
   "cell_type": "markdown",
   "metadata": {},
   "source": [
    "Irrespective of what period you use, the 5-year factor returns are bound to disappoint. Not that 10-years are \"bulletproof.\" It too has periods where trailing returns disappoint. \n",
    "\n",
    "Most investors are long-only and the factor returns shown above are long-short. In the next part of this series, we will construct a long-only and long-short portfolio to get a sense for what the short portion of the portfolio contributes to investor returns. Stay tuned!"
   ]
  },
  {
   "cell_type": "markdown",
   "metadata": {},
   "source": [
    "This notebook was created using [pluto](http://pluto.studio). Learn more [here](https://github.com/shyams80/pluto)"
   ]
  }
 ],
 "metadata": {
  "kernelspec": {
   "display_name": "R",
   "language": "R",
   "name": "ir"
  },
  "language_info": {
   "codemirror_mode": "r",
   "file_extension": ".r",
   "mimetype": "text/x-r-source",
   "name": "R",
   "pygments_lexer": "r",
   "version": "3.4.4"
  }
 },
 "nbformat": 4,
 "nbformat_minor": 2
}
