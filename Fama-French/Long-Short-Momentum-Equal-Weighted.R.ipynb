{
 "cells": [
  {
   "cell_type": "markdown",
   "metadata": {},
   "source": [
    "# The Long and Short of Fama-French Momentum\n",
    "\n",
    "Here, we construct three portfolios out of the Fama-French Momentum data-set -- long-only, short-only and long-short -- to get an idea of how they intersect.\n",
    "\n",
    "The [Fama-French](https://mba.tuck.dartmouth.edu/pages/faculty/ken.french/Data_Library/det_10_port_form_pr_12_2_daily.html) data-set has returns for portfolios constructed out of each decile of prior returns. With **HI_PRIOR** and **LO_PRIOR** returns, long-only, long-short and short-only portfolio daily returns can be calculated. These returns can then be compared with market returns contained in the [5 Factors (2x3)](https://mba.tuck.dartmouth.edu/pages/faculty/ken.french/Data_Library/f-f_5_factors_2x3.html) data-set by adding back the **Rf** to **Rm-Rf**.\n",
    "\n",
    "The documentation for the Fama-French data-set can be found [here](https://plutopy.readthedocs.io/en/latest/FamaFrench.html) and [here](https://shyams80.github.io/plutoR/docs/reference/FamaFrench-class.html)"
   ]
  },
  {
   "cell_type": "code",
   "execution_count": null,
   "metadata": {},
   "outputs": [],
   "source": [
    "library(tidyverse)\n",
    "library(ggthemes)\n",
    "library(odbc)\n",
    "library(plutoR)\n",
    "library(quantmod)\n",
    "library(lubridate)\n",
    "library(reshape2)\n",
    "library(PerformanceAnalytics)\n",
    "library(ggrepel)\n",
    "\n",
    "options(\"scipen\"=999)\n",
    "options(stringsAsFactors = FALSE)\n",
    "options(repr.plot.width=16, repr.plot.height=8)\n",
    "\n",
    "source(\"config.R\")\n",
    "source(\"goofy/plot.common.R\")\n",
    "\n",
    "#initialize\n",
    "famaFrench <- FamaFrench()"
   ]
  },
  {
   "cell_type": "code",
   "execution_count": null,
   "metadata": {},
   "outputs": [],
   "source": [
    "momStartDt <- (famaFrench$MomentumDaily() %>% summarize(MAX = min(TIME_STAMP)) %>% collect())$MAX[[1]]\n",
    "mktStartDt <- (famaFrench$FiveFactor3x2Daily() %>% summarize(MAX = min(TIME_STAMP)) %>% collect())$MAX[[1]]\n",
    "#startDt <- max(momStartDt, mktStartDt)\n",
    "startDt <- as.Date(\"1995-01-01\")\n",
    "\n",
    "hiMom <- famaFrench$MomentumDaily() %>%\n",
    "    filter(KEY_ID == 'HI_PRIOR' & RET_TYPE == 'AEWRD' & TIME_STAMP >= startDt) %>%\n",
    "    select(TIME_STAMP, RET) %>%\n",
    "    collect() %>%\n",
    "    as.data.frame()\n",
    "\n",
    "loMom <- famaFrench$MomentumDaily() %>%\n",
    "    filter(KEY_ID == 'LO_PRIOR' & RET_TYPE == 'AEWRD' & TIME_STAMP >= startDt) %>%\n",
    "    select(TIME_STAMP, RET) %>%\n",
    "    collect() %>%\n",
    "    as.data.frame()\n",
    "\n",
    "mktRet <- famaFrench$FiveFactor3x2Daily() %>%\n",
    "    inner_join(famaFrench$FiveFactor3x2Daily(), by=c('TIME_STAMP')) %>%\n",
    "    filter(KEY_ID.x == 'MKT-RF' & KEY_ID.y == 'RF' & TIME_STAMP >= startDt) %>%\n",
    "    mutate(R = RET.x + RET.y) %>%\n",
    "    select(TIME_STAMP, R) %>%\n",
    "    collect() %>%\n",
    "    as.data.frame()"
   ]
  },
  {
   "cell_type": "code",
   "execution_count": null,
   "metadata": {},
   "outputs": [],
   "source": [
    "retXts <- merge(xts(hiMom$RET, hiMom$TIME_STAMP), xts(loMom$RET, loMom$TIME_STAMP), xts(mktRet$R, mktRet$TIME_STAMP))\n",
    "retXts <- na.omit(retXts)\n",
    "retXts <- retXts/100\n",
    "\n",
    "names(retXts) <- c('HI', 'LO', 'MKT')\n",
    "\n",
    "print(head(retXts))\n",
    "print(tail(retXts))"
   ]
  },
  {
   "cell_type": "code",
   "execution_count": null,
   "metadata": {},
   "outputs": [],
   "source": [
    "longOnly <- merge(retXts$HI, retXts$LO, retXts$MKT)\n",
    "names(longOnly) <- c('L', '~S', 'MKT')\n",
    "\n",
    "pxXts <- merge(cumprod(1+longOnly[,1]), cumprod(1+longOnly[,2]), cumprod(1+longOnly[,3]))\n",
    "names(pxXts) <- c('L', '~S', 'MKT')\n",
    "longOnlyYearlies <- 100*merge(yearlyReturn(pxXts[,1]), yearlyReturn(pxXts[,2]), yearlyReturn(pxXts[,3]))\n",
    "names(longOnlyYearlies) <- c('L', '~S', 'MKT')\n",
    "\n",
    "shortOnly <- merge(-retXts$LO, retXts$MKT)\n",
    "names(shortOnly) <- c('S', 'MKT')\n",
    "\n",
    "pxXts <- merge(cumprod(1+shortOnly[,1]), cumprod(1+shortOnly[,2]))\n",
    "names(pxXts) <- c('S', 'MKT')\n",
    "shortOnlyYearlies <- 100*merge(yearlyReturn(pxXts[,1]), yearlyReturn(pxXts[,2]))\n",
    "names(shortOnlyYearlies) <- c('S', 'MKT')\n",
    "\n",
    "longShort <- merge(retXts$HI-retXts$LO, retXts$MKT)\n",
    "names(longShort) <- c('LS', 'MKT')\n",
    "\n",
    "pxXts <- merge(cumprod(1+longShort[,1]), cumprod(1+longShort[,2]))\n",
    "names(pxXts) <- c('LS', 'MKT')\n",
    "longShortYearlies <- 100*merge(yearlyReturn(pxXts[,1]), yearlyReturn(pxXts[,2]))\n",
    "names(longShortYearlies) <- c('LS', 'MKT')\n",
    "\n",
    "lsl <- merge(retXts$HI, -retXts$LO, retXts$HI-retXts$LO, retXts$MKT)\n",
    "names(lsl) <- c('L', 'S', 'LS', 'MKT')"
   ]
  },
  {
   "cell_type": "code",
   "execution_count": null,
   "metadata": {},
   "outputs": [],
   "source": [
    "plotAnnualReturns <- function(yearlies, mainTitle){\n",
    "    yDf <- data.frame(yearlies)\n",
    "    yDf$T <- year(index(yearlies))\n",
    "\n",
    "    toPlot <- melt(yDf, id='T')\n",
    "\n",
    "    ggplot(toPlot, aes(x=T, y=value, fill=variable)) +\n",
    "        theme_economist() +\n",
    "        geom_bar(stat=\"identity\", position=position_dodge()) +\n",
    "        scale_x_continuous(labels=yDf$T, breaks=yDf$T) +\n",
    "        geom_text_repel(aes(label= round(value, 2)), position = position_dodge(0.9)) +\n",
    "        labs(x='', y='(%)', fill='', title=mainTitle, subtitle=\"Annual Returns\") +\n",
    "        annotate(\"text\", x=max(yDf$T), y=min(toPlot$value), \n",
    "                 label = \"@StockViz\", hjust=1.1, vjust=-1.1, \n",
    "                 col=\"white\", cex=6, fontface = \"bold\", alpha = 0.8)  \n",
    "}"
   ]
  },
  {
   "cell_type": "code",
   "execution_count": null,
   "metadata": {},
   "outputs": [],
   "source": [
    "Common.PlotCumReturns(longOnly, \"Long-only\", \"Fama-French\")"
   ]
  },
  {
   "cell_type": "code",
   "execution_count": null,
   "metadata": {},
   "outputs": [],
   "source": [
    "plotAnnualReturns(longOnlyYearlies, \"Long-only Fama-French\")"
   ]
  },
  {
   "cell_type": "code",
   "execution_count": null,
   "metadata": {},
   "outputs": [],
   "source": [
    "Common.PlotCumReturns(shortOnly, \"Short-only\", \"Fama-French\")"
   ]
  },
  {
   "cell_type": "code",
   "execution_count": null,
   "metadata": {},
   "outputs": [],
   "source": [
    "plotAnnualReturns(shortOnlyYearlies, \"Short-only Fama-French\")"
   ]
  },
  {
   "cell_type": "code",
   "execution_count": null,
   "metadata": {},
   "outputs": [],
   "source": [
    "Common.PlotCumReturns(longShort, \"Long-Short\", \"Fama-French\")"
   ]
  },
  {
   "cell_type": "code",
   "execution_count": null,
   "metadata": {},
   "outputs": [],
   "source": [
    "plotAnnualReturns(longShortYearlies, \"Long-Short Fama-French\")"
   ]
  },
  {
   "cell_type": "code",
   "execution_count": null,
   "metadata": {},
   "outputs": [],
   "source": [
    "Common.PlotCumReturns(lsl, \"Long, Short and Long-Short\", \"Fama-French\")"
   ]
  },
  {
   "cell_type": "markdown",
   "metadata": {},
   "source": [
    "This notebook was created using [pluto](http://pluto.studio). Learn more [here](https://github.com/shyams80/pluto)"
   ]
  }
 ],
 "metadata": {
  "kernelspec": {
   "display_name": "R",
   "language": "R",
   "name": "ir"
  },
  "language_info": {
   "codemirror_mode": "r",
   "file_extension": ".r",
   "mimetype": "text/x-r-source",
   "name": "R",
   "pygments_lexer": "r",
   "version": "3.4.4"
  }
 },
 "nbformat": 4,
 "nbformat_minor": 2
}
