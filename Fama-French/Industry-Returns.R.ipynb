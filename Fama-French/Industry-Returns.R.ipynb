{
 "cells": [
  {
   "cell_type": "markdown",
   "metadata": {},
   "source": [
    "# Exploring industry returns in the Fama-French data-set\n",
    "\n",
    "The [49 Industry Portfolios](https://mba.tuck.dartmouth.edu/pages/faculty/ken.french/Data_Library/det_49_ind_port.html) data-set has a series of daily returns of 49 different industry types. Here, we look at some of their statistical properties.\n",
    "\n",
    "The documentation for the Fama-French data-set can be found [here](https://plutopy.readthedocs.io/en/latest/FamaFrench.html) and [here](https://shyams80.github.io/plutoR/docs/reference/FamaFrench-class.html)"
   ]
  },
  {
   "cell_type": "code",
   "execution_count": null,
   "metadata": {},
   "outputs": [],
   "source": [
    "library(tidyverse)\n",
    "library(ggthemes)\n",
    "library(odbc)\n",
    "library(plutoR)\n",
    "library(quantmod)\n",
    "library(lubridate)\n",
    "library(reshape2)\n",
    "library(PerformanceAnalytics)\n",
    "library(ggrepel)\n",
    "library(tbl2xts)\n",
    "\n",
    "options(\"scipen\"=999)\n",
    "options(stringsAsFactors = FALSE)\n",
    "\n",
    "source(\"config.R\")\n",
    "source(\"goofy/plot.common.R\")\n",
    "\n",
    "#initialize\n",
    "famaFrench <- FamaFrench()"
   ]
  },
  {
   "cell_type": "code",
   "execution_count": null,
   "metadata": {},
   "outputs": [],
   "source": [
    "startDt <- as.Date(\"1990-01-01\")\n",
    "\n",
    "#value (market-cap) weighted\n",
    "valueWtd <- famaFrench$Industry49Daily() %>%\n",
    "    filter(RET_TYPE == 'AVWRD' & TIME_STAMP >= startDt) %>%\n",
    "    mutate(R = RET/100) %>%\n",
    "    select(DATE = TIME_STAMP, KEY_ID, R) %>%\n",
    "    collect() %>% \n",
    "    # the KEY_ID column has industry id's\n",
    "    # we want them as column names\n",
    "    mutate(group=1) %>%\n",
    "    spread(KEY_ID, R) %>%\n",
    "    select(-group) %>%\n",
    "    tbl_xts()\n",
    "\n",
    "#equal weighted\n",
    "equalWtd <- famaFrench$Industry49Daily() %>%\n",
    "    filter(RET_TYPE == 'AEWRD' & TIME_STAMP >= startDt) %>%\n",
    "    mutate(R = RET/100) %>%\n",
    "    select(DATE = TIME_STAMP, KEY_ID, R) %>%\n",
    "    collect() %>% \n",
    "    # the KEY_ID column has industry id's\n",
    "    # we want them as column names\n",
    "    mutate(group=1) %>%\n",
    "    spread(KEY_ID, R) %>%\n",
    "    select(-group) %>%\n",
    "    tbl_xts()"
   ]
  },
  {
   "cell_type": "code",
   "execution_count": null,
   "metadata": {},
   "outputs": [],
   "source": [
    "lookbackDays <- 220 * 5\n",
    "\n",
    "rrValueWtd <- rollapply(valueWtd, lookbackDays, Return.cumulative, by.column = F)\n",
    "rrEqualWtd <- rollapply(equalWtd, lookbackDays, Return.cumulative, by.column = F)\n",
    "\n",
    "rrValueWtd <- na.omit(rrValueWtd)\n",
    "rrEqualWtd <- na.omit(rrEqualWtd)"
   ]
  },
  {
   "cell_type": "code",
   "execution_count": null,
   "metadata": {},
   "outputs": [],
   "source": [
    "minValWtd <- apply(rrValueWtd, 2, min)\n",
    "minEqlWtd <- apply(rrEqualWtd, 2, min)\n",
    "\n",
    "maxValWtd <- apply(rrValueWtd, 2, max)\n",
    "maxEqlWtd <- apply(rrEqualWtd, 2, max)\n",
    "\n",
    "sdValWtd <- apply(rrValueWtd, 2, sd)\n",
    "sdEqlWtd <- apply(rrEqualWtd, 2, sd)\n",
    "\n",
    "print(\"MIN\")\n",
    "print(minValWtd)\n",
    "print(minEqlWtd)\n",
    "\n",
    "print(\"MAX\")\n",
    "print(maxValWtd)\n",
    "print(maxEqlWtd)\n",
    "\n",
    "print(\"SD\")\n",
    "print(sdValWtd)\n",
    "print(sdEqlWtd)"
   ]
  },
  {
   "cell_type": "markdown",
   "metadata": {},
   "source": [
    "This notebook was created using [pluto](http://pluto.studio). Learn more [here](https://github.com/shyams80/pluto)"
   ]
  }
 ],
 "metadata": {
  "kernelspec": {
   "display_name": "R",
   "language": "R",
   "name": "ir"
  },
  "language_info": {
   "codemirror_mode": "r",
   "file_extension": ".r",
   "mimetype": "text/x-r-source",
   "name": "R",
   "pygments_lexer": "r",
   "version": "3.4.4"
  }
 },
 "nbformat": 4,
 "nbformat_minor": 2
}
