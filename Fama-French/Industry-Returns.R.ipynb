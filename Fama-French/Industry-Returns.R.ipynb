{
 "cells": [
  {
   "cell_type": "markdown",
   "metadata": {},
   "source": [
    "# Exploring industry returns in the Fama-French data-set\n",
    "\n",
    "The [49 Industry Portfolios](https://mba.tuck.dartmouth.edu/pages/faculty/ken.french/Data_Library/det_49_ind_port.html) data-set has a series of daily returns of 49 different industry types. Here, we look at some of their statistical properties.\n",
    "\n",
    "The documentation for the Fama-French data-set can be found [here](https://plutopy.readthedocs.io/en/latest/FamaFrench.html) and [here](https://shyams80.github.io/plutoR/docs/reference/FamaFrench-class.html)"
   ]
  },
  {
   "cell_type": "code",
   "execution_count": 1,
   "metadata": {},
   "outputs": [
    {
     "name": "stderr",
     "output_type": "stream",
     "text": [
      "── \u001b[1mAttaching packages\u001b[22m ─────────────────────────────────────── tidyverse 1.2.1 ──\n",
      "\u001b[32m✔\u001b[39m \u001b[34mggplot2\u001b[39m 3.2.1     \u001b[32m✔\u001b[39m \u001b[34mpurrr  \u001b[39m 0.3.2\n",
      "\u001b[32m✔\u001b[39m \u001b[34mtibble \u001b[39m 2.1.3     \u001b[32m✔\u001b[39m \u001b[34mdplyr  \u001b[39m 0.8.3\n",
      "\u001b[32m✔\u001b[39m \u001b[34mtidyr  \u001b[39m 0.8.3     \u001b[32m✔\u001b[39m \u001b[34mstringr\u001b[39m 1.4.0\n",
      "\u001b[32m✔\u001b[39m \u001b[34mreadr  \u001b[39m 1.3.1     \u001b[32m✔\u001b[39m \u001b[34mforcats\u001b[39m 0.4.0\n",
      "── \u001b[1mConflicts\u001b[22m ────────────────────────────────────────── tidyverse_conflicts() ──\n",
      "\u001b[31m✖\u001b[39m \u001b[34mdplyr\u001b[39m::\u001b[32mfilter()\u001b[39m masks \u001b[34mstats\u001b[39m::filter()\n",
      "\u001b[31m✖\u001b[39m \u001b[34mdplyr\u001b[39m::\u001b[32mlag()\u001b[39m    masks \u001b[34mstats\u001b[39m::lag()\n",
      "Loading required package: xts\n",
      "Loading required package: zoo\n",
      "\n",
      "Attaching package: ‘zoo’\n",
      "\n",
      "The following objects are masked from ‘package:base’:\n",
      "\n",
      "    as.Date, as.Date.numeric\n",
      "\n",
      "Registered S3 method overwritten by 'xts':\n",
      "  method     from\n",
      "  as.zoo.xts zoo \n",
      "\n",
      "Attaching package: ‘xts’\n",
      "\n",
      "The following objects are masked from ‘package:dplyr’:\n",
      "\n",
      "    first, last\n",
      "\n",
      "Loading required package: TTR\n",
      "Registered S3 method overwritten by 'quantmod':\n",
      "  method            from\n",
      "  as.zoo.data.frame zoo \n",
      "Version 0.4-0 included new data defaults. See ?getSymbols.\n",
      "\n",
      "Attaching package: ‘lubridate’\n",
      "\n",
      "The following object is masked from ‘package:base’:\n",
      "\n",
      "    date\n",
      "\n",
      "\n",
      "Attaching package: ‘reshape2’\n",
      "\n",
      "The following object is masked from ‘package:tidyr’:\n",
      "\n",
      "    smiths\n",
      "\n",
      "\n",
      "Attaching package: ‘PerformanceAnalytics’\n",
      "\n",
      "The following object is masked from ‘package:graphics’:\n",
      "\n",
      "    legend\n",
      "\n",
      "Registering fonts with R\n"
     ]
    }
   ],
   "source": [
    "library(tidyverse)\n",
    "library(ggthemes)\n",
    "library(odbc)\n",
    "library(plutoR)\n",
    "library(quantmod)\n",
    "library(lubridate)\n",
    "library(reshape2)\n",
    "library(PerformanceAnalytics)\n",
    "library(ggrepel)\n",
    "library(tbl2xts)\n",
    "\n",
    "options(\"scipen\"=999)\n",
    "options(stringsAsFactors = FALSE)\n",
    "\n",
    "source(\"config.R\")\n",
    "source(\"goofy/plot.common.R\")\n",
    "\n",
    "#initialize\n",
    "famaFrench <- FamaFrench()"
   ]
  },
  {
   "cell_type": "code",
   "execution_count": 2,
   "metadata": {},
   "outputs": [],
   "source": [
    "startDt <- as.Date(\"1990-01-01\")\n",
    "\n",
    "#value (market-cap) weighted\n",
    "valueWtd <- famaFrench$Industry49Daily() %>%\n",
    "    filter(RET_TYPE == 'AVWRD' & TIME_STAMP >= startDt) %>%\n",
    "    mutate(R = RET/100) %>%\n",
    "    select(DATE = TIME_STAMP, KEY_ID, R) %>%\n",
    "    collect() %>% \n",
    "    # the KEY_ID column has industry id's\n",
    "    # we want them as column names\n",
    "    mutate(group=1) %>%\n",
    "    spread(KEY_ID, R) %>%\n",
    "    select(-group) %>%\n",
    "    tbl_xts()\n",
    "\n",
    "#equal weighted\n",
    "equalWtd <- famaFrench$Industry49Daily() %>%\n",
    "    filter(RET_TYPE == 'AEWRD' & TIME_STAMP >= startDt) %>%\n",
    "    mutate(R = RET/100) %>%\n",
    "    select(DATE = TIME_STAMP, KEY_ID, R) %>%\n",
    "    collect() %>% \n",
    "    # the KEY_ID column has industry id's\n",
    "    # we want them as column names\n",
    "    mutate(group=1) %>%\n",
    "    spread(KEY_ID, R) %>%\n",
    "    select(-group) %>%\n",
    "    tbl_xts()"
   ]
  },
  {
   "cell_type": "code",
   "execution_count": 3,
   "metadata": {},
   "outputs": [],
   "source": [
    "lookbackDays <- 220 * 5\n",
    "\n",
    "rrValueWtd <- rollapply(valueWtd, lookbackDays, Return.cumulative, by.column = F)\n",
    "rrEqualWtd <- rollapply(equalWtd, lookbackDays, Return.cumulative, by.column = F)\n",
    "\n",
    "rrValueWtd <- na.omit(rrValueWtd)\n",
    "rrEqualWtd <- na.omit(rrEqualWtd)\n",
    "\n",
    "names(rrValueWtd) <- names(valueWtd)\n",
    "names(rrEqualWtd) <- names(equalWtd)"
   ]
  },
  {
   "cell_type": "code",
   "execution_count": 4,
   "metadata": {},
   "outputs": [
    {
     "ename": "ERROR",
     "evalue": "Error in dimnames(x) <- dn: length of 'dimnames' [2] not equal to array extent\n",
     "output_type": "error",
     "traceback": [
      "Error in dimnames(x) <- dn: length of 'dimnames' [2] not equal to array extent\nTraceback:\n",
      "1. `colnames<-`(`*tmp*`, value = c(\"I\", \"MIN\"))"
     ]
    }
   ],
   "source": [
    "minValWtd <- t(apply(rrValueWtd, 2, min))\n",
    "minValWtd <- rbind(row.names(minValWtd), minValWtd)\n",
    "colnames(minValWtd) <- c(\"I\", \"MIN\")\n",
    "print(minValWtd)\n",
    "\n",
    "minEqlWtd <- t(apply(rrEqualWtd, 2, min))\n",
    "\n",
    "maxValWtd <- apply(rrValueWtd, 2, max)\n",
    "maxEqlWtd <- apply(rrEqualWtd, 2, max)\n",
    "\n",
    "sdValWtd <- apply(rrValueWtd, 2, sd)\n",
    "sdEqlWtd <- apply(rrEqualWtd, 2, sd)\n",
    "\n",
    "statsValDf <- merge.data.frame(merge.data.frame(minValWtd, maxValWtd), sdValWtd)\n",
    "statsEqlDf <- merge.data.frame(merge.data.frame(minEqlWtd, maxEqlWtd), sdEqlWtd)\n",
    "\n",
    "print(\"MKT CAP WT\")\n",
    "print(statsValDf)\n",
    "\n",
    "print(\"EQ WT\")\n",
    "print(statsEqlDf)"
   ]
  },
  {
   "cell_type": "markdown",
   "metadata": {},
   "source": [
    "This notebook was created using [pluto](http://pluto.studio). Learn more [here](https://github.com/shyams80/pluto)"
   ]
  }
 ],
 "metadata": {
  "kernelspec": {
   "display_name": "R",
   "language": "R",
   "name": "ir"
  },
  "language_info": {
   "codemirror_mode": "r",
   "file_extension": ".r",
   "mimetype": "text/x-r-source",
   "name": "R",
   "pygments_lexer": "r",
   "version": "3.6.1"
  }
 },
 "nbformat": 4,
 "nbformat_minor": 2
}
