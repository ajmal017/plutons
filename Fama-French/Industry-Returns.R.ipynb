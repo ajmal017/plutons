{
 "cells": [
  {
   "cell_type": "markdown",
   "metadata": {},
   "source": [
    "# Exploring industry returns in the Fama-French data-set\n",
    "\n",
    "The [49 Industry Portfolios](https://mba.tuck.dartmouth.edu/pages/faculty/ken.french/Data_Library/det_49_ind_port.html) data-set has a series of daily returns of 49 different industry types. Here, we look at some of their statistical properties.\n",
    "\n",
    "The documentation for the Fama-French data-set can be found [here](https://plutopy.readthedocs.io/en/latest/FamaFrench.html) and [here](https://shyams80.github.io/plutoR/docs/reference/FamaFrench-class.html)"
   ]
  },
  {
   "cell_type": "code",
   "execution_count": 1,
   "metadata": {},
   "outputs": [
    {
     "name": "stderr",
     "output_type": "stream",
     "text": [
      "── \u001b[1mAttaching packages\u001b[22m ─────────────────────────────────────── tidyverse 1.2.1 ──\n",
      "\u001b[32m✔\u001b[39m \u001b[34mggplot2\u001b[39m 3.2.1     \u001b[32m✔\u001b[39m \u001b[34mpurrr  \u001b[39m 0.3.2\n",
      "\u001b[32m✔\u001b[39m \u001b[34mtibble \u001b[39m 2.1.3     \u001b[32m✔\u001b[39m \u001b[34mdplyr  \u001b[39m 0.8.3\n",
      "\u001b[32m✔\u001b[39m \u001b[34mtidyr  \u001b[39m 0.8.3     \u001b[32m✔\u001b[39m \u001b[34mstringr\u001b[39m 1.4.0\n",
      "\u001b[32m✔\u001b[39m \u001b[34mreadr  \u001b[39m 1.3.1     \u001b[32m✔\u001b[39m \u001b[34mforcats\u001b[39m 0.4.0\n",
      "── \u001b[1mConflicts\u001b[22m ────────────────────────────────────────── tidyverse_conflicts() ──\n",
      "\u001b[31m✖\u001b[39m \u001b[34mdplyr\u001b[39m::\u001b[32mfilter()\u001b[39m masks \u001b[34mstats\u001b[39m::filter()\n",
      "\u001b[31m✖\u001b[39m \u001b[34mdplyr\u001b[39m::\u001b[32mlag()\u001b[39m    masks \u001b[34mstats\u001b[39m::lag()\n",
      "Loading required package: xts\n",
      "Loading required package: zoo\n",
      "\n",
      "Attaching package: ‘zoo’\n",
      "\n",
      "The following objects are masked from ‘package:base’:\n",
      "\n",
      "    as.Date, as.Date.numeric\n",
      "\n",
      "Registered S3 method overwritten by 'xts':\n",
      "  method     from\n",
      "  as.zoo.xts zoo \n",
      "\n",
      "Attaching package: ‘xts’\n",
      "\n",
      "The following objects are masked from ‘package:dplyr’:\n",
      "\n",
      "    first, last\n",
      "\n",
      "Loading required package: TTR\n",
      "Registered S3 method overwritten by 'quantmod':\n",
      "  method            from\n",
      "  as.zoo.data.frame zoo \n",
      "Version 0.4-0 included new data defaults. See ?getSymbols.\n",
      "\n",
      "Attaching package: ‘lubridate’\n",
      "\n",
      "The following object is masked from ‘package:base’:\n",
      "\n",
      "    date\n",
      "\n",
      "\n",
      "Attaching package: ‘reshape2’\n",
      "\n",
      "The following object is masked from ‘package:tidyr’:\n",
      "\n",
      "    smiths\n",
      "\n",
      "\n",
      "Attaching package: ‘PerformanceAnalytics’\n",
      "\n",
      "The following object is masked from ‘package:graphics’:\n",
      "\n",
      "    legend\n",
      "\n",
      "Registering fonts with R\n"
     ]
    }
   ],
   "source": [
    "library(tidyverse)\n",
    "library(ggthemes)\n",
    "library(odbc)\n",
    "library(plutoR)\n",
    "library(quantmod)\n",
    "library(lubridate)\n",
    "library(reshape2)\n",
    "library(PerformanceAnalytics)\n",
    "library(ggrepel)\n",
    "library(tbl2xts)\n",
    "\n",
    "options(\"scipen\"=999)\n",
    "options(stringsAsFactors = FALSE)\n",
    "\n",
    "source(\"config.R\")\n",
    "source(\"goofy/plot.common.R\")\n",
    "\n",
    "#initialize\n",
    "famaFrench <- FamaFrench()"
   ]
  },
  {
   "cell_type": "code",
   "execution_count": 2,
   "metadata": {},
   "outputs": [],
   "source": [
    "startDt <- as.Date(\"1990-01-01\")\n",
    "\n",
    "#value (market-cap) weighted\n",
    "valueWtd <- famaFrench$Industry49Daily() %>%\n",
    "    filter(RET_TYPE == 'AVWRD' & TIME_STAMP >= startDt) %>%\n",
    "    mutate(R = RET/100) %>%\n",
    "    select(DATE = TIME_STAMP, KEY_ID, R) %>%\n",
    "    collect() %>% \n",
    "    # the KEY_ID column has industry id's\n",
    "    # we want them as column names\n",
    "    mutate(group=1) %>%\n",
    "    spread(KEY_ID, R) %>%\n",
    "    select(-group) %>%\n",
    "    tbl_xts()\n",
    "\n",
    "#equal weighted\n",
    "equalWtd <- famaFrench$Industry49Daily() %>%\n",
    "    filter(RET_TYPE == 'AEWRD' & TIME_STAMP >= startDt) %>%\n",
    "    mutate(R = RET/100) %>%\n",
    "    select(DATE = TIME_STAMP, KEY_ID, R) %>%\n",
    "    collect() %>% \n",
    "    # the KEY_ID column has industry id's\n",
    "    # we want them as column names\n",
    "    mutate(group=1) %>%\n",
    "    spread(KEY_ID, R) %>%\n",
    "    select(-group) %>%\n",
    "    tbl_xts()"
   ]
  },
  {
   "cell_type": "code",
   "execution_count": 3,
   "metadata": {},
   "outputs": [],
   "source": [
    "lookbackDays <- 220 * 5\n",
    "\n",
    "rrValueWtd <- rollapply(valueWtd, lookbackDays, Return.cumulative, by.column = F)\n",
    "rrEqualWtd <- rollapply(equalWtd, lookbackDays, Return.cumulative, by.column = F)\n",
    "\n",
    "rrValueWtd <- na.omit(rrValueWtd)\n",
    "rrEqualWtd <- na.omit(rrEqualWtd)\n",
    "\n",
    "names(rrValueWtd) <- names(valueWtd)\n",
    "names(rrEqualWtd) <- names(equalWtd)"
   ]
  },
  {
   "cell_type": "code",
   "execution_count": 4,
   "metadata": {},
   "outputs": [],
   "source": [
    "applyFnDf <- function(dframe, appFn){\n",
    "    temp <- apply(dframe, 2, appFn)\n",
    "    temp <- data.frame(temp)\n",
    "    temp <- cbind(temp, row.names(temp))\n",
    "    colnames(temp) <- c(as.character(substitute(appFn)), 'I')\n",
    "    return(temp)\n",
    "}"
   ]
  },
  {
   "cell_type": "code",
   "execution_count": 5,
   "metadata": {},
   "outputs": [
    {
     "name": "stderr",
     "output_type": "stream",
     "text": [
      "Joining, by = \"I\"\n",
      "Joining, by = \"I\"\n"
     ]
    },
    {
     "name": "stdout",
     "output_type": "stream",
     "text": [
      "          min     I      max        sd\n",
      "1  -0.2532453  AERO 2.723510 0.6732770\n",
      "2  -0.4074237 AGRIC 2.918361 0.5828927\n",
      "3  -0.7431826 AUTOS 4.305222 0.6150468\n",
      "4  -0.7484332 BANKS 3.102721 0.8154830\n",
      "5  -0.2183618  BEER 2.484587 0.5572048\n",
      "6  -0.5767641 BLDMT 3.567515 0.5667385\n",
      "7  -0.7936408 BOOKS 2.820014 0.6729852\n",
      "8  -0.4499764 BOXES 1.980728 0.4530478\n",
      "9  -0.4315746 BUSSV 1.778622 0.5353209\n",
      "10 -0.3609480 CHEMS 2.706431 0.4673437\n",
      "11 -0.7657270 CHIPS 5.189433 1.1536726\n",
      "12 -0.3782547 CLTHS 3.524852 0.5133042\n",
      "13 -0.5927093 CNSTR 3.573401 0.7403047\n",
      "14 -0.9631609  COAL 7.302051 1.6672218\n",
      "15 -0.2876000 DRUGS 3.749956 0.8628797\n",
      "16 -0.3043374 ELCEQ 3.978620 0.8830644\n",
      "17 -0.6453013 FABPR 3.848893 0.5982059\n",
      "18 -0.6100470   FIN 4.382467 0.9356484\n",
      "19 -0.1204453  FOOD 1.898008 0.3957456\n",
      "20 -0.6996230   FUN 5.432048 0.7353736\n",
      "21 -0.7739683  GOLD 3.117030 0.6819889\n",
      "22 -0.3086047  GUNS 2.773612 0.7423928\n",
      "23 -0.7421280 HARDW 6.542397 1.3518820\n",
      "24 -0.3694879  HLTH 1.822324 0.4585224\n",
      "25 -0.2153368 HSHLD 1.945329 0.4467666\n",
      "26 -0.5480310 INSUR 2.577640 0.6054176\n",
      "27 -0.5442701 LABEQ 2.384042 0.5885724\n",
      "28 -0.3163298  MACH 2.758806 0.4634027\n",
      "29 -0.2264927 MEALS 2.176845 0.4218555\n",
      "30 -0.2991468 MEDEQ 2.114451 0.4790694\n",
      "31 -0.5143283 MINES 6.851862 1.1004399\n",
      "32 -0.3595542   OIL 2.414792 0.5553356\n",
      "33 -0.5805491 OTHER 1.932567 0.4207159\n",
      "34 -0.5082174 PAPER 2.715649 0.4186945\n",
      "35 -0.3867057 PERSV 1.560661 0.4503200\n",
      "36 -0.7545607 RLEST 4.770638 0.7607647\n",
      "37 -0.2353749 RTAIL 2.306250 0.5302382\n",
      "38 -0.4900953 RUBBR 4.394617 0.5565607\n",
      "39 -0.3139155 SHIPS 4.796721 0.7952504\n",
      "40 -0.2988185 SMOKE 2.798732 0.5507508\n",
      "41 -0.4583180  SODA 3.826103 0.7789145\n",
      "42 -0.6970507 SOFTW 4.918910 1.1714650\n",
      "43 -0.6504543 STEEL 4.585020 0.8273468\n",
      "44 -0.6277940 TELCM 2.546550 0.6960558\n",
      "45 -0.5645464  TOYS 2.753742 0.5549420\n",
      "46 -0.3104545 TRANS 2.577716 0.4200541\n",
      "47 -0.7562049 TXTLS 6.637134 0.9187572\n",
      "48 -0.1921551  UTIL 1.906815 0.3407033\n",
      "49 -0.2634272 WHLSL 2.211987 0.4140526\n"
     ]
    },
    {
     "name": "stderr",
     "output_type": "stream",
     "text": [
      "Warning message in merge.data.frame(merge.data.frame(minEqlWtd, maxEqlWtd, by = 0, :\n",
      "“column name ‘Row.names’ is duplicated in the result”"
     ]
    }
   ],
   "source": [
    "minValWtd <- applyFnDf(rrValueWtd, min)\n",
    "minEqlWtd <- applyFnDf(rrEqualWtd, min)\n",
    "\n",
    "maxValWtd <- applyFnDf(rrValueWtd, max)\n",
    "maxEqlWtd <- applyFnDf(rrEqualWtd, max)\n",
    "\n",
    "sdValWtd <- applyFnDf(rrValueWtd, sd)\n",
    "sdEqlWtd <- applyFnDf(rrEqualWtd, sd)\n",
    "\n",
    "statsValDf <- minValWtd %>%\n",
    "    inner_join(maxValWtd) %>%\n",
    "    inner_join(sdValWtd)\n",
    "\n",
    "statsValDf %>% print()\n",
    "statsEqlDf <- merge.data.frame(merge.data.frame(minEqlWtd, maxEqlWtd, by=0, all=T), sdEqlWtd, by=0, all=T)\n",
    "\n",
    "#print(\"MKT CAP WT\")\n",
    "#print(head(statsValDf))\n",
    "\n",
    "#print(\"EQ WT\")\n",
    "#print(head(statsEqlDf))"
   ]
  },
  {
   "cell_type": "markdown",
   "metadata": {},
   "source": [
    "This notebook was created using [pluto](http://pluto.studio). Learn more [here](https://github.com/shyams80/pluto)"
   ]
  }
 ],
 "metadata": {
  "kernelspec": {
   "display_name": "R",
   "language": "R",
   "name": "ir"
  },
  "language_info": {
   "codemirror_mode": "r",
   "file_extension": ".r",
   "mimetype": "text/x-r-source",
   "name": "R",
   "pygments_lexer": "r",
   "version": "3.6.1"
  }
 },
 "nbformat": 4,
 "nbformat_minor": 2
}
