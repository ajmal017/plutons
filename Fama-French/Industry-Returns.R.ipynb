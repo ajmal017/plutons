{
 "cells": [
  {
   "cell_type": "markdown",
   "metadata": {},
   "source": [
    "# Exploring industry returns in the Fama-French data-set\n",
    "\n",
    "The [49 Industry Portfolios](https://mba.tuck.dartmouth.edu/pages/faculty/ken.french/Data_Library/det_49_ind_port.html) data-set has a series of daily returns of 49 different industry types. Here, we look at some of their statistical properties.\n",
    "\n",
    "The documentation for the Fama-French data-set can be found [here](https://plutopy.readthedocs.io/en/latest/FamaFrench.html) and [here](https://shyams80.github.io/plutoR/docs/reference/FamaFrench-class.html)"
   ]
  },
  {
   "cell_type": "code",
   "execution_count": 1,
   "metadata": {},
   "outputs": [
    {
     "name": "stderr",
     "output_type": "stream",
     "text": [
      "── \u001b[1mAttaching packages\u001b[22m ─────────────────────────────────────── tidyverse 1.2.1 ──\n",
      "\u001b[32m✔\u001b[39m \u001b[34mggplot2\u001b[39m 3.2.1     \u001b[32m✔\u001b[39m \u001b[34mpurrr  \u001b[39m 0.3.2\n",
      "\u001b[32m✔\u001b[39m \u001b[34mtibble \u001b[39m 2.1.3     \u001b[32m✔\u001b[39m \u001b[34mdplyr  \u001b[39m 0.8.3\n",
      "\u001b[32m✔\u001b[39m \u001b[34mtidyr  \u001b[39m 0.8.3     \u001b[32m✔\u001b[39m \u001b[34mstringr\u001b[39m 1.4.0\n",
      "\u001b[32m✔\u001b[39m \u001b[34mreadr  \u001b[39m 1.3.1     \u001b[32m✔\u001b[39m \u001b[34mforcats\u001b[39m 0.4.0\n",
      "── \u001b[1mConflicts\u001b[22m ────────────────────────────────────────── tidyverse_conflicts() ──\n",
      "\u001b[31m✖\u001b[39m \u001b[34mdplyr\u001b[39m::\u001b[32mfilter()\u001b[39m masks \u001b[34mstats\u001b[39m::filter()\n",
      "\u001b[31m✖\u001b[39m \u001b[34mdplyr\u001b[39m::\u001b[32mlag()\u001b[39m    masks \u001b[34mstats\u001b[39m::lag()\n",
      "Loading required package: xts\n",
      "Loading required package: zoo\n",
      "\n",
      "Attaching package: ‘zoo’\n",
      "\n",
      "The following objects are masked from ‘package:base’:\n",
      "\n",
      "    as.Date, as.Date.numeric\n",
      "\n",
      "Registered S3 method overwritten by 'xts':\n",
      "  method     from\n",
      "  as.zoo.xts zoo \n",
      "\n",
      "Attaching package: ‘xts’\n",
      "\n",
      "The following objects are masked from ‘package:dplyr’:\n",
      "\n",
      "    first, last\n",
      "\n",
      "Loading required package: TTR\n",
      "Registered S3 method overwritten by 'quantmod':\n",
      "  method            from\n",
      "  as.zoo.data.frame zoo \n",
      "Version 0.4-0 included new data defaults. See ?getSymbols.\n",
      "\n",
      "Attaching package: ‘lubridate’\n",
      "\n",
      "The following object is masked from ‘package:base’:\n",
      "\n",
      "    date\n",
      "\n",
      "\n",
      "Attaching package: ‘reshape2’\n",
      "\n",
      "The following object is masked from ‘package:tidyr’:\n",
      "\n",
      "    smiths\n",
      "\n",
      "\n",
      "Attaching package: ‘PerformanceAnalytics’\n",
      "\n",
      "The following object is masked from ‘package:graphics’:\n",
      "\n",
      "    legend\n",
      "\n",
      "Registering fonts with R\n"
     ]
    }
   ],
   "source": [
    "library(tidyverse)\n",
    "library(ggthemes)\n",
    "library(odbc)\n",
    "library(plutoR)\n",
    "library(quantmod)\n",
    "library(lubridate)\n",
    "library(reshape2)\n",
    "library(PerformanceAnalytics)\n",
    "library(ggrepel)\n",
    "library(tbl2xts)\n",
    "\n",
    "options(\"scipen\"=999)\n",
    "options(stringsAsFactors = FALSE)\n",
    "\n",
    "source(\"config.R\")\n",
    "source(\"goofy/plot.common.R\")\n",
    "\n",
    "#initialize\n",
    "famaFrench <- FamaFrench()"
   ]
  },
  {
   "cell_type": "code",
   "execution_count": 2,
   "metadata": {},
   "outputs": [],
   "source": [
    "startDt <- as.Date(\"1990-01-01\")\n",
    "\n",
    "#value (market-cap) weighted\n",
    "valueWtd <- famaFrench$MomentumDaily() %>%\n",
    "    filter(RET_TYPE == 'AVWRD' & TIME_STAMP >= startDt) %>%\n",
    "    mutate(R = RET/100) %>%\n",
    "    select(DATE = TIME_STAMP, KEY_ID, R) %>%\n",
    "    collect() %>% \n",
    "    # the KEY_ID column has industry id's\n",
    "    # we want them as column names\n",
    "    mutate(group=1) %>%\n",
    "    spread(KEY_ID, R) %>%\n",
    "    select(-group) %>%\n",
    "    tbl_xts()\n",
    "\n",
    "#equal weighted\n",
    "equalWtd <- famaFrench$MomentumDaily() %>%\n",
    "    filter(RET_TYPE == 'AEWRD' & TIME_STAMP >= startDt) %>%\n",
    "    mutate(R = RET/100) %>%\n",
    "    select(DATE = TIME_STAMP, KEY_ID, R) %>%\n",
    "    collect() %>% \n",
    "    # the KEY_ID column has industry id's\n",
    "    # we want them as column names\n",
    "    mutate(group=1) %>%\n",
    "    spread(KEY_ID, R) %>%\n",
    "    select(-group) %>%\n",
    "    tbl_xts()"
   ]
  },
  {
   "cell_type": "code",
   "execution_count": 3,
   "metadata": {},
   "outputs": [
    {
     "name": "stdout",
     "output_type": "stream",
     "text": [
      "               [,1]        [,2]      [,3]      [,4]      [,5]      [,6]\n",
      "1994-05-06 1.295753 -0.03668894 0.2000777 0.2620761 0.3428043 0.3670918\n",
      "1994-05-09 1.231004 -0.07221744 0.1559846 0.2226555 0.3003139 0.3306055\n",
      "1994-05-10 1.236360 -0.07425205 0.1579408 0.2308171 0.3019994 0.3481135\n",
      "1994-05-11 1.232287 -0.07733569 0.1415276 0.2183684 0.2866327 0.3380944\n",
      "1994-05-12 1.262496 -0.07326946 0.1543795 0.2274315 0.2904911 0.3563674\n",
      "1994-05-13 1.243091 -0.06758286 0.1519676 0.2273090 0.2950060 0.3528527\n",
      "                [,7]      [,8]      [,9]     [,10]\n",
      "1994-05-06 0.2617704 0.5643377 0.4807484 0.7725134\n",
      "1994-05-09 0.2330314 0.5375320 0.4412131 0.7156842\n",
      "1994-05-10 0.2372165 0.5465989 0.4520428 0.7292680\n",
      "1994-05-11 0.2332332 0.5455088 0.4543846 0.7289189\n",
      "1994-05-12 0.2447831 0.5683057 0.4728875 0.7492262\n",
      "1994-05-13 0.2506371 0.5694028 0.4610318 0.7285346\n",
      "               [,1]     [,2]     [,3]     [,4]     [,5]     [,6]     [,7]\n",
      "1994-05-06 3.261914 45.31315 3.055510 2.113199 1.924780 1.353790 1.620398\n",
      "1994-05-09 3.187374 44.02604 2.974736 2.047445 1.874726 1.322319 1.580176\n",
      "1994-05-10 3.165337 43.87047 2.954217 2.024475 1.878735 1.325098 1.574520\n",
      "1994-05-11 3.141149 43.46789 2.926917 1.999972 1.863728 1.328141 1.575294\n",
      "1994-05-12 3.151084 43.50331 2.924172 2.008084 1.875788 1.327908 1.583813\n",
      "1994-05-13 3.134516 43.58748 2.931229 2.005683 1.865463 1.334904 1.570404\n",
      "               [,8]     [,9]    [,10]\n",
      "1994-05-06 1.640045 1.749157 2.245335\n",
      "1994-05-09 1.597003 1.706121 2.177865\n",
      "1994-05-10 1.590538 1.703695 2.169948\n",
      "1994-05-11 1.586637 1.692587 2.155954\n",
      "1994-05-12 1.593366 1.713660 2.179754\n",
      "1994-05-13 1.600379 1.709052 2.182938\n"
     ]
    }
   ],
   "source": [
    "lookbackDays <- 220 * 5\n",
    "\n",
    "rrValueWtd <- rollapply(valueWtd, lookbackDays, Return.cumulative, by.column = F)\n",
    "rrEqualWtd <- rollapply(equalWtd, lookbackDays, Return.cumulative, by.column = F)\n",
    "\n",
    "rrValueWtd <- na.omit(rrValueWtd)\n",
    "rrEqualWtd <- na.omit(rrEqualWtd)\n",
    "\n",
    "print(head(rrValueWtd))\n",
    "print(head(rrEqualWtd))"
   ]
  },
  {
   "cell_type": "markdown",
   "metadata": {},
   "source": [
    "This notebook was created using [pluto](http://pluto.studio). Learn more [here](https://github.com/shyams80/pluto)"
   ]
  }
 ],
 "metadata": {
  "kernelspec": {
   "display_name": "R",
   "language": "R",
   "name": "ir"
  },
  "language_info": {
   "codemirror_mode": "r",
   "file_extension": ".r",
   "mimetype": "text/x-r-source",
   "name": "R",
   "pygments_lexer": "r",
   "version": "3.6.1"
  }
 },
 "nbformat": 4,
 "nbformat_minor": 2
}
