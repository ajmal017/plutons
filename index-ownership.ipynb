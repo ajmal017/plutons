{
 "cells": [
  {
   "cell_type": "markdown",
   "metadata": {},
   "source": [
    "# Index constituent and Ownership"
   ]
  },
  {
   "cell_type": "code",
   "execution_count": 1,
   "metadata": {},
   "outputs": [
    {
     "name": "stderr",
     "output_type": "stream",
     "text": []
    }
   ],
   "source": [
    "library(DBI)\n",
    "library(plutoDbR)\n",
    "library(plutoR)\n",
    "library(tidyverse)\n",
    "options(\"scipen\"=999)\n",
    "options(stringsAsFactors = FALSE)\n",
    "source(\"/usr/share/pluto/config.R\")\n",
    "source(\"/usr/share/pluto/goofy/plot.common.R\")\n",
    "source(\"/usr/share/pluto/goofy/misc.common.R\")\n",
    "\n",
    "library(pracma)\n",
    "library(ggthemes)\n",
    "library(reshape2)\n",
    "library(quantmod)\n",
    "library(lubridate)\n",
    "library(ggrepel)\n",
    "library(PerformanceAnalytics)\n",
    "library(ggpubr)\n",
    "\n",
    "options(repr.plot.width=16, repr.plot.height=8)\n",
    "options(tibble.width = Inf)\n",
    "\n",
    "equities <- EquitiesIndiaNse()\n",
    "indices <- Indices()"
   ]
  },
  {
   "cell_type": "code",
   "execution_count": 2,
   "metadata": {},
   "outputs": [],
   "source": [
    "getShp <- function(sym){\n",
    "    maxDt <- equities$ShareholdingPatternXbrl() %>%\n",
    "        filter(SYMBOL == sym) %>%\n",
    "        summarize(M = max(TIME_STAMP)) %>%\n",
    "        collect()\n",
    "    \n",
    "    maxDt <- as.Date(maxDt$M[1])\n",
    "    \n",
    "    PI <- equities$ShareholdingPatternXbrl() %>%\n",
    "        filter(SYMBOL == sym & TIME_STAMP == maxDt \n",
    "               & KEY_2 == \"ShareholdingAsAPercentageOfTotalNumberOfShares\"\n",
    "               & (KEY_1 == \"ShareholdingOfPromoterAndPromoterGroup\"\n",
    "                  || KEY_1 == \"IndividualShareholdersHoldingNominalShareCapitalUpToRsTwoLakh\"\n",
    "                  || KEY_1 == \"IndividualShareholdersHoldingNominalShareCapitalInExcessOfRsTwoLakh\"\n",
    "                  || KEY_1 == \"IndividualsOrHinduUndividedFamily\")) %>%\n",
    "        summarize(T = sum(VALUE)) %>%\n",
    "        collect()\n",
    "    \n",
    "    MF <- equities$ShareholdingPatternXbrl() %>%\n",
    "        filter(SYMBOL == sym & TIME_STAMP == maxDt \n",
    "               & KEY_2 == \"ShareholdingAsAPercentageOfTotalNumberOfShares\"\n",
    "               & KEY_1 == \"MutualFundsOrUti\") %>%\n",
    "        summarize(T = sum(VALUE)) %>%\n",
    "        collect()\n",
    "    \n",
    "    return (c(as.numeric(PI$T[1]), as.numeric(MF$T[1])))\n",
    "}"
   ]
  },
  {
   "cell_type": "code",
   "execution_count": 3,
   "metadata": {},
   "outputs": [],
   "source": [
    "indexShp <- function(indexName){\n",
    "    print(indexName)\n",
    "    constitutents <- indices$NseConstituents() %>%\n",
    "        filter(NAME == indexName) %>%\n",
    "        select(SYMBOL, CAP_WEIGHT) %>%\n",
    "        collect() %>%\n",
    "        as.data.frame()\n",
    "\n",
    "    constitutents$PI <- NA\n",
    "    constitutents$MF <- NA\n",
    "\n",
    "    for (i in 1:nrow(constitutents)){\n",
    "        symbol <- toString(constitutents$SYMBOL[i])\n",
    "        tryCatch({\n",
    "                pimf <- getShp(symbol)\n",
    "                constitutents$PI[i] <- pimf[1]\n",
    "                constitutents$MF[i] <- pimf[2]\n",
    "            },\n",
    "            error = function(e){\n",
    "                print(symbol)\n",
    "                print(e)\n",
    "            })\n",
    "    }\n",
    "\n",
    "    constitutents$INST <- 100 - (constitutents$PI + constitutents$MF)\n",
    "    \n",
    "    constitutents$MF_WT <- constitutents$MF * constitutents$CAP_WEIGHT/100\n",
    "    constitutents$INST_WT <- constitutents$INST * constitutents$CAP_WEIGHT/100\n",
    "    \n",
    "    print(\"Mutual fund ownership (%)\")\n",
    "    print(summary(constitutents$MF))\n",
    "    \n",
    "    print(\"Institutional ownership (%)\")\n",
    "    print(summary(constitutents$INST))\n",
    "    \n",
    "    print(\"Total MF ownership (%)\")\n",
    "    print(sum(constitutents$MF_WT, na.rm=T))\n",
    "    \n",
    "    print(\"Total Institutional ownership (%)\")\n",
    "    print(sum(constitutents$INST_WT, na.rm=T))\n",
    "}"
   ]
  },
  {
   "cell_type": "code",
   "execution_count": 4,
   "metadata": {},
   "outputs": [
    {
     "name": "stdout",
     "output_type": "stream",
     "text": [
      "[1] \"NIFTY 50\"\n"
     ]
    },
    {
     "name": "stderr",
     "output_type": "stream",
     "text": []
    },
    {
     "name": "stdout",
     "output_type": "stream",
     "text": [
      "[1] \"ITC\"\n",
      "<simpleError in as.Date.default(x, ...): do not know how to convert 'x' to class “Date”>\n",
      "[1] \"Mutual fund ownership (%)\"\n",
      "   Min. 1st Qu.  Median    Mean 3rd Qu.    Max.    NA's \n",
      "  0.920   5.060   8.080   8.562  10.680  29.660       1 \n",
      "[1] \"Institutional ownership (%)\"\n",
      "   Min. 1st Qu.  Median    Mean 3rd Qu.    Max.    NA's \n",
      "  14.10   24.68   35.01   37.23   45.65   82.63       1 \n",
      "[1] \"Total MF ownership (%)\"\n",
      "[1] 10.07246\n",
      "[1] \"Total Institutional ownership (%)\"\n",
      "[1] 40.62113\n"
     ]
    }
   ],
   "source": [
    "indexShp(\"NIFTY 50\")"
   ]
  },
  {
   "cell_type": "code",
   "execution_count": 5,
   "metadata": {},
   "outputs": [
    {
     "name": "stdout",
     "output_type": "stream",
     "text": [
      "[1] \"NIFTY 100\"\n"
     ]
    },
    {
     "name": "stderr",
     "output_type": "stream",
     "text": []
    },
    {
     "name": "stdout",
     "output_type": "stream",
     "text": [
      "[1] \"ITC\"\n",
      "<simpleError in as.Date.default(x, ...): do not know how to convert 'x' to class “Date”>\n",
      "[1] \"Mutual fund ownership (%)\"\n",
      "   Min. 1st Qu.  Median    Mean 3rd Qu.    Max.    NA's \n",
      "  0.320   3.365   5.630   6.867   9.410  29.660       1 \n",
      "[1] \"Institutional ownership (%)\"\n",
      "   Min. 1st Qu.  Median    Mean 3rd Qu.    Max.    NA's \n",
      " -44.42   19.13   27.41   28.26   36.35   82.63       1 \n",
      "[1] \"Total MF ownership (%)\"\n",
      "[1] 9.472543\n",
      "[1] \"Total Institutional ownership (%)\"\n",
      "[1] 37.74413\n"
     ]
    }
   ],
   "source": [
    "indexShp(\"NIFTY 100\")"
   ]
  },
  {
   "cell_type": "code",
   "execution_count": 6,
   "metadata": {},
   "outputs": [
    {
     "name": "stdout",
     "output_type": "stream",
     "text": [
      "[1] \"NIFTY MIDCAP 150\"\n"
     ]
    },
    {
     "name": "stderr",
     "output_type": "stream",
     "text": []
    },
    {
     "name": "stdout",
     "output_type": "stream",
     "text": [
      "[1] \"GLENMARK\"\n",
      "<simpleError in as.Date.default(x, ...): do not know how to convert 'x' to class “Date”>\n",
      "[1] \"Mutual fund ownership (%)\"\n",
      "   Min. 1st Qu.  Median    Mean 3rd Qu.    Max.    NA's \n",
      "  0.000   3.400   7.090   8.719  12.840  29.670       1 \n",
      "[1] \"Institutional ownership (%)\"\n",
      "   Min. 1st Qu.  Median    Mean 3rd Qu.    Max.    NA's \n",
      " -66.69    6.44   16.68   13.20   27.80   58.90       1 \n",
      "[1] \"Total MF ownership (%)\"\n",
      "[1] 11.12162\n",
      "[1] \"Total Institutional ownership (%)\"\n",
      "[1] 18.18821\n"
     ]
    }
   ],
   "source": [
    "indexShp(\"NIFTY MIDCAP 150\")"
   ]
  },
  {
   "cell_type": "code",
   "execution_count": 7,
   "metadata": {},
   "outputs": [
    {
     "name": "stdout",
     "output_type": "stream",
     "text": [
      "[1] \"NIFTY SMLCAP 100\"\n",
      "[1] \"Mutual fund ownership (%)\"\n",
      "   Min. 1st Qu.  Median    Mean 3rd Qu.    Max. \n",
      "  0.000   2.007   5.285   7.946  13.307  36.790 \n",
      "[1] \"Institutional ownership (%)\"\n",
      "   Min. 1st Qu.  Median    Mean 3rd Qu.    Max. \n",
      " -61.72    4.79   17.42   15.54   30.20   77.36 \n",
      "[1] \"Total MF ownership (%)\"\n",
      "[1] 9.953712\n",
      "[1] \"Total Institutional ownership (%)\"\n",
      "[1] 19.95408\n"
     ]
    }
   ],
   "source": [
    "indexShp(\"NIFTY SMLCAP 100\")"
   ]
  },
  {
   "cell_type": "markdown",
   "metadata": {},
   "source": [
    "This notebook was created using [pluto](https://pluto.studio). Thank you for playing fair!"
   ]
  }
 ],
 "metadata": {
  "kernelspec": {
   "display_name": "R",
   "language": "R",
   "name": "ir"
  },
  "language_info": {
   "codemirror_mode": "r",
   "file_extension": ".r",
   "mimetype": "text/x-r-source",
   "name": "R",
   "pygments_lexer": "r",
   "version": "3.6.1"
  }
 },
 "nbformat": 4,
 "nbformat_minor": 4
}
