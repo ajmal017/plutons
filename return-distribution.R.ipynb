{
 "cells": [
  {
   "cell_type": "markdown",
   "metadata": {},
   "source": [
    "# studying the distribution of returns of NIFTY indices"
   ]
  },
  {
   "cell_type": "code",
   "execution_count": null,
   "metadata": {},
   "outputs": [],
   "source": [
    "library(tidyverse)\n",
    "library(ggthemes)\n",
    "library(odbc)\n",
    "library(plutoR)\n",
    "library(quantmod)\n",
    "library(PerformanceAnalytics)\n",
    "\n",
    "options(\"scipen\"=999)\n",
    "options(stringsAsFactors = FALSE)\n",
    "options(repr.plot.width=16, repr.plot.height=8)\n",
    "\n",
    "source(\"config.R\")\n",
    "source(\"goofy/plot.common.R\")\n",
    "source(\"goofy/misc.common.R\")\n",
    "\n",
    "indices <- Indices()\n",
    "indexName <- \"NIFTY 50 TR\""
   ]
  },
  {
   "cell_type": "code",
   "execution_count": null,
   "metadata": {},
   "outputs": [],
   "source": [
    "trIndex <- data.frame(indices$NseTimeSeries() %>%\n",
    "    filter(NAME == indexName) %>%\n",
    "    select(TIME_STAMP, CLOSE))\n",
    "\n",
    "trXts <- xts(trIndex$CLOSE, as.Date(trIndex$TIME_STAMP))\n",
    "monthlyTrReturns <- monthlyReturn(trXts)\n",
    "\n",
    "#ignore the first and last months\n",
    "monthlyTrReturns <- monthlyTrReturns[-1]\n",
    "monthlyTrReturns <- monthlyTrReturns[-nrow(monthlyTrReturns)]\n",
    "\n",
    "monthlyTrReturns <- monthlyTrReturns * 100"
   ]
  },
  {
   "cell_type": "code",
   "execution_count": null,
   "metadata": {},
   "outputs": [],
   "source": [
    "# statistical summary of returns\n",
    "print(summary(monthlyTrReturns))"
   ]
  },
  {
   "cell_type": "code",
   "execution_count": null,
   "metadata": {},
   "outputs": [],
   "source": [
    "firstDate <- first(index(monthlyTrReturns))\n",
    "lastDate <- last(index(monthlyTrReturns))\n",
    "xAxisTicks <- seq(from=firstDate, to=lastDate, length.out=10)\n",
    "\n",
    "mRetDf <- data.frame(monthlyTrReturns)\n",
    "names(mRetDf) <- c('R')\n",
    "\n",
    "mRetDf$T <- index(monthlyTrReturns)\n",
    "\n",
    "ggplot(mRetDf, aes(x=R)) +\n",
    "    theme_economist() +\n",
    "    geom_density() +\n",
    "    labs(x='%', y='density', color='', title=sprintf(\"%s Density Plot\", indexName), \n",
    "         subtitle=sprintf(\"monthly returns [%s:%s]\", firstDate, lastDate)) +\n",
    "    annotate(\"text\", x=max(monthlyTrReturns), y=0, label = \"@StockViz\", hjust=1.1, vjust=-1.1, col=\"white\", cex=6, fontface = \"bold\", alpha = 0.8)"
   ]
  },
  {
   "cell_type": "markdown",
   "metadata": {},
   "source": [
    "### super-impose a normal distribution with the same mean and standard-deviation\n",
    "\n",
    "what are these \"fat-tails\" that people keep talking about?"
   ]
  },
  {
   "cell_type": "code",
   "execution_count": null,
   "metadata": {},
   "outputs": [],
   "source": [
    "avg <- mean(coredata(monthlyTrReturns))\n",
    "stddev <- sd(coredata(monthlyTrReturns))\n",
    "\n",
    "mRetDf$N1 <- rnorm(nrow(monthlyTrReturns), mean=avg, sd=stddev)\n",
    "mRetDf$N2 <- rnorm(nrow(monthlyTrReturns), mean=avg, sd=stddev)\n",
    "mRetDf$N3 <- rnorm(nrow(monthlyTrReturns), mean=avg, sd=stddev)\n",
    "mRetDf$N4 <- rnorm(nrow(monthlyTrReturns), mean=avg, sd=stddev)\n",
    "mRetDf$N5 <- rnorm(nrow(monthlyTrReturns), mean=avg, sd=stddev)\n",
    "\n",
    "ggplot(mRetDf) +\n",
    "    theme_economist() +\n",
    "    geom_density(aes(x = R), color='blue') +\n",
    "    geom_density(aes(x = N1), color='lightsalmon') +\n",
    "    geom_density(aes(x = N2), color='lightsalmon') +\n",
    "    geom_density(aes(x = N3), color='lightsalmon') +\n",
    "    geom_density(aes(x = N4), color='lightsalmon') +\n",
    "    geom_density(aes(x = N5), color='lightsalmon') +\n",
    "    labs(x='%', y='density', color='', title=sprintf(\"%s Density Plot\", indexName), \n",
    "         subtitle=sprintf(\"monthly returns [%s:%s]\", firstDate, lastDate)) +\n",
    "    annotate(\"text\", x=max(monthlyTrReturns), y=0, label = \"@StockViz\", hjust=1.1, vjust=-1.1, col=\"white\", cex=6, fontface = \"bold\", alpha = 0.8)\n"
   ]
  },
  {
   "cell_type": "markdown",
   "metadata": {},
   "source": [
    "This notebook was created using [pluto](http://pluto.studio). Learn more [here](https://github.com/shyams80/pluto)"
   ]
  }
 ],
 "metadata": {
  "kernelspec": {
   "display_name": "R",
   "language": "R",
   "name": "ir"
  },
  "language_info": {
   "codemirror_mode": "r",
   "file_extension": ".r",
   "mimetype": "text/x-r-source",
   "name": "R",
   "pygments_lexer": "r",
   "version": "3.4.4"
  }
 },
 "nbformat": 4,
 "nbformat_minor": 2
}
