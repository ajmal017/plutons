{
 "cells": [
  {
   "cell_type": "markdown",
   "metadata": {},
   "source": [
    "# Exploring the NIFTY 50 index under different SMA regimes\n",
    "\n",
    "Markets tend to be manic depressive, going from excessive optimism to excessive pessimism. The distribution of returns tend to be different based on the \"regime.\" A simple way to demarcate these regimes is by using an SMA (Simple Moving Average) to bucket returns into binary groups. Here, we explore how returns are distributed in these buckets."
   ]
  },
  {
   "cell_type": "code",
   "execution_count": 1,
   "metadata": {},
   "outputs": [
    {
     "name": "stderr",
     "output_type": "stream",
     "text": [
      "── \u001b[1mAttaching packages\u001b[22m ─────────────────────────────────────── tidyverse 1.2.1 ──\n",
      "\u001b[32m✔\u001b[39m \u001b[34mggplot2\u001b[39m 3.2.0     \u001b[32m✔\u001b[39m \u001b[34mpurrr  \u001b[39m 0.3.2\n",
      "\u001b[32m✔\u001b[39m \u001b[34mtibble \u001b[39m 2.1.3     \u001b[32m✔\u001b[39m \u001b[34mdplyr  \u001b[39m 0.8.3\n",
      "\u001b[32m✔\u001b[39m \u001b[34mtidyr  \u001b[39m 0.8.3     \u001b[32m✔\u001b[39m \u001b[34mstringr\u001b[39m 1.4.0\n",
      "\u001b[32m✔\u001b[39m \u001b[34mreadr  \u001b[39m 1.3.1     \u001b[32m✔\u001b[39m \u001b[34mforcats\u001b[39m 0.4.0\n",
      "── \u001b[1mConflicts\u001b[22m ────────────────────────────────────────── tidyverse_conflicts() ──\n",
      "\u001b[31m✖\u001b[39m \u001b[34mdplyr\u001b[39m::\u001b[32mfilter()\u001b[39m masks \u001b[34mstats\u001b[39m::filter()\n",
      "\u001b[31m✖\u001b[39m \u001b[34mdplyr\u001b[39m::\u001b[32mlag()\u001b[39m    masks \u001b[34mstats\u001b[39m::lag()\n",
      "Loading required package: xts\n",
      "Loading required package: zoo\n",
      "\n",
      "Attaching package: ‘zoo’\n",
      "\n",
      "The following objects are masked from ‘package:base’:\n",
      "\n",
      "    as.Date, as.Date.numeric\n",
      "\n",
      "Registered S3 method overwritten by 'xts':\n",
      "  method     from\n",
      "  as.zoo.xts zoo \n",
      "\n",
      "Attaching package: ‘xts’\n",
      "\n",
      "The following objects are masked from ‘package:dplyr’:\n",
      "\n",
      "    first, last\n",
      "\n",
      "Loading required package: TTR\n",
      "Registered S3 method overwritten by 'quantmod':\n",
      "  method            from\n",
      "  as.zoo.data.frame zoo \n",
      "Version 0.4-0 included new data defaults. See ?getSymbols.\n",
      "\n",
      "Attaching package: ‘PerformanceAnalytics’\n",
      "\n",
      "The following object is masked from ‘package:graphics’:\n",
      "\n",
      "    legend\n",
      "\n",
      "\n",
      "Attaching package: ‘reshape2’\n",
      "\n",
      "The following object is masked from ‘package:tidyr’:\n",
      "\n",
      "    smiths\n",
      "\n",
      "\n",
      "Attaching package: ‘lubridate’\n",
      "\n",
      "The following object is masked from ‘package:base’:\n",
      "\n",
      "    date\n",
      "\n",
      "Registering fonts with R\n",
      "\n",
      "Attaching package: ‘gridExtra’\n",
      "\n",
      "The following object is masked from ‘package:dplyr’:\n",
      "\n",
      "    combine\n",
      "\n"
     ]
    }
   ],
   "source": [
    "library(tidyverse)\n",
    "library(ggthemes)\n",
    "library(odbc)\n",
    "library(RPostgres)\n",
    "library(plutoR)\n",
    "library(quantmod)\n",
    "library(PerformanceAnalytics)\n",
    "library(reshape2)\n",
    "library(ggrepel)\n",
    "library(lubridate)\n",
    "\n",
    "options(\"scipen\"=999)\n",
    "options(stringsAsFactors = FALSE)\n",
    "options(repr.plot.width=16, repr.plot.height=8)\n",
    "\n",
    "source(\"config.R\")\n",
    "source(\"goofy/plot.common.R\")\n",
    "source(\"goofy/misc.common.R\")\n",
    "\n",
    "#initialize\n",
    "indices<-Indices()"
   ]
  },
  {
   "cell_type": "code",
   "execution_count": 2,
   "metadata": {},
   "outputs": [],
   "source": [
    "smaLb <- 50 #number of days\n",
    "px <- indices$NseTimeSeries() %>%\n",
    "    filter(NAME == 'NIFTY 50 TR') %>%\n",
    "    select(TIME_STAMP, CLOSE) %>%\n",
    "    collect()\n",
    "\n",
    "#if we break by years, make sure that they have at least 200 days\n",
    "numDays <- px %>%\n",
    "    group_by(Y = year(TIME_STAMP)) %>%\n",
    "    summarize(N = n())\n",
    "\n",
    "yrs <- numDays %>%\n",
    "    filter(N >= 200) %>%\n",
    "    pull(Y)"
   ]
  },
  {
   "cell_type": "code",
   "execution_count": 3,
   "metadata": {},
   "outputs": [],
   "source": [
    "pXts <- xts(px$CLOSE, px$TIME_STAMP)\n",
    "names(pXts) <- c('INDEX')\n",
    "pXts$SMA <- SMA(pXts[,1], smaLb)\n",
    "pXts$D_RET <- dailyReturn(pXts$INDEX)\n",
    "pXts$D_RET_PCT <- pXts$D_RET * 100"
   ]
  },
  {
   "cell_type": "code",
   "execution_count": 4,
   "metadata": {},
   "outputs": [
    {
     "name": "stdout",
     "output_type": "stream",
     "text": [
      "      Y N_ABOVE N_BELOW  AVG_ABOVE    AVG_BELOW SD_ABOVE SD_BELOW\n",
      "2  2000     113     137 0.40273740 -0.140179908 1.783346 2.151381\n",
      "3  2001      94     154 0.28798902  0.002901356 1.855501 2.103088\n",
      "4  2002     103     148 0.23112970  0.024482659 1.668537 2.210657\n",
      "5  2003     173      81 0.15789966  0.022844521 2.151448 1.636849\n",
      "6  2004     170      84 0.02496763  0.296697022 2.112961 1.745289\n",
      "7  2005     188      63 0.14948321 -0.010683350 1.912486 2.271032\n",
      "8  2006     202      48 0.04034361  0.378234804 2.048138 1.823721\n",
      "9  2007     203      46 0.07190228  0.250554083 2.126865 1.405987\n",
      "10 2008      75     171 0.12547134  0.107003596 1.829395 2.103156\n",
      "11 2009     187      56 0.11811708  0.102273862 2.024099 2.047704\n",
      "12 2010     168      84 0.08758752  0.169469590 2.172882 1.620963\n",
      "13 2011      78     169 0.34117546  0.011744337 2.537769 1.722634\n",
      "14 2012     178      73 0.09465987  0.144936099 2.101107 1.761584\n",
      "15 2013     151      99 0.02199312  0.232158762 2.108500 1.847253\n",
      "16 2014     200      44 0.04130122  0.477420691 2.024230 2.001079\n",
      "17 2015     117     131 0.09171735  0.128143867 2.181011 1.860059\n",
      "18 2016     147     100 0.06171436  0.195244687 1.846793 2.250056\n",
      "19 2017     228      20 0.07567307  0.513215838 2.022841 1.909393\n",
      "20 2018     157      89 0.24933031 -0.128504430 1.827310 2.312578\n"
     ]
    }
   ],
   "source": [
    "statByYear <- data.frame(Y = 0, N_ABOVE = 0, N_BELOW = 0, AVG_ABOVE = 0.0, AVG_BELOW = 0.0, SD_ABOVE = 0.0, SD_BELOW = 0.0)\n",
    "\n",
    "for(yr in yrs){\n",
    "    yrStr <- toString(yr)\n",
    "    numAbove <- as.numeric(sum(ifelse(pXts[yrStr,'INDEX'] > pXts[yrStr,'SMA'], 1, 0)))\n",
    "    numBelow <- as.numeric(sum(ifelse(pXts[yrStr,'INDEX'] <= pXts[yrStr,'SMA'], 1, 0)))\n",
    "    \n",
    "    avgAbove <- as.numeric(mean(pXts[pXts[yrStr,'INDEX'] > pXts[yrStr,'SMA'], 'D_RET_PCT']))\n",
    "    avgBelow <- as.numeric(mean(pXts[pXts[yrStr,'INDEX'] <= pXts[yrStr,'SMA'], 'D_RET_PCT']))\n",
    "    \n",
    "    sdAbove <- as.numeric(sd(pXts[pXts[yrStr,'INDEX'] > pXts[yrStr,'SMA'], 'D_RET_PCT']))\n",
    "    sdBelow <- as.numeric(sd(pXts[pXts[yrStr,'INDEX'] <= pXts[yrStr,'SMA'], 'D_RET_PCT']))\n",
    "    \n",
    "    statByYear <- rbind(statByYear, c(yr, numAbove, numBelow, avgAbove, avgBelow, sdAbove, sdBelow))\n",
    "}\n",
    "\n",
    "statByYear <- statByYear[-1,]\n",
    "print(statByYear)"
   ]
  },
  {
   "cell_type": "markdown",
   "metadata": {},
   "source": [
    "The NIFTY got hammered by the GFC in 2008, only to be reflated in 2009. The years prior to do that was a different \"regime.\" Not sure if they can be used in back-tests any more. Let's look at the data from 2010 onwards."
   ]
  },
  {
   "cell_type": "code",
   "execution_count": 5,
   "metadata": {},
   "outputs": [
    {
     "name": "stdout",
     "output_type": "stream",
     "text": [
      "[1] \"stat200: HEAD\"\n",
      "           [,1] [,2]      [,3]       [,4]      [,5]     [,6]\n",
      "2010-10-18  145   55 0.1681451 -0.1253108 0.7920690 1.424586\n",
      "2010-10-19  145   55 0.1584971 -0.1253108 0.7953032 1.424586\n",
      "2010-10-20  145   55 0.1473001 -0.1253108 0.7965925 1.424586\n",
      "2010-10-21  145   55 0.1611645 -0.1253108 0.8126358 1.424586\n",
      "2010-10-22  145   55 0.1596199 -0.1253108 0.8138340 1.424586\n",
      "2010-10-25  145   55 0.1665457 -0.1253108 0.8137504 1.424586\n",
      "[1] \"stat200: TAIL\"\n",
      "           [,1] [,2]      [,3]       [,4]      [,5]      [,6]\n",
      "2019-07-22  131   69 0.1317737 -0.1763620 0.7897486 1.0424609\n",
      "2019-07-23  131   69 0.1317737 -0.1720788 0.7897486 1.0420135\n",
      "2019-07-24  131   69 0.1317737 -0.1892885 0.7897486 1.0369850\n",
      "2019-07-25  131   69 0.1317737 -0.1717176 0.7897486 1.0270232\n",
      "2019-07-26  131   69 0.1317737 -0.1329976 0.7897486 0.9921091\n",
      "2019-07-29  131   69 0.1317737 -0.1064821 0.7897486 0.9467772\n"
     ]
    }
   ],
   "source": [
    "stat200 <- rollapply(pXts[\"2010/\",], 200, function(X){\n",
    "    numAbove <- as.numeric(sum(ifelse(X[,'INDEX'] > X[,'SMA'], 1, 0)))\n",
    "    numBelow <- as.numeric(sum(ifelse(X[,'INDEX'] <= X[,'SMA'], 1, 0)))\n",
    "    \n",
    "    avgAbove <- as.numeric(mean(X[X[,'INDEX'] > X[,'SMA'], 'D_RET_PCT']))\n",
    "    avgBelow <- as.numeric(mean(X[X[,'INDEX'] <= X[,'SMA'], 'D_RET_PCT']))\n",
    "    \n",
    "    sdAbove <- as.numeric(sd(X[X[,'INDEX'] > X[,'SMA'], 'D_RET_PCT']))\n",
    "    sdBelow <- as.numeric(sd(X[X[,'INDEX'] <= X[,'SMA'], 'D_RET_PCT']))\n",
    "    \n",
    "    xts(matrix(c(numAbove, numBelow, avgAbove, avgBelow, sdAbove, sdBelow), nrow=1), as.Date(last(index(X))))\n",
    "}, by.column = FALSE)\n",
    "\n",
    "stat200 <- na.omit(stat200)\n",
    "\n",
    "print(\"stat200: HEAD\")\n",
    "print(head(stat200))\n",
    "\n",
    "print(\"stat200: TAIL\")\n",
    "print(tail(stat200))"
   ]
  },
  {
   "cell_type": "markdown",
   "metadata": {},
   "source": [
    "This notebook was created using [pluto](http://pluto.studio). Learn more [here](https://github.com/shyams80/pluto)"
   ]
  }
 ],
 "metadata": {
  "kernelspec": {
   "display_name": "R",
   "language": "R",
   "name": "ir"
  },
  "language_info": {
   "codemirror_mode": "r",
   "file_extension": ".r",
   "mimetype": "text/x-r-source",
   "name": "R",
   "pygments_lexer": "r",
   "version": "3.6.1"
  }
 },
 "nbformat": 4,
 "nbformat_minor": 2
}
