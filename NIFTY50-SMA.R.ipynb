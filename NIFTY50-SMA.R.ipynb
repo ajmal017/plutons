{
 "cells": [
  {
   "cell_type": "markdown",
   "metadata": {},
   "source": [
    "# Exploring the NIFTY 50 index under different SMA regimes\n",
    "\n",
    "Markets tend to be manic depressive, going from excessive optimism to excessive pessimism. The distribution of returns tend to be different based on the \"regime.\" A simple way to demarcate these regimes is by using an SMA (Simple Moving Average) to bucket returns into binary groups. Here, we explore how returns are distributed in these buckets."
   ]
  },
  {
   "cell_type": "code",
   "execution_count": 1,
   "metadata": {},
   "outputs": [
    {
     "name": "stderr",
     "output_type": "stream",
     "text": [
      "── \u001b[1mAttaching packages\u001b[22m ─────────────────────────────────────── tidyverse 1.2.1 ──\n",
      "\u001b[32m✔\u001b[39m \u001b[34mggplot2\u001b[39m 3.2.0     \u001b[32m✔\u001b[39m \u001b[34mpurrr  \u001b[39m 0.3.2\n",
      "\u001b[32m✔\u001b[39m \u001b[34mtibble \u001b[39m 2.1.3     \u001b[32m✔\u001b[39m \u001b[34mdplyr  \u001b[39m 0.8.3\n",
      "\u001b[32m✔\u001b[39m \u001b[34mtidyr  \u001b[39m 0.8.3     \u001b[32m✔\u001b[39m \u001b[34mstringr\u001b[39m 1.4.0\n",
      "\u001b[32m✔\u001b[39m \u001b[34mreadr  \u001b[39m 1.3.1     \u001b[32m✔\u001b[39m \u001b[34mforcats\u001b[39m 0.4.0\n",
      "── \u001b[1mConflicts\u001b[22m ────────────────────────────────────────── tidyverse_conflicts() ──\n",
      "\u001b[31m✖\u001b[39m \u001b[34mdplyr\u001b[39m::\u001b[32mfilter()\u001b[39m masks \u001b[34mstats\u001b[39m::filter()\n",
      "\u001b[31m✖\u001b[39m \u001b[34mdplyr\u001b[39m::\u001b[32mlag()\u001b[39m    masks \u001b[34mstats\u001b[39m::lag()\n",
      "Loading required package: xts\n",
      "Loading required package: zoo\n",
      "\n",
      "Attaching package: ‘zoo’\n",
      "\n",
      "The following objects are masked from ‘package:base’:\n",
      "\n",
      "    as.Date, as.Date.numeric\n",
      "\n",
      "Registered S3 method overwritten by 'xts':\n",
      "  method     from\n",
      "  as.zoo.xts zoo \n",
      "\n",
      "Attaching package: ‘xts’\n",
      "\n",
      "The following objects are masked from ‘package:dplyr’:\n",
      "\n",
      "    first, last\n",
      "\n",
      "Loading required package: TTR\n",
      "Registered S3 method overwritten by 'quantmod':\n",
      "  method            from\n",
      "  as.zoo.data.frame zoo \n",
      "Version 0.4-0 included new data defaults. See ?getSymbols.\n",
      "\n",
      "Attaching package: ‘PerformanceAnalytics’\n",
      "\n",
      "The following object is masked from ‘package:graphics’:\n",
      "\n",
      "    legend\n",
      "\n",
      "\n",
      "Attaching package: ‘reshape2’\n",
      "\n",
      "The following object is masked from ‘package:tidyr’:\n",
      "\n",
      "    smiths\n",
      "\n",
      "\n",
      "Attaching package: ‘lubridate’\n",
      "\n",
      "The following object is masked from ‘package:base’:\n",
      "\n",
      "    date\n",
      "\n",
      "Registering fonts with R\n",
      "\n",
      "Attaching package: ‘gridExtra’\n",
      "\n",
      "The following object is masked from ‘package:dplyr’:\n",
      "\n",
      "    combine\n",
      "\n"
     ]
    }
   ],
   "source": [
    "library(tidyverse)\n",
    "library(ggthemes)\n",
    "library(odbc)\n",
    "library(RPostgres)\n",
    "library(plutoR)\n",
    "library(quantmod)\n",
    "library(PerformanceAnalytics)\n",
    "library(reshape2)\n",
    "library(ggrepel)\n",
    "library(lubridate)\n",
    "\n",
    "options(\"scipen\"=999)\n",
    "options(stringsAsFactors = FALSE)\n",
    "options(repr.plot.width=16, repr.plot.height=8)\n",
    "\n",
    "source(\"config.R\")\n",
    "source(\"goofy/plot.common.R\")\n",
    "source(\"goofy/misc.common.R\")\n",
    "\n",
    "#initialize\n",
    "indices<-Indices()"
   ]
  },
  {
   "cell_type": "code",
   "execution_count": 2,
   "metadata": {},
   "outputs": [
    {
     "name": "stdout",
     "output_type": "stream",
     "text": [
      "\u001b[38;5;246m# A tibble: 21 x 2\u001b[39m\n",
      "       Y     N\n",
      "   \u001b[3m\u001b[38;5;246m<dbl>\u001b[39m\u001b[23m \u001b[3m\u001b[38;5;246m<int>\u001b[39m\u001b[23m\n",
      "\u001b[38;5;250m 1\u001b[39m  \u001b[4m1\u001b[24m999   129\n",
      "\u001b[38;5;250m 2\u001b[39m  \u001b[4m2\u001b[24m000   250\n",
      "\u001b[38;5;250m 3\u001b[39m  \u001b[4m2\u001b[24m001   248\n",
      "\u001b[38;5;250m 4\u001b[39m  \u001b[4m2\u001b[24m002   251\n",
      "\u001b[38;5;250m 5\u001b[39m  \u001b[4m2\u001b[24m003   254\n",
      "\u001b[38;5;250m 6\u001b[39m  \u001b[4m2\u001b[24m004   254\n",
      "\u001b[38;5;250m 7\u001b[39m  \u001b[4m2\u001b[24m005   251\n",
      "\u001b[38;5;250m 8\u001b[39m  \u001b[4m2\u001b[24m006   250\n",
      "\u001b[38;5;250m 9\u001b[39m  \u001b[4m2\u001b[24m007   249\n",
      "\u001b[38;5;250m10\u001b[39m  \u001b[4m2\u001b[24m008   246\n",
      "\u001b[38;5;250m11\u001b[39m  \u001b[4m2\u001b[24m009   243\n",
      "\u001b[38;5;250m12\u001b[39m  \u001b[4m2\u001b[24m010   252\n",
      "\u001b[38;5;250m13\u001b[39m  \u001b[4m2\u001b[24m011   247\n",
      "\u001b[38;5;250m14\u001b[39m  \u001b[4m2\u001b[24m012   251\n",
      "\u001b[38;5;250m15\u001b[39m  \u001b[4m2\u001b[24m013   250\n",
      "\u001b[38;5;250m16\u001b[39m  \u001b[4m2\u001b[24m014   244\n",
      "\u001b[38;5;250m17\u001b[39m  \u001b[4m2\u001b[24m015   248\n",
      "\u001b[38;5;250m18\u001b[39m  \u001b[4m2\u001b[24m016   247\n",
      "\u001b[38;5;250m19\u001b[39m  \u001b[4m2\u001b[24m017   248\n",
      "\u001b[38;5;250m20\u001b[39m  \u001b[4m2\u001b[24m018   246\n",
      "\u001b[38;5;250m21\u001b[39m  \u001b[4m2\u001b[24m019   143\n"
     ]
    }
   ],
   "source": [
    "smaLb <- 50 #number of days\n",
    "px <- indices$NseTimeSeries() %>%\n",
    "    filter(NAME == 'NIFTY 50 TR') %>%\n",
    "    select(TIME_STAMP, CLOSE) %>%\n",
    "    collect()\n",
    "\n",
    "numDays <- px %>%\n",
    "    group_by(Y = year(TIME_STAMP)) %>%\n",
    "    summarize(N = n())\n",
    "\n",
    "numDays %>% print(n=Inf)"
   ]
  },
  {
   "cell_type": "code",
   "execution_count": 3,
   "metadata": {},
   "outputs": [],
   "source": [
    "pXts <- xts(px$CLOSE, px$TIME_STAMP)\n",
    "names(pXts) <- c('INDEX')\n",
    "pXts$SMA <- SMA(pXts[,1], smaLb)\n",
    "pXts$D_RET <- dailyReturn(pXts$INDEX)\n",
    "\n",
    "yrs <- unique(year(index(pXts)))"
   ]
  },
  {
   "cell_type": "markdown",
   "metadata": {},
   "source": [
    "This notebook was created using [pluto](http://pluto.studio). Learn more [here](https://github.com/shyams80/pluto)"
   ]
  }
 ],
 "metadata": {
  "kernelspec": {
   "display_name": "R",
   "language": "R",
   "name": "ir"
  },
  "language_info": {
   "codemirror_mode": "r",
   "file_extension": ".r",
   "mimetype": "text/x-r-source",
   "name": "R",
   "pygments_lexer": "r",
   "version": "3.6.1"
  }
 },
 "nbformat": 4,
 "nbformat_minor": 2
}
