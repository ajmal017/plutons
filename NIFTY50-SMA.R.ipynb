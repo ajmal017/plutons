{
 "cells": [
  {
   "cell_type": "markdown",
   "metadata": {},
   "source": [
    "# Exploring the NIFTY 50 index under different SMA regimes\n",
    "\n",
    "Markets tend to be manic depressive, going from excessive optimism to excessive pessimism. The distribution of returns tend to be different based on the \"regime.\" A simple way to demarcate these regimes is by using an SMA (Simple Moving Average) to bucket returns into binary groups. Here, we explore how returns are distributed in these buckets."
   ]
  },
  {
   "cell_type": "code",
   "execution_count": null,
   "metadata": {},
   "outputs": [],
   "source": [
    "library(tidyverse)\n",
    "library(ggthemes)\n",
    "library(odbc)\n",
    "library(RPostgres)\n",
    "library(plutoR)\n",
    "library(quantmod)\n",
    "library(PerformanceAnalytics)\n",
    "library(reshape2)\n",
    "library(ggrepel)\n",
    "library(lubridate)\n",
    "\n",
    "options(\"scipen\"=999)\n",
    "options(stringsAsFactors = FALSE)\n",
    "options(repr.plot.width=16, repr.plot.height=8)\n",
    "\n",
    "source(\"config.R\")\n",
    "source(\"goofy/plot.common.R\")\n",
    "source(\"goofy/misc.common.R\")\n",
    "\n",
    "#initialize\n",
    "indices<-Indices()"
   ]
  },
  {
   "cell_type": "code",
   "execution_count": null,
   "metadata": {},
   "outputs": [],
   "source": [
    "indexName <- 'NIFTY 50'\n",
    "smaLb <- 50 #number of days\n",
    "px <- indices$NseTimeSeries() %>%\n",
    "    filter(NAME == indexName) %>%\n",
    "    select(TIME_STAMP, CLOSE) %>%\n",
    "    collect()\n",
    "\n",
    "#if we break by years, make sure that they have at least 200 days\n",
    "numDays <- px %>%\n",
    "    group_by(Y = year(TIME_STAMP)) %>%\n",
    "    summarize(N = n())\n",
    "\n",
    "yrs <- numDays %>%\n",
    "    filter(N >= 200) %>%\n",
    "    pull(Y)"
   ]
  },
  {
   "cell_type": "code",
   "execution_count": null,
   "metadata": {},
   "outputs": [],
   "source": [
    "pXts <- xts(px$CLOSE, px$TIME_STAMP)\n",
    "names(pXts) <- c('INDEX')\n",
    "pXts$SMA <- SMA(pXts[,1], smaLb)\n",
    "pXts$D_RET <- dailyReturn(pXts$INDEX)\n",
    "pXts$D_RET_PCT <- pXts$D_RET * 100\n",
    "\n",
    "pXts <- na.omit(pXts)"
   ]
  },
  {
   "cell_type": "code",
   "execution_count": null,
   "metadata": {},
   "outputs": [],
   "source": [
    "statByYear <- data.frame(Y = 0, N_ABOVE = 0, N_BELOW = 0, AVG_ABOVE = 0.0, AVG_BELOW = 0.0, SD_ABOVE = 0.0, SD_BELOW = 0.0)\n",
    "\n",
    "for(yr in yrs){\n",
    "    yrStr <- toString(yr)\n",
    "    numAbove <- as.numeric(sum(ifelse(pXts[yrStr,'INDEX'] > pXts[yrStr,'SMA'], 1, 0)))\n",
    "    numBelow <- as.numeric(sum(ifelse(pXts[yrStr,'INDEX'] <= pXts[yrStr,'SMA'], 1, 0)))\n",
    "    \n",
    "    avgAbove <- as.numeric(mean(pXts[pXts[yrStr,'INDEX'] > pXts[yrStr,'SMA'], 'D_RET_PCT']))\n",
    "    avgBelow <- as.numeric(mean(pXts[pXts[yrStr,'INDEX'] <= pXts[yrStr,'SMA'], 'D_RET_PCT']))\n",
    "    \n",
    "    sdAbove <- as.numeric(sd(pXts[pXts[yrStr,'INDEX'] > pXts[yrStr,'SMA'], 'D_RET_PCT']))\n",
    "    sdBelow <- as.numeric(sd(pXts[pXts[yrStr,'INDEX'] <= pXts[yrStr,'SMA'], 'D_RET_PCT']))\n",
    "    \n",
    "    statByYear <- rbind(statByYear, c(yr, numAbove, numBelow, avgAbove, avgBelow, sdAbove, sdBelow))\n",
    "}\n",
    "\n",
    "statByYear <- statByYear[-1,]\n",
    "print(statByYear)"
   ]
  },
  {
   "cell_type": "markdown",
   "metadata": {},
   "source": [
    "The NIFTY got hammered by the GFC in 2008, only to be reflated in 2009. The years prior to do that was a different \"regime.\" Not sure if they can be used in back-tests any more. Let's look at the data from 2010 onwards."
   ]
  },
  {
   "cell_type": "code",
   "execution_count": null,
   "metadata": {},
   "outputs": [],
   "source": [
    "rollN <- 200\n",
    "stat200 <- rollapply(pXts[\"2010/\",], rollN, function(X){\n",
    "    numAbove <- as.numeric(sum(ifelse(X[,'INDEX'] > X[,'SMA'], 1, 0)))\n",
    "    numBelow <- as.numeric(sum(ifelse(X[,'INDEX'] <= X[,'SMA'], 1, 0)))\n",
    "    \n",
    "    avgAbove <- as.numeric(mean(X[X[,'INDEX'] > X[,'SMA'], 'D_RET_PCT']))\n",
    "    avgBelow <- as.numeric(mean(X[X[,'INDEX'] <= X[,'SMA'], 'D_RET_PCT']))\n",
    "    \n",
    "    sdAbove <- as.numeric(sd(X[X[,'INDEX'] > X[,'SMA'], 'D_RET_PCT']))\n",
    "    sdBelow <- as.numeric(sd(X[X[,'INDEX'] <= X[,'SMA'], 'D_RET_PCT']))\n",
    "    \n",
    "    xts(matrix(c(numAbove, numBelow, avgAbove, avgBelow, sdAbove, sdBelow), nrow=1), as.Date(last(index(X))))\n",
    "}, by.column = FALSE)\n",
    "\n",
    "stat200 <- na.omit(stat200)\n",
    "names(stat200) <- c('N_ABOVE', 'N_BELOW', 'AVG_ABOVE', 'AVG_BELOW', 'SD_ABOVE', 'SD_BELOW')\n",
    "\n",
    "print(\"stat200: HEAD\")\n",
    "print(head(stat200))\n",
    "\n",
    "print(\"stat200: TAIL\")\n",
    "print(tail(stat200))"
   ]
  },
  {
   "cell_type": "code",
   "execution_count": null,
   "metadata": {},
   "outputs": [],
   "source": [
    "stat200Df <- data.frame(stat200)\n",
    "stat200Df$T <- as.Date(index(stat200))\n",
    "\n",
    "plotStart <- first(index(stat200))\n",
    "plotEnd <- last(index(stat200))\n",
    "xAxisTicks<-seq(plotStart, plotEnd, length.out=10)\n",
    "\n",
    "ggplot(stat200Df, aes(x=T)) +\n",
    "    theme_economist() +\n",
    "    geom_line(aes(y=AVG_ABOVE, color='a')) +\n",
    "    geom_ribbon(aes(ymin = AVG_ABOVE - SD_ABOVE, ymax = AVG_ABOVE + SD_ABOVE), fill='springgreen', alpha=0.3) +\n",
    "    geom_line(aes(y=AVG_BELOW, color='b')) +\n",
    "    geom_ribbon(aes(ymin = AVG_BELOW - SD_BELOW, ymax = AVG_BELOW + SD_BELOW), fill='darkorange', alpha=0.3) +\n",
    "    scale_x_date(breaks = xAxisTicks) +\n",
    "    labs(x = \"\", y=\"returns(%)\", fill=\"\", color=\"\", \n",
    "         title = sprintf(\"%s %d-day Avg. Daily Returns\", indexName, rollN),\n",
    "         subtitle = sprintf(\"%d-SMA [%s:%s]\", smaLb, plotStart, plotEnd)) +\n",
    "    scale_colour_manual(name = '', values =c('a'='olivedrab','b'='maroon'), labels = c('above','below')) +\n",
    "    annotate(\"text\", x=plotEnd, y=min(stat200Df$AVG_ABOVE - stat200Df$SD_ABOVE), label = \"@StockViz\", \n",
    "             hjust=1.1, vjust=0, col=\"white\", cex=6, fontface = \"bold\", alpha = 0.8)\n"
   ]
  },
  {
   "cell_type": "markdown",
   "metadata": {},
   "source": [
    "This notebook was created using [pluto](http://pluto.studio). Learn more [here](https://github.com/shyams80/pluto)"
   ]
  }
 ],
 "metadata": {
  "kernelspec": {
   "display_name": "R",
   "language": "R",
   "name": "ir"
  },
  "language_info": {
   "codemirror_mode": "r",
   "file_extension": ".r",
   "mimetype": "text/x-r-source",
   "name": "R",
   "pygments_lexer": "r",
   "version": "3.4.4"
  }
 },
 "nbformat": 4,
 "nbformat_minor": 2
}
