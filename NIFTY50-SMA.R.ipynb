{
 "cells": [
  {
   "cell_type": "markdown",
   "metadata": {},
   "source": [
    "# Exploring the NIFTY 50 index under different SMA regimes\n",
    "\n",
    "Markets tend to be manic depressive, going from excessive optimism to excessive pessimism. The distribution of returns tend to be different based on the \"regime.\" A simple way to demarcate these regimes is by using an SMA (Simple Moving Average) to bucket returns into binary groups. Here, we explore how returns are distributed in these buckets."
   ]
  },
  {
   "cell_type": "code",
   "execution_count": 1,
   "metadata": {},
   "outputs": [
    {
     "name": "stderr",
     "output_type": "stream",
     "text": [
      "── \u001b[1mAttaching packages\u001b[22m ─────────────────────────────────────── tidyverse 1.2.1 ──\n",
      "\u001b[32m✔\u001b[39m \u001b[34mggplot2\u001b[39m 3.2.0     \u001b[32m✔\u001b[39m \u001b[34mpurrr  \u001b[39m 0.3.2\n",
      "\u001b[32m✔\u001b[39m \u001b[34mtibble \u001b[39m 2.1.3     \u001b[32m✔\u001b[39m \u001b[34mdplyr  \u001b[39m 0.8.3\n",
      "\u001b[32m✔\u001b[39m \u001b[34mtidyr  \u001b[39m 0.8.3     \u001b[32m✔\u001b[39m \u001b[34mstringr\u001b[39m 1.4.0\n",
      "\u001b[32m✔\u001b[39m \u001b[34mreadr  \u001b[39m 1.3.1     \u001b[32m✔\u001b[39m \u001b[34mforcats\u001b[39m 0.4.0\n",
      "── \u001b[1mConflicts\u001b[22m ────────────────────────────────────────── tidyverse_conflicts() ──\n",
      "\u001b[31m✖\u001b[39m \u001b[34mdplyr\u001b[39m::\u001b[32mfilter()\u001b[39m masks \u001b[34mstats\u001b[39m::filter()\n",
      "\u001b[31m✖\u001b[39m \u001b[34mdplyr\u001b[39m::\u001b[32mlag()\u001b[39m    masks \u001b[34mstats\u001b[39m::lag()\n",
      "Loading required package: xts\n",
      "Loading required package: zoo\n",
      "\n",
      "Attaching package: ‘zoo’\n",
      "\n",
      "The following objects are masked from ‘package:base’:\n",
      "\n",
      "    as.Date, as.Date.numeric\n",
      "\n",
      "Registered S3 method overwritten by 'xts':\n",
      "  method     from\n",
      "  as.zoo.xts zoo \n",
      "\n",
      "Attaching package: ‘xts’\n",
      "\n",
      "The following objects are masked from ‘package:dplyr’:\n",
      "\n",
      "    first, last\n",
      "\n",
      "Loading required package: TTR\n",
      "Registered S3 method overwritten by 'quantmod':\n",
      "  method            from\n",
      "  as.zoo.data.frame zoo \n",
      "Version 0.4-0 included new data defaults. See ?getSymbols.\n",
      "\n",
      "Attaching package: ‘PerformanceAnalytics’\n",
      "\n",
      "The following object is masked from ‘package:graphics’:\n",
      "\n",
      "    legend\n",
      "\n",
      "\n",
      "Attaching package: ‘reshape2’\n",
      "\n",
      "The following object is masked from ‘package:tidyr’:\n",
      "\n",
      "    smiths\n",
      "\n",
      "\n",
      "Attaching package: ‘lubridate’\n",
      "\n",
      "The following object is masked from ‘package:base’:\n",
      "\n",
      "    date\n",
      "\n",
      "Registering fonts with R\n",
      "\n",
      "Attaching package: ‘gridExtra’\n",
      "\n",
      "The following object is masked from ‘package:dplyr’:\n",
      "\n",
      "    combine\n",
      "\n"
     ]
    }
   ],
   "source": [
    "library(tidyverse)\n",
    "library(ggthemes)\n",
    "library(odbc)\n",
    "library(RPostgres)\n",
    "library(plutoR)\n",
    "library(quantmod)\n",
    "library(PerformanceAnalytics)\n",
    "library(reshape2)\n",
    "library(ggrepel)\n",
    "library(lubridate)\n",
    "\n",
    "options(\"scipen\"=999)\n",
    "options(stringsAsFactors = FALSE)\n",
    "options(repr.plot.width=16, repr.plot.height=8)\n",
    "\n",
    "source(\"config.R\")\n",
    "source(\"goofy/plot.common.R\")\n",
    "source(\"goofy/misc.common.R\")\n",
    "\n",
    "#initialize\n",
    "indices<-Indices()"
   ]
  },
  {
   "cell_type": "code",
   "execution_count": 2,
   "metadata": {},
   "outputs": [],
   "source": [
    "indexName <- 'NIFTY 50'\n",
    "smaLb <- 50 #number of days\n",
    "px <- indices$NseTimeSeries() %>%\n",
    "    filter(NAME == indexName) %>%\n",
    "    select(TIME_STAMP, CLOSE) %>%\n",
    "    collect()\n",
    "\n",
    "#if we break by years, make sure that they have at least 200 days\n",
    "numDays <- px %>%\n",
    "    group_by(Y = year(TIME_STAMP)) %>%\n",
    "    summarize(N = n())\n",
    "\n",
    "yrs <- numDays %>%\n",
    "    filter(N >= 200) %>%\n",
    "    pull(Y)"
   ]
  },
  {
   "cell_type": "code",
   "execution_count": 3,
   "metadata": {},
   "outputs": [],
   "source": [
    "pXts <- xts(px$CLOSE, px$TIME_STAMP)\n",
    "names(pXts) <- c('INDEX')\n",
    "pXts$SMA <- SMA(pXts[,1], smaLb)\n",
    "pXts$D_RET <- dailyReturn(pXts$INDEX)\n",
    "pXts$D_RET_PCT <- pXts$D_RET * 100\n",
    "\n",
    "pXts <- na.omit(pXts)"
   ]
  },
  {
   "cell_type": "code",
   "execution_count": 4,
   "metadata": {},
   "outputs": [
    {
     "name": "stdout",
     "output_type": "stream",
     "text": [
      "      Y N_ABOVE N_BELOW    AVG_ABOVE   AVG_BELOW SD_ABOVE SD_BELOW\n",
      "2  1991     168      38  0.248315442 -0.50584419 1.984067 3.157296\n",
      "3  1993     130      83  0.195580299  0.03712470 1.945452 2.648462\n",
      "4  1994     130     100  0.026797011  0.26752747 2.356983 1.925064\n",
      "5  1995      70     166  0.234640851  0.06931731 1.473594 2.387737\n",
      "6  1996     110     140  0.031809707  0.20579036 1.985158 2.216717\n",
      "7  1997     142     102  0.031039571  0.24881758 2.432092 1.626814\n",
      "8  1998      89     161  0.093603673  0.14893783 2.510777 1.870015\n",
      "9  1999     213      41  0.143259250  0.11700264 2.175789 1.685422\n",
      "10 2000     112     138 -0.220429727  0.41302788 2.359843 1.855135\n",
      "11 2001      93     155 -0.196457507  0.33720608 2.504139 1.834925\n",
      "12 2002      96     155 -0.149815610  0.30274374 2.495766 1.820820\n",
      "13 2003     173      81  0.197320574  0.01450456 1.996693 2.317592\n",
      "14 2004     170      84  0.174504715  0.06720865 2.179933 1.943528\n",
      "15 2005     187      64  0.022153154  0.44375532 2.029159 2.323530\n",
      "16 2006     202      48  0.174290537 -0.06035355 2.268118 1.290628\n",
      "17 2007     203      46  0.083174370  0.34212347 1.982728 2.656756\n",
      "18 2008      72     174  0.477280985 -0.01357365 2.432623 1.979295\n",
      "19 2009     185      58  0.271762750 -0.38522068 2.004173 2.453047\n",
      "20 2010     168      84  0.267385855 -0.13648014 2.197128 1.900406\n",
      "21 2011      75     172  0.183900093  0.10938336 2.366808 2.016847\n",
      "22 2012     172      79  0.077172875  0.24391451 1.904766 2.512877\n",
      "23 2013     146     104  0.014217929  0.29071058 2.159666 2.051508\n",
      "24 2014     199      45  0.311689693 -0.71642748 1.938355 2.702759\n",
      "25 2015     112     136 -0.009810516  0.25805274 2.390617 1.872199\n",
      "26 2016     146     101  0.352646854 -0.18693065 1.779261 2.517887\n",
      "27 2017     226      22  0.103069341  0.48648743 2.047642 2.808438\n",
      "28 2018     155      91  0.158728952  0.08131240 2.187789 2.035019\n"
     ]
    }
   ],
   "source": [
    "statByYear <- data.frame(Y = 0, N_ABOVE = 0, N_BELOW = 0, AVG_ABOVE = 0.0, AVG_BELOW = 0.0, SD_ABOVE = 0.0, SD_BELOW = 0.0)\n",
    "\n",
    "for(yr in yrs){\n",
    "    yrStr <- toString(yr)\n",
    "    numAbove <- as.numeric(sum(ifelse(pXts[yrStr,'INDEX'] > pXts[yrStr,'SMA'], 1, 0)))\n",
    "    numBelow <- as.numeric(sum(ifelse(pXts[yrStr,'INDEX'] <= pXts[yrStr,'SMA'], 1, 0)))\n",
    "    \n",
    "    avgAbove <- as.numeric(mean(pXts[pXts[yrStr,'INDEX'] > pXts[yrStr,'SMA'], 'D_RET_PCT']))\n",
    "    avgBelow <- as.numeric(mean(pXts[pXts[yrStr,'INDEX'] <= pXts[yrStr,'SMA'], 'D_RET_PCT']))\n",
    "    \n",
    "    sdAbove <- as.numeric(sd(pXts[pXts[yrStr,'INDEX'] > pXts[yrStr,'SMA'], 'D_RET_PCT']))\n",
    "    sdBelow <- as.numeric(sd(pXts[pXts[yrStr,'INDEX'] <= pXts[yrStr,'SMA'], 'D_RET_PCT']))\n",
    "    \n",
    "    statByYear <- rbind(statByYear, c(yr, numAbove, numBelow, avgAbove, avgBelow, sdAbove, sdBelow))\n",
    "}\n",
    "\n",
    "statByYear <- statByYear[-1,]\n",
    "print(statByYear)"
   ]
  },
  {
   "cell_type": "markdown",
   "metadata": {},
   "source": [
    "The NIFTY got hammered by the GFC in 2008, only to be reflated in 2009. The years prior to do that was a different \"regime.\" Not sure if they can be used in back-tests any more. Let's look at the data from 2010 onwards."
   ]
  },
  {
   "cell_type": "code",
   "execution_count": 5,
   "metadata": {},
   "outputs": [
    {
     "name": "stdout",
     "output_type": "stream",
     "text": [
      "[1] \"stat200: HEAD\"\n",
      "           N_ABOVE N_BELOW AVG_ABOVE AVG_BELOW  SD_ABOVE SD_BELOW\n",
      "2010-10-18     145      55 0.1649784 -0.133722 0.7921170 1.417652\n",
      "2010-10-19     145      55 0.1553259 -0.133722 0.7953137 1.417652\n",
      "2010-10-20     145      55 0.1441303 -0.133722 0.7965596 1.417652\n",
      "2010-10-21     145      55 0.1573859 -0.133722 0.8112400 1.417652\n",
      "2010-10-22     145      55 0.1558207 -0.133722 0.8124517 1.417652\n",
      "2010-10-25     145      55 0.1627444 -0.133722 0.8124005 1.417652\n",
      "[1] \"stat200: TAIL\"\n",
      "           N_ABOVE N_BELOW AVG_ABOVE  AVG_BELOW  SD_ABOVE  SD_BELOW\n",
      "2019-07-22     129      71 0.1371629 -0.1914631 0.7857272 1.0386160\n",
      "2019-07-23     129      71 0.1371629 -0.1873007 0.7857272 1.0382423\n",
      "2019-07-24     129      71 0.1371629 -0.2047590 0.7857272 1.0333102\n",
      "2019-07-25     129      71 0.1371629 -0.1879539 0.7857272 1.0238625\n",
      "2019-07-26     129      71 0.1371629 -0.1503341 0.7857272 0.9904994\n",
      "2019-07-29     129      71 0.1371629 -0.1246250 0.7857272 0.9469466\n"
     ]
    }
   ],
   "source": [
    "stat200 <- rollapply(pXts[\"2010/\",], 200, function(X){\n",
    "    numAbove <- as.numeric(sum(ifelse(X[,'INDEX'] > X[,'SMA'], 1, 0)))\n",
    "    numBelow <- as.numeric(sum(ifelse(X[,'INDEX'] <= X[,'SMA'], 1, 0)))\n",
    "    \n",
    "    avgAbove <- as.numeric(mean(X[X[,'INDEX'] > X[,'SMA'], 'D_RET_PCT']))\n",
    "    avgBelow <- as.numeric(mean(X[X[,'INDEX'] <= X[,'SMA'], 'D_RET_PCT']))\n",
    "    \n",
    "    sdAbove <- as.numeric(sd(X[X[,'INDEX'] > X[,'SMA'], 'D_RET_PCT']))\n",
    "    sdBelow <- as.numeric(sd(X[X[,'INDEX'] <= X[,'SMA'], 'D_RET_PCT']))\n",
    "    \n",
    "    xts(matrix(c(numAbove, numBelow, avgAbove, avgBelow, sdAbove, sdBelow), nrow=1), as.Date(last(index(X))))\n",
    "}, by.column = FALSE)\n",
    "\n",
    "stat200 <- na.omit(stat200)\n",
    "names(stat200) <- c('N_ABOVE', 'N_BELOW', 'AVG_ABOVE', 'AVG_BELOW', 'SD_ABOVE', 'SD_BELOW')\n",
    "\n",
    "print(\"stat200: HEAD\")\n",
    "print(head(stat200))\n",
    "\n",
    "print(\"stat200: TAIL\")\n",
    "print(tail(stat200))"
   ]
  },
  {
   "cell_type": "code",
   "execution_count": 6,
   "metadata": {},
   "outputs": [
    {
     "name": "stderr",
     "output_type": "stream",
     "text": [
      "ERROR while rich displaying an object: Error: Invalid input: date_trans works with objects of class Date only\n",
      "\n",
      "Traceback:\n",
      "1. FUN(X[[i]], ...)\n",
      "2. tryCatch(withCallingHandlers({\n",
      " .     if (!mime %in% names(repr::mime2repr)) \n",
      " .         stop(\"No repr_* for mimetype \", mime, \" in repr::mime2repr\")\n",
      " .     rpr <- repr::mime2repr[[mime]](obj)\n",
      " .     if (is.null(rpr)) \n",
      " .         return(NULL)\n",
      " .     prepare_content(is.raw(rpr), rpr)\n",
      " . }, error = error_handler), error = outer_handler)\n",
      "3. tryCatchList(expr, classes, parentenv, handlers)\n",
      "4. tryCatchOne(expr, names, parentenv, handlers[[1L]])\n",
      "5. doTryCatch(return(expr), name, parentenv, handler)\n",
      "6. withCallingHandlers({\n",
      " .     if (!mime %in% names(repr::mime2repr)) \n",
      " .         stop(\"No repr_* for mimetype \", mime, \" in repr::mime2repr\")\n",
      " .     rpr <- repr::mime2repr[[mime]](obj)\n",
      " .     if (is.null(rpr)) \n",
      " .         return(NULL)\n",
      " .     prepare_content(is.raw(rpr), rpr)\n",
      " . }, error = error_handler)\n",
      "7. repr::mime2repr[[mime]](obj)\n",
      "8. repr_text.default(obj)\n",
      "9. paste(capture.output(print(obj)), collapse = \"\\n\")\n",
      "10. capture.output(print(obj))\n",
      "11. evalVis(expr)\n",
      "12. withVisible(eval(expr, pf))\n",
      "13. eval(expr, pf)\n",
      "14. eval(expr, pf)\n",
      "15. print(obj)\n",
      "16. print.ggplot(obj)\n",
      "17. ggplot_build(x)\n",
      "18. ggplot_build.ggplot(x)\n",
      "19. lapply(data, scales_transform_df, scales = scales)\n",
      "20. FUN(X[[i]], ...)\n",
      "21. unlist(lapply(scales$scales, function(s) s$transform_df(df = df)), \n",
      "  .     recursive = FALSE)\n",
      "22. lapply(scales$scales, function(s) s$transform_df(df = df))\n",
      "23. FUN(X[[i]], ...)\n",
      "24. s$transform_df(df = df)\n",
      "25. f(..., self = self)\n",
      "26. lapply(df[aesthetics], self$transform)\n",
      "27. FUN(X[[i]], ...)\n",
      "28. f(..., self = self)\n",
      "29. self$trans$transform(x)\n",
      "30. stop(\"Invalid input: date_trans works with objects of class Date only\", \n",
      "  .     call. = FALSE)\n"
     ]
    },
    {
     "data": {
      "image/png": "[encoded data removed]",
      "text/plain": [
       "plot without title"
      ]
     },
     "metadata": {},
     "output_type": "display_data"
    }
   ],
   "source": [
    "stat200Df <- data.frame(stat200)\n",
    "stat200Df$T <- as.Date(index(stat200))\n",
    "\n",
    "plotStart <- first(index(stat200Df))\n",
    "plotEnd <- last(index(stat200Df))\n",
    "xAxisTicks<-seq(plotStart, plotEnd, length.out=10)\n",
    "\n",
    "colPal<-economist_pal(fill = TRUE)(9)\n",
    "\n",
    "ggplot(stat200Df, aes(x=T)) +\n",
    "    theme_economist() +\n",
    "    geom_line(aes(y=AVG_ABOVE), color=colPal[1]) +\n",
    "    geom_ribbon(aes(ymin = AVG_ABOVE - SD_ABOVE, ymax = AVG_ABOVE + SD_ABOVE), fill='grey70', alpha=0.5) +\n",
    "    scale_x_date(breaks = xAxisTicks) +\n",
    "    labs(x = \"\", y=\"returns(%)\", fill=\"\", color=\"\", \n",
    "         title = sprintf(\"%s Daily Returns\", indexName, smaLb),\n",
    "         subtitle = sprintf(\"above %d-SMA [%s:%s]\", smaLb, plotStart, plotEnd)) +\n",
    "    annotate(\"text\", x=plotEnd, y=min(stat200Df$AVG_ABOVE - stat200Df$SD_ABOVE), label = \"@StockViz\", \n",
    "             hjust=1.1, vjust=0, col=\"white\", cex=6, fontface = \"bold\", alpha = 0.8)\n"
   ]
  },
  {
   "cell_type": "markdown",
   "metadata": {},
   "source": [
    "This notebook was created using [pluto](http://pluto.studio). Learn more [here](https://github.com/shyams80/pluto)"
   ]
  }
 ],
 "metadata": {
  "kernelspec": {
   "display_name": "R",
   "language": "R",
   "name": "ir"
  },
  "language_info": {
   "codemirror_mode": "r",
   "file_extension": ".r",
   "mimetype": "text/x-r-source",
   "name": "R",
   "pygments_lexer": "r",
   "version": "3.6.1"
  }
 },
 "nbformat": 4,
 "nbformat_minor": 2
}
