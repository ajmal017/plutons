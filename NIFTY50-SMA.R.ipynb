{
 "cells": [
  {
   "cell_type": "markdown",
   "metadata": {},
   "source": [
    "# Exploring the NIFTY 50 index under different SMA regimes\n",
    "\n",
    "Markets tend to be manic depressive, going from excessive optimism to excessive pessimism. The distribution of returns tend to be different based on the \"regime.\" A simple way to demarcate these regimes is by using an SMA (Simple Moving Average) to bucket returns into binary groups. Here, we explore how returns are distributed in these buckets."
   ]
  },
  {
   "cell_type": "code",
   "execution_count": 1,
   "metadata": {},
   "outputs": [
    {
     "name": "stderr",
     "output_type": "stream",
     "text": [
      "── \u001b[1mAttaching packages\u001b[22m ─────────────────────────────────────── tidyverse 1.2.1 ──\n",
      "\u001b[32m✔\u001b[39m \u001b[34mggplot2\u001b[39m 3.2.0     \u001b[32m✔\u001b[39m \u001b[34mpurrr  \u001b[39m 0.3.2\n",
      "\u001b[32m✔\u001b[39m \u001b[34mtibble \u001b[39m 2.1.3     \u001b[32m✔\u001b[39m \u001b[34mdplyr  \u001b[39m 0.8.3\n",
      "\u001b[32m✔\u001b[39m \u001b[34mtidyr  \u001b[39m 0.8.3     \u001b[32m✔\u001b[39m \u001b[34mstringr\u001b[39m 1.4.0\n",
      "\u001b[32m✔\u001b[39m \u001b[34mreadr  \u001b[39m 1.3.1     \u001b[32m✔\u001b[39m \u001b[34mforcats\u001b[39m 0.4.0\n",
      "── \u001b[1mConflicts\u001b[22m ────────────────────────────────────────── tidyverse_conflicts() ──\n",
      "\u001b[31m✖\u001b[39m \u001b[34mdplyr\u001b[39m::\u001b[32mfilter()\u001b[39m masks \u001b[34mstats\u001b[39m::filter()\n",
      "\u001b[31m✖\u001b[39m \u001b[34mdplyr\u001b[39m::\u001b[32mlag()\u001b[39m    masks \u001b[34mstats\u001b[39m::lag()\n",
      "Loading required package: xts\n",
      "Loading required package: zoo\n",
      "\n",
      "Attaching package: ‘zoo’\n",
      "\n",
      "The following objects are masked from ‘package:base’:\n",
      "\n",
      "    as.Date, as.Date.numeric\n",
      "\n",
      "Registered S3 method overwritten by 'xts':\n",
      "  method     from\n",
      "  as.zoo.xts zoo \n",
      "\n",
      "Attaching package: ‘xts’\n",
      "\n",
      "The following objects are masked from ‘package:dplyr’:\n",
      "\n",
      "    first, last\n",
      "\n",
      "Loading required package: TTR\n",
      "Registered S3 method overwritten by 'quantmod':\n",
      "  method            from\n",
      "  as.zoo.data.frame zoo \n",
      "Version 0.4-0 included new data defaults. See ?getSymbols.\n",
      "\n",
      "Attaching package: ‘PerformanceAnalytics’\n",
      "\n",
      "The following object is masked from ‘package:graphics’:\n",
      "\n",
      "    legend\n",
      "\n",
      "\n",
      "Attaching package: ‘reshape2’\n",
      "\n",
      "The following object is masked from ‘package:tidyr’:\n",
      "\n",
      "    smiths\n",
      "\n",
      "\n",
      "Attaching package: ‘lubridate’\n",
      "\n",
      "The following object is masked from ‘package:base’:\n",
      "\n",
      "    date\n",
      "\n",
      "Registering fonts with R\n",
      "\n",
      "Attaching package: ‘gridExtra’\n",
      "\n",
      "The following object is masked from ‘package:dplyr’:\n",
      "\n",
      "    combine\n",
      "\n"
     ]
    }
   ],
   "source": [
    "library(tidyverse)\n",
    "library(ggthemes)\n",
    "library(odbc)\n",
    "library(RPostgres)\n",
    "library(plutoR)\n",
    "library(quantmod)\n",
    "library(PerformanceAnalytics)\n",
    "library(reshape2)\n",
    "library(ggrepel)\n",
    "library(lubridate)\n",
    "\n",
    "options(\"scipen\"=999)\n",
    "options(stringsAsFactors = FALSE)\n",
    "options(repr.plot.width=16, repr.plot.height=8)\n",
    "\n",
    "source(\"config.R\")\n",
    "source(\"goofy/plot.common.R\")\n",
    "source(\"goofy/misc.common.R\")\n",
    "\n",
    "#initialize\n",
    "indices<-Indices()"
   ]
  },
  {
   "cell_type": "code",
   "execution_count": 2,
   "metadata": {},
   "outputs": [],
   "source": [
    "smaLb <- 50 #number of days\n",
    "px <- indices$NseTimeSeries() %>%\n",
    "    filter(NAME == 'NIFTY 50 TR') %>%\n",
    "    select(TIME_STAMP, CLOSE) %>%\n",
    "    collect()\n",
    "\n",
    "#if we break by years, make sure that they have at least 200 days\n",
    "numDays <- px %>%\n",
    "    group_by(Y = year(TIME_STAMP)) %>%\n",
    "    summarize(N = n())\n",
    "\n",
    "yrs <- numDays %>%\n",
    "    filter(N >= 200) %>%\n",
    "    pull(Y)"
   ]
  },
  {
   "cell_type": "code",
   "execution_count": 3,
   "metadata": {},
   "outputs": [],
   "source": [
    "pXts <- xts(px$CLOSE, px$TIME_STAMP)\n",
    "names(pXts) <- c('INDEX')\n",
    "pXts$SMA <- SMA(pXts[,1], smaLb)\n",
    "pXts$D_RET <- dailyReturn(pXts$INDEX)\n",
    "pXts$D_RET_PCT <- pXts$D_RET * 100\n",
    "\n",
    "pXts <- na.omit(pXts)"
   ]
  },
  {
   "cell_type": "code",
   "execution_count": 4,
   "metadata": {},
   "outputs": [
    {
     "name": "stdout",
     "output_type": "stream",
     "text": [
      "      Y N_ABOVE N_BELOW   AVG_ABOVE    AVG_BELOW SD_ABOVE SD_BELOW\n",
      "2  2000     113     137 -0.09308085  0.144475665 1.781884 2.174051\n",
      "3  2001      94     154 -0.11532862  0.126626476 1.668974 2.197960\n",
      "4  2002     103     148 -0.08142203  0.121403806 1.583569 2.249262\n",
      "5  2003     173      81 -0.01570550  0.175604091 2.011063 1.954091\n",
      "6  2004     170      84 -0.02150497  0.180508624 1.895375 2.177960\n",
      "7  2005     188      63 -0.06156323  0.335796526 2.071944 1.758617\n",
      "8  2006     202      48  0.03810886  0.032854986 2.061096 1.774749\n",
      "9  2007     203      46  0.05129699 -0.037370168 1.948864 2.280878\n",
      "10 2008      75     171  0.07179554 -0.002680050 2.457022 1.794149\n",
      "11 2009     187      56  0.04465411 -0.054814571 2.053139 1.947710\n",
      "12 2010     168      84 -0.01529373  0.153170422 2.092670 1.801981\n",
      "13 2011      78     169  0.06276224  0.007988055 1.794064 2.109971\n",
      "14 2012     178      73 -0.03693819  0.221319071 2.077513 1.805035\n",
      "15 2013     151      99  0.16005759 -0.150441073 1.805919 2.274400\n",
      "16 2014     200      44  0.07161295 -0.224253234 2.056251 1.863261\n",
      "17 2015     117     131 -0.07002693  0.128646854 2.123843 1.913378\n",
      "18 2016     147     100  0.03466168  0.011501684 2.213334 1.683750\n",
      "19 2017     228      20 -0.01262544  0.576909425 2.016367 1.950720\n",
      "20 2018     157      89 -0.01630532  0.084115861 2.192073 1.665383\n"
     ]
    }
   ],
   "source": [
    "statByYear <- data.frame(Y = 0, N_ABOVE = 0, N_BELOW = 0, AVG_ABOVE = 0.0, AVG_BELOW = 0.0, SD_ABOVE = 0.0, SD_BELOW = 0.0)\n",
    "\n",
    "for(yr in yrs){\n",
    "    yrStr <- toString(yr)\n",
    "    numAbove <- as.numeric(sum(ifelse(pXts[yrStr,'INDEX'] > pXts[yrStr,'SMA'], 1, 0)))\n",
    "    numBelow <- as.numeric(sum(ifelse(pXts[yrStr,'INDEX'] <= pXts[yrStr,'SMA'], 1, 0)))\n",
    "    \n",
    "    avgAbove <- as.numeric(mean(pXts[pXts[yrStr,'INDEX'] > pXts[yrStr,'SMA'], 'D_RET_PCT']))\n",
    "    avgBelow <- as.numeric(mean(pXts[pXts[yrStr,'INDEX'] <= pXts[yrStr,'SMA'], 'D_RET_PCT']))\n",
    "    \n",
    "    sdAbove <- as.numeric(sd(pXts[pXts[yrStr,'INDEX'] > pXts[yrStr,'SMA'], 'D_RET_PCT']))\n",
    "    sdBelow <- as.numeric(sd(pXts[pXts[yrStr,'INDEX'] <= pXts[yrStr,'SMA'], 'D_RET_PCT']))\n",
    "    \n",
    "    statByYear <- rbind(statByYear, c(yr, numAbove, numBelow, avgAbove, avgBelow, sdAbove, sdBelow))\n",
    "}\n",
    "\n",
    "statByYear <- statByYear[-1,]\n",
    "print(statByYear)"
   ]
  },
  {
   "cell_type": "markdown",
   "metadata": {},
   "source": [
    "The NIFTY got hammered by the GFC in 2008, only to be reflated in 2009. The years prior to do that was a different \"regime.\" Not sure if they can be used in back-tests any more. Let's look at the data from 2010 onwards."
   ]
  },
  {
   "cell_type": "code",
   "execution_count": 5,
   "metadata": {},
   "outputs": [
    {
     "name": "stdout",
     "output_type": "stream",
     "text": [
      "[1] \"stat200: HEAD\"\n",
      "           [,1] [,2]      [,3]       [,4]      [,5]     [,6]\n",
      "2010-10-18  145   55 0.1681451 -0.1253108 0.7920690 1.424586\n",
      "2010-10-19  145   55 0.1584971 -0.1253108 0.7953032 1.424586\n",
      "2010-10-20  145   55 0.1473001 -0.1253108 0.7965925 1.424586\n",
      "2010-10-21  145   55 0.1611645 -0.1253108 0.8126358 1.424586\n",
      "2010-10-22  145   55 0.1596199 -0.1253108 0.8138340 1.424586\n",
      "2010-10-25  145   55 0.1665457 -0.1253108 0.8137504 1.424586\n",
      "[1] \"stat200: TAIL\"\n",
      "           [,1] [,2]      [,3]       [,4]      [,5]      [,6]\n",
      "2019-07-22  131   69 0.1317737 -0.1763620 0.7897486 1.0424609\n",
      "2019-07-23  131   69 0.1317737 -0.1720788 0.7897486 1.0420135\n",
      "2019-07-24  131   69 0.1317737 -0.1892885 0.7897486 1.0369850\n",
      "2019-07-25  131   69 0.1317737 -0.1717176 0.7897486 1.0270232\n",
      "2019-07-26  131   69 0.1317737 -0.1329976 0.7897486 0.9921091\n",
      "2019-07-29  131   69 0.1317737 -0.1064821 0.7897486 0.9467772\n"
     ]
    }
   ],
   "source": [
    "stat200 <- rollapply(pXts[\"2010/\",], 200, function(X){\n",
    "    numAbove <- as.numeric(sum(ifelse(X[,'INDEX'] > X[,'SMA'], 1, 0)))\n",
    "    numBelow <- as.numeric(sum(ifelse(X[,'INDEX'] <= X[,'SMA'], 1, 0)))\n",
    "    \n",
    "    avgAbove <- as.numeric(mean(X[X[,'INDEX'] > X[,'SMA'], 'D_RET_PCT']))\n",
    "    avgBelow <- as.numeric(mean(X[X[,'INDEX'] <= X[,'SMA'], 'D_RET_PCT']))\n",
    "    \n",
    "    sdAbove <- as.numeric(sd(X[X[,'INDEX'] > X[,'SMA'], 'D_RET_PCT']))\n",
    "    sdBelow <- as.numeric(sd(X[X[,'INDEX'] <= X[,'SMA'], 'D_RET_PCT']))\n",
    "    \n",
    "    xts(matrix(c(numAbove, numBelow, avgAbove, avgBelow, sdAbove, sdBelow), nrow=1), as.Date(last(index(X))))\n",
    "}, by.column = FALSE)\n",
    "\n",
    "stat200 <- na.omit(stat200)\n",
    "\n",
    "print(\"stat200: HEAD\")\n",
    "print(head(stat200))\n",
    "\n",
    "print(\"stat200: TAIL\")\n",
    "print(tail(stat200))"
   ]
  },
  {
   "cell_type": "markdown",
   "metadata": {},
   "source": [
    "This notebook was created using [pluto](http://pluto.studio). Learn more [here](https://github.com/shyams80/pluto)"
   ]
  }
 ],
 "metadata": {
  "kernelspec": {
   "display_name": "R",
   "language": "R",
   "name": "ir"
  },
  "language_info": {
   "codemirror_mode": "r",
   "file_extension": ".r",
   "mimetype": "text/x-r-source",
   "name": "R",
   "pygments_lexer": "r",
   "version": "3.6.1"
  }
 },
 "nbformat": 4,
 "nbformat_minor": 2
}
