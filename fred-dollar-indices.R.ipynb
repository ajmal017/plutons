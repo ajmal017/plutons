{
 "cells": [
  {
   "cell_type": "markdown",
   "metadata": {},
   "source": [
    "# Explore trade-weighted dollar indices on the FRED\n",
    "\n",
    "Compare other USD currency pairs with trade-weighted indices"
   ]
  },
  {
   "cell_type": "code",
   "execution_count": null,
   "metadata": {},
   "outputs": [],
   "source": [
    "library(tidyverse)\n",
    "library(ggthemes)\n",
    "library(odbc)\n",
    "library(plutoR)\n",
    "library(quantmod)\n",
    "library(PerformanceAnalytics)\n",
    "\n",
    "options(\"scipen\"=999)\n",
    "options(stringsAsFactors = FALSE)\n",
    "options(repr.plot.width=16, repr.plot.height=8)\n",
    "\n",
    "source(\"config.R\")\n",
    "source(\"goofy/plot.common.R\")\n",
    "source(\"goofy/misc.common.R\")\n",
    "\n",
    "fred<-Fred()"
   ]
  },
  {
   "cell_type": "code",
   "execution_count": null,
   "metadata": {},
   "outputs": [],
   "source": [
    "cutoff <- Sys.Date() - 15\n",
    "fred$Meta() %>% inner_join(fred$TimeSeries(), by = 'SERIES_ID') %>%\n",
    "    filter(NAME %like% '%dollar%' & FREQUENCY == 'D') %>%\n",
    "    group_by(SERIES_ID, TICKER, NAME) %>%\n",
    "    summarize(MIN_TS = min(TIME_STAMP), MAX_TS = max(TIME_STAMP)) %>%\n",
    "    filter(MAX_TS >= cutoff) %>%\n",
    "    select(SERIES_ID, TICKER, NAME, MIN_TS, MAX_TS) %>%\n",
    "    print(n=Inf)"
   ]
  },
  {
   "cell_type": "markdown",
   "metadata": {},
   "source": [
    "### compare USDINR and the EM trade-weighted index"
   ]
  },
  {
   "cell_type": "code",
   "execution_count": null,
   "metadata": {},
   "outputs": [],
   "source": [
    "emId <- -2146970542 #DTWEXEMEGS\n",
    "inrId <- -2147478748 #DEXINUS, from the example: http://pluto.studio/user/shyams80/notebooks/docs-R/Fred.ipynb\n",
    "\n",
    "startDt <- as.Date(\"2006-01-02\")\n",
    "endDt <- as.Date(\"2019-06-20\")\n",
    "\n",
    "#get EM index data\n",
    "emDf <- data.frame(fred$TimeSeries() %>% filter(SERIES_ID == emId & TIME_STAMP >= startDt & TIME_STAMP <= endDt) %>% \n",
    "    select(TIME_STAMP, VAL))\n",
    "emDf$TIME_STAMP <- as.Date(emDf$TIME_STAMP)\n",
    "\n",
    "fredDetailsEm <- data.frame(fred$Meta() %>% filter(SERIES_ID == emId))\n",
    "\n",
    "\n",
    "#get USDINR data\n",
    "usdInrDf <- data.frame(fred$TimeSeries() %>% filter(SERIES_ID == inrId & TIME_STAMP >= startDt & TIME_STAMP <= endDt) %>% \n",
    "    select(TIME_STAMP, VAL))\n",
    "usdInrDf$TIME_STAMP <- as.Date(usdInrDf$TIME_STAMP)\n",
    "\n",
    "fredDetailsUsdInr <- data.frame(fred$Meta() %>% filter(SERIES_ID == inrId))\n",
    "\n",
    "#convert to xts\n",
    "emXts <- xts(emDf$VAL, emDf$TIME_STAMP)\n",
    "usdInrXts <- xts(usdInrDf$VAL, usdInrDf$TIME_STAMP)"
   ]
  },
  {
   "cell_type": "code",
   "execution_count": null,
   "metadata": {},
   "outputs": [],
   "source": [
    "#end-of months don't match, so force them to a common date\n",
    "monthlies <- merge(Common.NormalizeMonthlyDates(monthlyReturn(emXts)), \n",
    "                   Common.NormalizeMonthlyDates(monthlyReturn(usdInrXts)))\n",
    "names(monthlies) <-c('EM', 'USDINR')\n",
    "\n",
    "print(head(monthlies))"
   ]
  },
  {
   "cell_type": "code",
   "execution_count": null,
   "metadata": {},
   "outputs": [],
   "source": [
    "Common.PlotCumReturns(monthlies, \"Fred: DTWEXEMEGS vs. DEXINUS\", \"Trade Weighted U.S. Dollar Index: Emerging Markets Economies, Goods and Services vs. USDINR\")"
   ]
  },
  {
   "cell_type": "markdown",
   "metadata": {},
   "source": [
    "### add the thai bhat to the comparison"
   ]
  },
  {
   "cell_type": "code",
   "execution_count": null,
   "metadata": {},
   "outputs": [],
   "source": [
    "fred$Meta() %>% inner_join(fred$TimeSeries(), by = 'SERIES_ID') %>%\n",
    "    filter(NAME %like% '%exchange%' & NAME %like% '%thai%' & FREQUENCY == 'D') %>%\n",
    "    group_by(SERIES_ID, TICKER, NAME) %>%\n",
    "    summarize(MIN_TS = min(TIME_STAMP), MAX_TS = max(TIME_STAMP)) %>%\n",
    "    filter(MAX_TS >= cutoff) %>%\n",
    "    select(SERIES_ID, TICKER, NAME, MIN_TS, MAX_TS) %>%\n",
    "    print(n=Inf)"
   ]
  },
  {
   "cell_type": "code",
   "execution_count": null,
   "metadata": {},
   "outputs": [],
   "source": [
    "c1Id <- -2147478736 #DEXTHUS \n",
    "\n",
    "#get 2nd currency data\n",
    "c1Df <- data.frame(fred$TimeSeries() %>% filter(SERIES_ID == c1Id & TIME_STAMP >= startDt & TIME_STAMP <= endDt) %>% \n",
    "    select(TIME_STAMP, VAL))\n",
    "c1Df$TIME_STAMP <- as.Date(c1Df$TIME_STAMP)\n",
    "\n",
    "fredDetailsC1 <- data.frame(fred$Meta() %>% filter(SERIES_ID == c1Id))\n",
    "\n",
    "#convert to xts\n",
    "c1Xts <- xts(c1Df$VAL, c1Df$TIME_STAMP)\n",
    "\n",
    "monthlies <- merge(monthlies, Common.NormalizeMonthlyDates(monthlyReturn(c1Xts)))\n",
    "names(monthlies) <-c('EM', 'USDINR', 'USDTHB')\n",
    "\n",
    "print(head(monthlies))"
   ]
  },
  {
   "cell_type": "code",
   "execution_count": null,
   "metadata": {},
   "outputs": [],
   "source": [
    "Common.PlotCumReturns(monthlies, \"Fred: DTWEXEMEGS vs. DEXINUS vs. DEXTHUS\", \"Trade Weighted U.S. Dollar Index: Emerging Markets Economies, Goods and Services vs. USDINR vs. USDTHB\")"
   ]
  },
  {
   "cell_type": "markdown",
   "metadata": {},
   "source": [
    "This notebook was created using [pluto](http://pluto.studio). Learn more [here](https://github.com/shyams80/pluto)"
   ]
  }
 ],
 "metadata": {
  "kernelspec": {
   "display_name": "R",
   "language": "R",
   "name": "ir"
  },
  "language_info": {
   "codemirror_mode": "r",
   "file_extension": ".r",
   "mimetype": "text/x-r-source",
   "name": "R",
   "pygments_lexer": "r",
   "version": "3.4.4"
  }
 },
 "nbformat": 4,
 "nbformat_minor": 2
}
