{
 "cells": [
  {
   "cell_type": "code",
   "execution_count": null,
   "metadata": {},
   "outputs": [],
   "source": [
    "library(tidyverse)\n",
    "library(ggthemes)\n",
    "library(odbc)\n",
    "library(plutoR)\n",
    "library(quantmod)\n",
    "library(PerformanceAnalytics)\n",
    "\n",
    "options(\"scipen\"=999)\n",
    "options(stringsAsFactors = FALSE)\n",
    "options(repr.plot.width=16, repr.plot.height=8)\n",
    "\n",
    "source(\"config.R\")\n",
    "source(\"goofy/plot.common.R\")\n",
    "source(\"goofy/misc.common.R\")\n",
    "\n",
    "fred<-Fred()"
   ]
  },
  {
   "cell_type": "code",
   "execution_count": null,
   "metadata": {},
   "outputs": [],
   "source": [
    "cutoff <- Sys.Date() - 15\n",
    "dlrFred <- fred$Meta() %>% inner_join(fred$TimeSeries(), by = 'SERIES_ID') %>%\n",
    "    filter(NAME %like% '%dollar%' & FREQUENCY == 'D') %>%\n",
    "    group_by(SERIES_ID, TICKER, NAME) %>%\n",
    "    summarize(MIN_TS = min(TIME_STAMP), MAX_TS = max(TIME_STAMP)) %>%\n",
    "    filter(MAX_TS >= cutoff) %>%\n",
    "    select(SERIES_ID, TICKER, NAME, MIN_TS, MAX_TS)\n",
    "\n",
    "print(data.frame(dlrFred))"
   ]
  },
  {
   "cell_type": "code",
   "execution_count": null,
   "metadata": {},
   "outputs": [],
   "source": [
    "emId <- -2146970542 #DTWEXEMEGS\n",
    "inrId <- -2147478748 #DEXINUS, from the example: http://pluto.studio/user/shyams80/notebooks/docs-R/Fred.ipynb\n",
    "\n",
    "startDt <- as.Date(\"2006-01-02\")\n",
    "endDt <- as.Date(\"2019-06-20\")\n",
    "\n",
    "#get EM index data\n",
    "emDf <- data.frame(fred$TimeSeries() %>% filter(SERIES_ID == emId & TIME_STAMP >= startDt & TIME_STAMP <= endDt) %>% \n",
    "    select(TIME_STAMP, VAL))\n",
    "emDf$TIME_STAMP <- as.Date(emDf$TIME_STAMP)\n",
    "\n",
    "fredDetailsEm <- data.frame(fred$Meta() %>% filter(SERIES_ID == emId))\n",
    "\n",
    "\n",
    "#get USDINR data\n",
    "usdInrDf <- data.frame(fred$TimeSeries() %>% filter(SERIES_ID == inrId & TIME_STAMP >= startDt & TIME_STAMP <= endDt) %>% \n",
    "    select(TIME_STAMP, VAL))\n",
    "usdInrDf$TIME_STAMP <- as.Date(usdInrDf$TIME_STAMP)\n",
    "\n",
    "fredDetailsUsdInr <- data.frame(fred$Meta() %>% filter(SERIES_ID == inrId))\n",
    "\n",
    "#convert to xts\n",
    "emXts <- xts(emDf$VAL, emDf$TIME_STAMP)\n",
    "usdInrXts <- xts(usdInrDf$VAL, usdInrDf$TIME_STAMP)"
   ]
  },
  {
   "cell_type": "code",
   "execution_count": null,
   "metadata": {},
   "outputs": [],
   "source": [
    "#end-of months don't match, so force them to a common date\n",
    "monthlies <- merge(Common.NormalizeMonthlyDates(monthlyReturn(emXts)), \n",
    "                   Common.NormalizeMonthlyDates(monthlyReturn(usdInrXts)))\n",
    "names(monthlies) <-c('EM', 'USDINR')\n",
    "\n",
    "print(head(monthlies))"
   ]
  },
  {
   "cell_type": "code",
   "execution_count": null,
   "metadata": {},
   "outputs": [],
   "source": [
    "Common.PlotCumReturns(monthlies, \"Fred: DTWEXEMEGS vs. DEXINUS\", \"Trade Weighted U.S. Dollar Index: Emerging Markets Economies, Goods and Services vs. USDINR\")"
   ]
  },
  {
   "cell_type": "markdown",
   "metadata": {},
   "source": [
    "This notebook was created using [pluto](http://pluto.studio). Learn more [here](https://github.com/shyams80/pluto)"
   ]
  }
 ],
 "metadata": {
  "kernelspec": {
   "display_name": "R",
   "language": "R",
   "name": "ir"
  },
  "language_info": {
   "codemirror_mode": "r",
   "file_extension": ".r",
   "mimetype": "text/x-r-source",
   "name": "R",
   "pygments_lexer": "r",
   "version": "3.4.4"
  }
 },
 "nbformat": 4,
 "nbformat_minor": 2
}
