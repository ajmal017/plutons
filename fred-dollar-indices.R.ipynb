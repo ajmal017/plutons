{
 "cells": [
  {
   "cell_type": "code",
   "execution_count": 1,
   "metadata": {},
   "outputs": [
    {
     "name": "stderr",
     "output_type": "stream",
     "text": [
      "── \u001b[1mAttaching packages\u001b[22m ─────────────────────────────────────── tidyverse 1.2.1 ──\n",
      "\u001b[32m✔\u001b[39m \u001b[34mggplot2\u001b[39m 3.2.0     \u001b[32m✔\u001b[39m \u001b[34mpurrr  \u001b[39m 0.3.2\n",
      "\u001b[32m✔\u001b[39m \u001b[34mtibble \u001b[39m 2.1.3     \u001b[32m✔\u001b[39m \u001b[34mdplyr  \u001b[39m 0.8.1\n",
      "\u001b[32m✔\u001b[39m \u001b[34mtidyr  \u001b[39m 0.8.3     \u001b[32m✔\u001b[39m \u001b[34mstringr\u001b[39m 1.4.0\n",
      "\u001b[32m✔\u001b[39m \u001b[34mreadr  \u001b[39m 1.3.1     \u001b[32m✔\u001b[39m \u001b[34mforcats\u001b[39m 0.4.0\n",
      "── \u001b[1mConflicts\u001b[22m ────────────────────────────────────────── tidyverse_conflicts() ──\n",
      "\u001b[31m✖\u001b[39m \u001b[34mdplyr\u001b[39m::\u001b[32mfilter()\u001b[39m masks \u001b[34mstats\u001b[39m::filter()\n",
      "\u001b[31m✖\u001b[39m \u001b[34mdplyr\u001b[39m::\u001b[32mlag()\u001b[39m    masks \u001b[34mstats\u001b[39m::lag()\n",
      "Loading required package: xts\n",
      "Loading required package: zoo\n",
      "\n",
      "Attaching package: ‘zoo’\n",
      "\n",
      "The following objects are masked from ‘package:base’:\n",
      "\n",
      "    as.Date, as.Date.numeric\n",
      "\n",
      "\n",
      "Attaching package: ‘xts’\n",
      "\n",
      "The following objects are masked from ‘package:dplyr’:\n",
      "\n",
      "    first, last\n",
      "\n",
      "Loading required package: TTR\n",
      "Version 0.4-0 included new data defaults. See ?getSymbols.\n",
      "\n",
      "Attaching package: ‘PerformanceAnalytics’\n",
      "\n",
      "The following object is masked from ‘package:graphics’:\n",
      "\n",
      "    legend\n",
      "\n",
      "Registering fonts with R\n"
     ]
    }
   ],
   "source": [
    "library(tidyverse)\n",
    "library(ggthemes)\n",
    "library(odbc)\n",
    "library(plutoR)\n",
    "library(quantmod)\n",
    "library(PerformanceAnalytics)\n",
    "\n",
    "options(\"scipen\"=999)\n",
    "options(stringsAsFactors = FALSE)\n",
    "source(\"config.R\")\n",
    "source(\"goofy/plot.common.R\")\n",
    "\n",
    "fred<-Fred()"
   ]
  },
  {
   "cell_type": "code",
   "execution_count": 2,
   "metadata": {},
   "outputs": [
    {
     "name": "stderr",
     "output_type": "stream",
     "text": [
      "Warning message:\n",
      "“Missing values are always removed in SQL.\n",
      "Use `MIN(x, na.rm = TRUE)` to silence this warning\n",
      "This warning is displayed only once per session.”Warning message:\n",
      "“Missing values are always removed in SQL.\n",
      "Use `MAX(x, na.rm = TRUE)` to silence this warning\n",
      "This warning is displayed only once per session.”"
     ]
    },
    {
     "name": "stdout",
     "output_type": "stream",
     "text": [
      "     SERIES_ID           TICKER\n",
      "1  -2147478730           DTWEXB\n",
      "2  -2147478729           DTWEXM\n",
      "3  -2147478728           DTWEXO\n",
      "4  -2147252007 GOLDAMGBD228NLBM\n",
      "5  -2147252004 GOLDPMGBD228NLBM\n",
      "6  -2147130510      USD12MD156N\n",
      "7  -2147130509      USD1MTD156N\n",
      "8  -2147130508      USD1WKD156N\n",
      "9  -2147130507      USD2MTD156N\n",
      "10 -2147130505      USD3MTD156N\n",
      "11 -2147130502      USD6MTD156N\n",
      "12 -2147130498      USDONTD156N\n",
      "13 -2146970645         SLVPRAUD\n",
      "14 -2146970644         SLVPRCAD\n",
      "15 -2146970634         SLVPRSGD\n",
      "16 -2146970631         SLVPRTWD\n",
      "17 -2146970630         SLVPRUSD\n",
      "18 -2146970544       DTWEXAFEGS\n",
      "19 -2146970543         DTWEXBGS\n",
      "20 -2146970542       DTWEXEMEGS\n",
      "                                                                                                 NAME\n",
      "1                                                      Trade Weighted U.S. Dollar Index: Broad, Goods\n",
      "2                                           Trade Weighted U.S. Dollar Index: Major Currencies, Goods\n",
      "3                           Trade Weighted U.S. Dollar Index: Other Important Trading Partners, Goods\n",
      "4          Gold Fixing Price 10:30 A.M. (London time) in London Bullion Market, based in U.S. Dollars\n",
      "5           Gold Fixing Price 3:00 P.M. (London time) in London Bullion Market, based in U.S. Dollars\n",
      "6                                12-Month London Interbank Offered Rate (LIBOR), based on U.S. Dollar\n",
      "7                                 1-Month London Interbank Offered Rate (LIBOR), based on U.S. Dollar\n",
      "8                                  1-Week London Interbank Offered Rate (LIBOR), based on U.S. Dollar\n",
      "9                                 2-Month London Interbank Offered Rate (LIBOR), based on U.S. Dollar\n",
      "10                                3-Month London Interbank Offered Rate (LIBOR), based on U.S. Dollar\n",
      "11                                6-Month London Interbank Offered Rate (LIBOR), based on U.S. Dollar\n",
      "12                              Overnight London Interbank Offered Rate (LIBOR), based on U.S. Dollar\n",
      "13 Silver Fixing Price 12:00 noon (London time) in London Bullion Market, based in Australian Dollars\n",
      "14   Silver Fixing Price 12:00 noon (London time) in London Bullion Market, based in Canadian Dollars\n",
      "15  Silver Fixing Price 12:00 noon (London time) in London Bullion Market, based in Singapore Dollars\n",
      "16 Silver Fixing Price 12:00 noon (London time) in London Bullion Market, based in New Taiwan Dollars\n",
      "17       Silver Fixing Price 12:00 noon (London time) in London Bullion Market, based in U.S. Dollars\n",
      "18                   Trade Weighted U.S. Dollar Index: Advanced Foreign Economies, Goods and Services\n",
      "19                                        Trade Weighted U.S. Dollar Index: Broad, Goods and Services\n",
      "20                   Trade Weighted U.S. Dollar Index: Emerging Markets Economies, Goods and Services\n",
      "       MIN_TS     MAX_TS\n",
      "1  1995-01-04 2019-06-21\n",
      "2  1973-01-02 2019-06-21\n",
      "3  1995-01-04 2019-06-21\n",
      "4  1968-04-01 2019-06-26\n",
      "5  1968-04-01 2019-06-26\n",
      "6  1986-01-02 2019-06-19\n",
      "7  1986-01-02 2019-06-19\n",
      "8  1997-12-01 2019-06-19\n",
      "9  1987-01-02 2019-06-19\n",
      "10 1986-01-02 2019-06-19\n",
      "11 1986-01-02 2019-06-19\n",
      "12 2001-01-02 2019-06-19\n",
      "13 2017-10-02 2019-06-26\n",
      "14 2017-10-02 2019-06-26\n",
      "15 2017-10-02 2019-06-26\n",
      "16 2017-10-02 2019-06-26\n",
      "17 2017-10-02 2019-06-26\n",
      "18 2006-01-02 2019-06-21\n",
      "19 2006-01-02 2019-06-21\n",
      "20 2006-01-02 2019-06-21\n"
     ]
    }
   ],
   "source": [
    "cutoff <- Sys.Date() - 15\n",
    "dlrFred <- fred$Meta() %>% inner_join(fred$TimeSeries(), by = 'SERIES_ID') %>%\n",
    "    filter(NAME %like% '%dollar%' && FREQUENCY == 'D') %>%\n",
    "    group_by(SERIES_ID, TICKER, NAME) %>%\n",
    "    summarize(MIN_TS = min(TIME_STAMP), MAX_TS = max(TIME_STAMP)) %>%\n",
    "    filter(MAX_TS >= cutoff) %>%\n",
    "    select(SERIES_ID, TICKER, NAME, MIN_TS, MAX_TS)\n",
    "\n",
    "print(data.frame(dlrFred))"
   ]
  },
  {
   "cell_type": "markdown",
   "metadata": {},
   "source": [
    "This notebook was created using [pluto](http://pluto.studio). Learn more [here](https://github.com/shyams80/pluto)"
   ]
  }
 ],
 "metadata": {
  "kernelspec": {
   "display_name": "R",
   "language": "R",
   "name": "ir"
  },
  "language_info": {
   "codemirror_mode": "r",
   "file_extension": ".r",
   "mimetype": "text/x-r-source",
   "name": "R",
   "pygments_lexer": "r",
   "version": "3.4.4"
  }
 },
 "nbformat": 4,
 "nbformat_minor": 2
}
