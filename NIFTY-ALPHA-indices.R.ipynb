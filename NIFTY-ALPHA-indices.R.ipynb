{
 "cells": [
  {
   "cell_type": "markdown",
   "metadata": {},
   "source": [
    "# Charting the different \"Alpha\" indices\n",
    "\n",
    "The NSE has quite a few \"strategy\" [indices](https://www.nseindia.com/products/content/equities/indices/strategic_indices.htm) floating about. Here is how you explore then on pluto."
   ]
  },
  {
   "cell_type": "code",
   "execution_count": null,
   "metadata": {},
   "outputs": [],
   "source": [
    "library(tidyverse)\n",
    "library(ggthemes)\n",
    "library(odbc)\n",
    "library(RPostgres)\n",
    "library(plutoR)\n",
    "library(quantmod)\n",
    "library(PerformanceAnalytics)\n",
    "library(reshape2)\n",
    "library(ggrepel)\n",
    "\n",
    "options(\"scipen\"=999)\n",
    "options(stringsAsFactors = FALSE)\n",
    "options(repr.plot.width=16, repr.plot.height=8)\n",
    "\n",
    "source(\"config.R\")\n",
    "source(\"goofy/plot.common.R\")\n",
    "source(\"goofy/misc.common.R\")\n",
    "\n",
    "#initialize\n",
    "indices<-Indices()"
   ]
  },
  {
   "cell_type": "code",
   "execution_count": null,
   "metadata": {},
   "outputs": [],
   "source": [
    "#what are the start and end-dates for which total-return (TR) indices are available for 'alpha' incies?\n",
    "\n",
    "#documentation: https://plutopy.readthedocs.io/en/latest/Indices.html\n",
    "\n",
    "alphaIndices <- indices$NseTimeSeries() %>%\n",
    "    filter(NAME %like% '%alpha% TR') %>%\n",
    "    group_by(NAME) %>%\n",
    "    summarize(ST = min(TIME_STAMP, na.rm=T), ET = max(TIME_STAMP, na.rm=T)) %>%\n",
    "    arrange(desc(ST)) %>%\n",
    "    collect()\n",
    "\n",
    "alphaIndices %>% print()"
   ]
  },
  {
   "cell_type": "code",
   "execution_count": null,
   "metadata": {},
   "outputs": [],
   "source": [
    "# it looks like most of them are covered through 2005-04-01\n",
    "\n",
    "startDate <- as.Date(\"2005-04-01\")\n",
    "\n",
    "dailies <- NULL\n",
    "for(index in alphaIndices$NAME){\n",
    "    pxDt <- indices$NseTimeSeries() %>%\n",
    "        filter(NAME == index & TIME_STAMP >= startDate) %>%\n",
    "        select(TIME_STAMP, CLOSE) %>%\n",
    "        collect()\n",
    "    \n",
    "    dailies <- merge.xts(dailies, dailyReturn(xts(pxDt$CLOSE, pxDt$TIME_STAMP)))\n",
    "}\n",
    "\n",
    "names(dailies) <- alphaIndices$NAME"
   ]
  },
  {
   "cell_type": "code",
   "execution_count": null,
   "metadata": {},
   "outputs": [],
   "source": [
    "Common.PlotCumReturns(dailies, \"Alpha Indices\", NA)"
   ]
  },
  {
   "cell_type": "markdown",
   "metadata": {},
   "source": [
    "### tl;dr\n",
    "\n",
    "1. If you want a quick recovery from panic drawdowns, go with the one with \"quality\" attached. \n",
    "1. The \"best\" in terms of performance is the NIFTY ALPHA LOW-VOLATILITY 30 TR [index](https://www.niftyindices.com/indices/equity/strategy-indices/nifty-alpha-low-volatility-30). \n",
    "1. Caveat: it also includes stocks from the MIDCAP-50 index."
   ]
  },
  {
   "cell_type": "markdown",
   "metadata": {},
   "source": [
    "This notebook was created using [pluto](http://pluto.studio). Learn more [here](https://github.com/shyams80/pluto)"
   ]
  }
 ],
 "metadata": {
  "kernelspec": {
   "display_name": "R",
   "language": "R",
   "name": "ir"
  },
  "language_info": {
   "codemirror_mode": "r",
   "file_extension": ".r",
   "mimetype": "text/x-r-source",
   "name": "R",
   "pygments_lexer": "r",
   "version": "3.4.4"
  }
 },
 "nbformat": 4,
 "nbformat_minor": 2
}
