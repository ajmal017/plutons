{
 "cells": [
  {
   "cell_type": "markdown",
   "metadata": {},
   "source": [
    "# Charting the different \"Alpha\" indices\n",
    "\n",
    "The NSE has quite a few \"strategy\" [indices](https://www.nseindia.com/products/content/equities/indices/strategic_indices.htm) floating about. Here is how you explore then on pluto."
   ]
  },
  {
   "cell_type": "code",
   "execution_count": 1,
   "metadata": {},
   "outputs": [
    {
     "name": "stderr",
     "output_type": "stream",
     "text": [
      "── \u001b[1mAttaching packages\u001b[22m ─────────────────────────────────────── tidyverse 1.2.1 ──\n",
      "\u001b[32m✔\u001b[39m \u001b[34mggplot2\u001b[39m 3.2.0     \u001b[32m✔\u001b[39m \u001b[34mpurrr  \u001b[39m 0.3.2\n",
      "\u001b[32m✔\u001b[39m \u001b[34mtibble \u001b[39m 2.1.3     \u001b[32m✔\u001b[39m \u001b[34mdplyr  \u001b[39m 0.8.1\n",
      "\u001b[32m✔\u001b[39m \u001b[34mtidyr  \u001b[39m 0.8.3     \u001b[32m✔\u001b[39m \u001b[34mstringr\u001b[39m 1.4.0\n",
      "\u001b[32m✔\u001b[39m \u001b[34mreadr  \u001b[39m 1.3.1     \u001b[32m✔\u001b[39m \u001b[34mforcats\u001b[39m 0.4.0\n",
      "── \u001b[1mConflicts\u001b[22m ────────────────────────────────────────── tidyverse_conflicts() ──\n",
      "\u001b[31m✖\u001b[39m \u001b[34mdplyr\u001b[39m::\u001b[32mfilter()\u001b[39m masks \u001b[34mstats\u001b[39m::filter()\n",
      "\u001b[31m✖\u001b[39m \u001b[34mdplyr\u001b[39m::\u001b[32mlag()\u001b[39m    masks \u001b[34mstats\u001b[39m::lag()\n",
      "Loading required package: xts\n",
      "Loading required package: zoo\n",
      "\n",
      "Attaching package: ‘zoo’\n",
      "\n",
      "The following objects are masked from ‘package:base’:\n",
      "\n",
      "    as.Date, as.Date.numeric\n",
      "\n",
      "\n",
      "Attaching package: ‘xts’\n",
      "\n",
      "The following objects are masked from ‘package:dplyr’:\n",
      "\n",
      "    first, last\n",
      "\n",
      "Loading required package: TTR\n",
      "Version 0.4-0 included new data defaults. See ?getSymbols.\n",
      "\n",
      "Attaching package: ‘PerformanceAnalytics’\n",
      "\n",
      "The following object is masked from ‘package:graphics’:\n",
      "\n",
      "    legend\n",
      "\n",
      "\n",
      "Attaching package: ‘reshape2’\n",
      "\n",
      "The following object is masked from ‘package:tidyr’:\n",
      "\n",
      "    smiths\n",
      "\n",
      "Registering fonts with R\n",
      "\n",
      "Attaching package: ‘gridExtra’\n",
      "\n",
      "The following object is masked from ‘package:dplyr’:\n",
      "\n",
      "    combine\n",
      "\n",
      "\n",
      "Attaching package: ‘lubridate’\n",
      "\n",
      "The following object is masked from ‘package:base’:\n",
      "\n",
      "    date\n",
      "\n"
     ]
    }
   ],
   "source": [
    "library(tidyverse)\n",
    "library(ggthemes)\n",
    "library(odbc)\n",
    "library(RPostgres)\n",
    "library(plutoR)\n",
    "library(quantmod)\n",
    "library(PerformanceAnalytics)\n",
    "library(reshape2)\n",
    "library(ggrepel)\n",
    "\n",
    "options(\"scipen\"=999)\n",
    "options(stringsAsFactors = FALSE)\n",
    "options(repr.plot.width=16, repr.plot.height=8)\n",
    "\n",
    "source(\"config.R\")\n",
    "source(\"goofy/plot.common.R\")\n",
    "source(\"goofy/misc.common.R\")\n",
    "\n",
    "#initialize\n",
    "indices<-Indices()"
   ]
  },
  {
   "cell_type": "code",
   "execution_count": 2,
   "metadata": {},
   "outputs": [
    {
     "name": "stdout",
     "output_type": "stream",
     "text": [
      "\u001b[38;5;246m# A tibble: 5 x 3\u001b[39m\n",
      "  NAME                                           ST         ET        \n",
      "  \u001b[3m\u001b[38;5;246m<chr>\u001b[39m\u001b[23m                                          \u001b[3m\u001b[38;5;246m<date>\u001b[39m\u001b[23m     \u001b[3m\u001b[38;5;246m<date>\u001b[39m\u001b[23m    \n",
      "\u001b[38;5;250m1\u001b[39m NIFTY ALPHA LOW-VOLATILITY 30 TR               2005-04-01 2019-07-23\n",
      "\u001b[38;5;250m2\u001b[39m NIFTY ALPHA QUALITY VALUE LOW-VOLATILITY 30 TR 2005-04-01 2019-07-23\n",
      "\u001b[38;5;250m3\u001b[39m NIFTY100 ALPHA 30 TR                           2005-04-01 2019-07-23\n",
      "\u001b[38;5;250m4\u001b[39m NIFTY ALPHA QUALITY LOW-VOLATILITY 30 TR       2005-04-01 2019-07-23\n",
      "\u001b[38;5;250m5\u001b[39m NIFTY ALPHA 50 TR                              2003-12-31 2019-07-23\n"
     ]
    }
   ],
   "source": [
    "#what are the start and end-dates for which total-return (TR) indices are available for 'alpha' incies?\n",
    "\n",
    "#documentation: https://plutopy.readthedocs.io/en/latest/Indices.html\n",
    "\n",
    "alphaIndices <- indices$NseTimeSeries() %>%\n",
    "    filter(NAME %like% '%alpha% TR') %>%\n",
    "    group_by(NAME) %>%\n",
    "    summarize(ST = min(TIME_STAMP, na.rm=T), ET = max(TIME_STAMP, na.rm=T)) %>%\n",
    "    arrange(desc(ST)) %>%\n",
    "    collect()\n",
    "\n",
    "alphaIndices %>% print()"
   ]
  },
  {
   "cell_type": "code",
   "execution_count": 3,
   "metadata": {},
   "outputs": [
    {
     "name": "stdout",
     "output_type": "stream",
     "text": [
      "           NIFTY ALPHA LOW-VOLATILITY 30 TR\n",
      "2005-04-01                      0.000000000\n",
      "2005-04-04                      0.000020000\n",
      "2005-04-05                     -0.004109918\n",
      "2005-04-06                      0.004608850\n",
      "2005-04-07                     -0.002278861\n",
      "2005-04-08                     -0.007443249\n",
      "           NIFTY ALPHA QUALITY VALUE LOW-VOLATILITY 30 TR NIFTY100 ALPHA 30 TR\n",
      "2005-04-01                                    0.000000000         0.0000000000\n",
      "2005-04-04                                   -0.002530000         0.0010500000\n",
      "2005-04-05                                   -0.013845028        -0.0165626093\n",
      "2005-04-06                                    0.002938007        -0.0001218930\n",
      "2005-04-07                                    0.003983579         0.0006400163\n",
      "2005-04-08                                   -0.005653824        -0.0099798981\n",
      "           NIFTY ALPHA QUALITY LOW-VOLATILITY 30 TR NIFTY ALPHA 50 TR\n",
      "2005-04-01                              0.000000000       0.000000000\n",
      "2005-04-04                              0.000610000       0.011307045\n",
      "2005-04-05                             -0.011373062      -0.005773602\n",
      "2005-04-06                              0.002163299       0.013334890\n",
      "2005-04-07                              0.001966975       0.001837466\n",
      "2005-04-08                             -0.006986671      -0.010296361\n",
      "           NIFTY ALPHA LOW-VOLATILITY 30 TR\n",
      "2019-07-16                      0.007717293\n",
      "2019-07-17                      0.004422085\n",
      "2019-07-18                     -0.004075102\n",
      "2019-07-19                     -0.012549257\n",
      "2019-07-22                     -0.006387602\n",
      "2019-07-23                      0.002888610\n",
      "           NIFTY ALPHA QUALITY VALUE LOW-VOLATILITY 30 TR NIFTY100 ALPHA 30 TR\n",
      "2019-07-16                                    0.007795625         0.0082401552\n",
      "2019-07-17                                    0.003705953         0.0027430905\n",
      "2019-07-18                                   -0.009305115        -0.0098197234\n",
      "2019-07-19                                   -0.014097358        -0.0123836479\n",
      "2019-07-22                                    0.002090456         0.0010016266\n",
      "2019-07-23                                    0.001387470        -0.0003259519\n",
      "           NIFTY ALPHA QUALITY LOW-VOLATILITY 30 TR NIFTY ALPHA 50 TR\n",
      "2019-07-16                             0.0075667155       0.011677934\n",
      "2019-07-17                             0.0053113479      -0.001035178\n",
      "2019-07-18                            -0.0070163903      -0.008779770\n",
      "2019-07-19                            -0.0144765075      -0.018472975\n",
      "2019-07-22                            -0.0017244307      -0.004940865\n",
      "2019-07-23                             0.0001097349       0.001472685\n"
     ]
    }
   ],
   "source": [
    "# it looks like most of them are covered through 2005-04-01\n",
    "\n",
    "startDate <- as.Date(\"2005-04-01\")\n",
    "\n",
    "dailies <- NULL\n",
    "for(index in alphaIndices$NAME){\n",
    "    pxDt <- indices$NseTimeSeries() %>%\n",
    "        filter(NAME == index & TIME_STAMP >= startDate) %>%\n",
    "        select(TIME_STAMP, CLOSE) %>%\n",
    "        collect()\n",
    "    \n",
    "    dailies <- merge.xts(dailies, dailyReturn(xts(pxDt$CLOSE, pxDt$TIME_STAMP)))\n",
    "}\n",
    "\n",
    "names(dailies) <- alphaIndices$NAME\n",
    "\n",
    "print(head(dailies))\n",
    "print(tail(dailies))"
   ]
  },
  {
   "cell_type": "markdown",
   "metadata": {},
   "source": [
    "This notebook was created using [pluto](http://pluto.studio). Learn more [here](https://github.com/shyams80/pluto)"
   ]
  }
 ],
 "metadata": {
  "kernelspec": {
   "display_name": "R",
   "language": "R",
   "name": "ir"
  },
  "language_info": {
   "codemirror_mode": "r",
   "file_extension": ".r",
   "mimetype": "text/x-r-source",
   "name": "R",
   "pygments_lexer": "r",
   "version": "3.4.4"
  }
 },
 "nbformat": 4,
 "nbformat_minor": 2
}
