{
 "cells": [
  {
   "cell_type": "markdown",
   "metadata": {},
   "source": [
    "# Charting the different \"Alpha\" indices\n",
    "\n",
    "The NSE has quite a few \"strategy\" [indices](https://www.nseindia.com/products/content/equities/indices/strategic_indices.htm) floating about. Here is how you explore then on pluto."
   ]
  },
  {
   "cell_type": "code",
   "execution_count": 1,
   "metadata": {},
   "outputs": [
    {
     "name": "stderr",
     "output_type": "stream",
     "text": [
      "── \u001b[1mAttaching packages\u001b[22m ─────────────────────────────────────── tidyverse 1.2.1 ──\n",
      "\u001b[32m✔\u001b[39m \u001b[34mggplot2\u001b[39m 3.2.0     \u001b[32m✔\u001b[39m \u001b[34mpurrr  \u001b[39m 0.3.2\n",
      "\u001b[32m✔\u001b[39m \u001b[34mtibble \u001b[39m 2.1.3     \u001b[32m✔\u001b[39m \u001b[34mdplyr  \u001b[39m 0.8.1\n",
      "\u001b[32m✔\u001b[39m \u001b[34mtidyr  \u001b[39m 0.8.3     \u001b[32m✔\u001b[39m \u001b[34mstringr\u001b[39m 1.4.0\n",
      "\u001b[32m✔\u001b[39m \u001b[34mreadr  \u001b[39m 1.3.1     \u001b[32m✔\u001b[39m \u001b[34mforcats\u001b[39m 0.4.0\n",
      "── \u001b[1mConflicts\u001b[22m ────────────────────────────────────────── tidyverse_conflicts() ──\n",
      "\u001b[31m✖\u001b[39m \u001b[34mdplyr\u001b[39m::\u001b[32mfilter()\u001b[39m masks \u001b[34mstats\u001b[39m::filter()\n",
      "\u001b[31m✖\u001b[39m \u001b[34mdplyr\u001b[39m::\u001b[32mlag()\u001b[39m    masks \u001b[34mstats\u001b[39m::lag()\n",
      "Loading required package: xts\n",
      "Loading required package: zoo\n",
      "\n",
      "Attaching package: ‘zoo’\n",
      "\n",
      "The following objects are masked from ‘package:base’:\n",
      "\n",
      "    as.Date, as.Date.numeric\n",
      "\n",
      "\n",
      "Attaching package: ‘xts’\n",
      "\n",
      "The following objects are masked from ‘package:dplyr’:\n",
      "\n",
      "    first, last\n",
      "\n",
      "Loading required package: TTR\n",
      "Version 0.4-0 included new data defaults. See ?getSymbols.\n",
      "\n",
      "Attaching package: ‘PerformanceAnalytics’\n",
      "\n",
      "The following object is masked from ‘package:graphics’:\n",
      "\n",
      "    legend\n",
      "\n",
      "\n",
      "Attaching package: ‘reshape2’\n",
      "\n",
      "The following object is masked from ‘package:tidyr’:\n",
      "\n",
      "    smiths\n",
      "\n",
      "Registering fonts with R\n",
      "\n",
      "Attaching package: ‘gridExtra’\n",
      "\n",
      "The following object is masked from ‘package:dplyr’:\n",
      "\n",
      "    combine\n",
      "\n",
      "\n",
      "Attaching package: ‘lubridate’\n",
      "\n",
      "The following object is masked from ‘package:base’:\n",
      "\n",
      "    date\n",
      "\n"
     ]
    },
    {
     "ename": "ERROR",
     "evalue": "Error: nanodbc/nanodbc.cpp:950: HYT00: [Microsoft][ODBC Driver 17 for SQL Server]Login timeout expired \n",
     "output_type": "error",
     "traceback": [
      "Error: nanodbc/nanodbc.cpp:950: HYT00: [Microsoft][ODBC Driver 17 for SQL Server]Login timeout expired \nTraceback:\n",
      "1. Indices()",
      "2. new(structure(\"Indices\", package = \"plutoR\"), ...)",
      "3. initialize(value, ...)",
      "4. initialize(value, ...)",
      "5. .Object$initialize(...)",
      "6. model.common.con.StockViz()",
      "7. DBI::dbConnect(odbc::odbc(), Driver = config.db.StockViz.driver, \n .     Server = config.db.StockViz.server, Database = config.db.StockViz.dbName, \n .     UID = config.db.StockViz.user, PWD = config.db.StockViz.password)",
      "8. DBI::dbConnect(odbc::odbc(), Driver = config.db.StockViz.driver, \n .     Server = config.db.StockViz.server, Database = config.db.StockViz.dbName, \n .     UID = config.db.StockViz.user, PWD = config.db.StockViz.password)",
      "9. .local(drv, ...)",
      "10. OdbcConnection(dsn = dsn, ..., timezone = timezone, encoding = encoding, \n  .     bigint = bigint, timeout = timeout, driver = driver, server = server, \n  .     database = database, uid = uid, pwd = pwd, dbms.name = dbms.name, \n  .     .connection_string = .connection_string)",
      "11. odbc_connect(connection_string, timezone = timezone, encoding = encoding, \n  .     bigint = bigint, timeout = timeout)"
     ]
    }
   ],
   "source": [
    "library(tidyverse)\n",
    "library(ggthemes)\n",
    "library(odbc)\n",
    "library(RPostgres)\n",
    "library(plutoR)\n",
    "library(quantmod)\n",
    "library(PerformanceAnalytics)\n",
    "library(reshape2)\n",
    "library(ggrepel)\n",
    "\n",
    "options(\"scipen\"=999)\n",
    "options(stringsAsFactors = FALSE)\n",
    "options(repr.plot.width=16, repr.plot.height=8)\n",
    "\n",
    "source(\"config.R\")\n",
    "source(\"goofy/plot.common.R\")\n",
    "source(\"goofy/misc.common.R\")\n",
    "\n",
    "#initialize\n",
    "indices<-Indices()"
   ]
  },
  {
   "cell_type": "code",
   "execution_count": 2,
   "metadata": {},
   "outputs": [
    {
     "ename": "ERROR",
     "evalue": "Error in eval(lhs, parent, parent): object 'indices' not found\n",
     "output_type": "error",
     "traceback": [
      "Error in eval(lhs, parent, parent): object 'indices' not found\nTraceback:\n",
      "1. indices$NseTimeSeries() %>% filter(NAME %like% \"%alpha% TR\") %>% \n .     group_by(NAME) %>% summarize(ST = min(TIME_STAMP, na.rm = T), \n .     ET = max(TIME_STAMP, na.rm = T)) %>% arrange(desc(ST)) %>% \n .     collect()",
      "2. eval(lhs, parent, parent)",
      "3. eval(lhs, parent, parent)"
     ]
    }
   ],
   "source": [
    "#what are the start and end-dates for which total-return (TR) indices are available for 'alpha' incies?\n",
    "\n",
    "#documentation: https://plutopy.readthedocs.io/en/latest/Indices.html\n",
    "\n",
    "alphaIndices <- indices$NseTimeSeries() %>%\n",
    "    filter(NAME %like% '%alpha% TR') %>%\n",
    "    group_by(NAME) %>%\n",
    "    summarize(ST = min(TIME_STAMP, na.rm=T), ET = max(TIME_STAMP, na.rm=T)) %>%\n",
    "    arrange(desc(ST)) %>%\n",
    "    collect()\n",
    "\n",
    "alphaIndices %>% print()"
   ]
  },
  {
   "cell_type": "code",
   "execution_count": 3,
   "metadata": {},
   "outputs": [
    {
     "ename": "ERROR",
     "evalue": "Error in eval(expr, envir, enclos): object 'alphaIndices' not found\n",
     "output_type": "error",
     "traceback": [
      "Error in eval(expr, envir, enclos): object 'alphaIndices' not found\nTraceback:\n"
     ]
    }
   ],
   "source": [
    "# it looks like most of them are covered through 2005-04-01\n",
    "\n",
    "startDate <- as.Date(\"2005-04-01\")\n",
    "\n",
    "dailies <- NULL\n",
    "for(index in alphaIndices$NAME){\n",
    "    pxDt <- indices$NseTimeSeries() %>%\n",
    "        filter(NAME == index & TIME_STAMP >= startDate) %>%\n",
    "        select(TIME_STAMP, CLOSE) %>%\n",
    "        collect()\n",
    "    \n",
    "    dailies <- merge.xts(dailies, dailyReturn(xts(pxDt$CLOSE, pxDt$TIME_STAMP)))\n",
    "}\n",
    "\n",
    "names(dailies) <- alphaIndices$NAME\n",
    "\n",
    "print(head(dailies))\n",
    "print(tail(dailies))"
   ]
  },
  {
   "cell_type": "code",
   "execution_count": 4,
   "metadata": {},
   "outputs": [
    {
     "name": "stdout",
     "output_type": "stream",
     "text": [
      "<simpleError in checkData(R): The data cannot be converted into a time series.  If you are trying to pass in names from a data object with one column, you should use the form 'data[rows, columns, drop = FALSE]'.  Rownames should have standard date formats, such as '1985-03-15'. >\n"
     ]
    }
   ],
   "source": [
    "Common.PlotCumReturns(dailies, \"Alpha Indices\", NA)"
   ]
  },
  {
   "cell_type": "markdown",
   "metadata": {},
   "source": [
    "This notebook was created using [pluto](http://pluto.studio). Learn more [here](https://github.com/shyams80/pluto)"
   ]
  }
 ],
 "metadata": {
  "kernelspec": {
   "display_name": "R",
   "language": "R",
   "name": "ir"
  },
  "language_info": {
   "codemirror_mode": "r",
   "file_extension": ".r",
   "mimetype": "text/x-r-source",
   "name": "R",
   "pygments_lexer": "r",
   "version": "3.4.4"
  }
 },
 "nbformat": 4,
 "nbformat_minor": 2
}
