{
 "cells": [
  {
   "cell_type": "markdown",
   "metadata": {},
   "source": [
    "# Plotting time-series in R using pluto\n",
    "\n",
    "A getting started guide"
   ]
  },
  {
   "cell_type": "code",
   "execution_count": 1,
   "metadata": {},
   "outputs": [
    {
     "name": "stderr",
     "output_type": "stream",
     "text": [
      "── \u001b[1mAttaching packages\u001b[22m ─────────────────────────────────────── tidyverse 1.2.1 ──\n",
      "\u001b[32m✔\u001b[39m \u001b[34mggplot2\u001b[39m 3.2.0     \u001b[32m✔\u001b[39m \u001b[34mpurrr  \u001b[39m 0.3.2\n",
      "\u001b[32m✔\u001b[39m \u001b[34mtibble \u001b[39m 2.1.3     \u001b[32m✔\u001b[39m \u001b[34mdplyr  \u001b[39m 0.8.1\n",
      "\u001b[32m✔\u001b[39m \u001b[34mtidyr  \u001b[39m 0.8.3     \u001b[32m✔\u001b[39m \u001b[34mstringr\u001b[39m 1.4.0\n",
      "\u001b[32m✔\u001b[39m \u001b[34mreadr  \u001b[39m 1.3.1     \u001b[32m✔\u001b[39m \u001b[34mforcats\u001b[39m 0.4.0\n",
      "── \u001b[1mConflicts\u001b[22m ────────────────────────────────────────── tidyverse_conflicts() ──\n",
      "\u001b[31m✖\u001b[39m \u001b[34mdplyr\u001b[39m::\u001b[32mfilter()\u001b[39m masks \u001b[34mstats\u001b[39m::filter()\n",
      "\u001b[31m✖\u001b[39m \u001b[34mdplyr\u001b[39m::\u001b[32mlag()\u001b[39m    masks \u001b[34mstats\u001b[39m::lag()\n",
      "Loading required package: xts\n",
      "Loading required package: zoo\n",
      "\n",
      "Attaching package: ‘zoo’\n",
      "\n",
      "The following objects are masked from ‘package:base’:\n",
      "\n",
      "    as.Date, as.Date.numeric\n",
      "\n",
      "\n",
      "Attaching package: ‘xts’\n",
      "\n",
      "The following objects are masked from ‘package:dplyr’:\n",
      "\n",
      "    first, last\n",
      "\n",
      "Loading required package: TTR\n",
      "Version 0.4-0 included new data defaults. See ?getSymbols.\n"
     ]
    }
   ],
   "source": [
    "library(tidyverse)\n",
    "library(ggthemes)\n",
    "library(odbc)\n",
    "library(plutoR)\n",
    "library(quantmod)\n",
    "\n",
    "options(\"scipen\"=999)\n",
    "source(\"config.R\")\n",
    "\n",
    "indices<-Indices()"
   ]
  },
  {
   "cell_type": "markdown",
   "metadata": {},
   "source": [
    "Let's pick a long time-series. This will allow us to play with different aspects of plotting..."
   ]
  },
  {
   "cell_type": "code",
   "execution_count": 2,
   "metadata": {},
   "outputs": [
    {
     "name": "stderr",
     "output_type": "stream",
     "text": [
      "Warning message:\n",
      "“Missing values are always removed in SQL.\n",
      "Use `MIN(x, na.rm = TRUE)` to silence this warning\n",
      "This warning is displayed only once per session.”Warning message:\n",
      "“Missing values are always removed in SQL.\n",
      "Use `MAX(x, na.rm = TRUE)` to silence this warning\n",
      "This warning is displayed only once per session.”"
     ]
    },
    {
     "name": "stdout",
     "output_type": "stream",
     "text": [
      "\u001b[38;5;246m# Source:     lazy query [?? x 3]\u001b[39m\n",
      "\u001b[38;5;246m# Database:   Microsoft SQL Server 13.00.4224[ro1@NORWAY/StockViz]\u001b[39m\n",
      "\u001b[38;5;246m# Ordered by: ST\u001b[39m\n",
      "   NAME                        ST         ET        \n",
      "   \u001b[3m\u001b[38;5;246m<chr>\u001b[39m\u001b[23m                       \u001b[3m\u001b[38;5;246m<date>\u001b[39m\u001b[23m     \u001b[3m\u001b[38;5;246m<date>\u001b[39m\u001b[23m    \n",
      "\u001b[38;5;250m 1\u001b[39m NIFTY50 EQUAL WEIGHT TR     1995-11-03 2019-06-25\n",
      "\u001b[38;5;250m 2\u001b[39m NIFTY 500 TR                1998-11-26 2019-06-25\n",
      "\u001b[38;5;250m 3\u001b[39m NIFTY FMCG TR               1998-11-26 2019-06-25\n",
      "\u001b[38;5;250m 4\u001b[39m NIFTY MNC TR                1998-11-26 2019-06-25\n",
      "\u001b[38;5;250m 5\u001b[39m NIFTY SERVICES SECTOR TR    1999-06-01 2019-06-25\n",
      "\u001b[38;5;250m 6\u001b[39m NIFTY 50 TR                 1999-06-30 2019-06-25\n",
      "\u001b[38;5;250m 7\u001b[39m NIFTY IT TR                 1999-06-30 2019-06-25\n",
      "\u001b[38;5;250m 8\u001b[39m NIFTY BANK TR               2000-01-01 2019-06-25\n",
      "\u001b[38;5;250m 9\u001b[39m NIFTY PSE TR                2000-01-03 2019-06-25\n",
      "\u001b[38;5;250m10\u001b[39m NIFTY ENERGY TR             2001-01-01 2019-06-25\n",
      "\u001b[38;5;250m11\u001b[39m NIFTY PHARMA TR             2001-01-01 2019-06-25\n",
      "\u001b[38;5;250m12\u001b[39m NIFTY NEXT 50 TR            2002-11-08 2019-06-25\n",
      "\u001b[38;5;250m13\u001b[39m NIFTY MIDCAP 100 TR         2003-01-01 2019-06-25\n",
      "\u001b[38;5;250m14\u001b[39m NIFTY 100 TR                2003-01-01 2019-06-25\n",
      "\u001b[38;5;250m15\u001b[39m NIFTY100 EQUAL WEIGHT TR    2003-01-01 2019-06-25\n",
      "\u001b[38;5;250m16\u001b[39m NIFTY ALPHA 50 TR           2003-12-31 2019-06-25\n",
      "\u001b[38;5;250m17\u001b[39m NIFTY HIGH BETA 50 TR       2003-12-31 2019-06-25\n",
      "\u001b[38;5;250m18\u001b[39m NIFTY LOW VOLATILITY 50 TR  2003-12-31 2019-06-25\n",
      "\u001b[38;5;250m19\u001b[39m NIFTY MIDCAP 50 TR          2004-01-01 2019-06-25\n",
      "\u001b[38;5;250m20\u001b[39m NIFTY INFRASTRUCTURE TR     2004-01-01 2019-06-25\n",
      "\u001b[38;5;250m21\u001b[39m NIFTY FINANCIAL SERVICES TR 2004-01-01 2019-06-25\n",
      "\u001b[38;5;250m22\u001b[39m NIFTY AUTO TR               2004-01-01 2019-06-25\n",
      "\u001b[38;5;250m23\u001b[39m NIFTY 200 TR                2004-01-01 2019-06-25\n",
      "\u001b[38;5;250m24\u001b[39m NIFTY PSU BANK TR           2004-01-01 2019-06-25\n",
      "\u001b[38;5;250m25\u001b[39m NIFTY SMALLCAP 100 TR       2004-01-01 2019-06-25\n"
     ]
    }
   ],
   "source": [
    "cutOff <- Sys.Date() - 10\n",
    "trIndices <- indices$NseTimeSeries() %>%\n",
    "    group_by(NAME) %>%\n",
    "    summarize(ST = min(TIME_STAMP), ET = max(TIME_STAMP)) %>%\n",
    "    filter(ST <= '2005-01-01' && ET >= cutOff && NAME %like% '% TR') %>%\n",
    "    arrange(ST)\n",
    "\n",
    "trIndices %>% print(n=Inf)"
   ]
  },
  {
   "cell_type": "markdown",
   "metadata": {},
   "source": [
    "NIFTY 500 TR makes a good candidate. It is a broad based index the represents the top-500 stocks by free-float market cap listed on the NSE..."
   ]
  },
  {
   "cell_type": "code",
   "execution_count": 3,
   "metadata": {},
   "outputs": [
    {
     "name": "stdout",
     "output_type": "stream",
     "text": [
      "           HIGH LOW OPEN  CLOSE\n",
      "1998-11-26   NA  NA   NA 611.43\n",
      "1998-11-27   NA  NA   NA 603.22\n",
      "1998-11-28   NA  NA   NA 602.15\n",
      "1998-11-30   NA  NA   NA 607.47\n",
      "1998-12-01   NA  NA   NA 606.23\n",
      "1998-12-02   NA  NA   NA 609.96\n",
      "           HIGH LOW OPEN    CLOSE\n",
      "2019-06-18   NA  NA   NA 14229.85\n",
      "2019-06-19   NA  NA   NA 14192.79\n",
      "2019-06-20   NA  NA   NA 14380.25\n",
      "2019-06-21   NA  NA   NA 14284.21\n",
      "2019-06-24   NA  NA   NA 14258.15\n",
      "2019-06-25   NA  NA   NA 14360.63\n"
     ]
    }
   ],
   "source": [
    "indexName <- \"NIFTY 500 TR\"\n",
    "trDf <- data.frame(indices$NseTimeSeries() %>%\n",
    "    filter(NAME == indexName) %>%\n",
    "    select(TIME_STAMP, HIGH, LOW, OPEN, CLOSE))\n",
    "trXts<-xts(trDf[,-1], trDf[,1])\n",
    "\n",
    "print(head(trXts))\n",
    "print(tail(trXts))"
   ]
  },
  {
   "cell_type": "markdown",
   "metadata": {},
   "source": [
    "Note: the series only has closing prices. "
   ]
  },
  {
   "cell_type": "code",
   "execution_count": 4,
   "metadata": {},
   "outputs": [],
   "source": [
    "#setup the data for ggplot\n",
    "firstDate <- first(index(trXts))\n",
    "lastDate <- last(index(trXts))\n",
    "xAxisTicks <- seq(from=firstDate, to=lastDate, length.out=10)\n",
    "\n",
    "toPlotDf <- data.frame(trXts$CLOSE)\n",
    "names(toPlotDf) <- c('C')\n",
    "toPlotDf$T <- index(trXts)\n",
    "\n",
    "options(repr.plot.width=16, repr.plot.height=8)"
   ]
  },
  {
   "cell_type": "markdown",
   "metadata": {},
   "source": [
    "### plot the series as-is"
   ]
  },
  {
   "cell_type": "code",
   "execution_count": 5,
   "metadata": {},
   "outputs": [
    {
     "ename": "ERROR",
     "evalue": "Error in vapply(x, is.null, logical(1)): object 'goldDf' not found\n",
     "output_type": "error",
     "traceback": [
      "Error in vapply(x, is.null, logical(1)): object 'goldDf' not found\nTraceback:\n",
      "1. annotate(\"text\", x = lastDate, y = min(goldDf$VAL, na.rm = T), \n .     label = \"@StockViz\", hjust = 1.1, vjust = -1.1, col = \"white\", \n .     cex = 6, fontface = \"bold\", alpha = 0.8)",
      "2. compact(list(x = x, xmin = xmin, xmax = xmax, xend = xend, y = y, \n .     ymin = ymin, ymax = ymax, yend = yend))",
      "3. vapply(x, is.null, logical(1))"
     ]
    }
   ],
   "source": [
    "ggplot(toPlotDf, aes(x=T, y=C)) +\n",
    "    theme_economist() +\n",
    "    scale_x_date(breaks = xAxisTicks) +\n",
    "    labs(x='', y='price', color='', title=sprintf(\"%s\", indexName), subtitle=sprintf(\"[%s:%s]\", firstDate, lastDate)) +\n",
    "    annotate(\"text\", x=lastDate, y=min(goldDf$VAL, na.rm=T), label = \"@StockViz\", hjust=1.1, vjust=-1.1, col=\"white\", cex=6, fontface = \"bold\", alpha = 0.8)"
   ]
  }
 ],
 "metadata": {
  "kernelspec": {
   "display_name": "R",
   "language": "R",
   "name": "ir"
  },
  "language_info": {
   "codemirror_mode": "r",
   "file_extension": ".r",
   "mimetype": "text/x-r-source",
   "name": "R",
   "pygments_lexer": "r",
   "version": "3.4.4"
  }
 },
 "nbformat": 4,
 "nbformat_minor": 2
}
