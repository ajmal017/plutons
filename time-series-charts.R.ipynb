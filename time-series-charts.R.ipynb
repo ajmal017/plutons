{
 "cells": [
  {
   "cell_type": "markdown",
   "metadata": {},
   "source": [
    "# Plotting time-series in R using pluto\n",
    "\n",
    "A getting started guide"
   ]
  },
  {
   "cell_type": "code",
   "execution_count": null,
   "metadata": {},
   "outputs": [],
   "source": [
    "library(tidyverse)\n",
    "library(ggthemes)\n",
    "library(odbc)\n",
    "library(plutoR)\n",
    "library(quantmod)\n",
    "library(PerformanceAnalytics)\n",
    "\n",
    "options(\"scipen\"=999)\n",
    "options(stringsAsFactors = FALSE)\n",
    "source(\"config.R\")\n",
    "source(\"goofy/plot.common.R\")\n",
    "\n",
    "indices<-Indices()"
   ]
  },
  {
   "cell_type": "markdown",
   "metadata": {},
   "source": [
    "Let's pick a long time-series. This will allow us to play with different aspects of plotting..."
   ]
  },
  {
   "cell_type": "code",
   "execution_count": null,
   "metadata": {},
   "outputs": [],
   "source": [
    "cutOff <- Sys.Date() - 10\n",
    "trIndices <- indices$NseTimeSeries() %>%\n",
    "    group_by(NAME) %>%\n",
    "    summarize(ST = min(TIME_STAMP), ET = max(TIME_STAMP)) %>%\n",
    "    filter(ST <= '2005-01-01' && ET >= cutOff && NAME %like% '% TR') %>%\n",
    "    arrange(ST)\n",
    "\n",
    "trIndices %>% print(n=Inf)"
   ]
  },
  {
   "cell_type": "markdown",
   "metadata": {},
   "source": [
    "NIFTY 500 TR makes a good candidate. It is a broad based index the represents the top-500 stocks by free-float market cap listed on the NSE..."
   ]
  },
  {
   "cell_type": "code",
   "execution_count": null,
   "metadata": {},
   "outputs": [],
   "source": [
    "indexName <- \"NIFTY 500 TR\"\n",
    "trDf <- data.frame(indices$NseTimeSeries() %>%\n",
    "    filter(NAME == indexName) %>%\n",
    "    select(TIME_STAMP, HIGH, LOW, OPEN, CLOSE))\n",
    "trXts<-xts(trDf[,-1], trDf[,1])\n",
    "\n",
    "print(head(trXts))\n",
    "print(tail(trXts))"
   ]
  },
  {
   "cell_type": "markdown",
   "metadata": {},
   "source": [
    "Note: the series only has closing prices. "
   ]
  },
  {
   "cell_type": "code",
   "execution_count": null,
   "metadata": {},
   "outputs": [],
   "source": [
    "#setup the data for ggplot\n",
    "firstDate <- first(index(trXts))\n",
    "lastDate <- last(index(trXts))\n",
    "xAxisTicks <- seq(from=firstDate, to=lastDate, length.out=10)\n",
    "\n",
    "toPlotDf <- data.frame(trXts[, 'CLOSE'])\n",
    "names(toPlotDf) <- c('C')\n",
    "toPlotDf$T <- index(trXts)\n",
    "\n",
    "options(repr.plot.width=16, repr.plot.height=8)"
   ]
  },
  {
   "cell_type": "markdown",
   "metadata": {},
   "source": [
    "### plot the series as-is"
   ]
  },
  {
   "cell_type": "code",
   "execution_count": null,
   "metadata": {},
   "outputs": [],
   "source": [
    "ggplot(toPlotDf, aes(x=T, y=C)) +\n",
    "    theme_economist() +\n",
    "    geom_line() +\n",
    "    scale_x_date(breaks = xAxisTicks) +\n",
    "    labs(x='', y='price', color='', title=sprintf(\"%s\", indexName), subtitle=sprintf(\"[%s:%s]\", firstDate, lastDate)) +\n",
    "    annotate(\"text\", x=lastDate, y=min(toPlotDf$C, na.rm=T), label = \"@StockViz\", hjust=1.1, vjust=-1.1, col=\"white\", cex=6, fontface = \"bold\", alpha = 0.8)"
   ]
  },
  {
   "cell_type": "markdown",
   "metadata": {},
   "source": [
    "### plot log-scale\n",
    "\n",
    "When using a logarithmic scale, the vertical distance between the prices on the scale will be equal when the percent change between the values is the same. Using the above example, the distance between 10 and 15 would be equal to the distance between 20 and 30 because they both represent a price increase of 50%.\n",
    "[investopedia](https://www.investopedia.com/ask/answers/05/logvslinear.asp)"
   ]
  },
  {
   "cell_type": "code",
   "execution_count": null,
   "metadata": {},
   "outputs": [],
   "source": [
    "ggplot(toPlotDf, aes(x=T, y=C)) +\n",
    "    theme_economist() +\n",
    "    geom_line() +\n",
    "    scale_y_log10() +\n",
    "    scale_x_date(breaks = xAxisTicks) +\n",
    "    labs(x='', y='log(price)', color='', title=sprintf(\"%s\", indexName), subtitle=sprintf(\"[%s:%s]\", firstDate, lastDate)) +\n",
    "    annotate(\"text\", x=lastDate, y=min(toPlotDf$C, na.rm=T), label = \"@StockViz\", hjust=1.1, vjust=-1.1, col=\"white\", cex=6, fontface = \"bold\", alpha = 0.8)"
   ]
  },
  {
   "cell_type": "markdown",
   "metadata": {},
   "source": [
    "### plot monthly candlestick chart"
   ]
  },
  {
   "cell_type": "code",
   "execution_count": null,
   "metadata": {},
   "outputs": [],
   "source": [
    "monthlyTr <- to.monthly(trXts$CLOSE)\n",
    "names(monthlyTr) <- c('Open', 'High', 'Low', 'Close')\n",
    "\n",
    "chartSeries(monthlyTr, theme = 'white', name = indexName)"
   ]
  },
  {
   "cell_type": "markdown",
   "metadata": {},
   "source": [
    "#### add some chart studies..."
   ]
  },
  {
   "cell_type": "code",
   "execution_count": null,
   "metadata": {},
   "outputs": [],
   "source": [
    "chartSeries(tail(monthlyTr, 1000), theme = 'white', name = indexName)\n",
    "addSMA(50, col='orange')\n",
    "addMACD()"
   ]
  }
 ],
 "metadata": {
  "kernelspec": {
   "display_name": "R",
   "language": "R",
   "name": "ir"
  },
  "language_info": {
   "codemirror_mode": "r",
   "file_extension": ".r",
   "mimetype": "text/x-r-source",
   "name": "R",
   "pygments_lexer": "r",
   "version": "3.4.4"
  }
 },
 "nbformat": 4,
 "nbformat_minor": 2
}
