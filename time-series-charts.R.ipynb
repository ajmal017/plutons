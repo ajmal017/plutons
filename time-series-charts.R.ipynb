{
 "cells": [
  {
   "cell_type": "markdown",
   "metadata": {},
   "source": [
    "# Plotting time-series in R using pluto\n",
    "\n",
    "A getting started guide"
   ]
  },
  {
   "cell_type": "code",
   "execution_count": 1,
   "metadata": {},
   "outputs": [
    {
     "name": "stderr",
     "output_type": "stream",
     "text": [
      "── \u001b[1mAttaching packages\u001b[22m ─────────────────────────────────────── tidyverse 1.2.1 ──\n",
      "\u001b[32m✔\u001b[39m \u001b[34mggplot2\u001b[39m 3.2.0     \u001b[32m✔\u001b[39m \u001b[34mpurrr  \u001b[39m 0.3.2\n",
      "\u001b[32m✔\u001b[39m \u001b[34mtibble \u001b[39m 2.1.3     \u001b[32m✔\u001b[39m \u001b[34mdplyr  \u001b[39m 0.8.1\n",
      "\u001b[32m✔\u001b[39m \u001b[34mtidyr  \u001b[39m 0.8.3     \u001b[32m✔\u001b[39m \u001b[34mstringr\u001b[39m 1.4.0\n",
      "\u001b[32m✔\u001b[39m \u001b[34mreadr  \u001b[39m 1.3.1     \u001b[32m✔\u001b[39m \u001b[34mforcats\u001b[39m 0.4.0\n",
      "── \u001b[1mConflicts\u001b[22m ────────────────────────────────────────── tidyverse_conflicts() ──\n",
      "\u001b[31m✖\u001b[39m \u001b[34mdplyr\u001b[39m::\u001b[32mfilter()\u001b[39m masks \u001b[34mstats\u001b[39m::filter()\n",
      "\u001b[31m✖\u001b[39m \u001b[34mdplyr\u001b[39m::\u001b[32mlag()\u001b[39m    masks \u001b[34mstats\u001b[39m::lag()\n",
      "Loading required package: xts\n",
      "Loading required package: zoo\n",
      "\n",
      "Attaching package: ‘zoo’\n",
      "\n",
      "The following objects are masked from ‘package:base’:\n",
      "\n",
      "    as.Date, as.Date.numeric\n",
      "\n",
      "\n",
      "Attaching package: ‘xts’\n",
      "\n",
      "The following objects are masked from ‘package:dplyr’:\n",
      "\n",
      "    first, last\n",
      "\n",
      "Loading required package: TTR\n",
      "Version 0.4-0 included new data defaults. See ?getSymbols.\n"
     ]
    }
   ],
   "source": [
    "library(tidyverse)\n",
    "library(ggthemes)\n",
    "library(odbc)\n",
    "library(plutoR)\n",
    "library(quantmod)\n",
    "\n",
    "options(\"scipen\"=999)\n",
    "source(\"config.R\")\n",
    "\n",
    "indices<-Indices()"
   ]
  },
  {
   "cell_type": "code",
   "execution_count": 2,
   "metadata": {},
   "outputs": [
    {
     "name": "stderr",
     "output_type": "stream",
     "text": [
      "Warning message:\n",
      "“Missing values are always removed in SQL.\n",
      "Use `MIN(x, na.rm = TRUE)` to silence this warning\n",
      "This warning is displayed only once per session.”Warning message:\n",
      "“Missing values are always removed in SQL.\n",
      "Use `MAX(x, na.rm = TRUE)` to silence this warning\n",
      "This warning is displayed only once per session.”"
     ]
    },
    {
     "ename": "ERROR",
     "evalue": "Error: <SQL> 'SELECT TOP(11) *\nFROM (SELECT TOP 100 PERCENT \"NAME\", MIN(\"TIME_STAMP\") AS \"ST\", MAX(\"TIME_STAMP\") AS \"ET\"\nFROM (SELECT TOP 100 PERCENT \"INDEX_NAME\" AS \"NAME\", \"TIME_STAMP\", \"PX_HIGH\" AS \"HIGH\", \"PX_LOW\" AS \"LOW\", \"PX_OPEN\" AS \"OPEN\", \"PX_CLOSE\" AS \"CLOSE\", \"TRD_QTY\" AS \"VOLUME\"\nFROM \"BHAV_INDEX\") \"dbplyr_001\"\nGROUP BY \"NAME\") \"dbplyr_002\"\nWHERE (\"ST\" <= '2005-01-01' AND \"ET\" >= Sys.Date() - 10.0)\nORDER BY \"ST\"'\n  nanodbc/nanodbc.cpp:1587: 42000: [Microsoft][ODBC Driver 17 for SQL Server][SQL Server]Cannot find either column \"Sys\" or the user-defined function or aggregate \"Sys.Date\", or the name is ambiguous. \n",
     "output_type": "error",
     "traceback": [
      "Error: <SQL> 'SELECT TOP(11) *\nFROM (SELECT TOP 100 PERCENT \"NAME\", MIN(\"TIME_STAMP\") AS \"ST\", MAX(\"TIME_STAMP\") AS \"ET\"\nFROM (SELECT TOP 100 PERCENT \"INDEX_NAME\" AS \"NAME\", \"TIME_STAMP\", \"PX_HIGH\" AS \"HIGH\", \"PX_LOW\" AS \"LOW\", \"PX_OPEN\" AS \"OPEN\", \"PX_CLOSE\" AS \"CLOSE\", \"TRD_QTY\" AS \"VOLUME\"\nFROM \"BHAV_INDEX\") \"dbplyr_001\"\nGROUP BY \"NAME\") \"dbplyr_002\"\nWHERE (\"ST\" <= '2005-01-01' AND \"ET\" >= Sys.Date() - 10.0)\nORDER BY \"ST\"'\n  nanodbc/nanodbc.cpp:1587: 42000: [Microsoft][ODBC Driver 17 for SQL Server][SQL Server]Cannot find either column \"Sys\" or the user-defined function or aggregate \"Sys.Date\", or the name is ambiguous. \nTraceback:\n",
      "1. print(trIndices)",
      "2. print.tbl_sql(trIndices)",
      "3. cat_line(format(x, ..., n = n, width = width, n_extra = n_extra))",
      "4. cat(paste0(..., \"\\n\"), sep = \"\")",
      "5. paste0(..., \"\\n\")",
      "6. format(x, ..., n = n, width = width, n_extra = n_extra)",
      "7. format.tbl(x, ..., n = n, width = width, n_extra = n_extra)",
      "8. trunc_mat(x, n = n, width = width, n_extra = n_extra)",
      "9. as.data.frame(head(x, n + 1))",
      "10. as.data.frame.tbl_sql(head(x, n + 1))",
      "11. as.data.frame(collect(x, n = n))",
      "12. collect(x, n = n)",
      "13. collect.tbl_sql(x, n = n)",
      "14. db_collect(x$src$con, sql, n = n, warn_incomplete = warn_incomplete)",
      "15. db_collect.DBIConnection(x$src$con, sql, n = n, warn_incomplete = warn_incomplete)",
      "16. dbSendQuery(con, sql)",
      "17. dbSendQuery(con, sql)",
      "18. OdbcResult(connection = conn, statement = statement)",
      "19. new_result(connection@ptr, statement)"
     ]
    }
   ],
   "source": [
    "trIndices <- indices$NseTimeSeries() %>%\n",
    "    group_by(NAME) %>%\n",
    "    summarize(ST = min(TIME_STAMP), ET = max(TIME_STAMP)) %>%\n",
    "    filter(ST <= '2005-01-01' && ET >= Sys.Date()-10) %>%\n",
    "    arrange(ST)\n",
    "\n",
    "print(trIndices)"
   ]
  }
 ],
 "metadata": {
  "kernelspec": {
   "display_name": "R",
   "language": "R",
   "name": "ir"
  },
  "language_info": {
   "codemirror_mode": "r",
   "file_extension": ".r",
   "mimetype": "text/x-r-source",
   "name": "R",
   "pygments_lexer": "r",
   "version": "3.4.4"
  }
 },
 "nbformat": 4,
 "nbformat_minor": 2
}
