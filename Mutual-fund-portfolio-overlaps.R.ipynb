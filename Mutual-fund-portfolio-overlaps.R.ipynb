{
 "cells": [
  {
   "cell_type": "markdown",
   "metadata": {},
   "source": [
    "# Visualizing mutual fund portfolio overlaps with other indices and mutual fund portfolios\n",
    "\n",
    "We had discussed Upset charts for visualizing fund portfolio overlaps in [Mutual fund portfolio overlap in UpSet charts](https://stockviz.biz/2018/10/22/mutual-fund-portfolio-overlap-in-upset-charts/). You can use the code below to roll your own overlap analysis for the funds you care about."
   ]
  },
  {
   "cell_type": "code",
   "execution_count": null,
   "metadata": {},
   "outputs": [],
   "source": [
    "library(tidyverse)\n",
    "library(ggthemes)\n",
    "library(odbc)\n",
    "library(plutoR)\n",
    "library(quantmod)\n",
    "library(PerformanceAnalytics)\n",
    "library(UpSetR)\n",
    "\n",
    "options(\"scipen\"=999)\n",
    "options(stringsAsFactors = FALSE)\n",
    "options(repr.plot.width=16, repr.plot.height=8)\n",
    "\n",
    "source(\"config.R\")\n",
    "source(\"goofy/plot.common.R\")\n",
    "source(\"goofy/misc.common.R\")\n",
    "\n",
    "indices <- Indices()\n",
    "mfi <- MutualFundsIndia()"
   ]
  },
  {
   "cell_type": "markdown",
   "metadata": {},
   "source": [
    "The *Franklin India Prima* fund is a mid-cap fund. We will see how the portfolio is actually setup by intersecting it with both large-cap and mid-cap index portfolios."
   ]
  },
  {
   "cell_type": "code",
   "execution_count": null,
   "metadata": {},
   "outputs": [],
   "source": [
    "indexName1 <- \"NIFTY 100\" #large-cap universe\n",
    "indexName2 <- \"NIFTY MIDCAP 150\" #mid-cap universe\n",
    "schemeCode <- 100473\n",
    "schemeName <- \"Franklin India Prima\"\n",
    "portfolioDate <- as.Date(\"2019-05-31\")"
   ]
  },
  {
   "cell_type": "code",
   "execution_count": null,
   "metadata": {},
   "outputs": [],
   "source": [
    "# grab the data\n",
    "mfPortfolio <- mfi$Portfolio() %>%\n",
    "    filter(SCHEME_CODE == schemeCode \n",
    "           & INSTRUMENT == 'EQUITY' \n",
    "           & !is.null(WEIGHTAGE)\n",
    "           & WEIGHTAGE > 0\n",
    "           & PORTFOLIO_DATE == portfolioDate\n",
    "           & (INSTRUMENT_TYPE == 'STOCK' \n",
    "              | INSTRUMENT_TYPE == 'E' \n",
    "              | INSTRUMENT_TYPE == '' \n",
    "              | is.null(INSTRUMENT_TYPE))) %>%\n",
    "    select(SYMBOL, WEIGHTAGE) %>%\n",
    "    arrange(desc(WEIGHTAGE)) %>%\n",
    "    collect()\n",
    "\n",
    "indexPort1 <- indices$NseConstituents() %>%\n",
    "    filter(NAME == indexName1) %>%\n",
    "    select(SYMBOL, CAP_WEIGHT) %>%\n",
    "    arrange(desc(CAP_WEIGHT)) %>%\n",
    "    collect()\n",
    "\n",
    "indexPort2 <- indices$NseConstituents() %>%\n",
    "    filter(NAME == indexName2) %>%\n",
    "    select(SYMBOL, CAP_WEIGHT) %>%\n",
    "    arrange(desc(CAP_WEIGHT)) %>%\n",
    "    collect()\n",
    "\n",
    "mfPortfolio %>% print(n=5)\n",
    "indexPort1 %>% print(n=5)\n",
    "indexPort2 %>% print(n=5)"
   ]
  },
  {
   "cell_type": "code",
   "execution_count": null,
   "metadata": {},
   "outputs": [],
   "source": [
    "# create the chart\n",
    "\n",
    "#UpSetR takes a list\n",
    "listInput <- list(mfPortfolio$SYMBOL, indexPort1$SYMBOL, indexPort2$SYMBOL)\n",
    "names(listInput) <- c(schemeName, indexName1, indexName2)\n",
    "\n",
    "upset(fromList(listInput), order.by='degree', nsets=length(listInput), keep.order=T, mainbar.y.label='Portfolio Intersections', sets.x.label ='Portfolio Size', text.scale=2)\n",
    "grid.text(sprintf(\"Overlap: %s/%s/%s\", schemeName, indexName1, indexName2),x = 0.1, y=0.95, just='left', gp=gpar(fontsize=20, fontfamily='Segoe UI'))\n",
    "grid.text(\"@StockViz\",x = 0.1, y=0.8, rot=90, gp=gpar(fontsize=14, fontfamily='Segoe UI', col='grey'))"
   ]
  },
  {
   "cell_type": "markdown",
   "metadata": {},
   "source": [
    "This notebook was created using [pluto](http://pluto.studio). Learn more [here](https://github.com/shyams80/pluto)"
   ]
  }
 ],
 "metadata": {
  "kernelspec": {
   "display_name": "R",
   "language": "R",
   "name": "ir"
  },
  "language_info": {
   "codemirror_mode": "r",
   "file_extension": ".r",
   "mimetype": "text/x-r-source",
   "name": "R",
   "pygments_lexer": "r",
   "version": "3.4.4"
  }
 },
 "nbformat": 4,
 "nbformat_minor": 2
}
