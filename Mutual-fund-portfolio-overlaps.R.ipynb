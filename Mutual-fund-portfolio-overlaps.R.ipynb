{
 "cells": [
  {
   "cell_type": "markdown",
   "metadata": {},
   "source": [
    "# Visualizing mutual fund portfolio overlaps with other indices and mutual fund portfolios\n",
    "\n",
    "We had discussed Upset charts for visualizing fund portfolio overlaps in [Mutual fund portfolio overlap in UpSet charts](https://stockviz.biz/2018/10/22/mutual-fund-portfolio-overlap-in-upset-charts/). You can use the code below to roll your own overlap analysis for the funds you care about."
   ]
  },
  {
   "cell_type": "code",
   "execution_count": 1,
   "metadata": {},
   "outputs": [
    {
     "name": "stderr",
     "output_type": "stream",
     "text": [
      "── \u001b[1mAttaching packages\u001b[22m ─────────────────────────────────────── tidyverse 1.2.1 ──\n",
      "\u001b[32m✔\u001b[39m \u001b[34mggplot2\u001b[39m 3.2.0     \u001b[32m✔\u001b[39m \u001b[34mpurrr  \u001b[39m 0.3.2\n",
      "\u001b[32m✔\u001b[39m \u001b[34mtibble \u001b[39m 2.1.3     \u001b[32m✔\u001b[39m \u001b[34mdplyr  \u001b[39m 0.8.1\n",
      "\u001b[32m✔\u001b[39m \u001b[34mtidyr  \u001b[39m 0.8.3     \u001b[32m✔\u001b[39m \u001b[34mstringr\u001b[39m 1.4.0\n",
      "\u001b[32m✔\u001b[39m \u001b[34mreadr  \u001b[39m 1.3.1     \u001b[32m✔\u001b[39m \u001b[34mforcats\u001b[39m 0.4.0\n",
      "── \u001b[1mConflicts\u001b[22m ────────────────────────────────────────── tidyverse_conflicts() ──\n",
      "\u001b[31m✖\u001b[39m \u001b[34mdplyr\u001b[39m::\u001b[32mfilter()\u001b[39m masks \u001b[34mstats\u001b[39m::filter()\n",
      "\u001b[31m✖\u001b[39m \u001b[34mdplyr\u001b[39m::\u001b[32mlag()\u001b[39m    masks \u001b[34mstats\u001b[39m::lag()\n",
      "Loading required package: xts\n",
      "Loading required package: zoo\n",
      "\n",
      "Attaching package: ‘zoo’\n",
      "\n",
      "The following objects are masked from ‘package:base’:\n",
      "\n",
      "    as.Date, as.Date.numeric\n",
      "\n",
      "\n",
      "Attaching package: ‘xts’\n",
      "\n",
      "The following objects are masked from ‘package:dplyr’:\n",
      "\n",
      "    first, last\n",
      "\n",
      "Loading required package: TTR\n",
      "Version 0.4-0 included new data defaults. See ?getSymbols.\n",
      "\n",
      "Attaching package: ‘PerformanceAnalytics’\n",
      "\n",
      "The following object is masked from ‘package:graphics’:\n",
      "\n",
      "    legend\n",
      "\n",
      "Registering fonts with R\n",
      "\n",
      "Attaching package: ‘gridExtra’\n",
      "\n",
      "The following object is masked from ‘package:dplyr’:\n",
      "\n",
      "    combine\n",
      "\n",
      "\n",
      "Attaching package: ‘lubridate’\n",
      "\n",
      "The following object is masked from ‘package:base’:\n",
      "\n",
      "    date\n",
      "\n"
     ]
    }
   ],
   "source": [
    "library(tidyverse)\n",
    "library(ggthemes)\n",
    "library(odbc)\n",
    "library(plutoR)\n",
    "library(quantmod)\n",
    "library(PerformanceAnalytics)\n",
    "library(UpSetR)\n",
    "library(grid)\n",
    "\n",
    "options(\"scipen\"=999)\n",
    "options(stringsAsFactors = FALSE)\n",
    "options(repr.plot.width=16, repr.plot.height=8)\n",
    "\n",
    "source(\"config.R\")\n",
    "source(\"goofy/plot.common.R\")\n",
    "source(\"goofy/misc.common.R\")\n",
    "\n",
    "indices <- Indices()\n",
    "mfi <- MutualFundsIndia()"
   ]
  },
  {
   "cell_type": "markdown",
   "metadata": {},
   "source": [
    "The *Franklin India Prima* fund is a mid-cap fund. We will see how the portfolio is actually setup by intersecting it with both large-cap and mid-cap index portfolios."
   ]
  },
  {
   "cell_type": "code",
   "execution_count": 2,
   "metadata": {},
   "outputs": [],
   "source": [
    "indexName1 <- \"NIFTY 100\" #large-cap universe\n",
    "indexName2 <- \"NIFTY MIDCAP 150\" #mid-cap universe\n",
    "schemeCode <- 100473\n",
    "schemeName <- \"Franklin India Prima\"\n",
    "portfolioDate <- as.Date(\"2019-05-31\")"
   ]
  },
  {
   "cell_type": "code",
   "execution_count": 3,
   "metadata": {},
   "outputs": [
    {
     "name": "stdout",
     "output_type": "stream",
     "text": [
      "\u001b[38;5;246m# A tibble: 63 x 2\u001b[39m\n",
      "  SYMBOL    WEIGHTAGE\n",
      "  \u001b[3m\u001b[38;5;246m<chr>\u001b[39m\u001b[23m         \u001b[3m\u001b[38;5;246m<dbl>\u001b[39m\u001b[23m\n",
      "\u001b[38;5;250m1\u001b[39m HDFCBANK       3.56\n",
      "\u001b[38;5;250m2\u001b[39m RAMCOCEM       3.13\n",
      "\u001b[38;5;250m3\u001b[39m KOTAKBANK      2.88\n",
      "\u001b[38;5;250m4\u001b[39m CUB            2.87\n",
      "\u001b[38;5;250m5\u001b[39m KANSAINER      2.77\n",
      "\u001b[38;5;246m# … with 58 more rows\u001b[39m\n",
      "\u001b[38;5;246m# A tibble: 100 x 2\u001b[39m\n",
      "  SYMBOL    CAP_WEIGHT\n",
      "  \u001b[3m\u001b[38;5;246m<chr>\u001b[39m\u001b[23m          \u001b[3m\u001b[38;5;246m<dbl>\u001b[39m\u001b[23m\n",
      "\u001b[38;5;250m1\u001b[39m HDFCBANK        9.64\n",
      "\u001b[38;5;250m2\u001b[39m RELIANCE        8.06\n",
      "\u001b[38;5;250m3\u001b[39m HDFC            6.73\n",
      "\u001b[38;5;250m4\u001b[39m INFY            5.15\n",
      "\u001b[38;5;250m5\u001b[39m ICICIBANK       5.05\n",
      "\u001b[38;5;246m# … with 95 more rows\u001b[39m\n",
      "\u001b[38;5;246m# A tibble: 150 x 2\u001b[39m\n",
      "  SYMBOL     CAP_WEIGHT\n",
      "  \u001b[3m\u001b[38;5;246m<chr>\u001b[39m\u001b[23m           \u001b[3m\u001b[38;5;246m<dbl>\u001b[39m\u001b[23m\n",
      "\u001b[38;5;250m1\u001b[39m RBLBANK          2.98\n",
      "\u001b[38;5;250m2\u001b[39m FEDERALBNK       2.39\n",
      "\u001b[38;5;250m3\u001b[39m LICHSGFIN        1.88\n",
      "\u001b[38;5;250m4\u001b[39m CUB              1.78\n",
      "\u001b[38;5;250m5\u001b[39m NAUKRI           1.71\n",
      "\u001b[38;5;246m# … with 145 more rows\u001b[39m\n"
     ]
    }
   ],
   "source": [
    "# grab the data\n",
    "mfPortfolio <- mfi$Portfolio() %>%\n",
    "    filter(SCHEME_CODE == schemeCode \n",
    "           & INSTRUMENT == 'EQUITY' \n",
    "           & !is.null(WEIGHTAGE)\n",
    "           & WEIGHTAGE > 0\n",
    "           & PORTFOLIO_DATE == portfolioDate\n",
    "           & (INSTRUMENT_TYPE == 'STOCK' \n",
    "              | INSTRUMENT_TYPE == 'E' \n",
    "              | INSTRUMENT_TYPE == '' \n",
    "              | is.null(INSTRUMENT_TYPE))) %>%\n",
    "    select(SYMBOL, WEIGHTAGE) %>%\n",
    "    arrange(desc(WEIGHTAGE)) %>%\n",
    "    collect()\n",
    "\n",
    "indexPort1 <- indices$NseConstituents() %>%\n",
    "    filter(NAME == indexName1) %>%\n",
    "    select(SYMBOL, CAP_WEIGHT) %>%\n",
    "    arrange(desc(CAP_WEIGHT)) %>%\n",
    "    collect()\n",
    "\n",
    "indexPort2 <- indices$NseConstituents() %>%\n",
    "    filter(NAME == indexName2) %>%\n",
    "    select(SYMBOL, CAP_WEIGHT) %>%\n",
    "    arrange(desc(CAP_WEIGHT)) %>%\n",
    "    collect()\n",
    "\n",
    "mfPortfolio %>% print(n=5)\n",
    "indexPort1 %>% print(n=5)\n",
    "indexPort2 %>% print(n=5)"
   ]
  },
  {
   "cell_type": "code",
   "execution_count": 4,
   "metadata": {},
   "outputs": [
    {
     "data": {
      "image/png": "[encoded data removed]",
      "text/plain": [
       "plot without title"
      ]
     },
     "metadata": {},
     "output_type": "display_data"
    }
   ],
   "source": [
    "# create the chart\n",
    "\n",
    "#UpSetR takes a list\n",
    "listInput <- list(mfPortfolio$SYMBOL, indexPort1$SYMBOL, indexPort2$SYMBOL)\n",
    "names(listInput) <- c(schemeName, indexName1, indexName2)\n",
    "\n",
    "upset(fromList(listInput), order.by='degree', nsets=length(listInput), keep.order=T, mainbar.y.label='Portfolio Intersections', sets.x.label ='Portfolio Size', text.scale=2)\n",
    "grid.text(sprintf(\"Overlap: %s/%s/%s\", schemeName, indexName1, indexName2),x = 0.1, y=0.95, just='left', gp=gpar(fontsize=20, fontfamily='Segoe UI'))\n",
    "grid.text(\"@StockViz\",x = 0.1, y=0.8, rot=90, gp=gpar(fontsize=14, fontfamily='Segoe UI', col='grey'))"
   ]
  },
  {
   "cell_type": "markdown",
   "metadata": {},
   "source": [
    "### what are the names that intersect?"
   ]
  },
  {
   "cell_type": "code",
   "execution_count": 5,
   "metadata": {},
   "outputs": [
    {
     "name": "stderr",
     "output_type": "stream",
     "text": [
      "Joining, by = \"SYMBOL\"\n"
     ]
    },
    {
     "name": "stdout",
     "output_type": "stream",
     "text": [
      "\u001b[38;5;246m# A tibble: 9 x 3\u001b[39m\n",
      "  SYMBOL    WEIGHTAGE CAP_WEIGHT\n",
      "  \u001b[3m\u001b[38;5;246m<chr>\u001b[39m\u001b[23m         \u001b[3m\u001b[38;5;246m<dbl>\u001b[39m\u001b[23m      \u001b[3m\u001b[38;5;246m<dbl>\u001b[39m\u001b[23m\n",
      "\u001b[38;5;250m1\u001b[39m HDFCBANK      3.56       9.64 \n",
      "\u001b[38;5;250m2\u001b[39m KOTAKBANK     2.88       3.63 \n",
      "\u001b[38;5;250m3\u001b[39m BPCL          2.00       0.554\n",
      "\u001b[38;5;250m4\u001b[39m PETRONET      1.36       0.332\n",
      "\u001b[38;5;250m5\u001b[39m IDEA          1.04       0.144\n",
      "\u001b[38;5;250m6\u001b[39m YESBANK       1.01       0.377\n",
      "\u001b[38;5;250m7\u001b[39m ASHOKLEY      1.00       0.230\n",
      "\u001b[38;5;250m8\u001b[39m HINDALCO      0.930      0.535\n",
      "\u001b[38;5;250m9\u001b[39m CADILAHC      0.852      0.112\n"
     ]
    }
   ],
   "source": [
    "mfPortfolio %>%\n",
    "    inner_join(indexPort1) %>%\n",
    "    print()"
   ]
  },
  {
   "cell_type": "markdown",
   "metadata": {},
   "source": [
    "This notebook was created using [pluto](http://pluto.studio). Learn more [here](https://github.com/shyams80/pluto)"
   ]
  }
 ],
 "metadata": {
  "kernelspec": {
   "display_name": "R",
   "language": "R",
   "name": "ir"
  },
  "language_info": {
   "codemirror_mode": "r",
   "file_extension": ".r",
   "mimetype": "text/x-r-source",
   "name": "R",
   "pygments_lexer": "r",
   "version": "3.4.4"
  }
 },
 "nbformat": 4,
 "nbformat_minor": 2
}
