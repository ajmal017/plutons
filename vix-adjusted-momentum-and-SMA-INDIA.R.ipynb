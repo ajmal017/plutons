{
 "cells": [
  {
   "cell_type": "markdown",
   "metadata": {},
   "source": [
    "# VIX-Adjusted Momentum and SMA (INDIA)\n",
    "\n",
    "[Previously](https://github.com/stockviz/plutons/blob/master/vix-adjusted-momentum-INDIA.R.md), we saw how a vanilla VIX-adjusted strategy did not lead to excess returns over buy-and-hold. However, during the back-test, a 50-day look-back produces lower drawdowns. This notebook combines the VIX-adjusted momentum and SMA to create a low drawdown strategy that can beat buy-and-hold when levered up using futures."
   ]
  },
  {
   "cell_type": "code",
   "execution_count": null,
   "metadata": {},
   "outputs": [],
   "source": [
    "library(tidyverse)\n",
    "library(ggthemes)\n",
    "library(reshape2)\n",
    "library(odbc)\n",
    "library(plutoR)\n",
    "library(quantmod)\n",
    "library(lubridate)\n",
    "library(ggrepel)\n",
    "library(PerformanceAnalytics)\n",
    "\n",
    "options(\"scipen\"=999)\n",
    "options(stringsAsFactors = FALSE)\n",
    "options(repr.plot.width=16, repr.plot.height=8)\n",
    "\n",
    "source(\"config.R\")\n",
    "source(\"goofy/plot.common.R\")\n",
    "source(\"goofy/misc.common.R\")\n",
    "\n",
    "indices <- Indices()"
   ]
  },
  {
   "cell_type": "code",
   "execution_count": null,
   "metadata": {},
   "outputs": [],
   "source": [
    "startDate <- as.Date('2009-03-03') #the day when India VIX was launched\n",
    "endDate <- as.Date('2019-06-30')\n",
    "\n",
    "vixDt <- indices$IndiaVixTimeSeries() %>%\n",
    "    filter(TIME_STAMP >= startDate & TIME_STAMP <= endDate) %>%\n",
    "    select(TIME_STAMP, CLOSE) %>%\n",
    "    collect()\n",
    "    \n",
    "nifty50Dt <- indices$NseTimeSeries() %>%\n",
    "    filter(NAME == 'NIFTY 50' & TIME_STAMP >= startDate & TIME_STAMP <= endDate) %>%\n",
    "    select(TIME_STAMP, CLOSE) %>%\n",
    "    collect()"
   ]
  },
  {
   "cell_type": "code",
   "execution_count": null,
   "metadata": {},
   "outputs": [],
   "source": [
    "doLookback <- function(lb){\n",
    "    allXts <- merge(xts(nifty50Dt$CLOSE, nifty50Dt$TIME_STAMP), xts(vixDt$CLOSE, vixDt$TIME_STAMP))\n",
    "    names(allXts) <- c('NIFTY', 'VIX')\n",
    "\n",
    "    allXts$SMA <- SMA(allXts$NIFTY, lb)\n",
    "    allXts$D_RET <- dailyReturn(allXts$NIFTY)\n",
    "    allXts$D_RET_LAG_1 <- stats::lag(allXts$D_RET, -1) #signal is generated and traded at the close, so use next day's return\n",
    "\n",
    "    allXts$VIX_ADJ_RET <- allXts$D_RET/allXts$VIX\n",
    "    allXts$VIX_ADJ_RET_SMA <- SMA(allXts$VIX_ADJ_RET, lb) \n",
    "\n",
    "    allXts <- na.omit(allXts)\n",
    "\n",
    "    #go long only if the index is above its lb-day average\n",
    "    allXts$SMA_STRAT <- ifelse(allXts$NIFTY > allXts$SMA, allXts$D_RET_LAG_1, 0) \n",
    "\n",
    "    #go long only if the simple average (VIX-Adjusted Momentum) > 0\n",
    "    allXts$VIX_STRAT <- ifelse(allXts$VIX_ADJ_RET_SMA > 0, allXts$D_RET_LAG_1, 0) \n",
    "\n",
    "    #go long only if both fire\n",
    "    allXts$COMBO_STRAT <- ifelse(allXts$NIFTY > allXts$SMA & allXts$VIX_ADJ_RET_SMA > 0, allXts$D_RET_LAG_1, 0)\n",
    "\n",
    "    #plot returns\n",
    "    toPlot <- merge(allXts$COMBO_STRAT, allXts$VIX_STRAT, allXts$SMA_STRAT, allXts$D_RET_LAG_1)\n",
    "    Common.PlotCumReturns(toPlot, sprintf(\"Back-test for %d look-back\", lb), \"\")\n",
    "    \n",
    "    #print drawdowns\n",
    "    print(\"VIX + SMA Drawdowns\")\n",
    "    print(table.Drawdowns(allXts$COMBO_STRAT, 10))\n",
    "    \n",
    "    print(\"VIX Only Drawdowns\")\n",
    "    print(table.Drawdowns(allXts$VIX_STRAT, 10))\n",
    "    \n",
    "    print(\"SMA Only Drawdowns\")\n",
    "    print(table.Drawdowns(allXts$SMA_STRAT, 10))\n",
    "    \n",
    "    print(\"Buy & Hold Drawdowns\")\n",
    "    print(table.Drawdowns(allXts$D_RET_LAG_1, 10))\n",
    "\n",
    "    #calculate annual returns\n",
    "\n",
    "    byYearDf <- data.frame(T=0, COMBO=0.0, VIX_MOM=0.0, SMA=0.0, BH=0.0)\n",
    "\n",
    "    allYears <- unique(year(index(allXts)))\n",
    "    for(yr in allYears){\n",
    "        byYearDf <- rbind(byYearDf,\n",
    "                        c(yr, as.numeric(100.0*Return.cumulative(allXts[toString(yr), 'COMBO_STRAT'])),\n",
    "                            as.numeric(100.0*Return.cumulative(allXts[toString(yr), 'VIX_STRAT'])),\n",
    "                            as.numeric(100.0*Return.cumulative(allXts[toString(yr), 'SMA_STRAT'])),\n",
    "                            as.numeric(100.0*Return.cumulative(allXts[toString(yr), 'D_RET_LAG_1']))))\n",
    "    }\n",
    "\n",
    "    byYearDf <- byYearDf[-1,]\n",
    "    print(byYearDf)\n",
    "\n",
    "    #plot annual returns\n",
    "\n",
    "    ggplot(melt(byYearDf, id='T'), aes(x=T, y=value, fill=variable)) +\n",
    "        theme_economist() +\n",
    "        geom_bar(stat=\"identity\", position=position_dodge()) +\n",
    "        scale_x_continuous(labels=byYearDf$T, breaks=byYearDf$T) +\n",
    "        geom_text_repel(aes(label= round(value, 2)), position = position_dodge(0.9)) +\n",
    "        labs(x='', y='(%)', fill='', title=sprintf(\"Back-test for %d look-back\", lb), subtitle=\"Annual Returns\") +\n",
    "        annotate(\"text\", x=max(byYearDf$T), y=min(sapply(byYearDf[,-1], min, na.rm=T)), \n",
    "                 label = \"@StockViz\", hjust=1.1, vjust=-1.1, col=\"white\", cex=6, fontface = \"bold\", alpha = 0.8)  \n",
    "}    "
   ]
  },
  {
   "cell_type": "code",
   "execution_count": null,
   "metadata": {},
   "outputs": [],
   "source": [
    "doLookback(50)"
   ]
  },
  {
   "cell_type": "markdown",
   "metadata": {},
   "source": [
    "This was a tad disappointing. The combined signal had a worse drawdown and return profile than plain-vanilla SMA(50). The tricky bit is the 2009 through 2014 time-frame where side-ways market would have destoryed any trend following strategy."
   ]
  },
  {
   "cell_type": "markdown",
   "metadata": {},
   "source": [
    "This notebook was created using [pluto](http://pluto.studio). Learn more [here](https://github.com/shyams80/pluto)"
   ]
  }
 ],
 "metadata": {
  "kernelspec": {
   "display_name": "R",
   "language": "R",
   "name": "ir"
  },
  "language_info": {
   "codemirror_mode": "r",
   "file_extension": ".r",
   "mimetype": "text/x-r-source",
   "name": "R",
   "pygments_lexer": "r",
   "version": "3.4.4"
  }
 },
 "nbformat": 4,
 "nbformat_minor": 2
}
