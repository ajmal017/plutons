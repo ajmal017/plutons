{
 "cells": [
  {
   "cell_type": "markdown",
   "metadata": {},
   "source": [
    "# plotting returns: comparing stocks with indices\n",
    "\n",
    "Related: [Plotting a stock's price chart with corporate action overlay](https://github.com/stockviz/plutons/blob/master/charting-stocks-with-corporate-actions.R.ipynb)"
   ]
  },
  {
   "cell_type": "code",
   "execution_count": null,
   "metadata": {},
   "outputs": [],
   "source": [
    "library(tidyverse)\n",
    "library(ggthemes)\n",
    "library(odbc)\n",
    "library(RPostgres)\n",
    "library(plutoR)\n",
    "library(quantmod)\n",
    "library(PerformanceAnalytics)\n",
    "\n",
    "options(\"scipen\"=999)\n",
    "options(stringsAsFactors = FALSE)\n",
    "options(repr.plot.width=16, repr.plot.height=8)\n",
    "\n",
    "source(\"config.R\")\n",
    "source(\"goofy/plot.common.R\")\n",
    "source(\"goofy/misc.common.R\")\n",
    "\n",
    "#initialize\n",
    "equitiesIndiaNse <- EquitiesIndiaNse()\n",
    "indices <- Indices()"
   ]
  },
  {
   "cell_type": "code",
   "execution_count": null,
   "metadata": {},
   "outputs": [],
   "source": [
    "symbol <- \"YESBANK\"\n",
    "indexName <- \"NIFTY BANK TR\"\n",
    "startDt <- as.Date(Sys.Date() - 10*365) #10-year chart\n",
    "endDt <- Sys.Date()\n",
    "\n",
    "# examples: https://github.com/shyams80/plutons/blob/master/docs-R/EquitiesIndiaNse.ipynb\n",
    "\n",
    "#make sure that the data exists\n",
    "\n",
    "equitiesIndiaNse$EodTimeSeries() %>%\n",
    "    filter(TIME_STAMP >= startDt & TIME_STAMP <= endDt \n",
    "           & SYMBOL == symbol \n",
    "           & (SERIES == 'EQ' | SERIES == 'BE')) %>%\n",
    "    summarize(MAX_DT = max(TIME_STAMP), MIN_DT = min(TIME_STAMP)) %>%\n",
    "    print()\n",
    "\n",
    "equitiesIndiaNse$EodAdjustedTimeSeries() %>%\n",
    "    filter(TIME_STAMP >= startDt & TIME_STAMP <= endDt \n",
    "           & SYMBOL == symbol) %>%\n",
    "    summarize(MAX_DT = max(TIME_STAMP), MIN_DT = min(TIME_STAMP)) %>%\n",
    "    print()\n"
   ]
  },
  {
   "cell_type": "code",
   "execution_count": null,
   "metadata": {},
   "outputs": [],
   "source": [
    "# so the data exists in both so we can use the EodAdjustedTimeSeries\n",
    "\n",
    "eodPx <- equitiesIndiaNse$EodAdjustedTimeSeries() %>%\n",
    "    filter(TIME_STAMP >= startDt & TIME_STAMP <= endDt & SYMBOL == symbol) %>%\n",
    "    select(TIME_STAMP, CLOSE) %>%\n",
    "    arrange(TIME_STAMP) %>%\n",
    "    collect() \n",
    "\n",
    "indexPx <- indices$NseTimeSeries() %>%\n",
    "    filter(NAME == indexName && TIME_STAMP >= startDt && TIME_STAMP <= endDt) %>%\n",
    "    select(TIME_STAMP, CLOSE) %>%\n",
    "    collect() \n",
    "\n",
    "dailies <- merge(dailyReturn(xts(eodPx$CLOSE, as.Date(eodPx$TIME_STAMP))), \n",
    "                 dailyReturn(xts(indexPx$CLOSE, as.Date(indexPx$TIME_STAMP))))"
   ]
  },
  {
   "cell_type": "code",
   "execution_count": null,
   "metadata": {},
   "outputs": [],
   "source": [
    "startDate <- first(index(dailies))\n",
    "endDate <- last(index(dailies))\n",
    "\n",
    "xAxisTicks <- seq(from=startDate, to=endDate, length.out=10)\n",
    "\n",
    "Common.PlotCumReturns(dailies, sprintf(\"%s vs. %s\", indexName, symbol), \"\")"
   ]
  },
  {
   "cell_type": "markdown",
   "metadata": {},
   "source": [
    "This notebook was created using [pluto](http://pluto.studio). Learn more [here](https://github.com/shyams80/pluto)"
   ]
  }
 ],
 "metadata": {
  "kernelspec": {
   "display_name": "R",
   "language": "R",
   "name": "ir"
  },
  "language_info": {
   "codemirror_mode": "r",
   "file_extension": ".r",
   "mimetype": "text/x-r-source",
   "name": "R",
   "pygments_lexer": "r",
   "version": "3.4.4"
  }
 },
 "nbformat": 4,
 "nbformat_minor": 2
}
