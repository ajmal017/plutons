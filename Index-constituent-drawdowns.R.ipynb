{
 "cells": [
  {
   "cell_type": "markdown",
   "metadata": {},
   "source": [
    "# Ranking the drawdowns of Index constituents\n",
    "\n",
    "It is useful to keep a tab on drawdowns of index constituents to get a feel for how the index is diverging/converging from individual stock performance. For example, 7 stocks account for 50% of the NIFTY 50's performance and end up masking the performance of the other 43. If the rest are crashing, how long will the best hold up?\n",
    "\n",
    "StockViz has an automated report on drawdowns of NIFTY 100, MIDCAP 150 and SMLCAP 100 constituents that gets generated everyday [here](https://stockviz.github.io/reports/drawdown/drawdowns.html). The [underlying code](https://github.com/stockviz/reports/tree/master/drawdown) is an R-markdown script who's output gets pushed to github. In this notebook, by setting the *indexName* variable to any NSE/NIFTY index that we have constituents for, you can generate the same report for yourself on [pluto](http://pluto.studio)."
   ]
  },
  {
   "cell_type": "code",
   "execution_count": null,
   "metadata": {},
   "outputs": [],
   "source": [
    "library(tidyverse)\n",
    "library(ggthemes)\n",
    "library(reshape2)\n",
    "library(odbc)\n",
    "library(RPostgres)\n",
    "library(plutoR)\n",
    "library(quantmod)\n",
    "library(lubridate)\n",
    "library(ggrepel)\n",
    "library(PerformanceAnalytics)\n",
    "\n",
    "options(\"scipen\"=999)\n",
    "options(stringsAsFactors = FALSE)\n",
    "options(repr.plot.width=16, repr.plot.height=8)\n",
    "\n",
    "source(\"config.R\")\n",
    "source(\"goofy/plot.common.R\")\n",
    "source(\"goofy/misc.common.R\")\n",
    "\n",
    "#initialize\n",
    "indices<-Indices()\n",
    "equitiesIndiaNse <- EquitiesIndiaNse()\n",
    "\n",
    "indexName <- \"NIFTY 50\"\n",
    "endDate <- Sys.Date()\n",
    "startDate <- endDate - 365 "
   ]
  },
  {
   "cell_type": "code",
   "execution_count": null,
   "metadata": {},
   "outputs": [],
   "source": [
    "maxDt <- (indices$NseConstituents() %>%\n",
    "          filter(NAME == indexName) %>%\n",
    "          summarize(MAX_TS = max(TIME_STAMP)) %>% \n",
    "          collect())$MAX_TS[1]\n",
    "\n",
    "constituents <- indices$NseConstituents() %>%\n",
    "    filter(TIME_STAMP == maxDt & NAME == \"NIFTY 50\") %>%\n",
    "    collect() %>%\n",
    "    as.data.frame()"
   ]
  },
  {
   "cell_type": "markdown",
   "metadata": {},
   "source": [
    "### plot the weights to get a feel for individual contributions"
   ]
  },
  {
   "cell_type": "code",
   "execution_count": null,
   "metadata": {},
   "outputs": [],
   "source": [
    "toPlot <- constituents\n",
    "\n",
    "ggplot(toPlot, aes(x=reorder(SYMBOL, -CAP_WEIGHT), y=CAP_WEIGHT)) +\n",
    "    theme_economist() +\n",
    "    theme(axis.text.x = element_text(angle = 90, hjust = 1)) +\n",
    "    geom_bar(stat=\"identity\", position=position_dodge()) +\n",
    "    geom_text_repel(aes(label=round(CAP_WEIGHT, 2)), position = position_dodge(0.9)) +\n",
    "    labs(x='', y='free-float cap weight (%)', color='', fill='', title=sprintf(\"%s Composition\", indexName)) +\n",
    "    annotate(\"text\", x=1, y=0, label = \"@StockViz\", \n",
    "             hjust=-1.1, vjust=-1.1, col=\"white\", cex=6, fontface = \"bold\", alpha = 0.8)"
   ]
  },
  {
   "cell_type": "markdown",
   "metadata": {},
   "source": [
    "#### modify the drawdown report *genTables* function to work on pluto"
   ]
  },
  {
   "cell_type": "code",
   "execution_count": null,
   "metadata": {},
   "outputs": [],
   "source": [
    "# https://github.com/shyams80/plutons/blob/master/docs-R/EquitiesIndiaNse.ipynb\n",
    "\n",
    "endDate <- (equitiesIndiaNse$DailyReturns() %>%\n",
    "            filter(TIME_STAMP <= endDate) %>%\n",
    "            summarize(MAX_DT = max(TIME_STAMP)) %>%\n",
    "            collect())$MAX_DT[[1]]\n",
    "\n",
    "numCalDays <- as.integer(endDate-startDate)\n",
    "ongoingDf <- data.frame(SYMBOL = \"\", FROM=\"\", DEPTH = 0.0)\n",
    "recoveringDf <- data.frame(SYMBOL = \"\", FROM=\"\", TROUGH=\"\", DEPTH = 0.0, BOUNCE = 0.0)\n",
    "for(sym in constituents$SYMBOL){\n",
    "    retSeries <- equitiesIndiaNse$DailyReturns() %>%\n",
    "        filter(SYMBOL == sym & TIME_STAMP >= startDate & TIME_STAMP <= endDate) %>%\n",
    "        collect()\n",
    "    \n",
    "    if(nrow(retSeries) < 0.5*numCalDays) next\n",
    "    if(last(retSeries$TIME_STAMP) != endDate) next\n",
    "\n",
    "    retXts <- xts(retSeries$VALUE, as.Date(retSeries$TIME_STAMP))\n",
    "    tdd <- table.Drawdowns(retXts, 10)\n",
    "\n",
    "    notRec <- tdd[is.na(tdd$Recovery),]\n",
    "    if(nrow(notRec) > 0) {\n",
    "        ongoingDf <- rbind(ongoingDf, c(toString(sym), toString(notRec$From[1]), notRec$Depth[1]))\n",
    "    }\n",
    "\n",
    "    recovering <- notRec[!is.na(notRec$Trough) & notRec$Trough < endDate,]\n",
    "    if(nrow(recovering) > 0) {\n",
    "        deepest <- recovering[order(recovering$Depth),][1,]\n",
    "        fromDt <- as.Date(deepest$Trough[1])\n",
    "        bounce <- Return.cumulative(retXts[sprintf(\"%s/%s\", fromDt, endDate)])\n",
    "\n",
    "        if (bounce > 0) {\n",
    "            recoveringDf <- rbind(recoveringDf, c(toString(sym), \n",
    "                                                  toString(deepest$From[1]), toString(fromDt), \n",
    "                                                  deepest$Depth[1], bounce))\n",
    "        }\n",
    "    }\n",
    "}\n",
    "\n",
    "ongoingDf <- ongoingDf[-1,]\n",
    "recoveringDf <- recoveringDf[-1,]\n",
    "\n",
    "ongoingDf$DEPTH <- 100*as.numeric(ongoingDf$DEPTH)\n",
    "recoveringDf$DEPTH <- 100*as.numeric(recoveringDf$DEPTH)\n",
    "recoveringDf$BOUNCE <- round(100*as.numeric(recoveringDf$BOUNCE), 2)\n",
    "\n",
    "ongoingDf <- ongoingDf[order(ongoingDf$DEPTH),]\n",
    "recoveringDf <- recoveringDf[order(recoveringDf$BOUNCE, decreasing = T),]"
   ]
  },
  {
   "cell_type": "markdown",
   "metadata": {},
   "source": [
    "### Ongoing Drawdowns"
   ]
  },
  {
   "cell_type": "code",
   "execution_count": null,
   "metadata": {},
   "outputs": [],
   "source": [
    "print(ongoingDf)"
   ]
  },
  {
   "cell_type": "markdown",
   "metadata": {},
   "source": [
    "### Recovering"
   ]
  },
  {
   "cell_type": "code",
   "execution_count": null,
   "metadata": {},
   "outputs": [],
   "source": [
    "print(recoveringDf)"
   ]
  },
  {
   "cell_type": "markdown",
   "metadata": {},
   "source": [
    "### Cap-weight + deepest drawdown"
   ]
  },
  {
   "cell_type": "code",
   "execution_count": null,
   "metadata": {},
   "outputs": [],
   "source": [
    "toPlot <- merge(constituents[, c('SYMBOL', 'CAP_WEIGHT')], ongoingDf[, c('SYMBOL', 'DEPTH')], by='SYMBOL')\n",
    "toPlot <- toPlot[order(toPlot$CAP_WEIGHT, decreasing = T),]\n",
    "print(toPlot)"
   ]
  }
 ],
 "metadata": {
  "kernelspec": {
   "display_name": "R",
   "language": "R",
   "name": "ir"
  },
  "language_info": {
   "codemirror_mode": "r",
   "file_extension": ".r",
   "mimetype": "text/x-r-source",
   "name": "R",
   "pygments_lexer": "r",
   "version": "3.4.4"
  }
 },
 "nbformat": 4,
 "nbformat_minor": 2
}
