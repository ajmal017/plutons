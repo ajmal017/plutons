{
 "cells": [
  {
   "cell_type": "markdown",
   "metadata": {},
   "source": [
    "# explore gold and silver using FRED data"
   ]
  },
  {
   "cell_type": "code",
   "execution_count": 1,
   "metadata": {},
   "outputs": [
    {
     "name": "stderr",
     "output_type": "stream",
     "text": [
      "── \u001b[1mAttaching packages\u001b[22m ─────────────────────────────────────── tidyverse 1.2.1 ──\n",
      "\u001b[32m✔\u001b[39m \u001b[34mggplot2\u001b[39m 3.2.0     \u001b[32m✔\u001b[39m \u001b[34mpurrr  \u001b[39m 0.3.2\n",
      "\u001b[32m✔\u001b[39m \u001b[34mtibble \u001b[39m 2.1.3     \u001b[32m✔\u001b[39m \u001b[34mdplyr  \u001b[39m 0.8.1\n",
      "\u001b[32m✔\u001b[39m \u001b[34mtidyr  \u001b[39m 0.8.3     \u001b[32m✔\u001b[39m \u001b[34mstringr\u001b[39m 1.4.0\n",
      "\u001b[32m✔\u001b[39m \u001b[34mreadr  \u001b[39m 1.3.1     \u001b[32m✔\u001b[39m \u001b[34mforcats\u001b[39m 0.4.0\n",
      "── \u001b[1mConflicts\u001b[22m ────────────────────────────────────────── tidyverse_conflicts() ──\n",
      "\u001b[31m✖\u001b[39m \u001b[34mdplyr\u001b[39m::\u001b[32mfilter()\u001b[39m masks \u001b[34mstats\u001b[39m::filter()\n",
      "\u001b[31m✖\u001b[39m \u001b[34mdplyr\u001b[39m::\u001b[32mlag()\u001b[39m    masks \u001b[34mstats\u001b[39m::lag()\n"
     ]
    }
   ],
   "source": [
    "library(tidyverse)\n",
    "library(odbc)\n",
    "library(plutoR)\n",
    "options(\"scipen\"=999)\n",
    "source(\"config.R\")\n",
    "fred<-Fred()"
   ]
  },
  {
   "cell_type": "code",
   "execution_count": 2,
   "metadata": {},
   "outputs": [
    {
     "name": "stderr",
     "output_type": "stream",
     "text": [
      "Warning message:\n",
      "“Missing values are always removed in SQL.\n",
      "Use `MIN(x, na.rm = TRUE)` to silence this warning\n",
      "This warning is displayed only once per session.”Warning message:\n",
      "“Missing values are always removed in SQL.\n",
      "Use `MAX(x, na.rm = TRUE)` to silence this warning\n",
      "This warning is displayed only once per session.”"
     ]
    },
    {
     "name": "stdout",
     "output_type": "stream",
     "text": [
      "    SERIES_ID           TICKER\n",
      "1 -2147252007 GOLDAMGBD228NLBM\n",
      "2 -2147252006 GOLDAMGBD229NLBM\n",
      "3 -2147252005 GOLDAMGBD230NLBM\n",
      "4 -2147252004 GOLDPMGBD228NLBM\n",
      "5 -2147252003 GOLDPMGBD229NLBM\n",
      "6 -2147252002 GOLDPMGBD230NLBM\n",
      "7 -2147170851           GVZCLS\n",
      "8 -2147170841         VXGDXCLS\n",
      "9 -2147170839          VXGSCLS\n",
      "                                                                                          NAME\n",
      "1   Gold Fixing Price 10:30 A.M. (London time) in London Bullion Market, based in U.S. Dollars\n",
      "2 Gold Fixing Price 10:30 A.M. (London time) in London Bullion Market, based in British Pounds\n",
      "3          Gold Fixing Price 10:30 A.M. (London time) in London Bullion Market, based in Euros\n",
      "4    Gold Fixing Price 3:00 P.M. (London time) in London Bullion Market, based in U.S. Dollars\n",
      "5  Gold Fixing Price 3:00 P.M. (London time) in London Bullion Market, based in British Pounds\n",
      "6           Gold Fixing Price 3:00 P.M. (London time) in London Bullion Market, based in Euros\n",
      "7                                                               CBOE Gold ETF Volatility Index\n",
      "8                                                        CBOE Gold Miners ETF Volatility Index\n",
      "9                                                             CBOE Equity VIX on Goldman Sachs\n",
      "      MIN_TS     MAX_TS\n",
      "1 1968-04-01 2019-06-21\n",
      "2 1968-04-01 2019-06-21\n",
      "3 1999-01-04 2019-06-21\n",
      "4 1968-04-01 2019-06-21\n",
      "5 1968-04-01 2019-06-21\n",
      "6 1999-01-04 2019-06-21\n",
      "7 2008-06-03 2019-06-20\n",
      "8 2011-03-16 2019-06-20\n",
      "9 2010-06-01 2019-06-20\n"
     ]
    }
   ],
   "source": [
    "goldFred <- fred$Meta() %>% inner_join(fred$TimeSeries(), by = 'SERIES_ID') %>%\n",
    "    filter(NAME %like% '%gold%') %>%\n",
    "    group_by(SERIES_ID, TICKER, NAME) %>%\n",
    "    summarize(MIN_TS = min(TIME_STAMP), MAX_TS = max(TIME_STAMP)) %>%\n",
    "    select(SERIES_ID, TICKER, NAME, MIN_TS, MAX_TS)\n",
    "\n",
    "print(data.frame(goldFred))"
   ]
  },
  {
   "cell_type": "code",
   "execution_count": 3,
   "metadata": {},
   "outputs": [
    {
     "name": "stdout",
     "output_type": "stream",
     "text": [
      "     SERIES_ID   TICKER\n",
      "1  -2147170835 VXSLVCLS\n",
      "2  -2146970645 SLVPRAUD\n",
      "3  -2146970644 SLVPRCAD\n",
      "4  -2146970643 SLVPRCHF\n",
      "5  -2146970642 SLVPRCNH\n",
      "6  -2146970641 SLVPRCNY\n",
      "7  -2146970640 SLVPREUR\n",
      "8  -2146970639 SLVPRGBP\n",
      "9  -2146970638 SLVPRINR\n",
      "10 -2146970637 SLVPRJPY\n",
      "11 -2146970636 SLVPRMYR\n",
      "12 -2146970635 SLVPRRUB\n",
      "13 -2146970634 SLVPRSGD\n",
      "14 -2146970633 SLVPRTHB\n",
      "15 -2146970632 SLVPRTRY\n",
      "16 -2146970631 SLVPRTWD\n",
      "17 -2146970630 SLVPRUSD\n",
      "18 -2146970629 SLVPRZAR\n",
      "                                                                                                     NAME\n",
      "1                                                                        CBOE Silver ETF Volatility Index\n",
      "2      Silver Fixing Price 12:00 noon (London time) in London Bullion Market, based in Australian Dollars\n",
      "3        Silver Fixing Price 12:00 noon (London time) in London Bullion Market, based in Canadian Dollars\n",
      "4            Silver Fixing Price 12:00 noon (London time) in London Bullion Market, based in Swiss Francs\n",
      "5  Silver Fixing Price 12:00 noon (London time) in London Bullion Market, based in Chinese Offshore Yuans\n",
      "6   Silver Fixing Price 12:00 noon (London time) in London Bullion Market, based in Chinese Onshore Yuans\n",
      "7                   Silver Fixing Price 12:00 noon (London time) in London Bullion Market, based in Euros\n",
      "8          Silver Fixing Price 12:00 noon (London time) in London Bullion Market, based in British Pounds\n",
      "9           Silver Fixing Price 12:00 noon (London time) in London Bullion Market, based in Indian Rupees\n",
      "10           Silver Fixing Price 12:00 noon (London time) in London Bullion Market, based in Japanese Yen\n",
      "11     Silver Fixing Price 12:00 noon (London time) in London Bullion Market, based in Malaysian Ringgits\n",
      "12         Silver Fixing Price 12:00 noon (London time) in London Bullion Market, based in Russian Rubles\n",
      "13      Silver Fixing Price 12:00 noon (London time) in London Bullion Market, based in Singapore Dollars\n",
      "14         Silver Fixing Price 12:00 noon (London time) in London Bullion Market, based in Thailand Bahts\n",
      "15          Silver Fixing Price 12:00 noon (London time) in London Bullion Market, based in Turkish Liras\n",
      "16     Silver Fixing Price 12:00 noon (London time) in London Bullion Market, based in New Taiwan Dollars\n",
      "17           Silver Fixing Price 12:00 noon (London time) in London Bullion Market, based in U.S. Dollars\n",
      "18    Silver Fixing Price 12:00 noon (London time) in London Bullion Market, based in South African Rands\n",
      "       MIN_TS     MAX_TS\n",
      "1  2011-03-16 2019-06-20\n",
      "2  2017-10-02 2019-06-21\n",
      "3  2017-10-02 2019-06-21\n",
      "4  2017-10-02 2019-06-21\n",
      "5  2017-10-02 2019-06-21\n",
      "6  2017-10-02 2019-06-21\n",
      "7  2017-10-02 2019-06-21\n",
      "8  2017-10-02 2019-06-21\n",
      "9  2017-10-02 2019-06-21\n",
      "10 2017-10-02 2019-06-21\n",
      "11 2017-10-02 2019-06-21\n",
      "12 2017-10-02 2019-06-21\n",
      "13 2017-10-02 2019-06-21\n",
      "14 2017-10-02 2019-06-21\n",
      "15 2017-10-02 2019-06-21\n",
      "16 2017-10-02 2019-06-21\n",
      "17 2017-10-02 2019-06-21\n",
      "18 2017-10-02 2019-06-21\n"
     ]
    }
   ],
   "source": [
    "silverFred <- fred$Meta() %>% inner_join(fred$TimeSeries(), by = 'SERIES_ID') %>%\n",
    "    filter(NAME %like% '%silver%') %>%\n",
    "    group_by(SERIES_ID, TICKER, NAME) %>%\n",
    "    summarize(MIN_TS = min(TIME_STAMP), MAX_TS = max(TIME_STAMP)) %>%\n",
    "    select(SERIES_ID, TICKER, NAME, MIN_TS, MAX_TS)\n",
    "\n",
    "print(data.frame(silverFred))"
   ]
  },
  {
   "cell_type": "markdown",
   "metadata": {},
   "source": [
    "it looks like FRED only has data on silver from 2017. So lets focus on gold for now."
   ]
  },
  {
   "cell_type": "code",
   "execution_count": 4,
   "metadata": {},
   "outputs": [
    {
     "name": "stdout",
     "output_type": "stream",
     "text": [
      "[1] 6136\n",
      "  TIME_STAMP   VAL\n",
      "1 1995-01-03 380.9\n",
      "2 1995-01-04 375.6\n",
      "3 1995-01-05 375.3\n",
      "4 1995-01-06 375.2\n",
      "5 1995-01-09 372.4\n",
      "6 1995-01-10 374.1\n"
     ]
    }
   ],
   "source": [
    "goldDf<-data.frame(fred$TimeSeries() %>% filter(SERIES_ID == -2147252004, TIME_STAMP >= as.Date('1995-01-01')) %>% select(TIME_STAMP, VAL))\n",
    "print(nrow(goldDf))\n",
    "print(head(goldDf))"
   ]
  },
  {
   "cell_type": "code",
   "execution_count": null,
   "metadata": {},
   "outputs": [],
   "source": []
  }
 ],
 "metadata": {
  "kernelspec": {
   "display_name": "R",
   "language": "R",
   "name": "ir"
  },
  "language_info": {
   "codemirror_mode": "r",
   "file_extension": ".r",
   "mimetype": "text/x-r-source",
   "name": "R",
   "pygments_lexer": "r",
   "version": "3.4.4"
  }
 },
 "nbformat": 4,
 "nbformat_minor": 2
}
