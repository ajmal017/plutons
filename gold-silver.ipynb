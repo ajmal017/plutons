{
 "cells": [
  {
   "cell_type": "markdown",
   "metadata": {},
   "source": [
    "# explore gold and silver using FRED data"
   ]
  },
  {
   "cell_type": "code",
   "execution_count": null,
   "metadata": {},
   "outputs": [],
   "source": [
    "library(tidyverse)\n",
    "library(ggthemes)\n",
    "library(odbc)\n",
    "library(plutoR)\n",
    "options(\"scipen\"=999)\n",
    "source(\"config.R\")\n",
    "fred<-Fred()"
   ]
  },
  {
   "cell_type": "markdown",
   "metadata": {},
   "source": [
    "first, lets check what kind of data is available on the FRED for gold and silver"
   ]
  },
  {
   "cell_type": "code",
   "execution_count": null,
   "metadata": {},
   "outputs": [],
   "source": [
    "goldFred <- fred$Meta() %>% inner_join(fred$TimeSeries(), by = 'SERIES_ID') %>%\n",
    "    filter(NAME %like% '%gold%') %>%\n",
    "    group_by(SERIES_ID, TICKER, NAME) %>%\n",
    "    summarize(MIN_TS = min(TIME_STAMP), MAX_TS = max(TIME_STAMP)) %>%\n",
    "    select(SERIES_ID, TICKER, NAME, MIN_TS, MAX_TS)\n",
    "\n",
    "print(data.frame(goldFred))"
   ]
  },
  {
   "cell_type": "code",
   "execution_count": null,
   "metadata": {},
   "outputs": [],
   "source": [
    "silverFred <- fred$Meta() %>% inner_join(fred$TimeSeries(), by = 'SERIES_ID') %>%\n",
    "    filter(NAME %like% '%silver%') %>%\n",
    "    group_by(SERIES_ID, TICKER, NAME) %>%\n",
    "    summarize(MIN_TS = min(TIME_STAMP), MAX_TS = max(TIME_STAMP)) %>%\n",
    "    select(SERIES_ID, TICKER, NAME, MIN_TS, MAX_TS)\n",
    "\n",
    "print(data.frame(silverFred))"
   ]
  },
  {
   "cell_type": "markdown",
   "metadata": {},
   "source": [
    "it looks like FRED only has data on silver from 2017. So lets focus on gold for now."
   ]
  },
  {
   "cell_type": "code",
   "execution_count": null,
   "metadata": {},
   "outputs": [],
   "source": [
    "seriesId <- -2147252004\n",
    "goldDf <- data.frame(fred$TimeSeries() %>% filter(SERIES_ID == seriesId, TIME_STAMP >= as.Date('1995-01-01')) %>% select(TIME_STAMP, VAL))\n",
    "goldDf$TIME_STAMP <- as.Date(goldDf$TIME_STAMP)\n",
    "\n",
    "print(nrow(goldDf))\n",
    "print(head(goldDf))"
   ]
  },
  {
   "cell_type": "code",
   "execution_count": null,
   "metadata": {},
   "outputs": [],
   "source": [
    "firstDate <- min(goldDf$TIME_STAMP)\n",
    "lastDate <- max(goldDf$TIME_STAMP)\n",
    "xAxisTicks <- seq(from=firstDate, to=lastDate, length.out=10)\n",
    "\n",
    "fredDetails <- data.frame(goldFred %>% filter(SERIES_ID == seriesId))\n",
    "\n",
    "options(repr.plot.width=16, repr.plot.height=8)\n",
    "\n",
    "ggplot(goldDf, aes(x=TIME_STAMP, y=VAL)) +\n",
    "    theme_economist() +\n",
    "    #theme(text = element_text(size = 3), element_line(size = 0.1)) +\n",
    "    geom_line() +\n",
    "    scale_y_log10() +\n",
    "    scale_x_date(breaks = xAxisTicks) +\n",
    "    labs(x='', y='log(price)', color='', title=sprintf(\"FRED: %s - %s\", fredDetails$TICKER[1], fredDetails$NAME[1]), \n",
    "         subtitle=sprintf(\"[%s:%s]\", firstDate, lastDate)) +\n",
    "    annotate(\"text\", x=lastDate, y=min(goldDf$VAL, na.rm=T), label = \"@StockViz\", hjust=1.1, vjust=-1.1, col=\"white\", cex=6, fontface = \"bold\", alpha = 0.8)"
   ]
  }
 ],
 "metadata": {
  "kernelspec": {
   "display_name": "R",
   "language": "R",
   "name": "ir"
  },
  "language_info": {
   "codemirror_mode": "r",
   "file_extension": ".r",
   "mimetype": "text/x-r-source",
   "name": "R",
   "pygments_lexer": "r",
   "version": "3.4.4"
  }
 },
 "nbformat": 4,
 "nbformat_minor": 2
}
