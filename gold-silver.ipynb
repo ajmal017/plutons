{
 "cells": [
  {
   "cell_type": "markdown",
   "metadata": {},
   "source": [
    "# explore gold and silver using FRED data"
   ]
  },
  {
   "cell_type": "code",
   "execution_count": 1,
   "metadata": {},
   "outputs": [
    {
     "name": "stderr",
     "output_type": "stream",
     "text": [
      "── \u001b[1mAttaching packages\u001b[22m ─────────────────────────────────────── tidyverse 1.2.1 ──\n",
      "\u001b[32m✔\u001b[39m \u001b[34mggplot2\u001b[39m 3.2.0     \u001b[32m✔\u001b[39m \u001b[34mpurrr  \u001b[39m 0.3.2\n",
      "\u001b[32m✔\u001b[39m \u001b[34mtibble \u001b[39m 2.1.3     \u001b[32m✔\u001b[39m \u001b[34mdplyr  \u001b[39m 0.8.1\n",
      "\u001b[32m✔\u001b[39m \u001b[34mtidyr  \u001b[39m 0.8.3     \u001b[32m✔\u001b[39m \u001b[34mstringr\u001b[39m 1.4.0\n",
      "\u001b[32m✔\u001b[39m \u001b[34mreadr  \u001b[39m 1.3.1     \u001b[32m✔\u001b[39m \u001b[34mforcats\u001b[39m 0.4.0\n",
      "── \u001b[1mConflicts\u001b[22m ────────────────────────────────────────── tidyverse_conflicts() ──\n",
      "\u001b[31m✖\u001b[39m \u001b[34mdplyr\u001b[39m::\u001b[32mfilter()\u001b[39m masks \u001b[34mstats\u001b[39m::filter()\n",
      "\u001b[31m✖\u001b[39m \u001b[34mdplyr\u001b[39m::\u001b[32mlag()\u001b[39m    masks \u001b[34mstats\u001b[39m::lag()\n"
     ]
    },
    {
     "ename": "ERROR",
     "evalue": "Error in library(ggthemes): there is no package called ‘ggthemes’\n",
     "output_type": "error",
     "traceback": [
      "Error in library(ggthemes): there is no package called ‘ggthemes’\nTraceback:\n",
      "1. library(ggthemes)",
      "2. stop(txt, domain = NA)"
     ]
    }
   ],
   "source": [
    "library(tidyverse)\n",
    "library(ggthemes)\n",
    "library(odbc)\n",
    "library(plutoR)\n",
    "options(\"scipen\"=999)\n",
    "source(\"config.R\")\n",
    "fred<-Fred()"
   ]
  },
  {
   "cell_type": "markdown",
   "metadata": {},
   "source": [
    "first, lets check what kind of data is available on the FRED for gold and silver"
   ]
  },
  {
   "cell_type": "code",
   "execution_count": 2,
   "metadata": {},
   "outputs": [
    {
     "ename": "ERROR",
     "evalue": "Error in eval(lhs, parent, parent): object 'fred' not found\n",
     "output_type": "error",
     "traceback": [
      "Error in eval(lhs, parent, parent): object 'fred' not found\nTraceback:\n",
      "1. fred$Meta() %>% inner_join(fred$TimeSeries(), by = \"SERIES_ID\") %>% \n .     filter(NAME %like% \"%gold%\") %>% group_by(SERIES_ID, TICKER, \n .     NAME) %>% summarize(MIN_TS = min(TIME_STAMP), MAX_TS = max(TIME_STAMP)) %>% \n .     select(SERIES_ID, TICKER, NAME, MIN_TS, MAX_TS)",
      "2. eval(lhs, parent, parent)",
      "3. eval(lhs, parent, parent)"
     ]
    }
   ],
   "source": [
    "goldFred <- fred$Meta() %>% inner_join(fred$TimeSeries(), by = 'SERIES_ID') %>%\n",
    "    filter(NAME %like% '%gold%') %>%\n",
    "    group_by(SERIES_ID, TICKER, NAME) %>%\n",
    "    summarize(MIN_TS = min(TIME_STAMP), MAX_TS = max(TIME_STAMP)) %>%\n",
    "    select(SERIES_ID, TICKER, NAME, MIN_TS, MAX_TS)\n",
    "\n",
    "print(data.frame(goldFred))"
   ]
  },
  {
   "cell_type": "code",
   "execution_count": 3,
   "metadata": {},
   "outputs": [
    {
     "ename": "ERROR",
     "evalue": "Error in eval(lhs, parent, parent): object 'fred' not found\n",
     "output_type": "error",
     "traceback": [
      "Error in eval(lhs, parent, parent): object 'fred' not found\nTraceback:\n",
      "1. fred$Meta() %>% inner_join(fred$TimeSeries(), by = \"SERIES_ID\") %>% \n .     filter(NAME %like% \"%silver%\") %>% group_by(SERIES_ID, TICKER, \n .     NAME) %>% summarize(MIN_TS = min(TIME_STAMP), MAX_TS = max(TIME_STAMP)) %>% \n .     select(SERIES_ID, TICKER, NAME, MIN_TS, MAX_TS)",
      "2. eval(lhs, parent, parent)",
      "3. eval(lhs, parent, parent)"
     ]
    }
   ],
   "source": [
    "silverFred <- fred$Meta() %>% inner_join(fred$TimeSeries(), by = 'SERIES_ID') %>%\n",
    "    filter(NAME %like% '%silver%') %>%\n",
    "    group_by(SERIES_ID, TICKER, NAME) %>%\n",
    "    summarize(MIN_TS = min(TIME_STAMP), MAX_TS = max(TIME_STAMP)) %>%\n",
    "    select(SERIES_ID, TICKER, NAME, MIN_TS, MAX_TS)\n",
    "\n",
    "print(data.frame(silverFred))"
   ]
  },
  {
   "cell_type": "markdown",
   "metadata": {},
   "source": [
    "it looks like FRED only has data on silver from 2017. So lets focus on gold for now."
   ]
  },
  {
   "cell_type": "code",
   "execution_count": 4,
   "metadata": {},
   "outputs": [
    {
     "ename": "ERROR",
     "evalue": "Error in eval(lhs, parent, parent): object 'fred' not found\n",
     "output_type": "error",
     "traceback": [
      "Error in eval(lhs, parent, parent): object 'fred' not found\nTraceback:\n",
      "1. data.frame(fred$TimeSeries() %>% filter(SERIES_ID == seriesId, \n .     TIME_STAMP >= as.Date(\"1995-01-01\")) %>% select(TIME_STAMP, \n .     VAL))",
      "2. fred$TimeSeries() %>% filter(SERIES_ID == seriesId, TIME_STAMP >= \n .     as.Date(\"1995-01-01\")) %>% select(TIME_STAMP, VAL)",
      "3. eval(lhs, parent, parent)",
      "4. eval(lhs, parent, parent)"
     ]
    }
   ],
   "source": [
    "seriesId <- -2147252004\n",
    "goldDf <- data.frame(fred$TimeSeries() %>% filter(SERIES_ID == seriesId, TIME_STAMP >= as.Date('1995-01-01')) %>% select(TIME_STAMP, VAL))\n",
    "print(nrow(goldDf))\n",
    "print(head(goldDf))"
   ]
  },
  {
   "cell_type": "code",
   "execution_count": 5,
   "metadata": {},
   "outputs": [
    {
     "ename": "ERROR",
     "evalue": "Error in eval(expr, envir, enclos): object 'goldDf' not found\n",
     "output_type": "error",
     "traceback": [
      "Error in eval(expr, envir, enclos): object 'goldDf' not found\nTraceback:\n"
     ]
    }
   ],
   "source": [
    "firstDate <- min(goldDf$TIME_STAMP)\n",
    "lastDate <- max(goldDf$TIME_STAMP)\n",
    "xAxisTicks <- seq(from=firstDate, to=lastDate, length.out=10)\n",
    "\n",
    "fredDetails <- data.frame(goldFred %>% filter(SERIES_ID == seriesId))\n",
    "\n",
    "ggplot(goldDf, aes(x=T, y=VAL)) +\n",
    "    theme_economist() +\n",
    "    geom_line() +\n",
    "    scale_y_log10() +\n",
    "    scale_x_date(breaks = xAxisTicks) +\n",
    "    labs(x='', y='%', color='', title=sprintf(\"FRED:%s - %s\", fredDetails$TICKER[1], fredDetails$NAME[1]), \n",
    "         subtitle=sprintf(\"[%s:%s]\", rollingLb, firstDate, lastDate)) +\n",
    "    annotate(\"text\", x=lastDate, y=min(goldDf$VAL, na.rm=T), label = \"@StockViz\", hjust=1.1, vjust=-1.1, col=\"white\", cex=6, fontface = \"bold\", alpha = 0.8)"
   ]
  }
 ],
 "metadata": {
  "kernelspec": {
   "display_name": "R",
   "language": "R",
   "name": "ir"
  },
  "language_info": {
   "codemirror_mode": "r",
   "file_extension": ".r",
   "mimetype": "text/x-r-source",
   "name": "R",
   "pygments_lexer": "r",
   "version": "3.4.4"
  }
 },
 "nbformat": 4,
 "nbformat_minor": 2
}
