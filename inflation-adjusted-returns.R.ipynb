{
 "cells": [
  {
   "cell_type": "markdown",
   "metadata": {},
   "source": [
    "# Adjust index returns for inflation to get real returns"
   ]
  },
  {
   "cell_type": "code",
   "execution_count": null,
   "metadata": {},
   "outputs": [],
   "source": [
    "library(tidyverse)\n",
    "library(ggthemes)\n",
    "library(reshape2)\n",
    "library(odbc)\n",
    "library(plutoR)\n",
    "library(quantmod)\n",
    "library(lubridate)\n",
    "library(ggrepel)\n",
    "library(PerformanceAnalytics)\n",
    "\n",
    "options(\"scipen\"=999)\n",
    "options(stringsAsFactors = FALSE)\n",
    "options(repr.plot.width=16, repr.plot.height=8)\n",
    "\n",
    "source(\"config.R\")\n",
    "source(\"goofy/plot.common.R\")\n",
    "source(\"goofy/misc.common.R\")\n",
    "\n",
    "#initialize\n",
    "wb <- WorldBank()\n",
    "indices <- Indices()"
   ]
  },
  {
   "cell_type": "markdown",
   "metadata": {},
   "source": [
    "### get rate of inflation from the WorldBank data-set"
   ]
  },
  {
   "cell_type": "code",
   "execution_count": null,
   "metadata": {},
   "outputs": [],
   "source": [
    "# see example: https://nbviewer.jupyter.org/github/shyams80/plutons/blob/master/docs-R/WorldBank.ipynb\n",
    "\n",
    "wb$Meta() %>%\n",
    "    filter(COUNTRY_NAME == \"India\" & INDICATOR_NAME %like% \"CPI%\") %>%\n",
    "    select(INDICATOR_NAME, COUNTRY_KEY, INDICATOR_KEY) %>%\n",
    "    print(n=Inf)"
   ]
  },
  {
   "cell_type": "code",
   "execution_count": null,
   "metadata": {},
   "outputs": [],
   "source": [
    "# we need the CPI Price, % y-o-y, nominal, seas. adj.\n",
    "cpiInflation <- wb$TimeSeries() %>%\n",
    "    filter(COUNTRY_KEY == 135 & INDICATOR_KEY == 6) %>%\n",
    "    arrange(YEAR) %>%\n",
    "    select(YEAR, VALUE) %>%\n",
    "    as.data.frame\n",
    "\n",
    "print(cpiInflation)"
   ]
  },
  {
   "cell_type": "markdown",
   "metadata": {},
   "source": [
    "### get NIFTY 50 total-return index returns from the Indices data-set"
   ]
  },
  {
   "cell_type": "code",
   "execution_count": null,
   "metadata": {},
   "outputs": [],
   "source": [
    "indexName <- 'NIFTY 50 TR'\n",
    "nifty50Dt <- indices$NseTimeSeries() %>%\n",
    "    filter(NAME == indexName) %>%\n",
    "    select(TIME_STAMP, CLOSE) %>%\n",
    "    collect()\n",
    "\n",
    "annRets <- 100*annualReturn(xts(nifty50Dt$CLOSE, nifty50Dt$TIME_STAMP))\n",
    "\n",
    "df1 <- data.frame(annRets)\n",
    "df1$YEAR <- year(index(annRets))\n",
    "\n",
    "print(df1)"
   ]
  },
  {
   "cell_type": "code",
   "execution_count": null,
   "metadata": {},
   "outputs": [],
   "source": [
    "# merge the two\n",
    "\n",
    "allData <- merge(df1, cpiInflation, by='YEAR')\n",
    "names(allData) <- c('YEAR', 'INDEX', 'INFLATION')\n",
    "allData$REAL <- allData$INDEX - allData$INFLATION\n",
    "print(allData)"
   ]
  },
  {
   "cell_type": "code",
   "execution_count": null,
   "metadata": {},
   "outputs": [],
   "source": [
    "# plot the data\n",
    "\n",
    "mDf <- melt(allData, id='YEAR')\n",
    "ggplot(mDf, aes(x=YEAR, y=value, fill=variable)) +\n",
    "    theme_economist() +\n",
    "    geom_bar(stat=\"identity\", position=position_dodge()) +\n",
    "    scale_x_continuous(labels=allData$YEAR, breaks=allData$YEAR) +\n",
    "    geom_text_repel(aes(label= round(value, 2)), position = position_dodge(0.9)) +\n",
    "    labs(x='', y='(%)', fill='', title=sprintf(\"%s Gross vs. Real (inflation-adjusted) Returns\", indexName), \n",
    "         subtitle=\"Annual Returns\") +\n",
    "    annotate(\"text\", x=max(allData$YEAR), y=min(mDf$value), \n",
    "             label = \"@StockViz\", hjust=1.1, vjust=-1.1, \n",
    "             col=\"white\", cex=6, fontface = \"bold\", alpha = 0.8)  "
   ]
  },
  {
   "cell_type": "code",
   "execution_count": null,
   "metadata": {},
   "outputs": [],
   "source": [
    "### calculate rolling 5-year inflation adjusted retuns\n",
    "\n",
    "rollingRets <- 100*rollapply(allData$REAL/100, 5, Return.cumulative)\n",
    "print(rollingRets)\n",
    "summary(rollingRets)"
   ]
  },
  {
   "cell_type": "markdown",
   "metadata": {},
   "source": [
    "This notebook was created using [pluto](http://pluto.studio). Learn more [here](https://github.com/shyams80/pluto)"
   ]
  }
 ],
 "metadata": {
  "kernelspec": {
   "display_name": "R",
   "language": "R",
   "name": "ir"
  },
  "language_info": {
   "codemirror_mode": "r",
   "file_extension": ".r",
   "mimetype": "text/x-r-source",
   "name": "R",
   "pygments_lexer": "r",
   "version": "3.4.4"
  }
 },
 "nbformat": 4,
 "nbformat_minor": 2
}
