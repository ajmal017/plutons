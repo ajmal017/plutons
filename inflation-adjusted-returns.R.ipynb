{
 "cells": [
  {
   "cell_type": "markdown",
   "metadata": {},
   "source": [
    "# Adjust index returns for inflation to get real returns"
   ]
  },
  {
   "cell_type": "code",
   "execution_count": 1,
   "metadata": {},
   "outputs": [
    {
     "name": "stderr",
     "output_type": "stream",
     "text": [
      "── \u001b[1mAttaching packages\u001b[22m ─────────────────────────────────────── tidyverse 1.2.1 ──\n",
      "\u001b[32m✔\u001b[39m \u001b[34mggplot2\u001b[39m 3.2.0     \u001b[32m✔\u001b[39m \u001b[34mpurrr  \u001b[39m 0.3.2\n",
      "\u001b[32m✔\u001b[39m \u001b[34mtibble \u001b[39m 2.1.3     \u001b[32m✔\u001b[39m \u001b[34mdplyr  \u001b[39m 0.8.1\n",
      "\u001b[32m✔\u001b[39m \u001b[34mtidyr  \u001b[39m 0.8.3     \u001b[32m✔\u001b[39m \u001b[34mstringr\u001b[39m 1.4.0\n",
      "\u001b[32m✔\u001b[39m \u001b[34mreadr  \u001b[39m 1.3.1     \u001b[32m✔\u001b[39m \u001b[34mforcats\u001b[39m 0.4.0\n",
      "── \u001b[1mConflicts\u001b[22m ────────────────────────────────────────── tidyverse_conflicts() ──\n",
      "\u001b[31m✖\u001b[39m \u001b[34mdplyr\u001b[39m::\u001b[32mfilter()\u001b[39m masks \u001b[34mstats\u001b[39m::filter()\n",
      "\u001b[31m✖\u001b[39m \u001b[34mdplyr\u001b[39m::\u001b[32mlag()\u001b[39m    masks \u001b[34mstats\u001b[39m::lag()\n",
      "\n",
      "Attaching package: ‘reshape2’\n",
      "\n",
      "The following object is masked from ‘package:tidyr’:\n",
      "\n",
      "    smiths\n",
      "\n",
      "Loading required package: xts\n",
      "Loading required package: zoo\n",
      "\n",
      "Attaching package: ‘zoo’\n",
      "\n",
      "The following objects are masked from ‘package:base’:\n",
      "\n",
      "    as.Date, as.Date.numeric\n",
      "\n",
      "\n",
      "Attaching package: ‘xts’\n",
      "\n",
      "The following objects are masked from ‘package:dplyr’:\n",
      "\n",
      "    first, last\n",
      "\n",
      "Loading required package: TTR\n",
      "Version 0.4-0 included new data defaults. See ?getSymbols.\n",
      "\n",
      "Attaching package: ‘lubridate’\n",
      "\n",
      "The following object is masked from ‘package:base’:\n",
      "\n",
      "    date\n",
      "\n",
      "\n",
      "Attaching package: ‘PerformanceAnalytics’\n",
      "\n",
      "The following object is masked from ‘package:graphics’:\n",
      "\n",
      "    legend\n",
      "\n",
      "Registering fonts with R\n",
      "\n",
      "Attaching package: ‘gridExtra’\n",
      "\n",
      "The following object is masked from ‘package:dplyr’:\n",
      "\n",
      "    combine\n",
      "\n"
     ]
    }
   ],
   "source": [
    "library(tidyverse)\n",
    "library(ggthemes)\n",
    "library(reshape2)\n",
    "library(odbc)\n",
    "library(plutoR)\n",
    "library(quantmod)\n",
    "library(lubridate)\n",
    "library(ggrepel)\n",
    "library(PerformanceAnalytics)\n",
    "\n",
    "options(\"scipen\"=999)\n",
    "options(stringsAsFactors = FALSE)\n",
    "options(repr.plot.width=16, repr.plot.height=8)\n",
    "\n",
    "source(\"config.R\")\n",
    "source(\"goofy/plot.common.R\")\n",
    "source(\"goofy/misc.common.R\")\n",
    "\n",
    "#initialize\n",
    "wb <- WorldBank()\n",
    "indices <- Indices()"
   ]
  },
  {
   "cell_type": "markdown",
   "metadata": {},
   "source": [
    "### get rate of inflation from the WorldBank data-set"
   ]
  },
  {
   "cell_type": "code",
   "execution_count": 2,
   "metadata": {},
   "outputs": [
    {
     "name": "stdout",
     "output_type": "stream",
     "text": [
      "\u001b[38;5;246m# Source:   lazy query [?? x 3]\u001b[39m\n",
      "\u001b[38;5;246m# Database: Microsoft SQL Server 13.00.4224[ro1@NORWAY/StockVizUs]\u001b[39m\n",
      "  INDICATOR_NAME                          COUNTRY_KEY INDICATOR_KEY\n",
      "  \u001b[3m\u001b[38;5;246m<chr>\u001b[39m\u001b[23m                                         \u001b[3m\u001b[38;5;246m<int>\u001b[39m\u001b[23m         \u001b[3m\u001b[38;5;246m<int>\u001b[39m\u001b[23m\n",
      "\u001b[38;5;250m1\u001b[39m CPI Price, nominal                              135             3\n",
      "\u001b[38;5;250m2\u001b[39m CPI Price, nominal, seas. adj.                  135             5\n",
      "\u001b[38;5;250m3\u001b[39m CPI Price, % y-o-y, nominal, seas. adj.         135             6\n"
     ]
    }
   ],
   "source": [
    "# see example: https://nbviewer.jupyter.org/github/shyams80/plutons/blob/master/docs-R/WorldBank.ipynb\n",
    "\n",
    "wb$Meta() %>%\n",
    "    filter(COUNTRY_NAME == \"India\" & INDICATOR_NAME %like% \"CPI%\") %>%\n",
    "    select(INDICATOR_NAME, COUNTRY_KEY, INDICATOR_KEY) %>%\n",
    "    print(n=Inf)"
   ]
  },
  {
   "cell_type": "code",
   "execution_count": 3,
   "metadata": {},
   "outputs": [
    {
     "name": "stdout",
     "output_type": "stream",
     "text": [
      "   YEAR     VALUE\n",
      "1  2018  3.342855\n",
      "2  2017  3.325906\n",
      "3  2016  4.948949\n",
      "4  2015  4.910535\n",
      "5  2014  6.423176\n",
      "6  2013 10.100508\n",
      "7  2012  9.382309\n",
      "8  2011  8.314037\n",
      "9  2010 10.360541\n",
      "10 2009  9.726791\n",
      "11 2008  8.572874\n",
      "12 2007  5.991501\n",
      "13 2006  6.061719\n",
      "14 2005  3.743798\n",
      "15 2004  3.853201\n",
      "16 2003  4.324896\n",
      "17 2002  5.203442\n",
      "18 2001  3.684379\n",
      "19 2000  5.989490\n",
      "20 1999  5.905776\n",
      "21 1998  4.473903\n",
      "22 1997  5.648696\n",
      "23 1996  8.897228\n",
      "24 1995 11.339475\n",
      "25 1994  6.339953\n",
      "26 1993  6.364231\n",
      "27 1992 11.793300\n",
      "28 1991 13.864358\n",
      "29 1990  8.965143\n",
      "30 1989  3.274692\n",
      "31 1988  9.395963\n",
      "32 1987  8.793766\n"
     ]
    }
   ],
   "source": [
    "# we need the CPI Price, % y-o-y, nominal, seas. adj.\n",
    "cpiInflation <- wb$TimeSeries() %>%\n",
    "    filter(COUNTRY_KEY == 135 & INDICATOR_KEY == 6) %>%\n",
    "    arrange(YEAR) %>%\n",
    "    select(YEAR, VALUE) %>%\n",
    "    as.data.frame\n",
    "\n",
    "print(cpiInflation)"
   ]
  },
  {
   "cell_type": "markdown",
   "metadata": {},
   "source": [
    "### get NIFTY 50 total-return index returns from the Indices data-set"
   ]
  },
  {
   "cell_type": "code",
   "execution_count": 4,
   "metadata": {},
   "outputs": [
    {
     "name": "stdout",
     "output_type": "stream",
     "text": [
      "           yearly.returns YEAR\n",
      "1999-12-30      24.398669 1999\n",
      "2000-12-29     -13.364088 2000\n",
      "2001-12-31     -15.048927 2001\n",
      "2002-12-31       5.336092 2002\n",
      "2003-12-31      76.611426 2003\n",
      "2004-12-31      13.035473 2004\n",
      "2005-12-30      38.633169 2005\n",
      "2006-12-29      41.900536 2006\n",
      "2007-12-31      56.804842 2007\n",
      "2008-12-31     -51.271464 2008\n",
      "2009-12-31      77.590783 2009\n",
      "2010-12-31      19.224497 2010\n",
      "2011-12-30     -23.807885 2011\n",
      "2012-12-31      29.434881 2012\n",
      "2013-12-31       8.072455 2013\n",
      "2014-12-31      32.899200 2014\n",
      "2015-12-31      -3.013065 2015\n",
      "2016-12-30       4.394821 2016\n",
      "2017-12-29      30.266177 2017\n",
      "2018-12-31       4.638185 2018\n",
      "2019-07-12       7.075363 2019\n"
     ]
    }
   ],
   "source": [
    "nifty50Dt <- indices$NseTimeSeries() %>%\n",
    "    filter(NAME == 'NIFTY 50 TR') %>%\n",
    "    select(TIME_STAMP, CLOSE) %>%\n",
    "    collect()\n",
    "\n",
    "annRets <- 100*annualReturn(xts(nifty50Dt$CLOSE, nifty50Dt$TIME_STAMP))\n",
    "\n",
    "df1 <- data.frame(annRets)\n",
    "df1$YEAR <- year(index(annRets))\n",
    "\n",
    "print(df1)"
   ]
  },
  {
   "cell_type": "code",
   "execution_count": 5,
   "metadata": {},
   "outputs": [
    {
     "name": "stdout",
     "output_type": "stream",
     "text": [
      "   YEAR yearly.returns     VALUE\n",
      "1  1999      24.398669  5.905776\n",
      "2  2000     -13.364088  5.989490\n",
      "3  2001     -15.048927  3.684379\n",
      "4  2002       5.336092  5.203442\n",
      "5  2003      76.611426  4.324896\n",
      "6  2004      13.035473  3.853201\n",
      "7  2005      38.633169  3.743798\n",
      "8  2006      41.900536  6.061719\n",
      "9  2007      56.804842  5.991501\n",
      "10 2008     -51.271464  8.572874\n",
      "11 2009      77.590783  9.726791\n",
      "12 2010      19.224497 10.360541\n",
      "13 2011     -23.807885  8.314037\n",
      "14 2012      29.434881  9.382309\n",
      "15 2013       8.072455 10.100508\n",
      "16 2014      32.899200  6.423176\n",
      "17 2015      -3.013065  4.910535\n",
      "18 2016       4.394821  4.948949\n",
      "19 2017      30.266177  3.325906\n",
      "20 2018       4.638185  3.342855\n"
     ]
    }
   ],
   "source": [
    "# merge the two\n",
    "\n",
    "allData <- merge(df1, cpiInflation, by='YEAR')\n",
    "print(allData)"
   ]
  },
  {
   "cell_type": "markdown",
   "metadata": {},
   "source": [
    "This notebook was created using [pluto](http://pluto.studio). Learn more [here](https://github.com/shyams80/pluto)"
   ]
  }
 ],
 "metadata": {
  "kernelspec": {
   "display_name": "R",
   "language": "R",
   "name": "ir"
  },
  "language_info": {
   "codemirror_mode": "r",
   "file_extension": ".r",
   "mimetype": "text/x-r-source",
   "name": "R",
   "pygments_lexer": "r",
   "version": "3.4.4"
  }
 },
 "nbformat": 4,
 "nbformat_minor": 2
}
