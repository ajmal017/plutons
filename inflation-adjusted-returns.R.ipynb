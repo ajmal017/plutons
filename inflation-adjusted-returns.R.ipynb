{
 "cells": [
  {
   "cell_type": "markdown",
   "metadata": {},
   "source": [
    "# Adjust index returns for inflation to get real returns"
   ]
  },
  {
   "cell_type": "code",
   "execution_count": 1,
   "metadata": {},
   "outputs": [
    {
     "name": "stderr",
     "output_type": "stream",
     "text": [
      "── \u001b[1mAttaching packages\u001b[22m ─────────────────────────────────────── tidyverse 1.2.1 ──\n",
      "\u001b[32m✔\u001b[39m \u001b[34mggplot2\u001b[39m 3.2.0     \u001b[32m✔\u001b[39m \u001b[34mpurrr  \u001b[39m 0.3.2\n",
      "\u001b[32m✔\u001b[39m \u001b[34mtibble \u001b[39m 2.1.3     \u001b[32m✔\u001b[39m \u001b[34mdplyr  \u001b[39m 0.8.1\n",
      "\u001b[32m✔\u001b[39m \u001b[34mtidyr  \u001b[39m 0.8.3     \u001b[32m✔\u001b[39m \u001b[34mstringr\u001b[39m 1.4.0\n",
      "\u001b[32m✔\u001b[39m \u001b[34mreadr  \u001b[39m 1.3.1     \u001b[32m✔\u001b[39m \u001b[34mforcats\u001b[39m 0.4.0\n",
      "── \u001b[1mConflicts\u001b[22m ────────────────────────────────────────── tidyverse_conflicts() ──\n",
      "\u001b[31m✖\u001b[39m \u001b[34mdplyr\u001b[39m::\u001b[32mfilter()\u001b[39m masks \u001b[34mstats\u001b[39m::filter()\n",
      "\u001b[31m✖\u001b[39m \u001b[34mdplyr\u001b[39m::\u001b[32mlag()\u001b[39m    masks \u001b[34mstats\u001b[39m::lag()\n",
      "\n",
      "Attaching package: ‘reshape2’\n",
      "\n",
      "The following object is masked from ‘package:tidyr’:\n",
      "\n",
      "    smiths\n",
      "\n",
      "Loading required package: xts\n",
      "Loading required package: zoo\n",
      "\n",
      "Attaching package: ‘zoo’\n",
      "\n",
      "The following objects are masked from ‘package:base’:\n",
      "\n",
      "    as.Date, as.Date.numeric\n",
      "\n",
      "\n",
      "Attaching package: ‘xts’\n",
      "\n",
      "The following objects are masked from ‘package:dplyr’:\n",
      "\n",
      "    first, last\n",
      "\n",
      "Loading required package: TTR\n",
      "Version 0.4-0 included new data defaults. See ?getSymbols.\n",
      "\n",
      "Attaching package: ‘lubridate’\n",
      "\n",
      "The following object is masked from ‘package:base’:\n",
      "\n",
      "    date\n",
      "\n",
      "\n",
      "Attaching package: ‘PerformanceAnalytics’\n",
      "\n",
      "The following object is masked from ‘package:graphics’:\n",
      "\n",
      "    legend\n",
      "\n",
      "Registering fonts with R\n",
      "\n",
      "Attaching package: ‘gridExtra’\n",
      "\n",
      "The following object is masked from ‘package:dplyr’:\n",
      "\n",
      "    combine\n",
      "\n"
     ]
    }
   ],
   "source": [
    "library(tidyverse)\n",
    "library(ggthemes)\n",
    "library(reshape2)\n",
    "library(odbc)\n",
    "library(plutoR)\n",
    "library(quantmod)\n",
    "library(lubridate)\n",
    "library(ggrepel)\n",
    "library(PerformanceAnalytics)\n",
    "\n",
    "options(\"scipen\"=999)\n",
    "options(stringsAsFactors = FALSE)\n",
    "options(repr.plot.width=16, repr.plot.height=8)\n",
    "\n",
    "source(\"config.R\")\n",
    "source(\"goofy/plot.common.R\")\n",
    "source(\"goofy/misc.common.R\")\n",
    "\n",
    "#initialize\n",
    "wb <- WorldBank()\n",
    "indices <- Indices()"
   ]
  },
  {
   "cell_type": "markdown",
   "metadata": {},
   "source": [
    "### get rate of inflation from the WorldBank data-set"
   ]
  },
  {
   "cell_type": "code",
   "execution_count": 2,
   "metadata": {},
   "outputs": [
    {
     "name": "stdout",
     "output_type": "stream",
     "text": [
      "\u001b[38;5;246m# Source:   lazy query [?? x 3]\u001b[39m\n",
      "\u001b[38;5;246m# Database: Microsoft SQL Server 13.00.4224[ro1@NORWAY/StockVizUs]\u001b[39m\n",
      "  INDICATOR_NAME                          COUNTRY_KEY INDICATOR_KEY\n",
      "  \u001b[3m\u001b[38;5;246m<chr>\u001b[39m\u001b[23m                                         \u001b[3m\u001b[38;5;246m<int>\u001b[39m\u001b[23m         \u001b[3m\u001b[38;5;246m<int>\u001b[39m\u001b[23m\n",
      "\u001b[38;5;250m1\u001b[39m CPI Price, nominal                              135             3\n",
      "\u001b[38;5;250m2\u001b[39m CPI Price, nominal, seas. adj.                  135             5\n",
      "\u001b[38;5;250m3\u001b[39m CPI Price, % y-o-y, nominal, seas. adj.         135             6\n"
     ]
    }
   ],
   "source": [
    "# see example: https://nbviewer.jupyter.org/github/shyams80/plutons/blob/master/docs-R/WorldBank.ipynb\n",
    "\n",
    "wb$Meta() %>%\n",
    "    filter(COUNTRY_NAME == \"India\" & INDICATOR_NAME %like% \"CPI%\") %>%\n",
    "    select(INDICATOR_NAME, COUNTRY_KEY, INDICATOR_KEY) %>%\n",
    "    print(n=Inf)"
   ]
  },
  {
   "cell_type": "code",
   "execution_count": 3,
   "metadata": {},
   "outputs": [
    {
     "name": "stdout",
     "output_type": "stream",
     "text": [
      "\u001b[38;5;246m# Source:     lazy query [?? x 4]\u001b[39m\n",
      "\u001b[38;5;246m# Database:   Microsoft SQL Server 13.00.4224[ro1@NORWAY/StockVizUs]\u001b[39m\n",
      "\u001b[38;5;246m# Ordered by: YEAR\u001b[39m\n",
      "   COUNTRY_KEY INDICATOR_KEY  YEAR VALUE\n",
      "         \u001b[3m\u001b[38;5;246m<int>\u001b[39m\u001b[23m         \u001b[3m\u001b[38;5;246m<int>\u001b[39m\u001b[23m \u001b[3m\u001b[38;5;246m<int>\u001b[39m\u001b[23m \u001b[3m\u001b[38;5;246m<dbl>\u001b[39m\u001b[23m\n",
      "\u001b[38;5;250m 1\u001b[39m         135             6  \u001b[4m1\u001b[24m987  8.79\n",
      "\u001b[38;5;250m 2\u001b[39m         135             6  \u001b[4m1\u001b[24m988  9.40\n",
      "\u001b[38;5;250m 3\u001b[39m         135             6  \u001b[4m1\u001b[24m989  3.27\n",
      "\u001b[38;5;250m 4\u001b[39m         135             6  \u001b[4m1\u001b[24m990  8.97\n",
      "\u001b[38;5;250m 5\u001b[39m         135             6  \u001b[4m1\u001b[24m991 13.9 \n",
      "\u001b[38;5;250m 6\u001b[39m         135             6  \u001b[4m1\u001b[24m992 11.8 \n",
      "\u001b[38;5;250m 7\u001b[39m         135             6  \u001b[4m1\u001b[24m993  6.36\n",
      "\u001b[38;5;250m 8\u001b[39m         135             6  \u001b[4m1\u001b[24m994  6.34\n",
      "\u001b[38;5;250m 9\u001b[39m         135             6  \u001b[4m1\u001b[24m995 11.3 \n",
      "\u001b[38;5;250m10\u001b[39m         135             6  \u001b[4m1\u001b[24m996  8.90\n",
      "\u001b[38;5;250m11\u001b[39m         135             6  \u001b[4m1\u001b[24m997  5.65\n",
      "\u001b[38;5;250m12\u001b[39m         135             6  \u001b[4m1\u001b[24m998  4.47\n",
      "\u001b[38;5;250m13\u001b[39m         135             6  \u001b[4m1\u001b[24m999  5.91\n",
      "\u001b[38;5;250m14\u001b[39m         135             6  \u001b[4m2\u001b[24m000  5.99\n",
      "\u001b[38;5;250m15\u001b[39m         135             6  \u001b[4m2\u001b[24m001  3.68\n",
      "\u001b[38;5;250m16\u001b[39m         135             6  \u001b[4m2\u001b[24m002  5.20\n",
      "\u001b[38;5;250m17\u001b[39m         135             6  \u001b[4m2\u001b[24m003  4.32\n",
      "\u001b[38;5;250m18\u001b[39m         135             6  \u001b[4m2\u001b[24m004  3.85\n",
      "\u001b[38;5;250m19\u001b[39m         135             6  \u001b[4m2\u001b[24m005  3.74\n",
      "\u001b[38;5;250m20\u001b[39m         135             6  \u001b[4m2\u001b[24m006  6.06\n",
      "\u001b[38;5;250m21\u001b[39m         135             6  \u001b[4m2\u001b[24m007  5.99\n",
      "\u001b[38;5;250m22\u001b[39m         135             6  \u001b[4m2\u001b[24m008  8.57\n",
      "\u001b[38;5;250m23\u001b[39m         135             6  \u001b[4m2\u001b[24m009  9.73\n",
      "\u001b[38;5;250m24\u001b[39m         135             6  \u001b[4m2\u001b[24m010 10.4 \n",
      "\u001b[38;5;250m25\u001b[39m         135             6  \u001b[4m2\u001b[24m011  8.31\n",
      "\u001b[38;5;250m26\u001b[39m         135             6  \u001b[4m2\u001b[24m012  9.38\n",
      "\u001b[38;5;250m27\u001b[39m         135             6  \u001b[4m2\u001b[24m013 10.1 \n",
      "\u001b[38;5;250m28\u001b[39m         135             6  \u001b[4m2\u001b[24m014  6.42\n",
      "\u001b[38;5;250m29\u001b[39m         135             6  \u001b[4m2\u001b[24m015  4.91\n",
      "\u001b[38;5;250m30\u001b[39m         135             6  \u001b[4m2\u001b[24m016  4.95\n",
      "\u001b[38;5;250m31\u001b[39m         135             6  \u001b[4m2\u001b[24m017  3.33\n",
      "\u001b[38;5;250m32\u001b[39m         135             6  \u001b[4m2\u001b[24m018  3.34\n"
     ]
    }
   ],
   "source": [
    "# we need the CPI Price, % y-o-y, nominal, seas. adj.\n",
    "wb$TimeSeries() %>%\n",
    "    filter(COUNTRY_KEY == 135 & INDICATOR_KEY == 6) %>%\n",
    "    arrange(YEAR) %>%\n",
    "    print(n=Inf)"
   ]
  },
  {
   "cell_type": "markdown",
   "metadata": {},
   "source": [
    "### get NIFTY 50 total-return index returns from the Indices data-set"
   ]
  },
  {
   "cell_type": "code",
   "execution_count": 4,
   "metadata": {},
   "outputs": [
    {
     "ename": "ERROR",
     "evalue": "Error in annualReturns(xts(nifty50Dt$CLOSE, nifty50Dt$TIME_STAMP)): could not find function \"annualReturns\"\n",
     "output_type": "error",
     "traceback": [
      "Error in annualReturns(xts(nifty50Dt$CLOSE, nifty50Dt$TIME_STAMP)): could not find function \"annualReturns\"\nTraceback:\n"
     ]
    }
   ],
   "source": [
    "nifty50Dt <- indices$NseTimeSeries() %>%\n",
    "    filter(NAME == 'NIFTY 50 TR') %>%\n",
    "    select(TIME_STAMP, CLOSE) %>%\n",
    "    collect()\n",
    "\n",
    "annRets <- annualReturns(xts(nifty50Dt$CLOSE, nifty50Dt$TIME_STAMP))\n",
    "\n",
    "print(annRets)"
   ]
  },
  {
   "cell_type": "code",
   "execution_count": null,
   "metadata": {},
   "outputs": [],
   "source": []
  },
  {
   "cell_type": "markdown",
   "metadata": {},
   "source": [
    "This notebook was created using [pluto](http://pluto.studio). Learn more [here](https://github.com/shyams80/pluto)"
   ]
  }
 ],
 "metadata": {
  "kernelspec": {
   "display_name": "R",
   "language": "R",
   "name": "ir"
  },
  "language_info": {
   "codemirror_mode": "r",
   "file_extension": ".r",
   "mimetype": "text/x-r-source",
   "name": "R",
   "pygments_lexer": "r",
   "version": "3.4.4"
  }
 },
 "nbformat": 4,
 "nbformat_minor": 2
}
