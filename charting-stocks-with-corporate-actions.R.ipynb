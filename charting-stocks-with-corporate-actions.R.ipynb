{
 "cells": [
  {
   "cell_type": "markdown",
   "metadata": {},
   "source": [
    "# Plotting a stock's price chart with corporate action overlay\n",
    "\n",
    "Sometimes, a picture is worth a thousand words."
   ]
  },
  {
   "cell_type": "code",
   "execution_count": 1,
   "metadata": {},
   "outputs": [
    {
     "name": "stderr",
     "output_type": "stream",
     "text": [
      "── \u001b[1mAttaching packages\u001b[22m ─────────────────────────────────────── tidyverse 1.2.1 ──\n",
      "\u001b[32m✔\u001b[39m \u001b[34mggplot2\u001b[39m 3.2.0     \u001b[32m✔\u001b[39m \u001b[34mpurrr  \u001b[39m 0.3.2\n",
      "\u001b[32m✔\u001b[39m \u001b[34mtibble \u001b[39m 2.1.3     \u001b[32m✔\u001b[39m \u001b[34mdplyr  \u001b[39m 0.8.1\n",
      "\u001b[32m✔\u001b[39m \u001b[34mtidyr  \u001b[39m 0.8.3     \u001b[32m✔\u001b[39m \u001b[34mstringr\u001b[39m 1.4.0\n",
      "\u001b[32m✔\u001b[39m \u001b[34mreadr  \u001b[39m 1.3.1     \u001b[32m✔\u001b[39m \u001b[34mforcats\u001b[39m 0.4.0\n",
      "── \u001b[1mConflicts\u001b[22m ────────────────────────────────────────── tidyverse_conflicts() ──\n",
      "\u001b[31m✖\u001b[39m \u001b[34mdplyr\u001b[39m::\u001b[32mfilter()\u001b[39m masks \u001b[34mstats\u001b[39m::filter()\n",
      "\u001b[31m✖\u001b[39m \u001b[34mdplyr\u001b[39m::\u001b[32mlag()\u001b[39m    masks \u001b[34mstats\u001b[39m::lag()\n",
      "\n",
      "Attaching package: ‘reshape2’\n",
      "\n",
      "The following object is masked from ‘package:tidyr’:\n",
      "\n",
      "    smiths\n",
      "\n",
      "Loading required package: xts\n",
      "Loading required package: zoo\n",
      "\n",
      "Attaching package: ‘zoo’\n",
      "\n",
      "The following objects are masked from ‘package:base’:\n",
      "\n",
      "    as.Date, as.Date.numeric\n",
      "\n",
      "\n",
      "Attaching package: ‘xts’\n",
      "\n",
      "The following objects are masked from ‘package:dplyr’:\n",
      "\n",
      "    first, last\n",
      "\n",
      "Loading required package: TTR\n",
      "Version 0.4-0 included new data defaults. See ?getSymbols.\n",
      "\n",
      "Attaching package: ‘lubridate’\n",
      "\n",
      "The following object is masked from ‘package:base’:\n",
      "\n",
      "    date\n",
      "\n",
      "\n",
      "Attaching package: ‘PerformanceAnalytics’\n",
      "\n",
      "The following object is masked from ‘package:graphics’:\n",
      "\n",
      "    legend\n",
      "\n",
      "Registering fonts with R\n",
      "\n",
      "Attaching package: ‘gridExtra’\n",
      "\n",
      "The following object is masked from ‘package:dplyr’:\n",
      "\n",
      "    combine\n",
      "\n"
     ]
    }
   ],
   "source": [
    "library(tidyverse)\n",
    "library(ggthemes)\n",
    "library(reshape2)\n",
    "library(odbc)\n",
    "library(RPostgres)\n",
    "library(plutoR)\n",
    "library(quantmod)\n",
    "library(lubridate)\n",
    "library(ggrepel)\n",
    "library(PerformanceAnalytics)\n",
    "\n",
    "options(\"scipen\"=999)\n",
    "options(stringsAsFactors = FALSE)\n",
    "options(repr.plot.width=16, repr.plot.height=8)\n",
    "\n",
    "source(\"config.R\")\n",
    "source(\"goofy/plot.common.R\")\n",
    "source(\"goofy/misc.common.R\")\n",
    "\n",
    "#initialize\n",
    "equitiesIndiaNse <- EquitiesIndiaNse()"
   ]
  },
  {
   "cell_type": "code",
   "execution_count": 2,
   "metadata": {},
   "outputs": [
    {
     "name": "stderr",
     "output_type": "stream",
     "text": [
      "Warning message:\n",
      "“Missing values are always removed in SQL.\n",
      "Use `MAX(x, na.rm = TRUE)` to silence this warning\n",
      "This warning is displayed only once per session.”Warning message:\n",
      "“Missing values are always removed in SQL.\n",
      "Use `MIN(x, na.rm = TRUE)` to silence this warning\n",
      "This warning is displayed only once per session.”"
     ]
    },
    {
     "name": "stdout",
     "output_type": "stream",
     "text": [
      "\u001b[38;5;246m# Source:   lazy query [?? x 2]\u001b[39m\n",
      "\u001b[38;5;246m# Database: Microsoft SQL Server 13.00.4224[ro1@NORWAY/StockViz]\u001b[39m\n",
      "  MAX_DT     MIN_DT    \n",
      "  \u001b[3m\u001b[38;5;246m<date>\u001b[39m\u001b[23m     \u001b[3m\u001b[38;5;246m<date>\u001b[39m\u001b[23m    \n",
      "\u001b[38;5;250m1\u001b[39m 2019-07-18 2016-07-19\n",
      "\u001b[38;5;246m# Source:   lazy query [?? x 2]\u001b[39m\n",
      "\u001b[38;5;246m# Database: postgres [ro1@SWEDEN:5432/StockVizDyn]\u001b[39m\n",
      "    MAX_DT   MIN_DT\n",
      "     \u001b[3m\u001b[38;5;246m<int>\u001b[39m\u001b[23m    \u001b[3m\u001b[38;5;246m<int>\u001b[39m\u001b[23m\n",
      "\u001b[38;5;250m1\u001b[39m 20\u001b[4m1\u001b[24m\u001b[4m9\u001b[24m\u001b[4m0\u001b[24m718 20\u001b[4m1\u001b[24m\u001b[4m6\u001b[24m\u001b[4m0\u001b[24m719\n"
     ]
    }
   ],
   "source": [
    "symbol <- \"YESBANK\"\n",
    "startDt <- as.Date(Sys.Date() - 3*365) #3-year chart\n",
    "endDt <- Sys.Date()\n",
    "\n",
    "startDtNum <- as.numeric(format(startDt, '%Y%m%d'))\n",
    "endDtNum <- as.numeric(format(endDt, '%Y%m%d'))\n",
    "\n",
    "# examples: https://github.com/shyams80/plutons/blob/master/docs-R/EquitiesIndiaNse.ipynb\n",
    "\n",
    "#make sure that the data exists\n",
    "\n",
    "equitiesIndiaNse$EodTimeSeries() %>%\n",
    "    filter(TIME_STAMP >= startDt & TIME_STAMP <= endDt \n",
    "           & SYMBOL == symbol \n",
    "           & (SERIES == 'EQ' | SERIES == 'BE')) %>%\n",
    "    summarize(MAX_DT = max(TIME_STAMP), MIN_DT = min(TIME_STAMP)) %>%\n",
    "    print()\n",
    "\n",
    "equitiesIndiaNse$EodAdjustedTimeSeries() %>%\n",
    "    filter(DATE_STAMP >= startDtNum & DATE_STAMP <= endDtNum \n",
    "           & SYMBOL == symbol) %>%\n",
    "    summarize(MAX_DT = max(DATE_STAMP), MIN_DT = min(DATE_STAMP)) %>%\n",
    "    print()\n"
   ]
  },
  {
   "cell_type": "code",
   "execution_count": 3,
   "metadata": {},
   "outputs": [
    {
     "name": "stdout",
     "output_type": "stream",
     "text": [
      "\u001b[38;5;246m# A tibble: 739 x 2\u001b[39m\n",
      "   TIME_STAMP CLOSE\n",
      "   \u001b[3m\u001b[38;5;246m<date>\u001b[39m\u001b[23m     \u001b[3m\u001b[38;5;246m<dbl>\u001b[39m\u001b[23m\n",
      "\u001b[38;5;250m 1\u001b[39m 2016-07-19  224.\n",
      "\u001b[38;5;250m 2\u001b[39m 2016-07-20  226.\n",
      "\u001b[38;5;250m 3\u001b[39m 2016-07-21  224.\n",
      "\u001b[38;5;250m 4\u001b[39m 2016-07-22  225.\n",
      "\u001b[38;5;250m 5\u001b[39m 2016-07-25  230.\n",
      "\u001b[38;5;250m 6\u001b[39m 2016-07-26  233.\n",
      "\u001b[38;5;250m 7\u001b[39m 2016-07-27  233.\n",
      "\u001b[38;5;250m 8\u001b[39m 2016-07-28  238.\n",
      "\u001b[38;5;250m 9\u001b[39m 2016-07-29  236.\n",
      "\u001b[38;5;250m10\u001b[39m 2016-08-01  237.\n",
      "\u001b[38;5;246m# … with 729 more rows\u001b[39m\n"
     ]
    }
   ],
   "source": [
    "# so the data exists in both so we can use the EodAdjustedTimeSeries\n",
    "\n",
    "eodPxDt <- equitiesIndiaNse$EodAdjustedTimeSeries() %>%\n",
    "    filter(DATE_STAMP >= startDtNum & DATE_STAMP <= endDtNum & SYMBOL == symbol) %>%\n",
    "    collect() %>%\n",
    "    mutate(TIME_STAMP = as.Date(as.character(DATE_STAMP), format=\"%Y%m%d\")) %>%\n",
    "    select(TIME_STAMP, CLOSE) %>%\n",
    "    arrange(TIME_STAMP)\n",
    "\n",
    "print(eodPxDt)"
   ]
  },
  {
   "cell_type": "code",
   "execution_count": 4,
   "metadata": {},
   "outputs": [
    {
     "name": "stdout",
     "output_type": "stream",
     "text": [
      "\u001b[38;5;246m# A tibble: 739 x 3\u001b[39m\n",
      "   TIME_STAMP PURPOSE CLOSE\n",
      "   \u001b[3m\u001b[38;5;246m<date>\u001b[39m\u001b[23m     \u001b[3m\u001b[38;5;246m<chr>\u001b[39m\u001b[23m   \u001b[3m\u001b[38;5;246m<dbl>\u001b[39m\u001b[23m\n",
      "\u001b[38;5;250m 1\u001b[39m 2016-07-19 \u001b[31mNA\u001b[39m       224.\n",
      "\u001b[38;5;250m 2\u001b[39m 2016-07-20 \u001b[31mNA\u001b[39m       226.\n",
      "\u001b[38;5;250m 3\u001b[39m 2016-07-21 \u001b[31mNA\u001b[39m       224.\n",
      "\u001b[38;5;250m 4\u001b[39m 2016-07-22 \u001b[31mNA\u001b[39m       225.\n",
      "\u001b[38;5;250m 5\u001b[39m 2016-07-25 \u001b[31mNA\u001b[39m       230.\n",
      "\u001b[38;5;250m 6\u001b[39m 2016-07-26 \u001b[31mNA\u001b[39m       233.\n",
      "\u001b[38;5;250m 7\u001b[39m 2016-07-27 \u001b[31mNA\u001b[39m       233.\n",
      "\u001b[38;5;250m 8\u001b[39m 2016-07-28 \u001b[31mNA\u001b[39m       238.\n",
      "\u001b[38;5;250m 9\u001b[39m 2016-07-29 \u001b[31mNA\u001b[39m       236.\n",
      "\u001b[38;5;250m10\u001b[39m 2016-08-01 \u001b[31mNA\u001b[39m       237.\n",
      "\u001b[38;5;246m# … with 729 more rows\u001b[39m\n"
     ]
    }
   ],
   "source": [
    "corpEodDt <- equitiesIndiaNse$CorporateActions() %>%\n",
    "    filter(EX_DATE >= startDt & EX_DATE <= endDt & SYMBOL == symbol & SERIES == 'EQ') %>%\n",
    "    select(TIME_STAMP = EX_DATE, PURPOSE) %>%\n",
    "    collect() %>%\n",
    "    full_join(eodPxDt, by=c('TIME_STAMP')) %>%\n",
    "    arrange(TIME_STAMP)\n",
    "\n",
    "print(corpEodDt)"
   ]
  },
  {
   "cell_type": "code",
   "execution_count": 5,
   "metadata": {},
   "outputs": [
    {
     "ename": "ERROR",
     "evalue": "Error in new_data_frame(list(xintercept = xintercept)): object 'EX_DATE' not found\n",
     "output_type": "error",
     "traceback": [
      "Error in new_data_frame(list(xintercept = xintercept)): object 'EX_DATE' not found\nTraceback:\n",
      "1. geom_vline(xintercept = EX_DATE, colour = \"grey\")",
      "2. new_data_frame(list(xintercept = xintercept))"
     ]
    }
   ],
   "source": [
    "plotData <- data.frame(corpEodDt)\n",
    "plotData$EX_DATE <- ifelse(is.na(plotData$PURPOSE), NA, plotData$TIME_STAMP)\n",
    "\n",
    "startDate <- first(plotData$TIME_STAMP)\n",
    "endDate <- last(plotData$TIME_STAMP)\n",
    "\n",
    "xAxisTicks <- seq(from=startDate, to=endDate, length.out=10)\n",
    "\n",
    "ggplot(plotData, aes(x = TIME_STAMP, y = CLOSE)) + \n",
    "    theme_economist() +\n",
    "    geom_line() + \n",
    "    geom_vline(xintercept=EX_DATE, colour=\"grey\") +\n",
    "    scale_y_log10() +\n",
    "    scale_x_date(breaks = xAxisTicks) +\n",
    "    labs(x='', y='log(closing price)', fill='', color='',\n",
    "         title=sprintf(\"%s Closing Price\", symbol), \n",
    "         subtitle=sprintf(\"[%s:%s]\", startDate, endDate)) +\n",
    "    annotate(\"text\", x=startDate, y=min(plotData$CLOSE, na.rm=T), label = \"@StockViz\", \n",
    "             hjust=1.1, vjust=-1.1, col=\"white\", cex=6, fontface = \"bold\", alpha = 0.8)"
   ]
  },
  {
   "cell_type": "markdown",
   "metadata": {},
   "source": [
    "This notebook was created using [pluto](http://pluto.studio). Learn more [here](https://github.com/shyams80/pluto)"
   ]
  }
 ],
 "metadata": {
  "kernelspec": {
   "display_name": "R",
   "language": "R",
   "name": "ir"
  },
  "language_info": {
   "codemirror_mode": "r",
   "file_extension": ".r",
   "mimetype": "text/x-r-source",
   "name": "R",
   "pygments_lexer": "r",
   "version": "3.4.4"
  }
 },
 "nbformat": 4,
 "nbformat_minor": 2
}
