{
 "cells": [
  {
   "cell_type": "markdown",
   "metadata": {},
   "source": [
    "# Plotting a stock's price chart with corporate action overlay\n",
    "\n",
    "Sometimes, a picture is worth a thousand words."
   ]
  },
  {
   "cell_type": "code",
   "execution_count": null,
   "metadata": {},
   "outputs": [],
   "source": [
    "library(tidyverse)\n",
    "library(ggthemes)\n",
    "library(reshape2)\n",
    "library(odbc)\n",
    "library(RPostgres)\n",
    "library(plutoR)\n",
    "library(quantmod)\n",
    "library(lubridate)\n",
    "library(ggrepel)\n",
    "library(PerformanceAnalytics)\n",
    "\n",
    "options(\"scipen\"=999)\n",
    "options(stringsAsFactors = FALSE)\n",
    "options(repr.plot.width=16, repr.plot.height=8)\n",
    "\n",
    "source(\"config.R\")\n",
    "source(\"goofy/plot.common.R\")\n",
    "source(\"goofy/misc.common.R\")\n",
    "\n",
    "#initialize\n",
    "equitiesIndiaNse <- EquitiesIndiaNse()"
   ]
  },
  {
   "cell_type": "code",
   "execution_count": null,
   "metadata": {},
   "outputs": [],
   "source": [
    "symbol <- \"ASHOKLEY\"\n",
    "startDt <- as.Date(Sys.Date() - 10*365) #3-year chart\n",
    "endDt <- Sys.Date()\n",
    "\n",
    "# examples: https://github.com/shyams80/plutons/blob/master/docs-R/EquitiesIndiaNse.ipynb\n",
    "\n",
    "#make sure that the data exists\n",
    "\n",
    "equitiesIndiaNse$EodTimeSeries() %>%\n",
    "    filter(TIME_STAMP >= startDt & TIME_STAMP <= endDt \n",
    "           & SYMBOL == symbol \n",
    "           & (SERIES == 'EQ' | SERIES == 'BE')) %>%\n",
    "    summarize(MAX_DT = max(TIME_STAMP), MIN_DT = min(TIME_STAMP)) %>%\n",
    "    print()\n",
    "\n",
    "equitiesIndiaNse$EodAdjustedTimeSeries() %>%\n",
    "    filter(TIME_STAMP >= startDt & TIME_STAMP <= endDt \n",
    "           & SYMBOL == symbol) %>%\n",
    "    summarize(MAX_DT = max(TIME_STAMP), MIN_DT = min(TIME_STAMP)) %>%\n",
    "    print()\n"
   ]
  },
  {
   "cell_type": "code",
   "execution_count": null,
   "metadata": {},
   "outputs": [],
   "source": [
    "# so the data exists in both so we can use the EodAdjustedTimeSeries\n",
    "\n",
    "eodPxDf <- equitiesIndiaNse$EodAdjustedTimeSeries() %>%\n",
    "    filter(TIME_STAMP >= startDt & TIME_STAMP <= endDt & SYMBOL == symbol) %>%\n",
    "    select(TIME_STAMP, CLOSE) %>%\n",
    "    arrange(TIME_STAMP) %>%\n",
    "    collect() %>%\n",
    "    as.data.frame()\n",
    "\n",
    "print(head(eodPxDf))\n",
    "print(summary(eodPxDf$CLOSE))"
   ]
  },
  {
   "cell_type": "code",
   "execution_count": null,
   "metadata": {},
   "outputs": [],
   "source": [
    "corpActDf <- equitiesIndiaNse$CorporateActions() %>%\n",
    "    filter(EX_DATE >= startDt & EX_DATE <= endDt & SYMBOL == symbol & SERIES == 'EQ') %>%\n",
    "    select(T = EX_DATE, PURPOSE) %>%\n",
    "    collect() %>%\n",
    "    group_by(T) %>%\n",
    "    mutate(PURPOSE = paste0(PURPOSE, collapse='/')) %>%\n",
    "    as.data.frame()\n",
    "    \n",
    "corpEvtDf <- equitiesIndiaNse$CorporateEvents() %>%\n",
    "    filter(EVENT_DATE >= startDt & EVENT_DATE <= endDt & SYMBOL == symbol) %>%\n",
    "    select(T = EVENT_DATE, PURPOSE) %>%\n",
    "    collect() %>%\n",
    "    group_by(T) %>%\n",
    "    mutate(PURPOSE = paste0(PURPOSE, collapse='/')) %>%\n",
    "    as.data.frame()\n",
    "\n",
    "print(corpActDf)\n",
    "print(corpEvtDf)"
   ]
  },
  {
   "cell_type": "code",
   "execution_count": null,
   "metadata": {},
   "outputs": [],
   "source": [
    "startDate <- first(eodPxDf$TIME_STAMP)\n",
    "endDate <- last(eodPxDf$TIME_STAMP)\n",
    "\n",
    "xAxisTicks <- seq(from=startDate, to=endDate, length.out=10)"
   ]
  },
  {
   "cell_type": "code",
   "execution_count": null,
   "metadata": {},
   "outputs": [],
   "source": [
    "ggplot(eodPxDf, aes(x = TIME_STAMP, y = CLOSE)) + \n",
    "    theme_economist() +\n",
    "    geom_line() + \n",
    "    geom_vline(xintercept = corpActDf$T, colour=\"coral1\") +\n",
    "    annotate(\"text\", x = corpActDf$T, y = min(eodPxDf$CLOSE, na.rm=T), label = corpActDf$PURPOSE,\n",
    "            col='coral1', cex = 4, angle = 90, hjust = 0, vjust=0) +\n",
    "    geom_vline(xintercept = corpEvtDf$T, colour=\"coral4\") +\n",
    "    annotate(\"text\", x = corpEvtDf$T, y = min(eodPxDf$CLOSE, na.rm=T), label = corpEvtDf$PURPOSE,\n",
    "            col='coral4', cex = 4, angle = 90, hjust = 0, vjust=1) +\n",
    "    scale_y_log10() +\n",
    "    scale_x_date(breaks = xAxisTicks) +\n",
    "    labs(x='', y='log(closing price)', fill='', color='',\n",
    "         title=sprintf(\"%s Closing Price\", symbol), \n",
    "         subtitle=sprintf(\"[%s:%s]\", startDate, endDate)) +\n",
    "    annotate(\"text\", x=startDate, y=min(eodPxDf$CLOSE, na.rm=T), label = \"@StockViz\", \n",
    "             hjust=-1.1, vjust=-1.1, col=\"white\", cex=6, fontface = \"bold\", alpha = 0.8)"
   ]
  },
  {
   "cell_type": "markdown",
   "metadata": {},
   "source": [
    "This notebook was created using [pluto](http://pluto.studio). Learn more [here](https://github.com/shyams80/pluto)"
   ]
  }
 ],
 "metadata": {
  "kernelspec": {
   "display_name": "R",
   "language": "R",
   "name": "ir"
  },
  "language_info": {
   "codemirror_mode": "r",
   "file_extension": ".r",
   "mimetype": "text/x-r-source",
   "name": "R",
   "pygments_lexer": "r",
   "version": "3.4.4"
  }
 },
 "nbformat": 4,
 "nbformat_minor": 2
}
