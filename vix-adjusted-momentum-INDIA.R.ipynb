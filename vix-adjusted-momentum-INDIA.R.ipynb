{
 "cells": [
  {
   "cell_type": "markdown",
   "metadata": {},
   "source": [
    "# VIX-Adjusted Momentum (INDIA)\n",
    "\n",
    "Replicating [VIX-Adjusted Momentum](https://cssanalytics.wordpress.com/2014/07/29/vix-adjusted-momentum/) using India VIX and the NIFTY 50 index."
   ]
  },
  {
   "cell_type": "code",
   "execution_count": 1,
   "metadata": {},
   "outputs": [
    {
     "name": "stderr",
     "output_type": "stream",
     "text": [
      "── \u001b[1mAttaching packages\u001b[22m ─────────────────────────────────────── tidyverse 1.2.1 ──\n",
      "\u001b[32m✔\u001b[39m \u001b[34mggplot2\u001b[39m 3.2.0     \u001b[32m✔\u001b[39m \u001b[34mpurrr  \u001b[39m 0.3.2\n",
      "\u001b[32m✔\u001b[39m \u001b[34mtibble \u001b[39m 2.1.3     \u001b[32m✔\u001b[39m \u001b[34mdplyr  \u001b[39m 0.8.1\n",
      "\u001b[32m✔\u001b[39m \u001b[34mtidyr  \u001b[39m 0.8.3     \u001b[32m✔\u001b[39m \u001b[34mstringr\u001b[39m 1.4.0\n",
      "\u001b[32m✔\u001b[39m \u001b[34mreadr  \u001b[39m 1.3.1     \u001b[32m✔\u001b[39m \u001b[34mforcats\u001b[39m 0.4.0\n",
      "── \u001b[1mConflicts\u001b[22m ────────────────────────────────────────── tidyverse_conflicts() ──\n",
      "\u001b[31m✖\u001b[39m \u001b[34mdplyr\u001b[39m::\u001b[32mfilter()\u001b[39m masks \u001b[34mstats\u001b[39m::filter()\n",
      "\u001b[31m✖\u001b[39m \u001b[34mdplyr\u001b[39m::\u001b[32mlag()\u001b[39m    masks \u001b[34mstats\u001b[39m::lag()\n",
      "\n",
      "Attaching package: ‘reshape2’\n",
      "\n",
      "The following object is masked from ‘package:tidyr’:\n",
      "\n",
      "    smiths\n",
      "\n",
      "Loading required package: xts\n",
      "Loading required package: zoo\n",
      "\n",
      "Attaching package: ‘zoo’\n",
      "\n",
      "The following objects are masked from ‘package:base’:\n",
      "\n",
      "    as.Date, as.Date.numeric\n",
      "\n",
      "\n",
      "Attaching package: ‘xts’\n",
      "\n",
      "The following objects are masked from ‘package:dplyr’:\n",
      "\n",
      "    first, last\n",
      "\n",
      "Loading required package: TTR\n",
      "Version 0.4-0 included new data defaults. See ?getSymbols.\n",
      "\n",
      "Attaching package: ‘lubridate’\n",
      "\n",
      "The following object is masked from ‘package:base’:\n",
      "\n",
      "    date\n",
      "\n",
      "\n",
      "Attaching package: ‘PerformanceAnalytics’\n",
      "\n",
      "The following object is masked from ‘package:graphics’:\n",
      "\n",
      "    legend\n",
      "\n",
      "Registering fonts with R\n",
      "\n",
      "Attaching package: ‘gridExtra’\n",
      "\n",
      "The following object is masked from ‘package:dplyr’:\n",
      "\n",
      "    combine\n",
      "\n"
     ]
    }
   ],
   "source": [
    "library(tidyverse)\n",
    "library(ggthemes)\n",
    "library(reshape2)\n",
    "library(odbc)\n",
    "library(plutoR)\n",
    "library(quantmod)\n",
    "library(lubridate)\n",
    "library(ggrepel)\n",
    "library(PerformanceAnalytics)\n",
    "\n",
    "options(\"scipen\"=999)\n",
    "options(stringsAsFactors = FALSE)\n",
    "options(repr.plot.width=16, repr.plot.height=8)\n",
    "\n",
    "source(\"config.R\")\n",
    "source(\"goofy/plot.common.R\")\n",
    "source(\"goofy/misc.common.R\")\n",
    "\n",
    "indices <- Indices()"
   ]
  },
  {
   "cell_type": "code",
   "execution_count": 2,
   "metadata": {},
   "outputs": [
    {
     "name": "stdout",
     "output_type": "stream",
     "text": [
      "             NIFTY   VIX\n",
      "2009-03-03 2622.40 43.89\n",
      "2009-03-04 2645.20 42.52\n",
      "2009-03-05 2576.70 41.49\n",
      "2009-03-06 2620.15 38.16\n",
      "2009-03-09 2573.15 40.87\n",
      "2009-03-12 2617.45 39.27\n",
      "              NIFTY     VIX\n",
      "2019-06-21 11724.10 14.6100\n",
      "2019-06-24 11699.65 15.2225\n",
      "2019-06-25 11796.45 15.0100\n",
      "2019-06-26 11847.55 14.7500\n",
      "2019-06-27 11841.55 14.6450\n",
      "2019-06-28 11788.85 14.9525\n"
     ]
    }
   ],
   "source": [
    "startDate <- as.Date('2009-03-03') #the day when India VIX was launched\n",
    "endDate <- as.Date('2019-06-30')\n",
    "\n",
    "vixDt <- indices$IndiaVixTimeSeries() %>%\n",
    "    filter(TIME_STAMP >= startDate & TIME_STAMP <= endDate) %>%\n",
    "    select(TIME_STAMP, CLOSE) %>%\n",
    "    collect()\n",
    "    \n",
    "nifty50Dt <- indices$NseTimeSeries() %>%\n",
    "    filter(NAME == 'NIFTY 50' & TIME_STAMP >= startDate & TIME_STAMP <= endDate) %>%\n",
    "    select(TIME_STAMP, CLOSE) %>%\n",
    "    collect()\n",
    "\n",
    "allXts <- merge(xts(nifty50Dt$CLOSE, nifty50Dt$TIME_STAMP), xts(vixDt$CLOSE, vixDt$TIME_STAMP))\n",
    "names(allXts) <- c('NIFTY', 'VIX')\n",
    "\n",
    "print(head(allXts))\n",
    "print(tail(allXts))"
   ]
  },
  {
   "cell_type": "code",
   "execution_count": 3,
   "metadata": {},
   "outputs": [
    {
     "ename": "ERROR",
     "evalue": "Error in runSum(x, n): Series contains non-leading NAs\n",
     "output_type": "error",
     "traceback": [
      "Error in runSum(x, n): Series contains non-leading NAs\nTraceback:\n",
      "1. SMA(allXts$VIX_ADJ_RET, 200)",
      "2. runMean(x, n)",
      "3. runSum(x, n)",
      "4. stop(\"Series contains non-leading NAs\")"
     ]
    }
   ],
   "source": [
    "allXts$SMA_200 <- SMA(allXts$NIFTY, 200)\n",
    "allXts$D_RET <- dailyReturn(allXts$NIFTY)\n",
    "allXts$D_RET_LAG_1 <- stats::lag(allXts$D_RET, -1) #signal is generated and traded at the close, so use next day's return\n",
    "\n",
    "allXts$VIX_ADJ_RET <- allXts$D_RET/allXts$VIX\n",
    "allXts$VIX_ADJ_RET_SMA_200 <- SMA(allXts$VIX_ADJ_RET, 200) \n",
    "\n",
    "allXts$ROC_200 <- rollapply(allXts$D_RET, 200, Return.cumulative) #simple compound return or ROC (rate of change) \n",
    "\n",
    "allXts <- na.omit(allXts)\n",
    "print(head(allXts))\n",
    "print(tail(allXts))"
   ]
  },
  {
   "cell_type": "code",
   "execution_count": 4,
   "metadata": {},
   "outputs": [
    {
     "ename": "ERROR",
     "evalue": "Error in error(x, ...): improper length of one or more arguments to merge.xts\n",
     "output_type": "error",
     "traceback": [
      "Error in error(x, ...): improper length of one or more arguments to merge.xts\nTraceback:\n",
      "1. `$<-`(`*tmp*`, VIX_STRAT, value = logical(0))",
      "2. `$<-.zoo`(`*tmp*`, VIX_STRAT, value = logical(0))",
      "3. cbind(object, value)",
      "4. cbind(deparse.level, ...)",
      "5. merge.xts(..., all = all, fill = fill, suffixes = suffixes)",
      "6. try.xts(logical(0), length.out = 2558L, error = .merge.xts.scalar)",
      "7. error(x, ...)",
      "8. stop(\"improper length of one or more arguments to merge.xts\")"
     ]
    }
   ],
   "source": [
    "#go long only if the index is above its 200-day average\n",
    "allXts$SMA_STRAT <- ifelse(allXts$NIFTY > allXts$SMA_200, allXts$D_RET_LAG_1, 0) \n",
    "\n",
    "#go long only if the simple average (VIX-Adjusted Momentum) > 0\n",
    "allXts$VIX_STRAT <- ifelse(allXts$VIX_ADJ_RET_SMA_200 > 0, allXts$D_RET_LAG_1, 0) \n",
    "\n",
    "#go long only if the ROC > 0\n",
    "allXts$ROC_200_STRAT <- ifelse(allXts$ROC_200 > 0, allXts$D_RET_LAG_1, 0)"
   ]
  },
  {
   "cell_type": "code",
   "execution_count": 5,
   "metadata": {},
   "outputs": [
    {
     "ename": "ERROR",
     "evalue": "Error in fix.by(by.x, x): 'by' must match numbers of columns\n",
     "output_type": "error",
     "traceback": [
      "Error in fix.by(by.x, x): 'by' must match numbers of columns\nTraceback:\n",
      "1. merge(allXts$VIX_STRAT, allXts$SMA_STRAT, allXts$ROC_200_STRAT, \n .     allXts$D_RET_LAG_1)",
      "2. merge.default(allXts$VIX_STRAT, allXts$SMA_STRAT, allXts$ROC_200_STRAT, \n .     allXts$D_RET_LAG_1)",
      "3. merge(as.data.frame(x), as.data.frame(y), ...)",
      "4. merge.data.frame(as.data.frame(x), as.data.frame(y), ...)",
      "5. fix.by(by.x, x)",
      "6. stop(\"'by' must match numbers of columns\")"
     ]
    }
   ],
   "source": [
    "#plot returns\n",
    "toPlot <- merge(allXts$VIX_STRAT, allXts$SMA_STRAT, allXts$ROC_200_STRAT, allXts$D_RET_LAG_1)\n",
    "Common.PlotCumReturns(toPlot, \"Back-test\", \"\")"
   ]
  },
  {
   "cell_type": "code",
   "execution_count": 6,
   "metadata": {},
   "outputs": [
    {
     "ename": "ERROR",
     "evalue": "Error in `[.xts`(allXts, toString(yr), \"VIX_STRAT\"): subscript out of bounds\n",
     "output_type": "error",
     "traceback": [
      "Error in `[.xts`(allXts, toString(yr), \"VIX_STRAT\"): subscript out of bounds\nTraceback:\n",
      "1. rbind(byYearDf, c(yr, as.numeric(100 * Return.cumulative(allXts[toString(yr), \n .     \"VIX_STRAT\"])), as.numeric(100 * Return.cumulative(allXts[toString(yr), \n .     \"SMA_STRAT\"])), as.numeric(100 * Return.cumulative(allXts[toString(yr), \n .     \"ROC_200_STRAT\"])), as.numeric(100 * Return.cumulative(allXts[toString(yr), \n .     \"D_RET_LAG_1\"]))))",
      "2. Return.cumulative(allXts[toString(yr), \"VIX_STRAT\"])",
      "3. is.vector(R)",
      "4. allXts[toString(yr), \"VIX_STRAT\"]",
      "5. `[.xts`(allXts, toString(yr), \"VIX_STRAT\")",
      "6. stop(\"subscript out of bounds\")"
     ]
    }
   ],
   "source": [
    "#calculate annual returns\n",
    "\n",
    "byYearDf <- data.frame(T=0, VIX_MOM=0.0, SMA=0.0, ROC=0.0, BH=0.0)\n",
    "\n",
    "allYears <- unique(year(index(allXts)))\n",
    "for(yr in allYears){\n",
    "    byYearDf <- rbind(byYearDf,\n",
    "                    c(yr, as.numeric(100.0*Return.cumulative(allXts[toString(yr), 'VIX_STRAT'])),\n",
    "                        as.numeric(100.0*Return.cumulative(allXts[toString(yr), 'SMA_STRAT'])),\n",
    "                        as.numeric(100.0*Return.cumulative(allXts[toString(yr), 'ROC_200_STRAT'])),\n",
    "                        as.numeric(100.0*Return.cumulative(allXts[toString(yr), 'D_RET_LAG_1']))))\n",
    "}\n",
    "\n",
    "byYearDf <- byYearDf[-1,]\n",
    "print(byYearDf)"
   ]
  },
  {
   "cell_type": "code",
   "execution_count": 7,
   "metadata": {},
   "outputs": [
    {
     "data": {
      "image/png": "[encoded data removed]",
      "text/plain": [
       "plot without title"
      ]
     },
     "metadata": {},
     "output_type": "display_data"
    }
   ],
   "source": [
    "#plot annual returns\n",
    "\n",
    "ggplot(melt(byYearDf, id='T'), aes(x=T, y=value, fill=variable)) +\n",
    "    theme_economist() +\n",
    "    geom_bar(stat=\"identity\", position=position_dodge()) +\n",
    "    scale_x_continuous(labels=byYearDf$T, breaks=byYearDf$T) +\n",
    "    geom_text_repel(aes(label= round(value, 2)), position = position_dodge(0.9)) +\n",
    "    labs(x='', y='(%)', fill='', title=sprintf(\"Annual Returns\")) +\n",
    "    annotate(\"text\", x=max(byYearDf$T), y=min(sapply(byYearDf[,-1], min, na.rm=T)), \n",
    "             label = \"@StockViz\", hjust=1.1, vjust=-1.1, col=\"white\", cex=6, fontface = \"bold\", alpha = 0.8)"
   ]
  },
  {
   "cell_type": "markdown",
   "metadata": {},
   "source": [
    "This notebook was created using [pluto](http://pluto.studio). Learn more [here](https://github.com/shyams80/pluto)"
   ]
  }
 ],
 "metadata": {
  "kernelspec": {
   "display_name": "R",
   "language": "R",
   "name": "ir"
  },
  "language_info": {
   "codemirror_mode": "r",
   "file_extension": ".r",
   "mimetype": "text/x-r-source",
   "name": "R",
   "pygments_lexer": "r",
   "version": "3.4.4"
  }
 },
 "nbformat": 4,
 "nbformat_minor": 2
}
