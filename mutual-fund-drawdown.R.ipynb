{
 "cells": [
  {
   "cell_type": "markdown",
   "metadata": {},
   "source": [
    "# Mutual funds vs. Index drawdowns\n",
    "\n",
    "Do active managers reduce drawdowns during downturns?"
   ]
  },
  {
   "cell_type": "code",
   "execution_count": 1,
   "metadata": {},
   "outputs": [
    {
     "name": "stderr",
     "output_type": "stream",
     "text": [
      "── \u001b[1mAttaching packages\u001b[22m ─────────────────────────────────────── tidyverse 1.2.1 ──\n",
      "\u001b[32m✔\u001b[39m \u001b[34mggplot2\u001b[39m 3.2.0     \u001b[32m✔\u001b[39m \u001b[34mpurrr  \u001b[39m 0.3.2\n",
      "\u001b[32m✔\u001b[39m \u001b[34mtibble \u001b[39m 2.1.3     \u001b[32m✔\u001b[39m \u001b[34mdplyr  \u001b[39m 0.8.1\n",
      "\u001b[32m✔\u001b[39m \u001b[34mtidyr  \u001b[39m 0.8.3     \u001b[32m✔\u001b[39m \u001b[34mstringr\u001b[39m 1.4.0\n",
      "\u001b[32m✔\u001b[39m \u001b[34mreadr  \u001b[39m 1.3.1     \u001b[32m✔\u001b[39m \u001b[34mforcats\u001b[39m 0.4.0\n",
      "── \u001b[1mConflicts\u001b[22m ────────────────────────────────────────── tidyverse_conflicts() ──\n",
      "\u001b[31m✖\u001b[39m \u001b[34mdplyr\u001b[39m::\u001b[32mfilter()\u001b[39m masks \u001b[34mstats\u001b[39m::filter()\n",
      "\u001b[31m✖\u001b[39m \u001b[34mdplyr\u001b[39m::\u001b[32mlag()\u001b[39m    masks \u001b[34mstats\u001b[39m::lag()\n",
      "Loading required package: xts\n",
      "Loading required package: zoo\n",
      "\n",
      "Attaching package: ‘zoo’\n",
      "\n",
      "The following objects are masked from ‘package:base’:\n",
      "\n",
      "    as.Date, as.Date.numeric\n",
      "\n",
      "\n",
      "Attaching package: ‘xts’\n",
      "\n",
      "The following objects are masked from ‘package:dplyr’:\n",
      "\n",
      "    first, last\n",
      "\n",
      "Loading required package: TTR\n",
      "Version 0.4-0 included new data defaults. See ?getSymbols.\n",
      "\n",
      "Attaching package: ‘PerformanceAnalytics’\n",
      "\n",
      "The following object is masked from ‘package:graphics’:\n",
      "\n",
      "    legend\n",
      "\n",
      "Registering fonts with R\n",
      "\n",
      "Attaching package: ‘gridExtra’\n",
      "\n",
      "The following object is masked from ‘package:dplyr’:\n",
      "\n",
      "    combine\n",
      "\n",
      "\n",
      "Attaching package: ‘lubridate’\n",
      "\n",
      "The following object is masked from ‘package:base’:\n",
      "\n",
      "    date\n",
      "\n"
     ]
    }
   ],
   "source": [
    "library(tidyverse)\n",
    "library(ggthemes)\n",
    "library(odbc)\n",
    "library(plutoR)\n",
    "library(quantmod)\n",
    "library(PerformanceAnalytics)\n",
    "\n",
    "options(\"scipen\"=999)\n",
    "options(stringsAsFactors = FALSE)\n",
    "options(repr.plot.width=16, repr.plot.height=8)\n",
    "\n",
    "source(\"config.R\")\n",
    "source(\"goofy/plot.common.R\")\n",
    "source(\"goofy/misc.common.R\")\n",
    "\n",
    "indices <- Indices()\n",
    "mfi <- MutualFundsIndia()"
   ]
  },
  {
   "cell_type": "markdown",
   "metadata": {},
   "source": [
    "2018 was a bad year. So lets look at the subsequent return profile of the top 5 midcap funds entring 2018 through June-2019."
   ]
  },
  {
   "cell_type": "code",
   "execution_count": 2,
   "metadata": {},
   "outputs": [
    {
     "name": "stderr",
     "output_type": "stream",
     "text": [
      "Warning message:\n",
      "“Missing values are always removed in SQL.\n",
      "Use `MAX(x, na.rm = TRUE)` to silence this warning\n",
      "This warning is displayed only once per session.”Warning message:\n",
      "“Missing values are always removed in SQL.\n",
      "Use `MIN(x, na.rm = TRUE)` to silence this warning\n",
      "This warning is displayed only once per session.”"
     ]
    },
    {
     "name": "stdout",
     "output_type": "stream",
     "text": [
      "[1] \"2017-12-01\"\n",
      "[1] \"2018-03-24\"\n"
     ]
    },
    {
     "name": "stderr",
     "output_type": "stream",
     "text": [
      "Selecting by AVG_AUM_WO_FOFD\n"
     ]
    },
    {
     "name": "stdout",
     "output_type": "stream",
     "text": [
      "\u001b[38;5;246m# Source:     lazy query [?? x 4]\u001b[39m\n",
      "\u001b[38;5;246m# Database:   Microsoft SQL Server 13.00.4224[ro1@NORWAY/StockViz]\u001b[39m\n",
      "\u001b[38;5;246m# Ordered by: AVG_AUM_WO_FOFD\u001b[39m\n",
      "   SCHEME_CODE SCHEME_NAME                            CATEGORY   AVG_AUM_WO_FOFD\n",
      "         \u001b[3m\u001b[38;5;246m<int>\u001b[39m\u001b[23m \u001b[3m\u001b[38;5;246m<chr>\u001b[39m\u001b[23m                                  \u001b[3m\u001b[38;5;246m<chr>\u001b[39m\u001b[23m                \u001b[3m\u001b[38;5;246m<dbl>\u001b[39m\u001b[23m\n",
      "\u001b[38;5;250m 1\u001b[39m      \u001b[4m1\u001b[24m\u001b[4m0\u001b[24m\u001b[4m5\u001b[24m758 HDFC MID-CAP OPPORTUNITIES FUND - Gro… Small/Mid…        1\u001b[4m5\u001b[24m\u001b[4m0\u001b[24m\u001b[4m3\u001b[24m986.\n",
      "\u001b[38;5;250m 2\u001b[39m      \u001b[4m1\u001b[24m\u001b[4m0\u001b[24m\u001b[4m5\u001b[24m989 DSP BlackRock Micro Cap Fund - Regula… Small/Mid…         \u001b[4m4\u001b[24m\u001b[4m8\u001b[24m\u001b[4m5\u001b[24m255.\n",
      "\u001b[38;5;250m 3\u001b[39m      \u001b[4m1\u001b[24m\u001b[4m0\u001b[24m\u001b[4m3\u001b[24m360 Franklin India Smaller Companies Fund… Small/Mid…         \u001b[4m4\u001b[24m\u001b[4m8\u001b[24m\u001b[4m0\u001b[24m240.\n",
      "\u001b[38;5;250m 4\u001b[39m      \u001b[4m1\u001b[24m\u001b[4m0\u001b[24m\u001b[4m8\u001b[24m594 IDFC Premier Equity Fund-Regular Plan… Small/Mid…         \u001b[4m4\u001b[24m\u001b[4m7\u001b[24m\u001b[4m5\u001b[24m372.\n",
      "\u001b[38;5;250m 5\u001b[39m      \u001b[4m1\u001b[24m\u001b[4m0\u001b[24m\u001b[4m1\u001b[24m539 Sundaram Select Midcap-Growth          Small/Mid…         \u001b[4m4\u001b[24m\u001b[4m3\u001b[24m\u001b[4m8\u001b[24m527.\n",
      "\u001b[38;5;250m 6\u001b[39m      \u001b[4m1\u001b[24m\u001b[4m1\u001b[24m\u001b[4m3\u001b[24m177 Reliance Small Cap Fund - Growth Plan… Small/Mid…         \u001b[4m4\u001b[24m\u001b[4m2\u001b[24m\u001b[4m9\u001b[24m950.\n",
      "\u001b[38;5;250m 7\u001b[39m      \u001b[4m1\u001b[24m\u001b[4m0\u001b[24m\u001b[4m0\u001b[24m473 Franklin India Prima Fund-Growth       Small/Mid…         \u001b[4m4\u001b[24m\u001b[4m1\u001b[24m\u001b[4m1\u001b[24m091.\n",
      "\u001b[38;5;250m 8\u001b[39m      \u001b[4m1\u001b[24m\u001b[4m0\u001b[24m\u001b[4m4\u001b[24m481 DSP BlackRock Small and Mid Cap Fund … Small/Mid…         \u001b[4m3\u001b[24m\u001b[4m7\u001b[24m\u001b[4m6\u001b[24m666.\n",
      "\u001b[38;5;250m 9\u001b[39m      \u001b[4m1\u001b[24m\u001b[4m1\u001b[24m\u001b[4m2\u001b[24m932 Mirae Asset Emerging Bluechip Fund - … Small/Mid…         \u001b[4m3\u001b[24m\u001b[4m7\u001b[24m\u001b[4m3\u001b[24m978.\n",
      "\u001b[38;5;250m10\u001b[39m      \u001b[4m1\u001b[24m\u001b[4m0\u001b[24m\u001b[4m2\u001b[24m941 SBI Magnum MIDCAP FUND - REGULAR PLAN… Small/Mid…         \u001b[4m2\u001b[24m\u001b[4m9\u001b[24m\u001b[4m3\u001b[24m322.\n"
     ]
    }
   ],
   "source": [
    "lastAumDate <- (mfi$AumSchemewise() %>%\n",
    "    filter(PERIOD <= as.Date('2018-01-01')) %>%\n",
    "    summarize(MAX_TS = max(PERIOD)) %>%\n",
    "    collect())$MAX_TS[1]\n",
    "\n",
    "lastMetaDate <- (mfi$Meta() %>%\n",
    "    filter(AS_OF >= lastAumDate) %>%\n",
    "    summarize(MIN_TS = min(AS_OF)) %>%\n",
    "    collect())$MIN_TS[1]\n",
    "\n",
    "print(lastAumDate)\n",
    "print(lastMetaDate)\n",
    "\n",
    "topAum <- mfi$Meta() %>% \n",
    "    inner_join(mfi$AumSchemewise(), by=\"SCHEME_CODE\") %>%\n",
    "    filter(PERIOD == lastAumDate & AS_OF == lastMetaDate & CATEGORY %like% '%Mid-Cap%') %>%\n",
    "    select(SCHEME_CODE, SCHEME_NAME, CATEGORY, AVG_AUM_WO_FOFD) %>%\n",
    "    arrange(AVG_AUM_WO_FOFD) %>%\n",
    "    top_n(10)\n",
    "\n",
    "print(topAum)"
   ]
  },
  {
   "cell_type": "markdown",
   "metadata": {},
   "source": [
    "funds went through a re-classification exercise later in 2018. we will handpick those that retained their \"mid-cap\" status after the shuffle."
   ]
  },
  {
   "cell_type": "code",
   "execution_count": 3,
   "metadata": {},
   "outputs": [
    {
     "ename": "ERROR",
     "evalue": "Error: <SQL> 'SELECT \"TIME_STAMP\", \"NAV\"\nFROM (SELECT TOP 100 PERCENT \"SCHEME_CODE\", \"SCHEME_NAME\", \"AS_OF\" AS \"TIME_STAMP\", \"NAV\"\nFROM \"MF_NAV_HISTORY\") \"dbplyr_008\"\nWHERE (\"SCHEME_CODE\" = \"scode\" AND \"TIME_STAMP\" >= '2018-01-01' AND \"TIME_STAMP\" <= '2018-06-30')'\n  nanodbc/nanodbc.cpp:1587: 42S22: [Microsoft][ODBC Driver 17 for SQL Server][SQL Server]Invalid column name 'scode'. \n",
     "output_type": "error",
     "traceback": [
      "Error: <SQL> 'SELECT \"TIME_STAMP\", \"NAV\"\nFROM (SELECT TOP 100 PERCENT \"SCHEME_CODE\", \"SCHEME_NAME\", \"AS_OF\" AS \"TIME_STAMP\", \"NAV\"\nFROM \"MF_NAV_HISTORY\") \"dbplyr_008\"\nWHERE (\"SCHEME_CODE\" = \"scode\" AND \"TIME_STAMP\" >= '2018-01-01' AND \"TIME_STAMP\" <= '2018-06-30')'\n  nanodbc/nanodbc.cpp:1587: 42S22: [Microsoft][ODBC Driver 17 for SQL Server][SQL Server]Invalid column name 'scode'. \nTraceback:\n",
      "1. data.frame(mfi$NavTimeSeries() %>% filter(SCHEME_CODE == scode & \n .     TIME_STAMP >= startDate & TIME_STAMP <= endDate) %>% select(TIME_STAMP, \n .     NAV))",
      "2. as.data.frame(x[[i]], optional = TRUE, stringsAsFactors = stringsAsFactors)",
      "3. as.data.frame.tbl_sql(x[[i]], optional = TRUE, stringsAsFactors = stringsAsFactors)",
      "4. as.data.frame(collect(x, n = n))",
      "5. collect(x, n = n)",
      "6. collect.tbl_sql(x, n = n)",
      "7. db_collect(x$src$con, sql, n = n, warn_incomplete = warn_incomplete)",
      "8. db_collect.DBIConnection(x$src$con, sql, n = n, warn_incomplete = warn_incomplete)",
      "9. dbSendQuery(con, sql)",
      "10. dbSendQuery(con, sql)",
      "11. OdbcResult(connection = conn, statement = statement)",
      "12. new_result(connection@ptr, statement)"
     ]
    }
   ],
   "source": [
    "schemeCodes <- c(105758, 101539, 100473, 104481, 112932)\n",
    "\n",
    "startDate <- as.Date(\"2018-01-01\")\n",
    "endDate <- as.Date(\"2018-06-30\")\n",
    "\n",
    "indexName <- \"NIFTY MIDCAP 150 TR\"\n",
    "\n",
    "#get the daily returns of the funds\n",
    "navXts <- NULL\n",
    "for(sc in schemeCodes){\n",
    "    navs <- data.frame(mfi$NavTimeSeries() %>%\n",
    "        filter(SCHEME_CODE == scode & TIME_STAMP >= startDate & TIME_STAMP <= endDate) %>%\n",
    "        select(TIME_STAMP, NAV))\n",
    "    \n",
    "    navXts <- merge.xts(navXts, dailyReturn(xts(navs$NAV, navs$TIME_STAMP)))\n",
    "}\n",
    "\n",
    "#grab the benchmark\n",
    "bm <- data.frame(indices$NseTimeSeries() %>%\n",
    "    filter(NAME == indexName & TIME_STAMP >= startDate & TIME_STAMP <= endDate) %>%\n",
    "    select(TIME_STAMP, CLOSE))\n",
    "\n",
    "navXts <- merge.xts(navXts, dailyReturn(xts(bm$NAV, bm$TIME_STAMP)))\n",
    "names(navXts) <- c(schemeCodes, indexName)"
   ]
  },
  {
   "cell_type": "code",
   "execution_count": 4,
   "metadata": {},
   "outputs": [
    {
     "name": "stdout",
     "output_type": "stream",
     "text": [
      "<simpleError in checkData(R): The data cannot be converted into a time series.  If you are trying to pass in names from a data object with one column, you should use the form 'data[rows, columns, drop = FALSE]'.  Rownames should have standard date formats, such as '1985-03-15'. >\n"
     ]
    }
   ],
   "source": [
    "# plot the cumulative returns\n",
    "Common.PlotCumReturns(navXts, \"Mutual funds vs. Index\", \"Midcaps vs. 150 TR\")\n"
   ]
  },
  {
   "cell_type": "code",
   "execution_count": 5,
   "metadata": {},
   "outputs": [
    {
     "name": "stdout",
     "output_type": "stream",
     "text": [
      "\u001b[38;5;246m# Source:     lazy query [?? x 2]\u001b[39m\n",
      "\u001b[38;5;246m# Database:   Microsoft SQL Server 13.00.4224[ro1@NORWAY/StockViz]\u001b[39m\n",
      "\u001b[38;5;246m# Ordered by: AVG_AUM_WO_FOFD\u001b[39m\n",
      "  SCHEME_CODE SCHEME_NAME                                                      \n",
      "        \u001b[3m\u001b[38;5;246m<int>\u001b[39m\u001b[23m \u001b[3m\u001b[38;5;246m<chr>\u001b[39m\u001b[23m                                                            \n",
      "\u001b[38;5;250m1\u001b[39m      \u001b[4m1\u001b[24m\u001b[4m0\u001b[24m\u001b[4m5\u001b[24m758 HDFC MID-CAP OPPORTUNITIES FUND - Growth Option                  \n",
      "\u001b[38;5;250m2\u001b[39m      \u001b[4m1\u001b[24m\u001b[4m0\u001b[24m\u001b[4m1\u001b[24m539 Sundaram Select Midcap-Growth                                    \n",
      "\u001b[38;5;250m3\u001b[39m      \u001b[4m1\u001b[24m\u001b[4m0\u001b[24m\u001b[4m0\u001b[24m473 Franklin India Prima Fund-Growth                                 \n",
      "\u001b[38;5;250m4\u001b[39m      \u001b[4m1\u001b[24m\u001b[4m0\u001b[24m\u001b[4m4\u001b[24m481 DSP BlackRock Small and Mid Cap Fund - Regular Plan - Growth     \n",
      "\u001b[38;5;250m5\u001b[39m      \u001b[4m1\u001b[24m\u001b[4m1\u001b[24m\u001b[4m2\u001b[24m932 Mirae Asset Emerging Bluechip Fund - Regular Plan - Growth Option\n"
     ]
    }
   ],
   "source": [
    "# legend\n",
    "topAum %>%\n",
    "    filter(SCHEME_CODE %in% schemeCodes) %>%\n",
    "    select(SCHEME_CODE, SCHEME_NAME) %>%\n",
    "    print()"
   ]
  },
  {
   "cell_type": "markdown",
   "metadata": {},
   "source": [
    "This notebook was created using [pluto](http://pluto.studio). Learn more [here](https://github.com/shyams80/pluto)"
   ]
  }
 ],
 "metadata": {
  "kernelspec": {
   "display_name": "R",
   "language": "R",
   "name": "ir"
  },
  "language_info": {
   "codemirror_mode": "r",
   "file_extension": ".r",
   "mimetype": "text/x-r-source",
   "name": "R",
   "pygments_lexer": "r",
   "version": "3.4.4"
  }
 },
 "nbformat": 4,
 "nbformat_minor": 2
}
