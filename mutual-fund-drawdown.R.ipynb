{
 "cells": [
  {
   "cell_type": "markdown",
   "metadata": {},
   "source": [
    "# Mutual funds vs. Index drawdowns\n",
    "\n",
    "Do active managers reduce drawdowns during downturns?"
   ]
  },
  {
   "cell_type": "code",
   "execution_count": 1,
   "metadata": {},
   "outputs": [
    {
     "name": "stderr",
     "output_type": "stream",
     "text": [
      "── \u001b[1mAttaching packages\u001b[22m ─────────────────────────────────────── tidyverse 1.2.1 ──\n",
      "\u001b[32m✔\u001b[39m \u001b[34mggplot2\u001b[39m 3.2.0     \u001b[32m✔\u001b[39m \u001b[34mpurrr  \u001b[39m 0.3.2\n",
      "\u001b[32m✔\u001b[39m \u001b[34mtibble \u001b[39m 2.1.3     \u001b[32m✔\u001b[39m \u001b[34mdplyr  \u001b[39m 0.8.1\n",
      "\u001b[32m✔\u001b[39m \u001b[34mtidyr  \u001b[39m 0.8.3     \u001b[32m✔\u001b[39m \u001b[34mstringr\u001b[39m 1.4.0\n",
      "\u001b[32m✔\u001b[39m \u001b[34mreadr  \u001b[39m 1.3.1     \u001b[32m✔\u001b[39m \u001b[34mforcats\u001b[39m 0.4.0\n",
      "── \u001b[1mConflicts\u001b[22m ────────────────────────────────────────── tidyverse_conflicts() ──\n",
      "\u001b[31m✖\u001b[39m \u001b[34mdplyr\u001b[39m::\u001b[32mfilter()\u001b[39m masks \u001b[34mstats\u001b[39m::filter()\n",
      "\u001b[31m✖\u001b[39m \u001b[34mdplyr\u001b[39m::\u001b[32mlag()\u001b[39m    masks \u001b[34mstats\u001b[39m::lag()\n",
      "Loading required package: xts\n",
      "Loading required package: zoo\n",
      "\n",
      "Attaching package: ‘zoo’\n",
      "\n",
      "The following objects are masked from ‘package:base’:\n",
      "\n",
      "    as.Date, as.Date.numeric\n",
      "\n",
      "\n",
      "Attaching package: ‘xts’\n",
      "\n",
      "The following objects are masked from ‘package:dplyr’:\n",
      "\n",
      "    first, last\n",
      "\n",
      "Loading required package: TTR\n",
      "Version 0.4-0 included new data defaults. See ?getSymbols.\n",
      "\n",
      "Attaching package: ‘PerformanceAnalytics’\n",
      "\n",
      "The following object is masked from ‘package:graphics’:\n",
      "\n",
      "    legend\n",
      "\n",
      "Registering fonts with R\n",
      "\n",
      "Attaching package: ‘gridExtra’\n",
      "\n",
      "The following object is masked from ‘package:dplyr’:\n",
      "\n",
      "    combine\n",
      "\n",
      "\n",
      "Attaching package: ‘lubridate’\n",
      "\n",
      "The following object is masked from ‘package:base’:\n",
      "\n",
      "    date\n",
      "\n"
     ]
    }
   ],
   "source": [
    "library(tidyverse)\n",
    "library(ggthemes)\n",
    "library(odbc)\n",
    "library(plutoR)\n",
    "library(quantmod)\n",
    "library(PerformanceAnalytics)\n",
    "\n",
    "options(\"scipen\"=999)\n",
    "options(stringsAsFactors = FALSE)\n",
    "options(repr.plot.width=16, repr.plot.height=8)\n",
    "\n",
    "source(\"config.R\")\n",
    "source(\"goofy/plot.common.R\")\n",
    "source(\"goofy/misc.common.R\")\n",
    "\n",
    "indices <- Indices()\n",
    "mfi <- MutualFundsIndia()"
   ]
  },
  {
   "cell_type": "markdown",
   "metadata": {},
   "source": [
    "2018 was a bad year. So lets look at the subsequent return profile of the top 5 midcap funds entring 2018 through June-2019."
   ]
  },
  {
   "cell_type": "code",
   "execution_count": 2,
   "metadata": {},
   "outputs": [
    {
     "name": "stderr",
     "output_type": "stream",
     "text": [
      "Warning message:\n",
      "“Missing values are always removed in SQL.\n",
      "Use `MAX(x, na.rm = TRUE)` to silence this warning\n",
      "This warning is displayed only once per session.”Warning message:\n",
      "“Missing values are always removed in SQL.\n",
      "Use `MIN(x, na.rm = TRUE)` to silence this warning\n",
      "This warning is displayed only once per session.”"
     ]
    },
    {
     "name": "stdout",
     "output_type": "stream",
     "text": [
      "[1] \"2017-12-01\"\n",
      "[1] \"2018-03-24\"\n"
     ]
    },
    {
     "ename": "ERROR",
     "evalue": "Error: <SQL> 'SELECT TOP(11) \"SCHEME_CODE\", \"SCHEME_NAME\", \"AVG_AUM_WO_FOFD\"\nFROM (SELECT TOP 100 PERCENT \"SCHEME_CODE\", \"SCHEME_NAME\", \"AVG_AUM_WO_FOFD\", RANK() OVER (ORDER BY \"AVG_AUM_WO_FOFD\" DESC) AS \"zzz5\"\nFROM (SELECT TOP 100 PERCENT *\nFROM (SELECT TOP 100 PERCENT \"SCHEME_CODE\", \"SCHEME_NAME\", \"AVG_AUM_WO_FOFD\"\nFROM (SELECT \"LHS\".\"SCHEME_CODE\" AS \"SCHEME_CODE\", \"LHS\".\"AS_OF\" AS \"AS_OF\", \"LHS\".\"BENCH_ORIG\" AS \"BENCH_ORIG\", \"LHS\".\"BENCH_NOW\" AS \"BENCH_NOW\", \"LHS\".\"CATEGORY\" AS \"CATEGORY\", \"LHS\".\"EXPENSE\" AS \"EXPENSE\", \"LHS\".\"EXPENSE_RATIO\" AS \"EXPENSE_RATIO\", \"LHS\".\"TURNOVER_RATIO\" AS \"TURNOVER_RATIO\", \"RHS\".\"PERIOD\" AS \"PERIOD\", \"RHS\".\"SCHEME_NAME\" AS \"SCHEME_NAME\", \"RHS\".\"AVG_AUM_WO_FOFD\" AS \"AVG_AUM_WO_FOFD\", \"RHS\".\"AVG_AUM_FOFD\" AS \"AVG_AUM_FOFD\"\nFROM (SELECT TOP 100 PERCENT \"SCHEME_CODE\", \"AS_OF\", \"BENCH_ORIG\", \"BENCH_NOW\", \"CATEGORY\", \"EXPENSE\", \"EXPENSE_RATIO\", \"TURNOVER_RATIO\"\nFROM \"MF_META2\") \"LHS\"\nINNER JOIN (SELECT TOP 100 PERCENT \"PERIOD\", \"AMFI_CODE\" AS \"SCHEME_CODE\", \"SCHEME_NAME\", \"AVG_AUM_WO_FOFD\", \"AVG_AUM_FOFD\"\nFROM \"MF_SCHEMEWISE_AUM\") \"RHS\"\nON (\"LHS\".\"SCHEME_CODE\" = \"RHS\".\"SCHEME_CODE\")\n) \"dbplyr_003\") \"dbplyr_004\"\nWHERE (\"PERIOD\" = \"lastSwDate\" AND \"AS_OF\" = '2018-03-24' AND \"CATEGORY\" = 'Mid-Cap')) \"dbplyr_005\") \"dbplyr_006\"\nWHERE (\"zzz5\" <= 5.0)'\n  nanodbc/nanodbc.cpp:1587: 42S22: [Microsoft][ODBC Driver 17 for SQL Server][SQL Server]Invalid column name 'PERIOD'. \n",
     "output_type": "error",
     "traceback": [
      "Error: <SQL> 'SELECT TOP(11) \"SCHEME_CODE\", \"SCHEME_NAME\", \"AVG_AUM_WO_FOFD\"\nFROM (SELECT TOP 100 PERCENT \"SCHEME_CODE\", \"SCHEME_NAME\", \"AVG_AUM_WO_FOFD\", RANK() OVER (ORDER BY \"AVG_AUM_WO_FOFD\" DESC) AS \"zzz5\"\nFROM (SELECT TOP 100 PERCENT *\nFROM (SELECT TOP 100 PERCENT \"SCHEME_CODE\", \"SCHEME_NAME\", \"AVG_AUM_WO_FOFD\"\nFROM (SELECT \"LHS\".\"SCHEME_CODE\" AS \"SCHEME_CODE\", \"LHS\".\"AS_OF\" AS \"AS_OF\", \"LHS\".\"BENCH_ORIG\" AS \"BENCH_ORIG\", \"LHS\".\"BENCH_NOW\" AS \"BENCH_NOW\", \"LHS\".\"CATEGORY\" AS \"CATEGORY\", \"LHS\".\"EXPENSE\" AS \"EXPENSE\", \"LHS\".\"EXPENSE_RATIO\" AS \"EXPENSE_RATIO\", \"LHS\".\"TURNOVER_RATIO\" AS \"TURNOVER_RATIO\", \"RHS\".\"PERIOD\" AS \"PERIOD\", \"RHS\".\"SCHEME_NAME\" AS \"SCHEME_NAME\", \"RHS\".\"AVG_AUM_WO_FOFD\" AS \"AVG_AUM_WO_FOFD\", \"RHS\".\"AVG_AUM_FOFD\" AS \"AVG_AUM_FOFD\"\nFROM (SELECT TOP 100 PERCENT \"SCHEME_CODE\", \"AS_OF\", \"BENCH_ORIG\", \"BENCH_NOW\", \"CATEGORY\", \"EXPENSE\", \"EXPENSE_RATIO\", \"TURNOVER_RATIO\"\nFROM \"MF_META2\") \"LHS\"\nINNER JOIN (SELECT TOP 100 PERCENT \"PERIOD\", \"AMFI_CODE\" AS \"SCHEME_CODE\", \"SCHEME_NAME\", \"AVG_AUM_WO_FOFD\", \"AVG_AUM_FOFD\"\nFROM \"MF_SCHEMEWISE_AUM\") \"RHS\"\nON (\"LHS\".\"SCHEME_CODE\" = \"RHS\".\"SCHEME_CODE\")\n) \"dbplyr_003\") \"dbplyr_004\"\nWHERE (\"PERIOD\" = \"lastSwDate\" AND \"AS_OF\" = '2018-03-24' AND \"CATEGORY\" = 'Mid-Cap')) \"dbplyr_005\") \"dbplyr_006\"\nWHERE (\"zzz5\" <= 5.0)'\n  nanodbc/nanodbc.cpp:1587: 42S22: [Microsoft][ODBC Driver 17 for SQL Server][SQL Server]Invalid column name 'PERIOD'. \nTraceback:\n",
      "1. print(top5Aum)",
      "2. print.tbl_sql(top5Aum)",
      "3. cat_line(format(x, ..., n = n, width = width, n_extra = n_extra))",
      "4. cat(paste0(..., \"\\n\"), sep = \"\")",
      "5. paste0(..., \"\\n\")",
      "6. format(x, ..., n = n, width = width, n_extra = n_extra)",
      "7. format.tbl(x, ..., n = n, width = width, n_extra = n_extra)",
      "8. trunc_mat(x, n = n, width = width, n_extra = n_extra)",
      "9. as.data.frame(head(x, n + 1))",
      "10. as.data.frame.tbl_sql(head(x, n + 1))",
      "11. as.data.frame(collect(x, n = n))",
      "12. collect(x, n = n)",
      "13. collect.tbl_sql(x, n = n)",
      "14. db_collect(x$src$con, sql, n = n, warn_incomplete = warn_incomplete)",
      "15. db_collect.DBIConnection(x$src$con, sql, n = n, warn_incomplete = warn_incomplete)",
      "16. dbSendQuery(con, sql)",
      "17. dbSendQuery(con, sql)",
      "18. OdbcResult(connection = conn, statement = statement)",
      "19. new_result(connection@ptr, statement)"
     ]
    }
   ],
   "source": [
    "lastAumDate <- (mfi$AumSchemewise() %>%\n",
    "    filter(PERIOD <= as.Date('2018-01-01')) %>%\n",
    "    summarize(MAX_TS = max(PERIOD)) %>%\n",
    "    collect())$MAX_TS[1]\n",
    "\n",
    "lastMetaDate <- (mfi$Meta() %>%\n",
    "    filter(AS_OF >= lastAumDate) %>%\n",
    "    summarize(MIN_TS = min(AS_OF)) %>%\n",
    "    collect())$MIN_TS[1]\n",
    "\n",
    "print(lastAumDate)\n",
    "print(lastMetaDate)\n",
    "\n",
    "top5Aum <- mfi$Meta() %>% \n",
    "    inner_join(mfi$AumSchemewise(), by=\"SCHEME_CODE\") %>%\n",
    "    select(SCHEME_CODE, SCHEME_NAME, AVG_AUM_WO_FOFD) %>%\n",
    "    filter(PERIOD == lastSwDate & AS_OF == lastMetaDate & CATEGORY == 'Mid-Cap') %>%\n",
    "    top_n(n = 5, AVG_AUM_WO_FOFD)\n",
    "\n",
    "print(top5Aum)"
   ]
  },
  {
   "cell_type": "markdown",
   "metadata": {},
   "source": [
    "This notebook was created using [pluto](http://pluto.studio). Learn more [here](https://github.com/shyams80/pluto)"
   ]
  }
 ],
 "metadata": {
  "kernelspec": {
   "display_name": "R",
   "language": "R",
   "name": "ir"
  },
  "language_info": {
   "codemirror_mode": "r",
   "file_extension": ".r",
   "mimetype": "text/x-r-source",
   "name": "R",
   "pygments_lexer": "r",
   "version": "3.4.4"
  }
 },
 "nbformat": 4,
 "nbformat_minor": 2
}
