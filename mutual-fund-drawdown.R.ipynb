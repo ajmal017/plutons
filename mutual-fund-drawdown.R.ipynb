{
 "cells": [
  {
   "cell_type": "markdown",
   "metadata": {},
   "source": [
    "# Mutual funds vs. Index drawdowns\n",
    "\n",
    "Do active managers reduce drawdowns during downturns?"
   ]
  },
  {
   "cell_type": "code",
   "execution_count": null,
   "metadata": {},
   "outputs": [],
   "source": [
    "library(tidyverse)\n",
    "library(ggthemes)\n",
    "library(odbc)\n",
    "library(plutoR)\n",
    "library(quantmod)\n",
    "library(PerformanceAnalytics)\n",
    "\n",
    "options(\"scipen\"=999)\n",
    "options(stringsAsFactors = FALSE)\n",
    "options(repr.plot.width=16, repr.plot.height=8)\n",
    "\n",
    "source(\"config.R\")\n",
    "source(\"goofy/plot.common.R\")\n",
    "source(\"goofy/misc.common.R\")\n",
    "\n",
    "indices <- Indices()\n",
    "mfi <- MutualFundsIndia()"
   ]
  },
  {
   "cell_type": "markdown",
   "metadata": {},
   "source": [
    "2018 was a bad year. So lets look at the subsequent return profile of the top 5 midcap funds entring 2018 through June-2019."
   ]
  },
  {
   "cell_type": "code",
   "execution_count": null,
   "metadata": {},
   "outputs": [],
   "source": [
    "lastAumDate <- (mfi$AumSchemewise() %>%\n",
    "    filter(PERIOD <= as.Date('2018-01-01')) %>%\n",
    "    summarize(MAX_TS = max(PERIOD)) %>%\n",
    "    collect())$MAX_TS[1]\n",
    "\n",
    "lastMetaDate <- (mfi$Meta() %>%\n",
    "    filter(AS_OF >= lastAumDate) %>%\n",
    "    summarize(MIN_TS = min(AS_OF)) %>%\n",
    "    collect())$MIN_TS[1]\n",
    "\n",
    "print(lastAumDate)\n",
    "print(lastMetaDate)\n",
    "\n",
    "topAum <- mfi$Meta() %>% \n",
    "    inner_join(mfi$AumSchemewise(), by=\"SCHEME_CODE\") %>%\n",
    "    filter(PERIOD == lastAumDate & AS_OF == lastMetaDate & CATEGORY %like% '%Mid-Cap%') %>%\n",
    "    select(SCHEME_CODE, SCHEME_NAME, CATEGORY, AVG_AUM_WO_FOFD) %>%\n",
    "    arrange(AVG_AUM_WO_FOFD) %>%\n",
    "    top_n(10)\n",
    "\n",
    "print(topAum)"
   ]
  },
  {
   "cell_type": "markdown",
   "metadata": {},
   "source": [
    "funds went through a re-classification exercise later in 2018. we will handpick those that retained their \"mid-cap\" status after the shuffle."
   ]
  },
  {
   "cell_type": "code",
   "execution_count": null,
   "metadata": {},
   "outputs": [],
   "source": [
    "schemeCodes <- c(105758, 101539, 100473, 104481, 112932)\n",
    "\n",
    "startDate <- as.Date(\"2018-01-01\")\n",
    "endDate <- as.Date(\"2018-06-30\")\n",
    "\n",
    "indexName <- \"NIFTY MIDCAP 150 TR\"\n",
    "\n",
    "#get the daily returns of the funds\n",
    "navXts <- NULL\n",
    "for(sc in schemeCodes){\n",
    "    navs <- data.frame(mfi$NavTimeSeries() %>%\n",
    "        filter(SCHEME_CODE == scode & TIME_STAMP >= startDate & TIME_STAMP <= endDate) %>%\n",
    "        select(TIME_STAMP, NAV))\n",
    "    \n",
    "    navXts <- merge.xts(navXts, dailyReturn(xts(navs$NAV, navs$TIME_STAMP)))\n",
    "}\n",
    "\n",
    "#grab the benchmark\n",
    "bm <- data.frame(indices$NseTimeSeries() %>%\n",
    "    filter(NAME == indexName & TIME_STAMP >= startDate & TIME_STAMP <= endDate) %>%\n",
    "    select(TIME_STAMP, CLOSE))\n",
    "\n",
    "navXts <- merge.xts(navXts, dailyReturn(xts(bm$NAV, bm$TIME_STAMP)))\n",
    "names(navXts) <- c(schemeCodes, indexName)"
   ]
  },
  {
   "cell_type": "code",
   "execution_count": null,
   "metadata": {},
   "outputs": [],
   "source": [
    "# plot the cumulative returns\n",
    "Common.PlotCumReturns(navXts, \"Mutual funds vs. Index\", \"Midcaps vs. 150 TR\")\n"
   ]
  },
  {
   "cell_type": "code",
   "execution_count": null,
   "metadata": {},
   "outputs": [],
   "source": [
    "# legend\n",
    "topAum %>%\n",
    "    filter(SCHEME_CODE %in% schemeCodes) %>%\n",
    "    select(SCHEME_CODE, SCHEME_NAME) %>%\n",
    "    print()"
   ]
  },
  {
   "cell_type": "markdown",
   "metadata": {},
   "source": [
    "This notebook was created using [pluto](http://pluto.studio). Learn more [here](https://github.com/shyams80/pluto)"
   ]
  }
 ],
 "metadata": {
  "kernelspec": {
   "display_name": "R",
   "language": "R",
   "name": "ir"
  },
  "language_info": {
   "codemirror_mode": "r",
   "file_extension": ".r",
   "mimetype": "text/x-r-source",
   "name": "R",
   "pygments_lexer": "r",
   "version": "3.4.4"
  }
 },
 "nbformat": 4,
 "nbformat_minor": 2
}
