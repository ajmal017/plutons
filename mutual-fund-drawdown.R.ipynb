{
 "cells": [
  {
   "cell_type": "markdown",
   "metadata": {},
   "source": [
    "# Mutual funds vs. Index drawdowns\n",
    "\n",
    "Do active managers reduce drawdowns during downturns?"
   ]
  },
  {
   "cell_type": "code",
   "execution_count": 1,
   "metadata": {},
   "outputs": [
    {
     "name": "stderr",
     "output_type": "stream",
     "text": [
      "── \u001b[1mAttaching packages\u001b[22m ─────────────────────────────────────── tidyverse 1.2.1 ──\n",
      "\u001b[32m✔\u001b[39m \u001b[34mggplot2\u001b[39m 3.2.0     \u001b[32m✔\u001b[39m \u001b[34mpurrr  \u001b[39m 0.3.2\n",
      "\u001b[32m✔\u001b[39m \u001b[34mtibble \u001b[39m 2.1.3     \u001b[32m✔\u001b[39m \u001b[34mdplyr  \u001b[39m 0.8.1\n",
      "\u001b[32m✔\u001b[39m \u001b[34mtidyr  \u001b[39m 0.8.3     \u001b[32m✔\u001b[39m \u001b[34mstringr\u001b[39m 1.4.0\n",
      "\u001b[32m✔\u001b[39m \u001b[34mreadr  \u001b[39m 1.3.1     \u001b[32m✔\u001b[39m \u001b[34mforcats\u001b[39m 0.4.0\n",
      "── \u001b[1mConflicts\u001b[22m ────────────────────────────────────────── tidyverse_conflicts() ──\n",
      "\u001b[31m✖\u001b[39m \u001b[34mdplyr\u001b[39m::\u001b[32mfilter()\u001b[39m masks \u001b[34mstats\u001b[39m::filter()\n",
      "\u001b[31m✖\u001b[39m \u001b[34mdplyr\u001b[39m::\u001b[32mlag()\u001b[39m    masks \u001b[34mstats\u001b[39m::lag()\n",
      "Loading required package: xts\n",
      "Loading required package: zoo\n",
      "\n",
      "Attaching package: ‘zoo’\n",
      "\n",
      "The following objects are masked from ‘package:base’:\n",
      "\n",
      "    as.Date, as.Date.numeric\n",
      "\n",
      "\n",
      "Attaching package: ‘xts’\n",
      "\n",
      "The following objects are masked from ‘package:dplyr’:\n",
      "\n",
      "    first, last\n",
      "\n",
      "Loading required package: TTR\n",
      "Version 0.4-0 included new data defaults. See ?getSymbols.\n",
      "\n",
      "Attaching package: ‘PerformanceAnalytics’\n",
      "\n",
      "The following object is masked from ‘package:graphics’:\n",
      "\n",
      "    legend\n",
      "\n",
      "Registering fonts with R\n",
      "\n",
      "Attaching package: ‘gridExtra’\n",
      "\n",
      "The following object is masked from ‘package:dplyr’:\n",
      "\n",
      "    combine\n",
      "\n",
      "\n",
      "Attaching package: ‘lubridate’\n",
      "\n",
      "The following object is masked from ‘package:base’:\n",
      "\n",
      "    date\n",
      "\n"
     ]
    }
   ],
   "source": [
    "library(tidyverse)\n",
    "library(ggthemes)\n",
    "library(odbc)\n",
    "library(plutoR)\n",
    "library(quantmod)\n",
    "library(PerformanceAnalytics)\n",
    "\n",
    "options(\"scipen\"=999)\n",
    "options(stringsAsFactors = FALSE)\n",
    "options(repr.plot.width=16, repr.plot.height=8)\n",
    "\n",
    "source(\"config.R\")\n",
    "source(\"goofy/plot.common.R\")\n",
    "source(\"goofy/misc.common.R\")\n",
    "\n",
    "indices <- Indices()\n",
    "mfi <- MutualFundsIndia()"
   ]
  },
  {
   "cell_type": "markdown",
   "metadata": {},
   "source": [
    "2018 was a bad year. So lets look at the subsequent return profile of the top 5 midcap funds entring 2018 through June-2019."
   ]
  },
  {
   "cell_type": "code",
   "execution_count": 2,
   "metadata": {},
   "outputs": [
    {
     "name": "stderr",
     "output_type": "stream",
     "text": [
      "Warning message:\n",
      "“Missing values are always removed in SQL.\n",
      "Use `MAX(x, na.rm = TRUE)` to silence this warning\n",
      "This warning is displayed only once per session.”Warning message:\n",
      "“Missing values are always removed in SQL.\n",
      "Use `MIN(x, na.rm = TRUE)` to silence this warning\n",
      "This warning is displayed only once per session.”"
     ]
    },
    {
     "name": "stdout",
     "output_type": "stream",
     "text": [
      "[1] \"2017-12-01\"\n",
      "[1] \"2018-03-24\"\n",
      "\u001b[38;5;246m# Source:   lazy query [?? x 3]\u001b[39m\n",
      "\u001b[38;5;246m# Database: Microsoft SQL Server 13.00.4224[ro1@NORWAY/StockViz]\u001b[39m\n",
      "\u001b[38;5;246m# … with 3 variables: SCHEME_CODE \u001b[3m\u001b[38;5;246m<int>\u001b[38;5;246m\u001b[23m, SCHEME_NAME \u001b[3m\u001b[38;5;246m<chr>\u001b[38;5;246m\u001b[23m,\n",
      "#   AVG_AUM_WO_FOFD \u001b[3m\u001b[38;5;246m<dbl>\u001b[38;5;246m\u001b[23m\u001b[39m\n"
     ]
    }
   ],
   "source": [
    "lastAumDate <- (mfi$AumSchemewise() %>%\n",
    "    filter(PERIOD <= as.Date('2018-01-01')) %>%\n",
    "    summarize(MAX_TS = max(PERIOD)) %>%\n",
    "    collect())$MAX_TS[1]\n",
    "\n",
    "lastMetaDate <- (mfi$Meta() %>%\n",
    "    filter(AS_OF >= lastAumDate) %>%\n",
    "    summarize(MIN_TS = min(AS_OF)) %>%\n",
    "    collect())$MIN_TS[1]\n",
    "\n",
    "print(lastAumDate)\n",
    "print(lastMetaDate)\n",
    "\n",
    "top5Aum <- mfi$Meta() %>% \n",
    "    inner_join(mfi$AumSchemewise(), by=\"SCHEME_CODE\") %>%\n",
    "    filter(PERIOD == lastAumDate & AS_OF == lastMetaDate & CATEGORY == 'Mid-Cap') %>%\n",
    "    select(SCHEME_CODE, SCHEME_NAME, AVG_AUM_WO_FOFD) %>%\n",
    "    top_n(n = 5, AVG_AUM_WO_FOFD)\n",
    "\n",
    "print(top5Aum)"
   ]
  },
  {
   "cell_type": "markdown",
   "metadata": {},
   "source": [
    "This notebook was created using [pluto](http://pluto.studio). Learn more [here](https://github.com/shyams80/pluto)"
   ]
  }
 ],
 "metadata": {
  "kernelspec": {
   "display_name": "R",
   "language": "R",
   "name": "ir"
  },
  "language_info": {
   "codemirror_mode": "r",
   "file_extension": ".r",
   "mimetype": "text/x-r-source",
   "name": "R",
   "pygments_lexer": "r",
   "version": "3.4.4"
  }
 },
 "nbformat": 4,
 "nbformat_minor": 2
}
