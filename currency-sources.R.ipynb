{
 "cells": [
  {
   "cell_type": "markdown",
   "metadata": {},
   "source": [
    "# Different sources have different prices for the same currency pair\n",
    "\n",
    "Some sources look at currency futures, some at spot. Currencies are traded 24/7 so depending on the time at which a \"close\" is computed, you could land up with different prices.\n",
    "\n",
    "pluto has 3 different sources for USDINR: Fred, Nse Futures and AlphaVantage. Here, we will look at how differ from one-another."
   ]
  },
  {
   "cell_type": "code",
   "execution_count": null,
   "metadata": {},
   "outputs": [],
   "source": [
    "library(tidyverse)\n",
    "library(ggthemes)\n",
    "library(odbc)\n",
    "library(RPostgres)\n",
    "library(plutoR)\n",
    "library(quantmod)\n",
    "library(PerformanceAnalytics)\n",
    "library(reshape2)\n",
    "library(ggrepel)\n",
    "library(ggpubr)\n",
    "\n",
    "options(\"scipen\"=999)\n",
    "options(stringsAsFactors = FALSE)\n",
    "options(repr.plot.width=16, repr.plot.height=8)\n",
    "\n",
    "source(\"config.R\")\n",
    "source(\"goofy/plot.common.R\")\n",
    "source(\"goofy/misc.common.R\")\n",
    "\n",
    "#initialize\n",
    "currencies <- Currencies()\n",
    "fred<-Fred()"
   ]
  },
  {
   "cell_type": "code",
   "execution_count": null,
   "metadata": {},
   "outputs": [],
   "source": [
    "# sample: https://github.com/shyams80/plutons/blob/master/docs-R/Currencies.ipynb\n",
    "# from the sample, we know that USDINR started trading on the NSE from 2010-10-29 \n",
    "# but AlphaVantage data goes back only to 2014-11-07\n",
    "\n",
    "# sample: http://pluto.studio/user/shyams80/notebooks/docs-R/Fred.ipynb, Fred series is DEXINUS -2147478748\n",
    "startDate <- as.Date(\"2014-11-07\")\n",
    "\n",
    "fredFx <- fred$TimeSeries() %>% \n",
    "    filter(SERIES_ID == -2147478748, TIME_STAMP >= startDate) %>% \n",
    "    select(TIME_STAMP, VAL) %>%\n",
    "    collect()\n",
    "\n",
    "closestExpiries <- currencies$NseFuturesTimeSeries() %>%\n",
    "    filter(TIME_STAMP >= startDate & SYMBOL == 'USDINR') %>%\n",
    "    group_by(TIME_STAMP) %>%\n",
    "    summarize(EXPIRY_DT = min(EXPIRY)) \n",
    "\n",
    "nseFx <- closestExpiries %>% \n",
    "    inner_join(currencies$NseFuturesTimeSeries(), by=c('TIME_STAMP' = 'TIME_STAMP', 'EXPIRY_DT' = 'EXPIRY')) %>%\n",
    "    filter(TIME_STAMP >= startDate & SYMBOL == 'USDINR') %>%\n",
    "    select(TIME_STAMP, CLOSE) %>%\n",
    "    collect()\n",
    "\n",
    "avFx <- currencies$AvEodTimeSeries() %>%\n",
    "    filter(TIME_STAMP >= startDate & SYMBOL == 'INR') %>%\n",
    "    select(TIME_STAMP, CLOSE) %>%\n",
    "    collect()"
   ]
  },
  {
   "cell_type": "code",
   "execution_count": null,
   "metadata": {},
   "outputs": [],
   "source": [
    "monthlies <- merge(Common.NormalizeMonthlyDates(monthlyReturn(xts(fredFx$VAL, fredFx$TIME_STAMP))), \n",
    "                   Common.NormalizeMonthlyDates(monthlyReturn(xts(nseFx$CLOSE, nseFx$TIME_STAMP))),\n",
    "                   Common.NormalizeMonthlyDates(monthlyReturn(xts(avFx$CLOSE, avFx$TIME_STAMP))))\n",
    "names(monthlies) <-c('FRED', 'NSE', \"AV\")\n",
    "\n",
    "monthlies <- monthlies[-1,]\n",
    "monthlies <- monthlies[-nrow(monthlies),]\n",
    "\n",
    "print(head(monthlies))"
   ]
  },
  {
   "cell_type": "code",
   "execution_count": null,
   "metadata": {},
   "outputs": [],
   "source": [
    "Common.PlotCumReturns(monthlies, \"USDINR from different sources\", NA)"
   ]
  }
 ],
 "metadata": {
  "kernelspec": {
   "display_name": "R",
   "language": "R",
   "name": "ir"
  },
  "language_info": {
   "codemirror_mode": "r",
   "file_extension": ".r",
   "mimetype": "text/x-r-source",
   "name": "R",
   "pygments_lexer": "r",
   "version": "3.4.4"
  }
 },
 "nbformat": 4,
 "nbformat_minor": 2
}
