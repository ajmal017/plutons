{
 "cells": [
  {
   "cell_type": "markdown",
   "metadata": {},
   "source": [
    "# Charting the relative performance of the gold and NIFTY 50 etfs: GOLDBEES vs. NIFTYBEES\n",
    "\n",
    "We had previously charted gold vs. the NIFTY 50 TR index [here](). Since our gold price data-set was in USD, we had convert the prices to INR before we could compare the two. The GOLDBEES etf - an exchange traded gold etf - was launched in 2007-03-19. So if you don't care about the world before that, you can use it as a proxy for gold in INR."
   ]
  },
  {
   "cell_type": "code",
   "execution_count": null,
   "metadata": {},
   "outputs": [],
   "source": [
    "library(tidyverse)\n",
    "library(ggthemes)\n",
    "library(odbc)\n",
    "library(RPostgres)\n",
    "library(plutoR)\n",
    "library(quantmod)\n",
    "library(PerformanceAnalytics)\n",
    "\n",
    "options(\"scipen\"=999)\n",
    "options(stringsAsFactors = FALSE)\n",
    "options(repr.plot.width=16, repr.plot.height=8)\n",
    "\n",
    "source(\"config.R\")\n",
    "source(\"goofy/plot.common.R\")\n",
    "source(\"goofy/misc.common.R\")\n",
    "\n",
    "#initialize\n",
    "equitiesIndiaNse <- EquitiesIndiaNse()"
   ]
  },
  {
   "cell_type": "code",
   "execution_count": null,
   "metadata": {},
   "outputs": [],
   "source": [
    "startDt <- as.Date('2007-03-20')\n",
    "eqSym1 <- 'GOLDBEES'\n",
    "eqSym2 <- 'NIFTYBEES'"
   ]
  },
  {
   "cell_type": "code",
   "execution_count": null,
   "metadata": {},
   "outputs": [],
   "source": [
    "eqDt1 <- equitiesIndiaNse$EodTimeSeries() %>%\n",
    "    filter(TIME_STAMP >= startDt & SYMBOL == eqSym1) %>%\n",
    "    select(TIME_STAMP, CLOSE) %>%\n",
    "    collect()\n",
    "\n",
    "eqDt2 <- equitiesIndiaNse$EodTimeSeries() %>%\n",
    "    filter(TIME_STAMP >= startDt & SYMBOL == eqSym2) %>%\n",
    "    select(TIME_STAMP, CLOSE) %>%\n",
    "    collect()"
   ]
  },
  {
   "cell_type": "code",
   "execution_count": null,
   "metadata": {},
   "outputs": [],
   "source": [
    "monthlies <- merge(Common.NormalizeMonthlyDates(monthlyReturn(xts(eqDt1$CLOSE, eqDt1$TIME_STAMP))), \n",
    "                   Common.NormalizeMonthlyDates(monthlyReturn(xts(eqDt2$CLOSE, eqDt2$TIME_STAMP))))\n",
    "names(monthlies) <-c(eqSym1, eqSym2)\n",
    "\n",
    "print(head(monthlies))"
   ]
  }
 ],
 "metadata": {
  "kernelspec": {
   "display_name": "R",
   "language": "R",
   "name": "ir"
  },
  "language_info": {
   "codemirror_mode": "r",
   "file_extension": ".r",
   "mimetype": "text/x-r-source",
   "name": "R",
   "pygments_lexer": "r",
   "version": "3.4.4"
  }
 },
 "nbformat": 4,
 "nbformat_minor": 2
}
