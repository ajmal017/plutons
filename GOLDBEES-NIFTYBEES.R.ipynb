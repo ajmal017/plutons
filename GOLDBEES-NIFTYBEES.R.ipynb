{
 "cells": [
  {
   "cell_type": "markdown",
   "metadata": {},
   "source": [
    "# Charting the relative performance of the gold and NIFTY 50 etfs: GOLDBEES vs. NIFTYBEES\n",
    "\n",
    "We had previously charted gold vs. the NIFTY 50 TR index [here](https://github.com/stockviz/plutons/blob/master/gold-nifty50.ipynb). Since our gold price data-set was in USD, we had convert the prices to INR before we could compare the two. The GOLDBEES etf - an exchange traded gold etf - was launched in 2007-03-19. So if you don't care about the world before that, you can use it as a proxy for gold in INR."
   ]
  },
  {
   "cell_type": "code",
   "execution_count": 1,
   "metadata": {},
   "outputs": [
    {
     "name": "stderr",
     "output_type": "stream",
     "text": [
      "── \u001b[1mAttaching packages\u001b[22m ─────────────────────────────────────── tidyverse 1.2.1 ──\n",
      "\u001b[32m✔\u001b[39m \u001b[34mggplot2\u001b[39m 3.2.0     \u001b[32m✔\u001b[39m \u001b[34mpurrr  \u001b[39m 0.3.2\n",
      "\u001b[32m✔\u001b[39m \u001b[34mtibble \u001b[39m 2.1.3     \u001b[32m✔\u001b[39m \u001b[34mdplyr  \u001b[39m 0.8.1\n",
      "\u001b[32m✔\u001b[39m \u001b[34mtidyr  \u001b[39m 0.8.3     \u001b[32m✔\u001b[39m \u001b[34mstringr\u001b[39m 1.4.0\n",
      "\u001b[32m✔\u001b[39m \u001b[34mreadr  \u001b[39m 1.3.1     \u001b[32m✔\u001b[39m \u001b[34mforcats\u001b[39m 0.4.0\n",
      "── \u001b[1mConflicts\u001b[22m ────────────────────────────────────────── tidyverse_conflicts() ──\n",
      "\u001b[31m✖\u001b[39m \u001b[34mdplyr\u001b[39m::\u001b[32mfilter()\u001b[39m masks \u001b[34mstats\u001b[39m::filter()\n",
      "\u001b[31m✖\u001b[39m \u001b[34mdplyr\u001b[39m::\u001b[32mlag()\u001b[39m    masks \u001b[34mstats\u001b[39m::lag()\n",
      "Loading required package: xts\n",
      "Loading required package: zoo\n",
      "\n",
      "Attaching package: ‘zoo’\n",
      "\n",
      "The following objects are masked from ‘package:base’:\n",
      "\n",
      "    as.Date, as.Date.numeric\n",
      "\n",
      "\n",
      "Attaching package: ‘xts’\n",
      "\n",
      "The following objects are masked from ‘package:dplyr’:\n",
      "\n",
      "    first, last\n",
      "\n",
      "Loading required package: TTR\n",
      "Version 0.4-0 included new data defaults. See ?getSymbols.\n",
      "\n",
      "Attaching package: ‘PerformanceAnalytics’\n",
      "\n",
      "The following object is masked from ‘package:graphics’:\n",
      "\n",
      "    legend\n",
      "\n"
     ]
    },
    {
     "ename": "ERROR",
     "evalue": "Error in library(reshap2): there is no package called ‘reshap2’\n",
     "output_type": "error",
     "traceback": [
      "Error in library(reshap2): there is no package called ‘reshap2’\nTraceback:\n",
      "1. library(reshap2)",
      "2. stop(txt, domain = NA)"
     ]
    }
   ],
   "source": [
    "library(tidyverse)\n",
    "library(ggthemes)\n",
    "library(odbc)\n",
    "library(RPostgres)\n",
    "library(plutoR)\n",
    "library(quantmod)\n",
    "library(PerformanceAnalytics)\n",
    "library(reshap2)\n",
    "\n",
    "options(\"scipen\"=999)\n",
    "options(stringsAsFactors = FALSE)\n",
    "options(repr.plot.width=16, repr.plot.height=8)\n",
    "\n",
    "source(\"config.R\")\n",
    "source(\"goofy/plot.common.R\")\n",
    "source(\"goofy/misc.common.R\")\n",
    "\n",
    "#initialize\n",
    "equitiesIndiaNse <- EquitiesIndiaNse()"
   ]
  },
  {
   "cell_type": "code",
   "execution_count": 2,
   "metadata": {},
   "outputs": [],
   "source": [
    "startDt <- as.Date('2007-03-20')\n",
    "eqSym1 <- 'GOLDBEES'\n",
    "eqSym2 <- 'NIFTYBEES'"
   ]
  },
  {
   "cell_type": "code",
   "execution_count": 3,
   "metadata": {},
   "outputs": [
    {
     "ename": "ERROR",
     "evalue": "Error in eval(lhs, parent, parent): object 'equitiesIndiaNse' not found\n",
     "output_type": "error",
     "traceback": [
      "Error in eval(lhs, parent, parent): object 'equitiesIndiaNse' not found\nTraceback:\n",
      "1. equitiesIndiaNse$EodTimeSeries() %>% filter(TIME_STAMP >= startDt & \n .     SYMBOL == eqSym1) %>% select(TIME_STAMP, CLOSE) %>% collect()",
      "2. eval(lhs, parent, parent)",
      "3. eval(lhs, parent, parent)"
     ]
    }
   ],
   "source": [
    "eqDt1 <- equitiesIndiaNse$EodTimeSeries() %>%\n",
    "    filter(TIME_STAMP >= startDt & SYMBOL == eqSym1) %>%\n",
    "    select(TIME_STAMP, CLOSE) %>%\n",
    "    collect()\n",
    "\n",
    "eqDt2 <- equitiesIndiaNse$EodTimeSeries() %>%\n",
    "    filter(TIME_STAMP >= startDt & SYMBOL == eqSym2) %>%\n",
    "    select(TIME_STAMP, CLOSE) %>%\n",
    "    collect()\n",
    "\n",
    "eqXts1 <- xts(eqDt1$CLOSE, eqDt1$TIME_STAMP)\n",
    "eqXts2 <- xts(eqDt2$CLOSE, eqDt2$TIME_STAMP)"
   ]
  },
  {
   "cell_type": "code",
   "execution_count": 4,
   "metadata": {},
   "outputs": [
    {
     "ename": "ERROR",
     "evalue": "Error in Common.NormalizeMonthlyDates(monthlyReturn(eqXts1)): could not find function \"Common.NormalizeMonthlyDates\"\n",
     "output_type": "error",
     "traceback": [
      "Error in Common.NormalizeMonthlyDates(monthlyReturn(eqXts1)): could not find function \"Common.NormalizeMonthlyDates\"\nTraceback:\n",
      "1. merge(Common.NormalizeMonthlyDates(monthlyReturn(eqXts1)), Common.NormalizeMonthlyDates(monthlyReturn(eqXts2)))"
     ]
    }
   ],
   "source": [
    "#calculate monthly returns\n",
    "monthlies <- merge(Common.NormalizeMonthlyDates(monthlyReturn(eqXts1)), \n",
    "                   Common.NormalizeMonthlyDates(monthlyReturn(eqXts2)))\n",
    "names(monthlies) <-c(eqSym1, eqSym2)\n",
    "\n",
    "#remove the first and last rows to account for stubs\n",
    "monthlies <- monthlies[-1,]\n",
    "monthlies <- monthlies[-nrow(monthlies),]\n",
    "\n",
    "print(head(monthlies))"
   ]
  },
  {
   "cell_type": "code",
   "execution_count": 5,
   "metadata": {},
   "outputs": [
    {
     "ename": "ERROR",
     "evalue": "Error in Common.PlotCumReturns(monthlies, sprintf(\"%s vs. %s\", eqSym1, : could not find function \"Common.PlotCumReturns\"\n",
     "output_type": "error",
     "traceback": [
      "Error in Common.PlotCumReturns(monthlies, sprintf(\"%s vs. %s\", eqSym1, : could not find function \"Common.PlotCumReturns\"\nTraceback:\n"
     ]
    }
   ],
   "source": [
    "Common.PlotCumReturns(monthlies, sprintf(\"%s vs. %s\", eqSym1, eqSym2), \"\")"
   ]
  },
  {
   "cell_type": "code",
   "execution_count": 6,
   "metadata": {},
   "outputs": [
    {
     "ename": "ERROR",
     "evalue": "Error in inherits(x, \"xts\"): object 'eqXts1' not found\n",
     "output_type": "error",
     "traceback": [
      "Error in inherits(x, \"xts\"): object 'eqXts1' not found\nTraceback:\n",
      "1. merge(yearlyReturn(eqXts1), yearlyReturn(eqXts2))",
      "2. yearlyReturn(eqXts1)",
      "3. periodReturn(x, \"yearly\", subset, type, leading, ...)",
      "4. try.xts(x)",
      "5. is.xts(x)",
      "6. inherits(x, \"xts\")"
     ]
    }
   ],
   "source": [
    "#calculate yearly returns\n",
    "yearlies <- 100*merge(yearlyReturn(eqXts1), yearlyReturn(eqXts2))\n",
    "names(monthlies) <-c(eqSym1, eqSym2)\n",
    "\n",
    "#remove the first and last rows to account for stubs\n",
    "yearlies <- yearlies[-1,]\n",
    "yearlies <- yearlies[-nrow(yearlies),]\n",
    "\n",
    "print(head(yearlies))"
   ]
  },
  {
   "cell_type": "code",
   "execution_count": 7,
   "metadata": {},
   "outputs": [
    {
     "ename": "ERROR",
     "evalue": "Error in data.frame(yearlies): object 'yearlies' not found\n",
     "output_type": "error",
     "traceback": [
      "Error in data.frame(yearlies): object 'yearlies' not found\nTraceback:\n",
      "1. data.frame(yearlies)"
     ]
    }
   ],
   "source": [
    "yDf <- data.frame(yearlies)\n",
    "yDf$T <- year(index(yearlies))\n",
    "\n",
    "toPlot <- melt(yDf, id='T')\n",
    "\n",
    "ggplot(toPlot, aes(x=T, y=value, fill=variable)) +\n",
    "    theme_economist() +\n",
    "    geom_bar(stat=\"identity\", position=position_dodge()) +\n",
    "    scale_x_continuous(labels=yDf$T, breaks=yDf$T) +\n",
    "    geom_text_repel(aes(label= round(value, 2)), position = position_dodge(0.9)) +\n",
    "    labs(x='', y='(%)', fill='', title=sprintf(\"%s vs. %s\", eqSym1, eqSym2), \n",
    "         subtitle=\"Annual Returns\") +\n",
    "    annotate(\"text\", x=max(yDf$T), y=min(toPlot$value), \n",
    "             label = \"@StockViz\", hjust=1.1, vjust=-1.1, \n",
    "             col=\"white\", cex=6, fontface = \"bold\", alpha = 0.8)  "
   ]
  },
  {
   "cell_type": "markdown",
   "metadata": {},
   "source": [
    "This notebook was created using [pluto](http://pluto.studio). Learn more [here](https://github.com/shyams80/pluto)"
   ]
  }
 ],
 "metadata": {
  "kernelspec": {
   "display_name": "R",
   "language": "R",
   "name": "ir"
  },
  "language_info": {
   "codemirror_mode": "r",
   "file_extension": ".r",
   "mimetype": "text/x-r-source",
   "name": "R",
   "pygments_lexer": "r",
   "version": "3.4.4"
  }
 },
 "nbformat": 4,
 "nbformat_minor": 2
}
