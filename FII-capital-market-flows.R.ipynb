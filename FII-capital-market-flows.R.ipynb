{
 "cells": [
  {
   "cell_type": "markdown",
   "metadata": {},
   "source": [
    "# Tracking FII flows\n",
    "\n",
    "Plots the Foreign Institutional Investment flows in/out of Indian capital markets.\n",
    "Follows the documentation [here](https://github.com/shyams80/plutons/blob/master/docs-R/InvestmentFlowsIndia.ipynb)"
   ]
  },
  {
   "cell_type": "code",
   "execution_count": null,
   "metadata": {},
   "outputs": [],
   "source": [
    "library(tidyverse)\n",
    "library(ggthemes)\n",
    "library(odbc)\n",
    "library(plutoR)\n",
    "library(quantmod)\n",
    "library(PerformanceAnalytics)\n",
    "library(ggrepel)\n",
    "\n",
    "options(\"scipen\"=999)\n",
    "options(stringsAsFactors = FALSE)\n",
    "source(\"config.R\")\n",
    "source(\"goofy/plot.common.R\")\n",
    "\n",
    "#initialize\n",
    "iflows <- InvestmentFlowsIndia()"
   ]
  },
  {
   "cell_type": "code",
   "execution_count": null,
   "metadata": {},
   "outputs": [],
   "source": [
    "fiiDebt <- iflows$FiiCashMarket() %>%\n",
    "    filter(SECURITY_TYPE == 'Debt') %>%\n",
    "    group_by(TIME_STAMP) %>%\n",
    "    summarize(NET = sum(BUY_VALUE - SELL_VALUE)) %>%\n",
    "    arrange(TIME_STAMP) %>%\n",
    "    select(TIME_STAMP, NET) %>%\n",
    "    collect() %>%\n",
    "    as.data.frame()\n",
    "\n",
    "fiiEquity <- iflows$FiiCashMarket() %>%\n",
    "    filter(SECURITY_TYPE == 'Equity') %>%\n",
    "    group_by(TIME_STAMP) %>%\n",
    "    summarize(NET = sum(BUY_VALUE - SELL_VALUE)) %>%\n",
    "    arrange(TIME_STAMP) %>%\n",
    "    select(TIME_STAMP, NET) %>%\n",
    "    collect() %>%\n",
    "    as.data.frame()\n",
    "\n",
    "fiiHybrid <- iflows$FiiCashMarket() %>%\n",
    "    filter(SECURITY_TYPE == 'Hybrid') %>%\n",
    "    group_by(TIME_STAMP) %>%\n",
    "    summarize(NET = sum(BUY_VALUE - SELL_VALUE)) %>%\n",
    "    arrange(TIME_STAMP) %>%\n",
    "    select(TIME_STAMP, NET) %>%\n",
    "    collect() %>%\n",
    "    as.data.frame()\n"
   ]
  },
  {
   "cell_type": "markdown",
   "metadata": {},
   "source": [
    "### Debt flows"
   ]
  },
  {
   "cell_type": "code",
   "execution_count": null,
   "metadata": {},
   "outputs": [],
   "source": [
    "firstDate <- first(fiiDebt$TIME_STAMP)\n",
    "lastDate <- last(fiiDebt$TIME_STAMP)\n",
    "xAxisTicks <- seq(from=firstDate, to=lastDate, length.out=20)\n",
    "\n",
    "ggplot(fiiDebt, aes(x=TIME_STAMP, y=NET)) +\n",
    "    theme_economist() +\n",
    "    geom_line() +\n",
    "    scale_x_date(breaks = xAxisTicks) +\n",
    "    labs(x='', y='Rs. Crore', color='', title=\"FII Debt Flows\", \n",
    "         subtitle=sprintf(\"[%s:%s]\", firstDate, lastDate)) +\n",
    "    annotate(\"text\", x=lastDate, y=min(fiiDebt$NET, na.rm=T), label = \"@StockViz\", \n",
    "             hjust=1.1, vjust=-1.1, col=\"white\", cex=6, fontface = \"bold\", alpha = 0.8)"
   ]
  },
  {
   "cell_type": "markdown",
   "metadata": {},
   "source": [
    "This notebook was created using [pluto](http://pluto.studio). Learn more [here](https://github.com/shyams80/pluto)"
   ]
  }
 ],
 "metadata": {
  "kernelspec": {
   "display_name": "R",
   "language": "R",
   "name": "ir"
  },
  "language_info": {
   "codemirror_mode": "r",
   "file_extension": ".r",
   "mimetype": "text/x-r-source",
   "name": "R",
   "pygments_lexer": "r",
   "version": "3.4.4"
  }
 },
 "nbformat": 4,
 "nbformat_minor": 2
}
