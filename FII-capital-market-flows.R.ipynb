{
 "cells": [
  {
   "cell_type": "markdown",
   "metadata": {},
   "source": [
    "# Tracking FII flows\n",
    "\n",
    "Plots the Foreign Institutional Investment flows in/out of Indian capital markets.\n",
    "Follows the documentation [here](https://github.com/shyams80/plutons/blob/master/docs-R/InvestmentFlowsIndia.ipynb)"
   ]
  },
  {
   "cell_type": "code",
   "execution_count": 1,
   "metadata": {},
   "outputs": [
    {
     "name": "stderr",
     "output_type": "stream",
     "text": [
      "── \u001b[1mAttaching packages\u001b[22m ─────────────────────────────────────── tidyverse 1.2.1 ──\n",
      "\u001b[32m✔\u001b[39m \u001b[34mggplot2\u001b[39m 3.2.0     \u001b[32m✔\u001b[39m \u001b[34mpurrr  \u001b[39m 0.3.2\n",
      "\u001b[32m✔\u001b[39m \u001b[34mtibble \u001b[39m 2.1.3     \u001b[32m✔\u001b[39m \u001b[34mdplyr  \u001b[39m 0.8.3\n",
      "\u001b[32m✔\u001b[39m \u001b[34mtidyr  \u001b[39m 0.8.3     \u001b[32m✔\u001b[39m \u001b[34mstringr\u001b[39m 1.4.0\n",
      "\u001b[32m✔\u001b[39m \u001b[34mreadr  \u001b[39m 1.3.1     \u001b[32m✔\u001b[39m \u001b[34mforcats\u001b[39m 0.4.0\n",
      "── \u001b[1mConflicts\u001b[22m ────────────────────────────────────────── tidyverse_conflicts() ──\n",
      "\u001b[31m✖\u001b[39m \u001b[34mdplyr\u001b[39m::\u001b[32mfilter()\u001b[39m masks \u001b[34mstats\u001b[39m::filter()\n",
      "\u001b[31m✖\u001b[39m \u001b[34mdplyr\u001b[39m::\u001b[32mlag()\u001b[39m    masks \u001b[34mstats\u001b[39m::lag()\n",
      "Loading required package: xts\n",
      "Loading required package: zoo\n",
      "\n",
      "Attaching package: ‘zoo’\n",
      "\n",
      "The following objects are masked from ‘package:base’:\n",
      "\n",
      "    as.Date, as.Date.numeric\n",
      "\n",
      "Registered S3 method overwritten by 'xts':\n",
      "  method     from\n",
      "  as.zoo.xts zoo \n",
      "\n",
      "Attaching package: ‘xts’\n",
      "\n",
      "The following objects are masked from ‘package:dplyr’:\n",
      "\n",
      "    first, last\n",
      "\n",
      "Loading required package: TTR\n",
      "Registered S3 method overwritten by 'quantmod':\n",
      "  method            from\n",
      "  as.zoo.data.frame zoo \n",
      "Version 0.4-0 included new data defaults. See ?getSymbols.\n",
      "\n",
      "Attaching package: ‘PerformanceAnalytics’\n",
      "\n",
      "The following object is masked from ‘package:graphics’:\n",
      "\n",
      "    legend\n",
      "\n",
      "Registering fonts with R\n"
     ]
    }
   ],
   "source": [
    "library(tidyverse)\n",
    "library(ggthemes)\n",
    "library(odbc)\n",
    "library(plutoR)\n",
    "library(quantmod)\n",
    "library(PerformanceAnalytics)\n",
    "\n",
    "options(\"scipen\"=999)\n",
    "options(stringsAsFactors = FALSE)\n",
    "source(\"config.R\")\n",
    "source(\"goofy/plot.common.R\")\n",
    "\n",
    "#initialize\n",
    "iflows <- InvestmentFlowsIndia()"
   ]
  },
  {
   "cell_type": "code",
   "execution_count": 2,
   "metadata": {},
   "outputs": [
    {
     "name": "stderr",
     "output_type": "stream",
     "text": [
      "Warning message:\n",
      "“Missing values are always removed in SQL.\n",
      "Use `SUM(x, na.rm = TRUE)` to silence this warning\n",
      "This warning is displayed only once per session.”"
     ]
    },
    {
     "name": "stdout",
     "output_type": "stream",
     "text": [
      "\u001b[38;5;246m# A tibble: 4,967 x 3\u001b[39m\n",
      "\u001b[38;5;246m# Groups:   TIME_STAMP [2,294]\u001b[39m\n",
      "  TIME_STAMP SECURITY_TYPE   NET\n",
      "  \u001b[3m\u001b[38;5;246m<date>\u001b[39m\u001b[23m     \u001b[3m\u001b[38;5;246m<chr>\u001b[39m\u001b[23m         \u001b[3m\u001b[38;5;246m<dbl>\u001b[39m\u001b[23m\n",
      "\u001b[38;5;250m1\u001b[39m 2009-12-01 Debt           329.\n",
      "\u001b[38;5;250m2\u001b[39m 2009-12-01 Equity         700.\n",
      "\u001b[38;5;250m3\u001b[39m 2009-12-02 Debt          -\u001b[31m194\u001b[39m\u001b[31m.\u001b[39m\n",
      "\u001b[38;5;250m4\u001b[39m 2009-12-02 Equity        \u001b[4m2\u001b[24m310 \n",
      "\u001b[38;5;250m5\u001b[39m 2009-12-03 Debt          -\u001b[31m277\u001b[39m\u001b[31m.\u001b[39m\n",
      "\u001b[38;5;246m# … with 4,962 more rows\u001b[39m\n",
      "\u001b[38;5;246m# A tibble: 6 x 3\u001b[39m\n",
      "  TIME_STAMP SECURITY_TYPE      NET\n",
      "  \u001b[3m\u001b[38;5;246m<date>\u001b[39m\u001b[23m     \u001b[3m\u001b[38;5;246m<chr>\u001b[39m\u001b[23m            \u001b[3m\u001b[38;5;246m<dbl>\u001b[39m\u001b[23m\n",
      "\u001b[38;5;250m1\u001b[39m 2019-08-01 Debt            851.  \n",
      "\u001b[38;5;250m2\u001b[39m 2019-08-01 Equity        -\u001b[31m\u001b[4m1\u001b[24m46\u001b[39m\u001b[31m6\u001b[39m\u001b[31m.\u001b[39m  \n",
      "\u001b[38;5;250m3\u001b[39m 2019-08-01 Hybrid           19.3 \n",
      "\u001b[38;5;250m4\u001b[39m 2019-08-02 Debt          -\u001b[31m\u001b[4m1\u001b[24m09\u001b[39m\u001b[31m9\u001b[39m\u001b[31m.\u001b[39m  \n",
      "\u001b[38;5;250m5\u001b[39m 2019-08-02 Equity        -\u001b[31m\u001b[4m1\u001b[24m16\u001b[39m\u001b[31m7\u001b[39m\u001b[31m.\u001b[39m  \n",
      "\u001b[38;5;250m6\u001b[39m 2019-08-02 Hybrid            3.19\n"
     ]
    }
   ],
   "source": [
    "fiiCash <- iflows$FiiCashMarket() %>%\n",
    "    group_by(TIME_STAMP, SECURITY_TYPE) %>%\n",
    "    summarize(BUY = sum(BUY_VALUE),\n",
    "            SELL = sum(SELL_VALUE),\n",
    "            NET = sum(BUY_VALUE - SELL_VALUE)) %>%\n",
    "    arrange(TIME_STAMP) %>%\n",
    "    select(TIME_STAMP, SECURITY_TYPE, NET) %>%\n",
    "    collect()\n",
    "\n",
    "fiiCash %>% print(n = 5)\n",
    "\n",
    "fiiCash %>% ungroup(TIME_STAMP) %>% top_n(n = 5, wt = TIME_STAMP) %>% print()"
   ]
  },
  {
   "cell_type": "code",
   "execution_count": null,
   "metadata": {},
   "outputs": [],
   "source": []
  },
  {
   "cell_type": "markdown",
   "metadata": {},
   "source": [
    "This notebook was created using [pluto](http://pluto.studio). Learn more [here](https://github.com/shyams80/pluto)"
   ]
  }
 ],
 "metadata": {
  "kernelspec": {
   "display_name": "R",
   "language": "R",
   "name": "ir"
  },
  "language_info": {
   "codemirror_mode": "r",
   "file_extension": ".r",
   "mimetype": "text/x-r-source",
   "name": "R",
   "pygments_lexer": "r",
   "version": "3.6.1"
  }
 },
 "nbformat": 4,
 "nbformat_minor": 2
}
