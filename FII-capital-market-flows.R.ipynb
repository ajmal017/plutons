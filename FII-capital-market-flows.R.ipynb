{
 "cells": [
  {
   "cell_type": "markdown",
   "metadata": {},
   "source": [
    "# Tracking FII flows\n",
    "\n",
    "Plots the Foreign Institutional Investment flows in/out of Indian capital markets.\n",
    "Follows the documentation [here](https://github.com/shyams80/plutons/blob/master/docs-R/InvestmentFlowsIndia.ipynb)"
   ]
  },
  {
   "cell_type": "code",
   "execution_count": 1,
   "metadata": {},
   "outputs": [
    {
     "name": "stderr",
     "output_type": "stream",
     "text": [
      "── \u001b[1mAttaching packages\u001b[22m ─────────────────────────────────────── tidyverse 1.2.1 ──\n",
      "\u001b[32m✔\u001b[39m \u001b[34mggplot2\u001b[39m 3.2.0     \u001b[32m✔\u001b[39m \u001b[34mpurrr  \u001b[39m 0.3.2\n",
      "\u001b[32m✔\u001b[39m \u001b[34mtibble \u001b[39m 2.1.3     \u001b[32m✔\u001b[39m \u001b[34mdplyr  \u001b[39m 0.8.3\n",
      "\u001b[32m✔\u001b[39m \u001b[34mtidyr  \u001b[39m 0.8.3     \u001b[32m✔\u001b[39m \u001b[34mstringr\u001b[39m 1.4.0\n",
      "\u001b[32m✔\u001b[39m \u001b[34mreadr  \u001b[39m 1.3.1     \u001b[32m✔\u001b[39m \u001b[34mforcats\u001b[39m 0.4.0\n",
      "── \u001b[1mConflicts\u001b[22m ────────────────────────────────────────── tidyverse_conflicts() ──\n",
      "\u001b[31m✖\u001b[39m \u001b[34mdplyr\u001b[39m::\u001b[32mfilter()\u001b[39m masks \u001b[34mstats\u001b[39m::filter()\n",
      "\u001b[31m✖\u001b[39m \u001b[34mdplyr\u001b[39m::\u001b[32mlag()\u001b[39m    masks \u001b[34mstats\u001b[39m::lag()\n",
      "Loading required package: xts\n",
      "Loading required package: zoo\n",
      "\n",
      "Attaching package: ‘zoo’\n",
      "\n",
      "The following objects are masked from ‘package:base’:\n",
      "\n",
      "    as.Date, as.Date.numeric\n",
      "\n",
      "Registered S3 method overwritten by 'xts':\n",
      "  method     from\n",
      "  as.zoo.xts zoo \n",
      "\n",
      "Attaching package: ‘xts’\n",
      "\n",
      "The following objects are masked from ‘package:dplyr’:\n",
      "\n",
      "    first, last\n",
      "\n",
      "Loading required package: TTR\n",
      "Registered S3 method overwritten by 'quantmod':\n",
      "  method            from\n",
      "  as.zoo.data.frame zoo \n",
      "Version 0.4-0 included new data defaults. See ?getSymbols.\n",
      "\n",
      "Attaching package: ‘PerformanceAnalytics’\n",
      "\n",
      "The following object is masked from ‘package:graphics’:\n",
      "\n",
      "    legend\n",
      "\n",
      "\n",
      "Attaching package: ‘lubridate’\n",
      "\n",
      "The following object is masked from ‘package:base’:\n",
      "\n",
      "    date\n",
      "\n",
      "Registering fonts with R\n"
     ]
    }
   ],
   "source": [
    "library(tidyverse)\n",
    "library(ggthemes)\n",
    "library(odbc)\n",
    "library(plutoR)\n",
    "library(quantmod)\n",
    "library(PerformanceAnalytics)\n",
    "library(ggrepel)\n",
    "library(lubridate)\n",
    "\n",
    "options(\"scipen\"=999)\n",
    "options(stringsAsFactors = FALSE)\n",
    "source(\"config.R\")\n",
    "source(\"goofy/plot.common.R\")\n",
    "\n",
    "#initialize\n",
    "iflows <- InvestmentFlowsIndia()"
   ]
  },
  {
   "cell_type": "code",
   "execution_count": 2,
   "metadata": {},
   "outputs": [
    {
     "ename": "ERROR",
     "evalue": "Error: str_pad() is not available in this SQL variant\n",
     "output_type": "error",
     "traceback": [
      "Error: str_pad() is not available in this SQL variant\nTraceback:\n",
      "1. iflows$FiiCashMarket() %>% filter(SECURITY_TYPE == \"Debt\") %>% \n .     mutate(Y = year(TIME_STAMP), M = month(TIME_STAMP)) %>% group_by(Y, \n .     M) %>% summarize(NET = sum(BUY_VALUE - SELL_VALUE)) %>% ungroup() %>% \n .     arrange(Y, M) %>% mutate(YM = paste0(as.character(Y), str_pad(M, \n .     2, pad = \"0\"))) %>% select(YM, NET) %>% as.data.frame()",
      "2. withVisible(eval(quote(`_fseq`(`_lhs`)), env, env))",
      "3. eval(quote(`_fseq`(`_lhs`)), env, env)",
      "4. eval(quote(`_fseq`(`_lhs`)), env, env)",
      "5. `_fseq`(`_lhs`)",
      "6. freduce(value, `_function_list`)",
      "7. withVisible(function_list[[k]](value))",
      "8. function_list[[k]](value)",
      "9. as.data.frame(.)",
      "10. as.data.frame.tbl_sql(.)",
      "11. as.data.frame(collect(x, n = n))",
      "12. collect(x, n = n)",
      "13. collect.tbl_sql(x, n = n)",
      "14. db_sql_render(x$src$con, x)",
      "15. db_sql_render.DBIConnection(x$src$con, x)",
      "16. sql_render(sql, con = con, ...)",
      "17. sql_render.tbl_lazy(sql, con = con, ...)",
      "18. sql_render(query$ops, con = con, ..., bare_identifier_ok = bare_identifier_ok)",
      "19. sql_render.op(query$ops, con = con, ..., bare_identifier_ok = bare_identifier_ok)",
      "20. sql_build(query, con = con, ...)",
      "21. sql_build.op_select(query, con = con, ...)",
      "22. translate_sql_(op$args$vars, con, vars_group = op_grps(op), vars_order = translate_sql_(op_sort(op), \n  .     con, context = list(clause = \"ORDER\")), vars_frame = op_frame(op), \n  .     context = list(clause = \"SELECT\"))",
      "23. lapply(dots, function(x) {\n  .     if (is_null(get_expr(x))) {\n  .         NULL\n  .     }\n  .     else if (is_atomic(get_expr(x))) {\n  .         escape(get_expr(x), con = con)\n  .     }\n  .     else {\n  .         mask <- sql_data_mask(x, variant, con = con, window = window)\n  .         escape(eval_tidy(x, mask), con = con)\n  .     }\n  . })",
      "24. FUN(X[[i]], ...)",
      "25. escape(eval_tidy(x, mask), con = con)",
      "26. eval_tidy(x, mask)",
      "27. paste0(as.character(Y), str_pad(M, 2, pad = \"0\"))",
      "28. str_pad(M, 2, pad = \"0\")",
      "29. stop(f, \" is not available in this SQL variant\", call. = FALSE)"
     ]
    }
   ],
   "source": [
    "fiiDebt <- iflows$FiiCashMarket() %>%\n",
    "    filter(SECURITY_TYPE == 'Debt') %>%\n",
    "    mutate(Y=year(TIME_STAMP), M=month(TIME_STAMP)) %>%\n",
    "    group_by(Y, M) %>%\n",
    "    summarize(NET = sum(BUY_VALUE - SELL_VALUE)) %>%\n",
    "    ungroup() %>%\n",
    "    arrange(Y, M) %>%\n",
    "    mutate(YM = paste0(as.character(Y), str_pad(M, 2, pad=\"0\"))) %>%\n",
    "    select(YM, NET) %>%\n",
    "    as.data.frame()\n",
    "\n",
    "print(head(fiiDebt))"
   ]
  },
  {
   "cell_type": "markdown",
   "metadata": {},
   "source": [
    "### Debt flows"
   ]
  },
  {
   "cell_type": "code",
   "execution_count": null,
   "metadata": {},
   "outputs": [],
   "source": []
  },
  {
   "cell_type": "markdown",
   "metadata": {},
   "source": [
    "This notebook was created using [pluto](http://pluto.studio). Learn more [here](https://github.com/shyams80/pluto)"
   ]
  }
 ],
 "metadata": {
  "kernelspec": {
   "display_name": "R",
   "language": "R",
   "name": "ir"
  },
  "language_info": {
   "codemirror_mode": "r",
   "file_extension": ".r",
   "mimetype": "text/x-r-source",
   "name": "R",
   "pygments_lexer": "r",
   "version": "3.6.1"
  }
 },
 "nbformat": 4,
 "nbformat_minor": 2
}
