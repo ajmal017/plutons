{
 "cells": [
  {
   "cell_type": "markdown",
   "metadata": {},
   "source": [
    "# Tracking FII flows\n",
    "\n",
    "Plots the Foreign Institutional Investment flows in/out of Indian capital markets.\n",
    "Follows the documentation [here](https://github.com/shyams80/plutons/blob/master/docs-R/InvestmentFlowsIndia.ipynb)"
   ]
  },
  {
   "cell_type": "code",
   "execution_count": null,
   "metadata": {},
   "outputs": [],
   "source": [
    "library(tidyverse)\n",
    "library(ggthemes)\n",
    "library(odbc)\n",
    "library(plutoR)\n",
    "library(quantmod)\n",
    "library(PerformanceAnalytics)\n",
    "library(ggrepel)\n",
    "library(lubridate)\n",
    "\n",
    "options(\"scipen\"=999)\n",
    "options(stringsAsFactors = FALSE)\n",
    "options(repr.plot.width=16, repr.plot.height=8)\n",
    "\n",
    "source(\"config.R\")\n",
    "source(\"goofy/plot.common.R\")\n",
    "\n",
    "#initialize\n",
    "iflows <- InvestmentFlowsIndia()"
   ]
  },
  {
   "cell_type": "code",
   "execution_count": null,
   "metadata": {},
   "outputs": [],
   "source": [
    "fiiDebt <- iflows$FiiCashMarket() %>%\n",
    "    filter(SECURITY_TYPE == 'Debt') %>%\n",
    "    collect() %>%\n",
    "    mutate(Y=year(TIME_STAMP), M=month(TIME_STAMP)) %>%\n",
    "    group_by(Y, M) %>%\n",
    "    summarize(NET = sum(BUY_VALUE - SELL_VALUE)) %>%\n",
    "    ungroup() %>%\n",
    "    arrange(Y, M) %>%\n",
    "    mutate(YM = paste0(as.character(Y), str_pad(M, 2, pad=\"0\"))) %>%\n",
    "    select(YM, NET) %>%\n",
    "    as.data.frame()"
   ]
  },
  {
   "cell_type": "markdown",
   "metadata": {},
   "source": [
    "### plot the flows"
   ]
  },
  {
   "cell_type": "code",
   "execution_count": null,
   "metadata": {},
   "outputs": [],
   "source": [
    "plotFiiFlows <- function(fii, mainTitle){\n",
    "    xAxisTicks <- fiiDebt[seq(from=1, to=nrow(fii), length.out=20), 'YM']\n",
    "    firstDate <- first(fii$YM)\n",
    "    lastDate <- last(fii$YM)\n",
    "\n",
    "    ggplot(fii, aes(x=YM, y=NET)) +\n",
    "        theme_economist() +\n",
    "        theme(axis.text.x=element_text(angle=90, hjust=1)) +\n",
    "        geom_bar(stat=\"identity\", position=position_dodge()) +\n",
    "        scale_x_discrete(breaks = xAxisTicks) +\n",
    "        #geom_text_repel(aes(label= round(NET, 2)), position = position_dodge(0.9)) +\n",
    "        labs(x='', y='Rs. Crore', color='', title=plotFiiFlows, \n",
    "             subtitle=sprintf(\"[%s:%s]\", firstDate, lastDate)) +\n",
    "        annotate(\"text\", x=1, y=min(fii$NET, na.rm=T), label = \"@StockViz\", \n",
    "                 hjust=1.1, vjust=-1.1, col=\"white\", cex=6, fontface = \"bold\", alpha = 0.8)\n",
    "    \n",
    "    print(summary(fii$NET))\n",
    "}"
   ]
  },
  {
   "cell_type": "code",
   "execution_count": null,
   "metadata": {},
   "outputs": [],
   "source": [
    "plotFiiFlows(fiiDebt, \"FII Debt Flows\")"
   ]
  },
  {
   "cell_type": "markdown",
   "metadata": {},
   "source": [
    "This notebook was created using [pluto](http://pluto.studio). Learn more [here](https://github.com/shyams80/pluto)"
   ]
  }
 ],
 "metadata": {
  "kernelspec": {
   "display_name": "R",
   "language": "R",
   "name": "ir"
  },
  "language_info": {
   "codemirror_mode": "r",
   "file_extension": ".r",
   "mimetype": "text/x-r-source",
   "name": "R",
   "pygments_lexer": "r",
   "version": "3.4.4"
  }
 },
 "nbformat": 4,
 "nbformat_minor": 2
}
