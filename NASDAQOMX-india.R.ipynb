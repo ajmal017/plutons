{
 "cells": [
  {
   "cell_type": "markdown",
   "metadata": {},
   "source": [
    "# Exploring the NASDAQOMX india indices"
   ]
  },
  {
   "cell_type": "code",
   "execution_count": null,
   "metadata": {},
   "outputs": [],
   "source": [
    "library(tidyverse)\n",
    "library(ggthemes)\n",
    "library(odbc)\n",
    "library(plutoR)\n",
    "library(quantmod)\n",
    "library(PerformanceAnalytics)\n",
    "\n",
    "options(\"scipen\"=999)\n",
    "options(stringsAsFactors = FALSE)\n",
    "options(repr.plot.width=16, repr.plot.height=8)\n",
    "\n",
    "source(\"config.R\")\n",
    "source(\"goofy/plot.common.R\")\n",
    "source(\"goofy/misc.common.R\")\n",
    "\n",
    "nasdaqOmx <- NasdaqOmx()"
   ]
  },
  {
   "cell_type": "code",
   "execution_count": null,
   "metadata": {},
   "outputs": [],
   "source": [
    "indexMeta <- nasdaqOmx$Meta() %>%\n",
    "    inner_join(nasdaqOmx$TimeSeries()) %>%\n",
    "    group_by(ID, CODE, NAME) %>%\n",
    "    filter(NAME %like% '% India %') %>%\n",
    "    summarize(ST = min(TIME_STAMP), ET = max(TIME_STAMP)) %>%\n",
    "    arrange(NAME) %>%\n",
    "    collect()\n",
    "\n",
    "indexMeta %>%\n",
    "    print(n = Inf, width = Inf)"
   ]
  },
  {
   "cell_type": "code",
   "execution_count": null,
   "metadata": {},
   "outputs": [],
   "source": [
    "#grab the data\n",
    "startDate <- max(indexMeta$ST)\n",
    "endDate <- min(indexMeta$ET)\n",
    "\n",
    "nqRets <- NULL\n",
    "\n",
    "for(id in indexMeta$ID){\n",
    "    nqVals <- nasdaqOmx$TimeSeries() %>%\n",
    "        filter(ID == id & TIME_STAMP >= startDate & TIME_STAMP <= endDate) %>%\n",
    "        select(TIME_STAMP, CLOSE) %>%\n",
    "        collect()\n",
    "    \n",
    "    nqRets <- merge.xts(nqRets, dailyReturn(xts(nqVals$CLOSE, nqVals$TIME_STAMP)))\n",
    "}\n",
    "\n",
    "names(nqRets) <- indexMeta$CODE"
   ]
  },
  {
   "cell_type": "code",
   "execution_count": null,
   "metadata": {},
   "outputs": [],
   "source": [
    "#plot cumulative returns\n",
    "Common.PlotCumReturns(nqRets, \"NASDAQ India Focused Indices (TR)\", \"in USD\")"
   ]
  },
  {
   "cell_type": "code",
   "execution_count": null,
   "metadata": {},
   "outputs": [],
   "source": [
    "#returns in a table\n",
    "\n",
    "retDf <- data.frame(CODE=\"\", CUMULATIVE=0.0, ANNUALIZED=0.0)\n",
    "for(j in 1:ncol(nqRets)){\n",
    "    retDf <- rbind(retDf, c(toString(indexMeta$CODE[j]), \n",
    "                            100*as.numeric(Return.cumulative(nqRets[,j])), \n",
    "                            100*as.numeric(Return.annualized(nqRets[,j]))))\n",
    "}\n",
    "retDf <- retDf[-1,]\n",
    "retDf[,2] <- round(as.numeric(retDf[,2]), 2)\n",
    "retDf[,3] <- round(as.numeric(retDf[,3]), 2)\n",
    "\n",
    "print(retDf)"
   ]
  },
  {
   "cell_type": "markdown",
   "metadata": {},
   "source": [
    "This notebook was created using [pluto](http://pluto.studio). Learn more [here](https://github.com/shyams80/pluto)"
   ]
  }
 ],
 "metadata": {
  "kernelspec": {
   "display_name": "R",
   "language": "R",
   "name": "ir"
  },
  "language_info": {
   "codemirror_mode": "r",
   "file_extension": ".r",
   "mimetype": "text/x-r-source",
   "name": "R",
   "pygments_lexer": "r",
   "version": "3.4.4"
  }
 },
 "nbformat": 4,
 "nbformat_minor": 2
}
