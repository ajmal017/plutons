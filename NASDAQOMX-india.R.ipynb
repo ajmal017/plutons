{
 "cells": [
  {
   "cell_type": "markdown",
   "metadata": {},
   "source": [
    "# Exploring the NASDAQOMX india indices"
   ]
  },
  {
   "cell_type": "code",
   "execution_count": 1,
   "metadata": {},
   "outputs": [
    {
     "name": "stderr",
     "output_type": "stream",
     "text": [
      "── \u001b[1mAttaching packages\u001b[22m ─────────────────────────────────────── tidyverse 1.2.1 ──\n",
      "\u001b[32m✔\u001b[39m \u001b[34mggplot2\u001b[39m 3.2.0     \u001b[32m✔\u001b[39m \u001b[34mpurrr  \u001b[39m 0.3.2\n",
      "\u001b[32m✔\u001b[39m \u001b[34mtibble \u001b[39m 2.1.3     \u001b[32m✔\u001b[39m \u001b[34mdplyr  \u001b[39m 0.8.1\n",
      "\u001b[32m✔\u001b[39m \u001b[34mtidyr  \u001b[39m 0.8.3     \u001b[32m✔\u001b[39m \u001b[34mstringr\u001b[39m 1.4.0\n",
      "\u001b[32m✔\u001b[39m \u001b[34mreadr  \u001b[39m 1.3.1     \u001b[32m✔\u001b[39m \u001b[34mforcats\u001b[39m 0.4.0\n",
      "── \u001b[1mConflicts\u001b[22m ────────────────────────────────────────── tidyverse_conflicts() ──\n",
      "\u001b[31m✖\u001b[39m \u001b[34mdplyr\u001b[39m::\u001b[32mfilter()\u001b[39m masks \u001b[34mstats\u001b[39m::filter()\n",
      "\u001b[31m✖\u001b[39m \u001b[34mdplyr\u001b[39m::\u001b[32mlag()\u001b[39m    masks \u001b[34mstats\u001b[39m::lag()\n",
      "Loading required package: xts\n",
      "Loading required package: zoo\n",
      "\n",
      "Attaching package: ‘zoo’\n",
      "\n",
      "The following objects are masked from ‘package:base’:\n",
      "\n",
      "    as.Date, as.Date.numeric\n",
      "\n",
      "\n",
      "Attaching package: ‘xts’\n",
      "\n",
      "The following objects are masked from ‘package:dplyr’:\n",
      "\n",
      "    first, last\n",
      "\n",
      "Loading required package: TTR\n",
      "Version 0.4-0 included new data defaults. See ?getSymbols.\n",
      "\n",
      "Attaching package: ‘PerformanceAnalytics’\n",
      "\n",
      "The following object is masked from ‘package:graphics’:\n",
      "\n",
      "    legend\n",
      "\n",
      "Registering fonts with R\n",
      "\n",
      "Attaching package: ‘gridExtra’\n",
      "\n",
      "The following object is masked from ‘package:dplyr’:\n",
      "\n",
      "    combine\n",
      "\n",
      "\n",
      "Attaching package: ‘lubridate’\n",
      "\n",
      "The following object is masked from ‘package:base’:\n",
      "\n",
      "    date\n",
      "\n"
     ]
    }
   ],
   "source": [
    "library(tidyverse)\n",
    "library(ggthemes)\n",
    "library(odbc)\n",
    "library(plutoR)\n",
    "library(quantmod)\n",
    "library(PerformanceAnalytics)\n",
    "\n",
    "options(\"scipen\"=999)\n",
    "options(stringsAsFactors = FALSE)\n",
    "options(repr.plot.width=16, repr.plot.height=8)\n",
    "\n",
    "source(\"config.R\")\n",
    "source(\"goofy/plot.common.R\")\n",
    "source(\"goofy/misc.common.R\")\n",
    "\n",
    "nasdaqOmx <- NasdaqOmx()"
   ]
  },
  {
   "cell_type": "code",
   "execution_count": 2,
   "metadata": {},
   "outputs": [
    {
     "name": "stderr",
     "output_type": "stream",
     "text": [
      "Joining, by = \"ID\"\n",
      "Warning message:\n",
      "“Missing values are always removed in SQL.\n",
      "Use `MIN(x, na.rm = TRUE)` to silence this warning\n",
      "This warning is displayed only once per session.”Warning message:\n",
      "“Missing values are always removed in SQL.\n",
      "Use `MAX(x, na.rm = TRUE)` to silence this warning\n",
      "This warning is displayed only once per session.”"
     ]
    },
    {
     "name": "stdout",
     "output_type": "stream",
     "text": [
      "\u001b[38;5;246m# A tibble: 11 x 5\u001b[39m\n",
      "\u001b[38;5;246m# Groups:   ID, CODE [11]\u001b[39m\n",
      "         ID CODE     NAME                                  ST         ET        \n",
      "      \u001b[3m\u001b[38;5;246m<int>\u001b[39m\u001b[23m \u001b[3m\u001b[38;5;246m<chr>\u001b[39m\u001b[23m    \u001b[3m\u001b[38;5;246m<chr>\u001b[39m\u001b[23m                                 \u001b[3m\u001b[38;5;246m<date>\u001b[39m\u001b[23m     \u001b[3m\u001b[38;5;246m<date>\u001b[39m\u001b[23m    \n",
      "\u001b[38;5;250m 1\u001b[39m 13\u001b[4m1\u001b[24m\u001b[4m2\u001b[24m\u001b[4m0\u001b[24m874 NQIN100… NASDAQ India Basic Matls TR Index (N… 2001-03-30 2019-07-09\n",
      "\u001b[38;5;250m 2\u001b[39m 13\u001b[4m1\u001b[24m\u001b[4m2\u001b[24m\u001b[4m0\u001b[24m916 NQIN300… NASDAQ India Cnsmr Goods TR Index (N… 2001-03-30 2019-07-09\n",
      "\u001b[38;5;250m 3\u001b[39m 13\u001b[4m1\u001b[24m\u001b[4m2\u001b[24m\u001b[4m0\u001b[24m939 NQIN500… NASDAQ India Cnsmr Svcs TR Index (NQ… 2005-03-31 2019-07-09\n",
      "\u001b[38;5;250m 4\u001b[39m 13\u001b[4m1\u001b[24m\u001b[4m2\u001b[24m\u001b[4m0\u001b[24m986 NQIN800… NASDAQ India Financials TR Index (NQ… 2001-03-30 2019-07-09\n",
      "\u001b[38;5;250m 5\u001b[39m 13\u001b[4m1\u001b[24m\u001b[4m2\u001b[24m\u001b[4m1\u001b[24m029 NQIN400… NASDAQ India Health Care TR Index (N… 2001-03-30 2019-07-09\n",
      "\u001b[38;5;250m 6\u001b[39m 13\u001b[4m1\u001b[24m\u001b[4m2\u001b[24m\u001b[4m1\u001b[24m072 NQIN200… NASDAQ India Inds TR Index (NQIN2000… 2001-03-30 2019-07-09\n",
      "\u001b[38;5;250m 7\u001b[39m 13\u001b[4m1\u001b[24m\u001b[4m2\u001b[24m\u001b[4m1\u001b[24m187 NQIN000… NASDAQ India Oil & Gas TR Index (NQI… 2004-09-30 2019-07-09\n",
      "\u001b[38;5;250m 8\u001b[39m 13\u001b[4m1\u001b[24m\u001b[4m2\u001b[24m\u001b[4m1\u001b[24m253 NQIN900… NASDAQ India Tech TR Index (NQIN9000… 2001-03-30 2019-07-09\n",
      "\u001b[38;5;250m 9\u001b[39m 13\u001b[4m1\u001b[24m\u001b[4m2\u001b[24m\u001b[4m1\u001b[24m274 NQIN600… NASDAQ India Telecom TR Index (NQIN6… 2006-03-31 2019-07-09\n",
      "\u001b[38;5;250m10\u001b[39m 13\u001b[4m1\u001b[24m\u001b[4m2\u001b[24m\u001b[4m1\u001b[24m272 NQINT    NASDAQ India TR Index (NQINT)         2001-03-30 2019-07-09\n",
      "\u001b[38;5;250m11\u001b[39m 13\u001b[4m1\u001b[24m\u001b[4m2\u001b[24m\u001b[4m1\u001b[24m316 NQIN700… NASDAQ India Utilities TR Index (NQI… 2004-09-30 2019-07-09\n"
     ]
    }
   ],
   "source": [
    "indexMeta <- nasdaqOmx$Meta() %>%\n",
    "    inner_join(nasdaqOmx$TimeSeries()) %>%\n",
    "    group_by(ID, CODE, NAME) %>%\n",
    "    filter(NAME %like% '% India %') %>%\n",
    "    summarize(ST = min(TIME_STAMP), ET = max(TIME_STAMP)) %>%\n",
    "    arrange(NAME) %>%\n",
    "    collect()\n",
    "\n",
    "indexMeta %>%\n",
    "    print(n = Inf)"
   ]
  },
  {
   "cell_type": "code",
   "execution_count": 3,
   "metadata": {},
   "outputs": [
    {
     "ename": "ERROR",
     "evalue": "Error: <SQL> 'SELECT \"TIME_STAMP\", \"CLOSE\"\nFROM (SELECT TOP 100 PERCENT \"ID\", \"TRADE_DATE\" AS \"TIME_STAMP\", \"INDEX_VALUE\" AS \"CLOSE\"\nFROM \"QUANDL_DATA_V3\") \"dbplyr_002\"\nWHERE (\"ID\" = \"id1\" AND \"TIME_STAMP\" >= '2006-03-31' AND \"TIME_STAMP\" <= '2019-07-09')'\n  nanodbc/nanodbc.cpp:1587: 42S22: [Microsoft][ODBC Driver 17 for SQL Server][SQL Server]Invalid column name 'id1'. \n",
     "output_type": "error",
     "traceback": [
      "Error: <SQL> 'SELECT \"TIME_STAMP\", \"CLOSE\"\nFROM (SELECT TOP 100 PERCENT \"ID\", \"TRADE_DATE\" AS \"TIME_STAMP\", \"INDEX_VALUE\" AS \"CLOSE\"\nFROM \"QUANDL_DATA_V3\") \"dbplyr_002\"\nWHERE (\"ID\" = \"id1\" AND \"TIME_STAMP\" >= '2006-03-31' AND \"TIME_STAMP\" <= '2019-07-09')'\n  nanodbc/nanodbc.cpp:1587: 42S22: [Microsoft][ODBC Driver 17 for SQL Server][SQL Server]Invalid column name 'id1'. \nTraceback:\n",
      "1. nasdaqOmx$TimeSeries() %>% filter(ID == id1 & TIME_STAMP >= startDate & \n .     TIME_STAMP <= endDate) %>% select(TIME_STAMP, CLOSE) %>% \n .     collect()",
      "2. withVisible(eval(quote(`_fseq`(`_lhs`)), env, env))",
      "3. eval(quote(`_fseq`(`_lhs`)), env, env)",
      "4. eval(quote(`_fseq`(`_lhs`)), env, env)",
      "5. `_fseq`(`_lhs`)",
      "6. freduce(value, `_function_list`)",
      "7. withVisible(function_list[[k]](value))",
      "8. function_list[[k]](value)",
      "9. collect(.)",
      "10. collect.tbl_sql(.)",
      "11. db_collect(x$src$con, sql, n = n, warn_incomplete = warn_incomplete)",
      "12. db_collect.DBIConnection(x$src$con, sql, n = n, warn_incomplete = warn_incomplete)",
      "13. dbSendQuery(con, sql)",
      "14. dbSendQuery(con, sql)",
      "15. OdbcResult(connection = conn, statement = statement)",
      "16. new_result(connection@ptr, statement)"
     ]
    }
   ],
   "source": [
    "#grab the data\n",
    "startDate <- max(indexMeta$ST)\n",
    "endDate <- min(indexMeta$ET)\n",
    "\n",
    "nqRets <- NULL\n",
    "\n",
    "for(id in indexMeta$ID){\n",
    "    nqVals <- nasdaqOmx$TimeSeries() %>%\n",
    "        filter(ID == id1 & TIME_STAMP >= startDate & TIME_STAMP <= endDate) %>%\n",
    "        select(TIME_STAMP, CLOSE) %>%\n",
    "        collect()\n",
    "    \n",
    "    nqRets <- merge.xts(nqRets, dailyReturn(nqVals$CLOSE, nqVals$TIME_STAMP))\n",
    "}\n",
    "\n",
    "names(nqRets) <- indexMeta$CODE"
   ]
  },
  {
   "cell_type": "code",
   "execution_count": 4,
   "metadata": {},
   "outputs": [
    {
     "name": "stdout",
     "output_type": "stream",
     "text": [
      "<simpleError in checkData(R): The data cannot be converted into a time series.  If you are trying to pass in names from a data object with one column, you should use the form 'data[rows, columns, drop = FALSE]'.  Rownames should have standard date formats, such as '1985-03-15'. >\n"
     ]
    }
   ],
   "source": [
    "#plot cumulative returns\n",
    "Common.PlotCumReturns(nqRets, \"NASDAQ India Focused Indices (TR)\", \"in USD\")"
   ]
  },
  {
   "cell_type": "markdown",
   "metadata": {},
   "source": [
    "This notebook was created using [pluto](http://pluto.studio). Learn more [here](https://github.com/shyams80/pluto)"
   ]
  }
 ],
 "metadata": {
  "kernelspec": {
   "display_name": "R",
   "language": "R",
   "name": "ir"
  },
  "language_info": {
   "codemirror_mode": "r",
   "file_extension": ".r",
   "mimetype": "text/x-r-source",
   "name": "R",
   "pygments_lexer": "r",
   "version": "3.4.4"
  }
 },
 "nbformat": 4,
 "nbformat_minor": 2
}
